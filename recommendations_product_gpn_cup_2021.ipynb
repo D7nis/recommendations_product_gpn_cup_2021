{
 "cells": [
  {
   "cell_type": "markdown",
   "metadata": {},
   "source": [
    "#### Описание задачи"
   ]
  },
  {
   "cell_type": "markdown",
   "metadata": {},
   "source": [
    "- Подробное описание в файле gpn-cup-2021-data_science_task.docx"
   ]
  },
  {
   "cell_type": "markdown",
   "metadata": {},
   "source": [
    "Для увеличения продаж товаров из следующих групп:\n",
    "- вода\n",
    "- сладкие газированные напитки, холодный чай\n",
    "- кофейные напитки с молоком\n",
    "- энергетические напитки\n",
    "- снеки\n",
    "- соки и сокосодержащие напитки  \n",
    "\n",
    "Вам необходимо разработать рекомендательную систему, которая будет предлагать покупателям 20 дополнительных товаров в чек.  \n",
    "\n",
    "Пример: покупатель приходит на кассу с 2-мя товарами: напитком «Local-Cola» и чипсами «Sya'l». Алгоритм должен предложить 20 товаров, которые пользователь вероятнее всего захочет добавить в свою корзину (в порядке убывания релевантности). На практике кассир предложит 1й по порядку товар, из имеющихся в наличии. \n",
    "В качестве метрики качества рекомендаций используется mean average precision at 20"
   ]
  },
  {
   "cell_type": "markdown",
   "metadata": {},
   "source": [
    "Транзакционные данные продаж – transactions:\n",
    "- sku_id – уникальный идентификатор товара\n",
    "- price – цена, по которой был продан товар\n",
    "- number – количество товаров (если не топливо) \n",
    "- cheque_id – уникальный идентификатор чека\n",
    "- litrs – количество литров (если товар - топливо)\n",
    "- client_id – уникальный идентификатор клиента (если клиент «представился» при покупке)\n",
    "- shop_id – уникальный идентификатор магазина\n",
    "- date – дата транзакции  \n",
    "\n",
    "Данные о товарах – nomenclature:\n",
    "- sku_id – уникальный идентификатор товара\n",
    "- full_name – полное наименование товара\n",
    "- brand – наименование торговой марки\n",
    "- sku_group – группа, к которой принадлежит товар\n",
    "- OTM – признак собственной торговой марки\n",
    "- units – единица измерения для количества \n",
    "- country – страна производства товара  \n",
    "\n",
    "Формат всех источников - .parquet."
   ]
  },
  {
   "cell_type": "code",
   "execution_count": 235,
   "metadata": {},
   "outputs": [],
   "source": [
    "#! pip install pyarrow"
   ]
  },
  {
   "cell_type": "code",
   "execution_count": 881,
   "metadata": {},
   "outputs": [],
   "source": [
    "import pandas as pd\n",
    "import numpy as np\n",
    "from matplotlib import pyplot as plt\n",
    "from matplotlib import dates as mdates\n",
    "import seaborn as sns\n",
    "import math\n",
    "from sklearn.preprocessing import MinMaxScaler\n",
    "from sklearn.preprocessing import StandardScaler\n",
    "from sklearn.model_selection import train_test_split\n",
    "\n",
    "from tqdm import tqdm\n",
    "import re \n",
    "import random\n",
    "\n",
    "%matplotlib inline"
   ]
  },
  {
   "cell_type": "code",
   "execution_count": 785,
   "metadata": {},
   "outputs": [
    {
     "name": "stdout",
     "output_type": "stream",
     "text": [
      "Note: you may need to restart the kernel to use updated packages.\n"
     ]
    }
   ],
   "source": [
    "pip freeze > requirements.txt"
   ]
  },
  {
   "cell_type": "markdown",
   "metadata": {},
   "source": [
    "#### Загрузка данных"
   ]
  },
  {
   "cell_type": "code",
   "execution_count": 586,
   "metadata": {},
   "outputs": [],
   "source": [
    "df_trans = pd.read_parquet(\"Data/transactions.parquet\")"
   ]
  },
  {
   "cell_type": "code",
   "execution_count": 298,
   "metadata": {},
   "outputs": [],
   "source": [
    "df_nomencl = pd.read_parquet(\"Data/nomenclature.parquet\")"
   ]
  },
  {
   "cell_type": "markdown",
   "metadata": {},
   "source": [
    "#### Работа с пропусками и типами данных"
   ]
  },
  {
   "cell_type": "markdown",
   "metadata": {},
   "source": [
    "- Транзакции"
   ]
  },
  {
   "cell_type": "code",
   "execution_count": 285,
   "metadata": {},
   "outputs": [
    {
     "data": {
      "text/html": [
       "<div>\n",
       "<style scoped>\n",
       "    .dataframe tbody tr th:only-of-type {\n",
       "        vertical-align: middle;\n",
       "    }\n",
       "\n",
       "    .dataframe tbody tr th {\n",
       "        vertical-align: top;\n",
       "    }\n",
       "\n",
       "    .dataframe thead th {\n",
       "        text-align: right;\n",
       "    }\n",
       "</style>\n",
       "<table border=\"1\" class=\"dataframe\">\n",
       "  <thead>\n",
       "    <tr style=\"text-align: right;\">\n",
       "      <th></th>\n",
       "      <th>sku_id</th>\n",
       "      <th>price</th>\n",
       "      <th>number</th>\n",
       "      <th>cheque_id</th>\n",
       "      <th>litrs</th>\n",
       "      <th>client_id</th>\n",
       "      <th>shop_id</th>\n",
       "      <th>date</th>\n",
       "    </tr>\n",
       "  </thead>\n",
       "  <tbody>\n",
       "    <tr>\n",
       "      <th>0</th>\n",
       "      <td>1158</td>\n",
       "      <td>0.002335</td>\n",
       "      <td>0.000000</td>\n",
       "      <td>3338297</td>\n",
       "      <td>0.147929</td>\n",
       "      <td>78634</td>\n",
       "      <td>102</td>\n",
       "      <td>2171-07-23</td>\n",
       "    </tr>\n",
       "    <tr>\n",
       "      <th>1</th>\n",
       "      <td>1158</td>\n",
       "      <td>0.002317</td>\n",
       "      <td>0.000000</td>\n",
       "      <td>3386107</td>\n",
       "      <td>0.134562</td>\n",
       "      <td>20900</td>\n",
       "      <td>101</td>\n",
       "      <td>2171-07-23</td>\n",
       "    </tr>\n",
       "    <tr>\n",
       "      <th>2</th>\n",
       "      <td>1913</td>\n",
       "      <td>0.007850</td>\n",
       "      <td>0.000452</td>\n",
       "      <td>1845331</td>\n",
       "      <td>0.104183</td>\n",
       "      <td>96397</td>\n",
       "      <td>36</td>\n",
       "      <td>2171-07-23</td>\n",
       "    </tr>\n",
       "    <tr>\n",
       "      <th>3</th>\n",
       "      <td>1808</td>\n",
       "      <td>0.008979</td>\n",
       "      <td>0.000452</td>\n",
       "      <td>2256499</td>\n",
       "      <td>0.104183</td>\n",
       "      <td>103560</td>\n",
       "      <td>89</td>\n",
       "      <td>2171-07-23</td>\n",
       "    </tr>\n",
       "    <tr>\n",
       "      <th>4</th>\n",
       "      <td>1158</td>\n",
       "      <td>0.002355</td>\n",
       "      <td>0.000000</td>\n",
       "      <td>3257281</td>\n",
       "      <td>0.115023</td>\n",
       "      <td>67691</td>\n",
       "      <td>58</td>\n",
       "      <td>2171-07-23</td>\n",
       "    </tr>\n",
       "  </tbody>\n",
       "</table>\n",
       "</div>"
      ],
      "text/plain": [
       "   sku_id     price    number  cheque_id     litrs  client_id  shop_id  \\\n",
       "0    1158  0.002335  0.000000    3338297  0.147929      78634      102   \n",
       "1    1158  0.002317  0.000000    3386107  0.134562      20900      101   \n",
       "2    1913  0.007850  0.000452    1845331  0.104183      96397       36   \n",
       "3    1808  0.008979  0.000452    2256499  0.104183     103560       89   \n",
       "4    1158  0.002355  0.000000    3257281  0.115023      67691       58   \n",
       "\n",
       "        date  \n",
       "0 2171-07-23  \n",
       "1 2171-07-23  \n",
       "2 2171-07-23  \n",
       "3 2171-07-23  \n",
       "4 2171-07-23  "
      ]
     },
     "execution_count": 285,
     "metadata": {},
     "output_type": "execute_result"
    }
   ],
   "source": [
    "df_trans.head()"
   ]
  },
  {
   "cell_type": "markdown",
   "metadata": {},
   "source": [
    "<br>Пропуски"
   ]
  },
  {
   "cell_type": "code",
   "execution_count": 242,
   "metadata": {},
   "outputs": [
    {
     "data": {
      "text/plain": [
       "sku_id             0\n",
       "price              0\n",
       "number             0\n",
       "cheque_id          0\n",
       "litrs              0\n",
       "client_id    3772355\n",
       "shop_id            0\n",
       "date               0\n",
       "dtype: int64"
      ]
     },
     "execution_count": 242,
     "metadata": {},
     "output_type": "execute_result"
    }
   ],
   "source": [
    "df_trans.isnull().sum()"
   ]
  },
  {
   "cell_type": "code",
   "execution_count": 587,
   "metadata": {},
   "outputs": [
    {
     "data": {
      "text/html": [
       "<div>\n",
       "<style scoped>\n",
       "    .dataframe tbody tr th:only-of-type {\n",
       "        vertical-align: middle;\n",
       "    }\n",
       "\n",
       "    .dataframe tbody tr th {\n",
       "        vertical-align: top;\n",
       "    }\n",
       "\n",
       "    .dataframe thead th {\n",
       "        text-align: right;\n",
       "    }\n",
       "</style>\n",
       "<table border=\"1\" class=\"dataframe\">\n",
       "  <thead>\n",
       "    <tr style=\"text-align: right;\">\n",
       "      <th></th>\n",
       "      <th>sku_id</th>\n",
       "      <th>price</th>\n",
       "      <th>number</th>\n",
       "      <th>cheque_id</th>\n",
       "      <th>litrs</th>\n",
       "      <th>client_id</th>\n",
       "      <th>shop_id</th>\n",
       "      <th>date</th>\n",
       "    </tr>\n",
       "  </thead>\n",
       "  <tbody>\n",
       "    <tr>\n",
       "      <th>11</th>\n",
       "      <td>558</td>\n",
       "      <td>0.011237</td>\n",
       "      <td>0.000452</td>\n",
       "      <td>1386544</td>\n",
       "      <td>0.104183</td>\n",
       "      <td>NaN</td>\n",
       "      <td>94</td>\n",
       "      <td>2171-07-23</td>\n",
       "    </tr>\n",
       "    <tr>\n",
       "      <th>12</th>\n",
       "      <td>558</td>\n",
       "      <td>0.011237</td>\n",
       "      <td>0.000452</td>\n",
       "      <td>1386544</td>\n",
       "      <td>0.104183</td>\n",
       "      <td>NaN</td>\n",
       "      <td>94</td>\n",
       "      <td>2171-07-23</td>\n",
       "    </tr>\n",
       "    <tr>\n",
       "      <th>13</th>\n",
       "      <td>558</td>\n",
       "      <td>0.011237</td>\n",
       "      <td>0.000452</td>\n",
       "      <td>1386544</td>\n",
       "      <td>0.104183</td>\n",
       "      <td>NaN</td>\n",
       "      <td>94</td>\n",
       "      <td>2171-07-23</td>\n",
       "    </tr>\n",
       "    <tr>\n",
       "      <th>14</th>\n",
       "      <td>1158</td>\n",
       "      <td>0.002335</td>\n",
       "      <td>0.000000</td>\n",
       "      <td>2582618</td>\n",
       "      <td>0.115122</td>\n",
       "      <td>NaN</td>\n",
       "      <td>103</td>\n",
       "      <td>2171-07-23</td>\n",
       "    </tr>\n",
       "    <tr>\n",
       "      <th>16</th>\n",
       "      <td>1158</td>\n",
       "      <td>0.002335</td>\n",
       "      <td>0.000000</td>\n",
       "      <td>3338268</td>\n",
       "      <td>0.126051</td>\n",
       "      <td>NaN</td>\n",
       "      <td>102</td>\n",
       "      <td>2171-07-23</td>\n",
       "    </tr>\n",
       "  </tbody>\n",
       "</table>\n",
       "</div>"
      ],
      "text/plain": [
       "    sku_id     price    number  cheque_id     litrs  client_id  shop_id  \\\n",
       "11     558  0.011237  0.000452    1386544  0.104183        NaN       94   \n",
       "12     558  0.011237  0.000452    1386544  0.104183        NaN       94   \n",
       "13     558  0.011237  0.000452    1386544  0.104183        NaN       94   \n",
       "14    1158  0.002335  0.000000    2582618  0.115122        NaN      103   \n",
       "16    1158  0.002335  0.000000    3338268  0.126051        NaN      102   \n",
       "\n",
       "         date  \n",
       "11 2171-07-23  \n",
       "12 2171-07-23  \n",
       "13 2171-07-23  \n",
       "14 2171-07-23  \n",
       "16 2171-07-23  "
      ]
     },
     "execution_count": 587,
     "metadata": {},
     "output_type": "execute_result"
    }
   ],
   "source": [
    "#посмотрю на несколько пропусков\n",
    "df_trans[df_trans['client_id'].isna()].head()"
   ]
  },
  {
   "cell_type": "markdown",
   "metadata": {},
   "source": [
    "client_id имеет много пропусков, нам об это и сказали в условии задачи (уникальный идентификатор клиента заполнен если клиент \"представился\" при покупке. под представился вероятно имеется в виду наличие карты лояльности). Заменю таких клиентов на \"-1\""
   ]
  },
  {
   "cell_type": "code",
   "execution_count": 588,
   "metadata": {},
   "outputs": [],
   "source": [
    "df_trans['client_id'] = df_trans['client_id'].fillna(-1)"
   ]
  },
  {
   "cell_type": "code",
   "execution_count": 589,
   "metadata": {},
   "outputs": [
    {
     "data": {
      "text/plain": [
       "sku_id       0\n",
       "price        0\n",
       "number       0\n",
       "cheque_id    0\n",
       "litrs        0\n",
       "client_id    0\n",
       "shop_id      0\n",
       "date         0\n",
       "dtype: int64"
      ]
     },
     "execution_count": 589,
     "metadata": {},
     "output_type": "execute_result"
    }
   ],
   "source": [
    "df_trans.isnull().sum()"
   ]
  },
  {
   "cell_type": "markdown",
   "metadata": {},
   "source": [
    "<br><br>Типы данных"
   ]
  },
  {
   "cell_type": "code",
   "execution_count": 590,
   "metadata": {},
   "outputs": [
    {
     "name": "stdout",
     "output_type": "stream",
     "text": [
      "<class 'pandas.core.frame.DataFrame'>\n",
      "RangeIndex: 7620119 entries, 0 to 7620118\n",
      "Data columns (total 8 columns):\n",
      " #   Column     Dtype         \n",
      "---  ------     -----         \n",
      " 0   sku_id     int64         \n",
      " 1   price      float64       \n",
      " 2   number     float64       \n",
      " 3   cheque_id  int64         \n",
      " 4   litrs      float64       \n",
      " 5   client_id  float64       \n",
      " 6   shop_id    int64         \n",
      " 7   date       datetime64[ns]\n",
      "dtypes: datetime64[ns](1), float64(4), int64(3)\n",
      "memory usage: 465.1 MB\n"
     ]
    }
   ],
   "source": [
    "df_trans.info()"
   ]
  },
  {
   "cell_type": "markdown",
   "metadata": {},
   "source": [
    " Все ок, за исключением client_id, почему то у него тип float а по логике должен быть int"
   ]
  },
  {
   "cell_type": "code",
   "execution_count": 591,
   "metadata": {},
   "outputs": [],
   "source": [
    "#посмотрю на дробные части, есть ли что то отличное от нуля?\n",
    "client_id_parts = []\n",
    "for val in df_trans[\"client_id\"].values:\n",
    "    client_id_parts.append(str(val).split(\".\")[1])"
   ]
  },
  {
   "cell_type": "code",
   "execution_count": 592,
   "metadata": {},
   "outputs": [
    {
     "data": {
      "text/plain": [
       "{'0'}"
      ]
     },
     "execution_count": 592,
     "metadata": {},
     "output_type": "execute_result"
    }
   ],
   "source": [
    "#дробная часть всегда равна нулю. \n",
    "#Переделаю тип в int\n",
    "set(client_id_parts)"
   ]
  },
  {
   "cell_type": "code",
   "execution_count": 593,
   "metadata": {},
   "outputs": [],
   "source": [
    "df_trans['client_id'] = df_trans['client_id'].astype(int)"
   ]
  },
  {
   "cell_type": "markdown",
   "metadata": {},
   "source": [
    "<br><br>Удаление дублей"
   ]
  },
  {
   "cell_type": "code",
   "execution_count": 594,
   "metadata": {},
   "outputs": [
    {
     "name": "stdout",
     "output_type": "stream",
     "text": [
      "Записей до удаления дубликатов: 7620119\n"
     ]
    }
   ],
   "source": [
    "print(\"Записей до удаления дубликатов: {}\".format(len(df_trans)))"
   ]
  },
  {
   "cell_type": "code",
   "execution_count": 595,
   "metadata": {},
   "outputs": [],
   "source": [
    "df_trans.drop_duplicates(subset=None, keep='first', inplace=True)"
   ]
  },
  {
   "cell_type": "code",
   "execution_count": 596,
   "metadata": {},
   "outputs": [
    {
     "name": "stdout",
     "output_type": "stream",
     "text": [
      "Записей после удаления дубликатов: 6800919\n"
     ]
    }
   ],
   "source": [
    "print(\"Записей после удаления дубликатов: {}\".format(len(df_trans)))"
   ]
  },
  {
   "cell_type": "markdown",
   "metadata": {},
   "source": [
    "<br><br>Поиск выбросов"
   ]
  },
  {
   "cell_type": "code",
   "execution_count": 597,
   "metadata": {},
   "outputs": [
    {
     "data": {
      "image/png": "[encoded data removed]",
      "text/plain": [
       "<Figure size 1152x504 with 3 Axes>"
      ]
     },
     "metadata": {
      "needs_background": "light"
     },
     "output_type": "display_data"
    }
   ],
   "source": [
    "fig, axs = plt.subplots(3, 1, figsize=(16, 7))\n",
    "\n",
    "axs[0].set_title(\"price\")\n",
    "axs[1].set_title(\"number\")\n",
    "axs[2].set_title(\"litrs\")\n",
    "sns.boxplot(data=df_trans, x=\"price\", color=\"skyblue\", ax=axs[0])\n",
    "sns.boxplot(data=df_trans, x=\"number\", color=\"olive\", ax=axs[1])\n",
    "sns.boxplot(data=df_trans, x=\"litrs\", color=\"teal\", ax=axs[2])\n",
    "\n",
    "plt.show()"
   ]
  },
  {
   "cell_type": "markdown",
   "metadata": {},
   "source": [
    "Очевидно, что есть выбросы во всех числовых переменных."
   ]
  },
  {
   "cell_type": "markdown",
   "metadata": {},
   "source": [
    "- price"
   ]
  },
  {
   "cell_type": "markdown",
   "metadata": {},
   "source": [
    "Есть цены менше нуля?"
   ]
  },
  {
   "cell_type": "code",
   "execution_count": 598,
   "metadata": {},
   "outputs": [
    {
     "data": {
      "text/html": [
       "<div>\n",
       "<style scoped>\n",
       "    .dataframe tbody tr th:only-of-type {\n",
       "        vertical-align: middle;\n",
       "    }\n",
       "\n",
       "    .dataframe tbody tr th {\n",
       "        vertical-align: top;\n",
       "    }\n",
       "\n",
       "    .dataframe thead th {\n",
       "        text-align: right;\n",
       "    }\n",
       "</style>\n",
       "<table border=\"1\" class=\"dataframe\">\n",
       "  <thead>\n",
       "    <tr style=\"text-align: right;\">\n",
       "      <th></th>\n",
       "      <th>sku_id</th>\n",
       "      <th>price</th>\n",
       "      <th>number</th>\n",
       "      <th>cheque_id</th>\n",
       "      <th>litrs</th>\n",
       "      <th>client_id</th>\n",
       "      <th>shop_id</th>\n",
       "      <th>date</th>\n",
       "    </tr>\n",
       "  </thead>\n",
       "  <tbody>\n",
       "  </tbody>\n",
       "</table>\n",
       "</div>"
      ],
      "text/plain": [
       "Empty DataFrame\n",
       "Columns: [sku_id, price, number, cheque_id, litrs, client_id, shop_id, date]\n",
       "Index: []"
      ]
     },
     "execution_count": 598,
     "metadata": {},
     "output_type": "execute_result"
    }
   ],
   "source": [
    "df_trans[df_trans[\"price\"] < 0]"
   ]
  },
  {
   "cell_type": "markdown",
   "metadata": {},
   "source": [
    "Посмотрим на товары с высокими ценами"
   ]
  },
  {
   "cell_type": "code",
   "execution_count": 599,
   "metadata": {},
   "outputs": [
    {
     "data": {
      "text/html": [
       "<div>\n",
       "<style scoped>\n",
       "    .dataframe tbody tr th:only-of-type {\n",
       "        vertical-align: middle;\n",
       "    }\n",
       "\n",
       "    .dataframe tbody tr th {\n",
       "        vertical-align: top;\n",
       "    }\n",
       "\n",
       "    .dataframe thead th {\n",
       "        text-align: right;\n",
       "    }\n",
       "</style>\n",
       "<table border=\"1\" class=\"dataframe\">\n",
       "  <thead>\n",
       "    <tr style=\"text-align: right;\">\n",
       "      <th></th>\n",
       "      <th>sku_id</th>\n",
       "      <th>price</th>\n",
       "      <th>number</th>\n",
       "      <th>cheque_id</th>\n",
       "      <th>litrs</th>\n",
       "      <th>client_id</th>\n",
       "      <th>shop_id</th>\n",
       "      <th>date</th>\n",
       "      <th>full_name</th>\n",
       "      <th>brand</th>\n",
       "      <th>sku_group</th>\n",
       "      <th>OTM</th>\n",
       "      <th>units</th>\n",
       "      <th>country</th>\n",
       "    </tr>\n",
       "  </thead>\n",
       "  <tbody>\n",
       "    <tr>\n",
       "      <th>63</th>\n",
       "      <td>4416</td>\n",
       "      <td>0.420215</td>\n",
       "      <td>0.000452</td>\n",
       "      <td>2332</td>\n",
       "      <td>0.104183</td>\n",
       "      <td>399588</td>\n",
       "      <td>5</td>\n",
       "      <td>2171-03-15</td>\n",
       "      <td>Салфетки AURA Antibacterial Derma Protect влаж...</td>\n",
       "      <td>AURA</td>\n",
       "      <td>Хозяйственные товары, персональный уход</td>\n",
       "      <td>Нет</td>\n",
       "      <td>шт</td>\n",
       "      <td>РОССИЯ</td>\n",
       "    </tr>\n",
       "    <tr>\n",
       "      <th>70</th>\n",
       "      <td>4416</td>\n",
       "      <td>0.420215</td>\n",
       "      <td>0.000452</td>\n",
       "      <td>6562</td>\n",
       "      <td>0.104183</td>\n",
       "      <td>23682</td>\n",
       "      <td>68</td>\n",
       "      <td>2171-03-03</td>\n",
       "      <td>Салфетки AURA Antibacterial Derma Protect влаж...</td>\n",
       "      <td>AURA</td>\n",
       "      <td>Хозяйственные товары, персональный уход</td>\n",
       "      <td>Нет</td>\n",
       "      <td>шт</td>\n",
       "      <td>РОССИЯ</td>\n",
       "    </tr>\n",
       "    <tr>\n",
       "      <th>133</th>\n",
       "      <td>4417</td>\n",
       "      <td>0.769112</td>\n",
       "      <td>0.000452</td>\n",
       "      <td>7281</td>\n",
       "      <td>0.104183</td>\n",
       "      <td>354341</td>\n",
       "      <td>68</td>\n",
       "      <td>2171-03-04</td>\n",
       "      <td>Часы Swiss OAK SOW-01 36мм белые</td>\n",
       "      <td>Swiss OAK</td>\n",
       "      <td>Хозяйственные товары, персональный уход</td>\n",
       "      <td>Нет</td>\n",
       "      <td>шт</td>\n",
       "      <td>КИТАЙ</td>\n",
       "    </tr>\n",
       "    <tr>\n",
       "      <th>44</th>\n",
       "      <td>4412</td>\n",
       "      <td>0.481786</td>\n",
       "      <td>0.000452</td>\n",
       "      <td>9396</td>\n",
       "      <td>0.104183</td>\n",
       "      <td>102401</td>\n",
       "      <td>68</td>\n",
       "      <td>2171-03-07</td>\n",
       "      <td>Сумка FlyR TS5 TUBUS универсальная</td>\n",
       "      <td>FlyR</td>\n",
       "      <td>Хозяйственные товары, персональный уход</td>\n",
       "      <td>Нет</td>\n",
       "      <td>шт</td>\n",
       "      <td>РОССИЯ</td>\n",
       "    </tr>\n",
       "    <tr>\n",
       "      <th>65</th>\n",
       "      <td>4416</td>\n",
       "      <td>0.420215</td>\n",
       "      <td>0.000452</td>\n",
       "      <td>13880</td>\n",
       "      <td>0.104183</td>\n",
       "      <td>58143</td>\n",
       "      <td>68</td>\n",
       "      <td>2171-03-13</td>\n",
       "      <td>Салфетки AURA Antibacterial Derma Protect влаж...</td>\n",
       "      <td>AURA</td>\n",
       "      <td>Хозяйственные товары, персональный уход</td>\n",
       "      <td>Нет</td>\n",
       "      <td>шт</td>\n",
       "      <td>РОССИЯ</td>\n",
       "    </tr>\n",
       "  </tbody>\n",
       "</table>\n",
       "</div>"
      ],
      "text/plain": [
       "     sku_id     price    number  cheque_id     litrs  client_id  shop_id  \\\n",
       "63     4416  0.420215  0.000452       2332  0.104183     399588        5   \n",
       "70     4416  0.420215  0.000452       6562  0.104183      23682       68   \n",
       "133    4417  0.769112  0.000452       7281  0.104183     354341       68   \n",
       "44     4412  0.481786  0.000452       9396  0.104183     102401       68   \n",
       "65     4416  0.420215  0.000452      13880  0.104183      58143       68   \n",
       "\n",
       "          date                                          full_name      brand  \\\n",
       "63  2171-03-15  Салфетки AURA Antibacterial Derma Protect влаж...       AURA   \n",
       "70  2171-03-03  Салфетки AURA Antibacterial Derma Protect влаж...       AURA   \n",
       "133 2171-03-04                   Часы Swiss OAK SOW-01 36мм белые  Swiss OAK   \n",
       "44  2171-03-07                 Сумка FlyR TS5 TUBUS универсальная       FlyR   \n",
       "65  2171-03-13  Салфетки AURA Antibacterial Derma Protect влаж...       AURA   \n",
       "\n",
       "                                   sku_group  OTM units country  \n",
       "63   Хозяйственные товары, персональный уход  Нет    шт  РОССИЯ  \n",
       "70   Хозяйственные товары, персональный уход  Нет    шт  РОССИЯ  \n",
       "133  Хозяйственные товары, персональный уход  Нет    шт   КИТАЙ  \n",
       "44   Хозяйственные товары, персональный уход  Нет    шт  РОССИЯ  \n",
       "65   Хозяйственные товары, персональный уход  Нет    шт  РОССИЯ  "
      ]
     },
     "execution_count": 599,
     "metadata": {},
     "output_type": "execute_result"
    }
   ],
   "source": [
    "df_trans_top_price = pd.merge(df_trans[df_trans[\"price\"] > 0.4], \n",
    "                              df_nomencl,\n",
    "                              on=\"sku_id\").sort_values(by='cheque_id')\n",
    "\n",
    "df_trans_top_price.head(5)"
   ]
  },
  {
   "cell_type": "code",
   "execution_count": 600,
   "metadata": {},
   "outputs": [
    {
     "data": {
      "text/html": [
       "<div>\n",
       "<style scoped>\n",
       "    .dataframe tbody tr th:only-of-type {\n",
       "        vertical-align: middle;\n",
       "    }\n",
       "\n",
       "    .dataframe tbody tr th {\n",
       "        vertical-align: top;\n",
       "    }\n",
       "\n",
       "    .dataframe thead th {\n",
       "        text-align: right;\n",
       "    }\n",
       "</style>\n",
       "<table border=\"1\" class=\"dataframe\">\n",
       "  <thead>\n",
       "    <tr style=\"text-align: right;\">\n",
       "      <th></th>\n",
       "      <th>sku_id</th>\n",
       "      <th>price</th>\n",
       "      <th>number</th>\n",
       "      <th>cheque_id</th>\n",
       "      <th>litrs</th>\n",
       "      <th>client_id</th>\n",
       "      <th>shop_id</th>\n",
       "      <th>date</th>\n",
       "      <th>full_name</th>\n",
       "      <th>brand</th>\n",
       "      <th>sku_group</th>\n",
       "      <th>OTM</th>\n",
       "      <th>units</th>\n",
       "      <th>country</th>\n",
       "    </tr>\n",
       "  </thead>\n",
       "  <tbody>\n",
       "    <tr>\n",
       "      <th>140</th>\n",
       "      <td>4441</td>\n",
       "      <td>0.409954</td>\n",
       "      <td>0.000452</td>\n",
       "      <td>3202878</td>\n",
       "      <td>0.104183</td>\n",
       "      <td>-1</td>\n",
       "      <td>82</td>\n",
       "      <td>2171-03-24</td>\n",
       "      <td>unknown</td>\n",
       "      <td>unknown</td>\n",
       "      <td>Хозяйственные товары, персональный уход</td>\n",
       "      <td>unknown</td>\n",
       "      <td>unknown</td>\n",
       "      <td>unknown</td>\n",
       "    </tr>\n",
       "    <tr>\n",
       "      <th>121</th>\n",
       "      <td>4436</td>\n",
       "      <td>0.512571</td>\n",
       "      <td>0.000452</td>\n",
       "      <td>3202954</td>\n",
       "      <td>0.104183</td>\n",
       "      <td>117185</td>\n",
       "      <td>82</td>\n",
       "      <td>2171-03-25</td>\n",
       "      <td>unknown</td>\n",
       "      <td>unknown</td>\n",
       "      <td>Хозяйственные товары, персональный уход</td>\n",
       "      <td>unknown</td>\n",
       "      <td>unknown</td>\n",
       "      <td>unknown</td>\n",
       "    </tr>\n",
       "    <tr>\n",
       "      <th>122</th>\n",
       "      <td>4436</td>\n",
       "      <td>0.512571</td>\n",
       "      <td>0.000452</td>\n",
       "      <td>3202987</td>\n",
       "      <td>0.104183</td>\n",
       "      <td>21723</td>\n",
       "      <td>82</td>\n",
       "      <td>2171-03-25</td>\n",
       "      <td>unknown</td>\n",
       "      <td>unknown</td>\n",
       "      <td>Хозяйственные товары, персональный уход</td>\n",
       "      <td>unknown</td>\n",
       "      <td>unknown</td>\n",
       "      <td>unknown</td>\n",
       "    </tr>\n",
       "    <tr>\n",
       "      <th>139</th>\n",
       "      <td>4441</td>\n",
       "      <td>0.409954</td>\n",
       "      <td>0.000452</td>\n",
       "      <td>3357581</td>\n",
       "      <td>0.104183</td>\n",
       "      <td>149338</td>\n",
       "      <td>101</td>\n",
       "      <td>2171-03-25</td>\n",
       "      <td>unknown</td>\n",
       "      <td>unknown</td>\n",
       "      <td>Хозяйственные товары, персональный уход</td>\n",
       "      <td>unknown</td>\n",
       "      <td>unknown</td>\n",
       "      <td>unknown</td>\n",
       "    </tr>\n",
       "    <tr>\n",
       "      <th>117</th>\n",
       "      <td>4436</td>\n",
       "      <td>0.512571</td>\n",
       "      <td>0.000452</td>\n",
       "      <td>3398337</td>\n",
       "      <td>0.104183</td>\n",
       "      <td>167888</td>\n",
       "      <td>107</td>\n",
       "      <td>2171-04-10</td>\n",
       "      <td>unknown</td>\n",
       "      <td>unknown</td>\n",
       "      <td>Хозяйственные товары, персональный уход</td>\n",
       "      <td>unknown</td>\n",
       "      <td>unknown</td>\n",
       "      <td>unknown</td>\n",
       "    </tr>\n",
       "  </tbody>\n",
       "</table>\n",
       "</div>"
      ],
      "text/plain": [
       "     sku_id     price    number  cheque_id     litrs  client_id  shop_id  \\\n",
       "140    4441  0.409954  0.000452    3202878  0.104183         -1       82   \n",
       "121    4436  0.512571  0.000452    3202954  0.104183     117185       82   \n",
       "122    4436  0.512571  0.000452    3202987  0.104183      21723       82   \n",
       "139    4441  0.409954  0.000452    3357581  0.104183     149338      101   \n",
       "117    4436  0.512571  0.000452    3398337  0.104183     167888      107   \n",
       "\n",
       "          date full_name    brand                                sku_group  \\\n",
       "140 2171-03-24   unknown  unknown  Хозяйственные товары, персональный уход   \n",
       "121 2171-03-25   unknown  unknown  Хозяйственные товары, персональный уход   \n",
       "122 2171-03-25   unknown  unknown  Хозяйственные товары, персональный уход   \n",
       "139 2171-03-25   unknown  unknown  Хозяйственные товары, персональный уход   \n",
       "117 2171-04-10   unknown  unknown  Хозяйственные товары, персональный уход   \n",
       "\n",
       "         OTM    units  country  \n",
       "140  unknown  unknown  unknown  \n",
       "121  unknown  unknown  unknown  \n",
       "122  unknown  unknown  unknown  \n",
       "139  unknown  unknown  unknown  \n",
       "117  unknown  unknown  unknown  "
      ]
     },
     "execution_count": 600,
     "metadata": {},
     "output_type": "execute_result"
    }
   ],
   "source": [
    "df_trans_top_price.tail(5)"
   ]
  },
  {
   "cell_type": "markdown",
   "metadata": {},
   "source": [
    "Очевидно, что салфетки не могут стоить дороже масла, даже в параллельном мире! Тем более что number говорит скорее всего что это цена за 1 упаковку."
   ]
  },
  {
   "cell_type": "code",
   "execution_count": 601,
   "metadata": {},
   "outputs": [
    {
     "data": {
      "text/plain": [
       "'Салфетки AURA Antibacterial Derma Protect влажные спиртовые 15шт'"
      ]
     },
     "execution_count": 601,
     "metadata": {},
     "output_type": "execute_result"
    }
   ],
   "source": [
    "df_trans_top_price.head(1)[\"full_name\"].values[0]"
   ]
  },
  {
   "cell_type": "code",
   "execution_count": 602,
   "metadata": {},
   "outputs": [
    {
     "data": {
      "text/html": [
       "<div>\n",
       "<style scoped>\n",
       "    .dataframe tbody tr th:only-of-type {\n",
       "        vertical-align: middle;\n",
       "    }\n",
       "\n",
       "    .dataframe tbody tr th {\n",
       "        vertical-align: top;\n",
       "    }\n",
       "\n",
       "    .dataframe thead th {\n",
       "        text-align: right;\n",
       "    }\n",
       "</style>\n",
       "<table border=\"1\" class=\"dataframe\">\n",
       "  <thead>\n",
       "    <tr style=\"text-align: right;\">\n",
       "      <th></th>\n",
       "      <th>sku_id</th>\n",
       "      <th>price</th>\n",
       "      <th>number</th>\n",
       "      <th>cheque_id</th>\n",
       "      <th>litrs</th>\n",
       "      <th>client_id</th>\n",
       "      <th>shop_id</th>\n",
       "      <th>date</th>\n",
       "    </tr>\n",
       "  </thead>\n",
       "  <tbody>\n",
       "    <tr>\n",
       "      <th>560524</th>\n",
       "      <td>4416</td>\n",
       "      <td>0.420215</td>\n",
       "      <td>0.000452</td>\n",
       "      <td>1884675</td>\n",
       "      <td>0.104183</td>\n",
       "      <td>-1</td>\n",
       "      <td>26</td>\n",
       "      <td>2171-07-20</td>\n",
       "    </tr>\n",
       "    <tr>\n",
       "      <th>5068856</th>\n",
       "      <td>4416</td>\n",
       "      <td>0.420215</td>\n",
       "      <td>0.000452</td>\n",
       "      <td>713309</td>\n",
       "      <td>0.104183</td>\n",
       "      <td>287043</td>\n",
       "      <td>42</td>\n",
       "      <td>2171-04-19</td>\n",
       "    </tr>\n",
       "    <tr>\n",
       "      <th>5077235</th>\n",
       "      <td>4416</td>\n",
       "      <td>0.420215</td>\n",
       "      <td>0.000452</td>\n",
       "      <td>488697</td>\n",
       "      <td>0.104183</td>\n",
       "      <td>356784</td>\n",
       "      <td>3</td>\n",
       "      <td>2171-04-19</td>\n",
       "    </tr>\n",
       "    <tr>\n",
       "      <th>5483087</th>\n",
       "      <td>4416</td>\n",
       "      <td>0.420215</td>\n",
       "      <td>0.000452</td>\n",
       "      <td>641935</td>\n",
       "      <td>0.104183</td>\n",
       "      <td>43649</td>\n",
       "      <td>89</td>\n",
       "      <td>2171-04-11</td>\n",
       "    </tr>\n",
       "    <tr>\n",
       "      <th>5570679</th>\n",
       "      <td>4416</td>\n",
       "      <td>0.420215</td>\n",
       "      <td>0.000452</td>\n",
       "      <td>2272740</td>\n",
       "      <td>0.104183</td>\n",
       "      <td>91071</td>\n",
       "      <td>96</td>\n",
       "      <td>2171-04-09</td>\n",
       "    </tr>\n",
       "    <tr>\n",
       "      <th>5596189</th>\n",
       "      <td>4416</td>\n",
       "      <td>0.420215</td>\n",
       "      <td>0.000452</td>\n",
       "      <td>33574</td>\n",
       "      <td>0.104183</td>\n",
       "      <td>154931</td>\n",
       "      <td>68</td>\n",
       "      <td>2171-04-09</td>\n",
       "    </tr>\n",
       "    <tr>\n",
       "      <th>5614354</th>\n",
       "      <td>4416</td>\n",
       "      <td>0.420215</td>\n",
       "      <td>0.000452</td>\n",
       "      <td>87684</td>\n",
       "      <td>0.104183</td>\n",
       "      <td>-1</td>\n",
       "      <td>14</td>\n",
       "      <td>2171-04-08</td>\n",
       "    </tr>\n",
       "    <tr>\n",
       "      <th>5658129</th>\n",
       "      <td>4416</td>\n",
       "      <td>0.420215</td>\n",
       "      <td>0.000452</td>\n",
       "      <td>593569</td>\n",
       "      <td>0.104183</td>\n",
       "      <td>342492</td>\n",
       "      <td>1</td>\n",
       "      <td>2171-04-08</td>\n",
       "    </tr>\n",
       "    <tr>\n",
       "      <th>5711413</th>\n",
       "      <td>4416</td>\n",
       "      <td>0.420215</td>\n",
       "      <td>0.000452</td>\n",
       "      <td>484150</td>\n",
       "      <td>0.104183</td>\n",
       "      <td>-1</td>\n",
       "      <td>3</td>\n",
       "      <td>2171-04-06</td>\n",
       "    </tr>\n",
       "    <tr>\n",
       "      <th>5758508</th>\n",
       "      <td>4416</td>\n",
       "      <td>0.420215</td>\n",
       "      <td>0.000452</td>\n",
       "      <td>2481805</td>\n",
       "      <td>0.104183</td>\n",
       "      <td>103023</td>\n",
       "      <td>104</td>\n",
       "      <td>2171-04-06</td>\n",
       "    </tr>\n",
       "    <tr>\n",
       "      <th>5800216</th>\n",
       "      <td>4416</td>\n",
       "      <td>0.420215</td>\n",
       "      <td>0.000452</td>\n",
       "      <td>530122</td>\n",
       "      <td>0.104183</td>\n",
       "      <td>61358</td>\n",
       "      <td>20</td>\n",
       "      <td>2171-04-05</td>\n",
       "    </tr>\n",
       "    <tr>\n",
       "      <th>6226149</th>\n",
       "      <td>4416</td>\n",
       "      <td>0.420215</td>\n",
       "      <td>0.000452</td>\n",
       "      <td>636625</td>\n",
       "      <td>0.104183</td>\n",
       "      <td>-1</td>\n",
       "      <td>89</td>\n",
       "      <td>2171-03-27</td>\n",
       "    </tr>\n",
       "    <tr>\n",
       "      <th>6332830</th>\n",
       "      <td>4416</td>\n",
       "      <td>0.420215</td>\n",
       "      <td>0.000452</td>\n",
       "      <td>158264</td>\n",
       "      <td>0.104183</td>\n",
       "      <td>-1</td>\n",
       "      <td>2</td>\n",
       "      <td>2171-03-25</td>\n",
       "    </tr>\n",
       "    <tr>\n",
       "      <th>6730359</th>\n",
       "      <td>4416</td>\n",
       "      <td>0.420215</td>\n",
       "      <td>0.000452</td>\n",
       "      <td>374103</td>\n",
       "      <td>0.104183</td>\n",
       "      <td>322268</td>\n",
       "      <td>37</td>\n",
       "      <td>2171-03-18</td>\n",
       "    </tr>\n",
       "    <tr>\n",
       "      <th>6751062</th>\n",
       "      <td>4416</td>\n",
       "      <td>0.420215</td>\n",
       "      <td>0.000452</td>\n",
       "      <td>374006</td>\n",
       "      <td>0.104183</td>\n",
       "      <td>181613</td>\n",
       "      <td>37</td>\n",
       "      <td>2171-03-17</td>\n",
       "    </tr>\n",
       "    <tr>\n",
       "      <th>6790682</th>\n",
       "      <td>4416</td>\n",
       "      <td>0.420215</td>\n",
       "      <td>0.000452</td>\n",
       "      <td>706100</td>\n",
       "      <td>0.104183</td>\n",
       "      <td>-1</td>\n",
       "      <td>42</td>\n",
       "      <td>2171-03-16</td>\n",
       "    </tr>\n",
       "    <tr>\n",
       "      <th>6869085</th>\n",
       "      <td>4416</td>\n",
       "      <td>0.420215</td>\n",
       "      <td>0.000452</td>\n",
       "      <td>2332</td>\n",
       "      <td>0.104183</td>\n",
       "      <td>399588</td>\n",
       "      <td>5</td>\n",
       "      <td>2171-03-15</td>\n",
       "    </tr>\n",
       "    <tr>\n",
       "      <th>6927574</th>\n",
       "      <td>4416</td>\n",
       "      <td>0.420215</td>\n",
       "      <td>0.000452</td>\n",
       "      <td>71385</td>\n",
       "      <td>0.104183</td>\n",
       "      <td>333923</td>\n",
       "      <td>14</td>\n",
       "      <td>2171-03-14</td>\n",
       "    </tr>\n",
       "    <tr>\n",
       "      <th>6949247</th>\n",
       "      <td>4416</td>\n",
       "      <td>0.420215</td>\n",
       "      <td>0.000452</td>\n",
       "      <td>13880</td>\n",
       "      <td>0.104183</td>\n",
       "      <td>58143</td>\n",
       "      <td>68</td>\n",
       "      <td>2171-03-13</td>\n",
       "    </tr>\n",
       "    <tr>\n",
       "      <th>7006869</th>\n",
       "      <td>4416</td>\n",
       "      <td>0.420215</td>\n",
       "      <td>0.000452</td>\n",
       "      <td>390453</td>\n",
       "      <td>0.104183</td>\n",
       "      <td>225953</td>\n",
       "      <td>41</td>\n",
       "      <td>2171-03-12</td>\n",
       "    </tr>\n",
       "    <tr>\n",
       "      <th>7104847</th>\n",
       "      <td>4416</td>\n",
       "      <td>0.420215</td>\n",
       "      <td>0.000452</td>\n",
       "      <td>50743</td>\n",
       "      <td>0.104183</td>\n",
       "      <td>-1</td>\n",
       "      <td>18</td>\n",
       "      <td>2171-03-10</td>\n",
       "    </tr>\n",
       "    <tr>\n",
       "      <th>7300733</th>\n",
       "      <td>4416</td>\n",
       "      <td>0.420215</td>\n",
       "      <td>0.000452</td>\n",
       "      <td>171252</td>\n",
       "      <td>0.104183</td>\n",
       "      <td>-1</td>\n",
       "      <td>71</td>\n",
       "      <td>2171-03-06</td>\n",
       "    </tr>\n",
       "    <tr>\n",
       "      <th>7413502</th>\n",
       "      <td>4416</td>\n",
       "      <td>0.420215</td>\n",
       "      <td>0.000452</td>\n",
       "      <td>208126</td>\n",
       "      <td>0.104183</td>\n",
       "      <td>362074</td>\n",
       "      <td>88</td>\n",
       "      <td>2171-03-04</td>\n",
       "    </tr>\n",
       "    <tr>\n",
       "      <th>7468388</th>\n",
       "      <td>4416</td>\n",
       "      <td>0.420215</td>\n",
       "      <td>0.000452</td>\n",
       "      <td>6562</td>\n",
       "      <td>0.104183</td>\n",
       "      <td>23682</td>\n",
       "      <td>68</td>\n",
       "      <td>2171-03-03</td>\n",
       "    </tr>\n",
       "  </tbody>\n",
       "</table>\n",
       "</div>"
      ],
      "text/plain": [
       "         sku_id     price    number  cheque_id     litrs  client_id  shop_id  \\\n",
       "560524     4416  0.420215  0.000452    1884675  0.104183         -1       26   \n",
       "5068856    4416  0.420215  0.000452     713309  0.104183     287043       42   \n",
       "5077235    4416  0.420215  0.000452     488697  0.104183     356784        3   \n",
       "5483087    4416  0.420215  0.000452     641935  0.104183      43649       89   \n",
       "5570679    4416  0.420215  0.000452    2272740  0.104183      91071       96   \n",
       "5596189    4416  0.420215  0.000452      33574  0.104183     154931       68   \n",
       "5614354    4416  0.420215  0.000452      87684  0.104183         -1       14   \n",
       "5658129    4416  0.420215  0.000452     593569  0.104183     342492        1   \n",
       "5711413    4416  0.420215  0.000452     484150  0.104183         -1        3   \n",
       "5758508    4416  0.420215  0.000452    2481805  0.104183     103023      104   \n",
       "5800216    4416  0.420215  0.000452     530122  0.104183      61358       20   \n",
       "6226149    4416  0.420215  0.000452     636625  0.104183         -1       89   \n",
       "6332830    4416  0.420215  0.000452     158264  0.104183         -1        2   \n",
       "6730359    4416  0.420215  0.000452     374103  0.104183     322268       37   \n",
       "6751062    4416  0.420215  0.000452     374006  0.104183     181613       37   \n",
       "6790682    4416  0.420215  0.000452     706100  0.104183         -1       42   \n",
       "6869085    4416  0.420215  0.000452       2332  0.104183     399588        5   \n",
       "6927574    4416  0.420215  0.000452      71385  0.104183     333923       14   \n",
       "6949247    4416  0.420215  0.000452      13880  0.104183      58143       68   \n",
       "7006869    4416  0.420215  0.000452     390453  0.104183     225953       41   \n",
       "7104847    4416  0.420215  0.000452      50743  0.104183         -1       18   \n",
       "7300733    4416  0.420215  0.000452     171252  0.104183         -1       71   \n",
       "7413502    4416  0.420215  0.000452     208126  0.104183     362074       88   \n",
       "7468388    4416  0.420215  0.000452       6562  0.104183      23682       68   \n",
       "\n",
       "              date  \n",
       "560524  2171-07-20  \n",
       "5068856 2171-04-19  \n",
       "5077235 2171-04-19  \n",
       "5483087 2171-04-11  \n",
       "5570679 2171-04-09  \n",
       "5596189 2171-04-09  \n",
       "5614354 2171-04-08  \n",
       "5658129 2171-04-08  \n",
       "5711413 2171-04-06  \n",
       "5758508 2171-04-06  \n",
       "5800216 2171-04-05  \n",
       "6226149 2171-03-27  \n",
       "6332830 2171-03-25  \n",
       "6730359 2171-03-18  \n",
       "6751062 2171-03-17  \n",
       "6790682 2171-03-16  \n",
       "6869085 2171-03-15  \n",
       "6927574 2171-03-14  \n",
       "6949247 2171-03-13  \n",
       "7006869 2171-03-12  \n",
       "7104847 2171-03-10  \n",
       "7300733 2171-03-06  \n",
       "7413502 2171-03-04  \n",
       "7468388 2171-03-03  "
      ]
     },
     "execution_count": 602,
     "metadata": {},
     "output_type": "execute_result"
    }
   ],
   "source": [
    "#посмотрим на другие продажи товара из первой позиции\n",
    "df_trans[df_trans[\"sku_id\"] == df_trans_top_price.head(1)[\"sku_id\"].values[0]]"
   ]
  },
  {
   "cell_type": "markdown",
   "metadata": {},
   "source": [
    "Сколько стоят другие салфетки?"
   ]
  },
  {
   "cell_type": "code",
   "execution_count": 603,
   "metadata": {},
   "outputs": [],
   "source": [
    "salfetki_skuid = df_nomencl[df_nomencl['full_name'].str.contains(\"алфетки\")].sku_id.values"
   ]
  },
  {
   "cell_type": "code",
   "execution_count": 604,
   "metadata": {},
   "outputs": [
    {
     "data": {
      "text/plain": [
       "Index(['Хозяйственные товары, персональный уход', 'Уход за автомобилем'], dtype='object')"
      ]
     },
     "execution_count": 604,
     "metadata": {},
     "output_type": "execute_result"
    }
   ],
   "source": [
    "#группы товаров где есть салфетки\n",
    "salfetki_sku_group = df_nomencl[df_nomencl['sku_id'].isin(salfetki_skuid)].sku_group.value_counts().index\n",
    "salfetki_sku_group"
   ]
  },
  {
   "cell_type": "code",
   "execution_count": 605,
   "metadata": {},
   "outputs": [],
   "source": [
    "#товары-салфетки из 1 группы\n",
    "salfetki_skuid_1 = df_nomencl[(df_nomencl['sku_id'].isin(salfetki_skuid)) &\n",
    "                              (df_nomencl['sku_group'] == salfetki_sku_group[0])].sku_id.values"
   ]
  },
  {
   "cell_type": "code",
   "execution_count": 609,
   "metadata": {},
   "outputs": [],
   "source": [
    "#товары-салфетки из 2 группы\n",
    "salfetki_skuid_2 = df_nomencl[(df_nomencl['sku_id'].isin(salfetki_skuid)) &\n",
    "                              (df_nomencl['sku_group'] == salfetki_sku_group[1])].sku_id.values"
   ]
  },
  {
   "cell_type": "code",
   "execution_count": 625,
   "metadata": {},
   "outputs": [
    {
     "data": {
      "image/png": "[encoded data removed]",
      "text/plain": [
       "<Figure size 1152x288 with 1 Axes>"
      ]
     },
     "metadata": {
      "needs_background": "light"
     },
     "output_type": "display_data"
    }
   ],
   "source": [
    "fig, ax = plt.subplots(figsize=(16, 4))\n",
    "\n",
    "_ = df_trans[df_trans[\"sku_id\"].isin(salfetki_skuid_2)]\n",
    "_[\"price\"].hist(bins=50, ax=ax)\n",
    "#ax.set_xticks(np.linspace(0, 0.5, 20));\n",
    "#ax.set_xlim(0, 0.2);\n",
    "plt.title(\"Цена на салфетки из группы [{}]\".format(salfetki_sku_group[1]));"
   ]
  },
  {
   "cell_type": "code",
   "execution_count": 626,
   "metadata": {},
   "outputs": [
    {
     "data": {
      "text/plain": [
       "count    1777.000000\n",
       "mean        0.009541\n",
       "std         0.002474\n",
       "min         0.004053\n",
       "25%         0.008671\n",
       "50%         0.008671\n",
       "75%         0.010210\n",
       "max         0.019446\n",
       "Name: price, dtype: float64"
      ]
     },
     "execution_count": 626,
     "metadata": {},
     "output_type": "execute_result"
    }
   ],
   "source": [
    "_[\"price\"].describe()"
   ]
  },
  {
   "cell_type": "markdown",
   "metadata": {},
   "source": [
    "Возможно крайние 2-3 позиции похожи на выбросы, но они не так уж и далеко стоят от 75 перцентиля. Буду считать что это элитные салфетки."
   ]
  },
  {
   "cell_type": "code",
   "execution_count": 627,
   "metadata": {},
   "outputs": [
    {
     "data": {
      "image/png": "[encoded data removed]",
      "text/plain": [
       "<Figure size 1152x288 with 1 Axes>"
      ]
     },
     "metadata": {
      "needs_background": "light"
     },
     "output_type": "display_data"
    }
   ],
   "source": [
    "fig, ax = plt.subplots(figsize=(16, 4))\n",
    "\n",
    "_ = df_trans[df_trans[\"sku_id\"].isin(salfetki_skuid_1)]\n",
    "_[\"price\"].hist(bins=50, ax=ax)\n",
    "ax.set_xticks(np.linspace(0, 0.5, 20));\n",
    "#ax.set_xlim(0, 0.2);\n",
    "plt.title(\"Цена на салфетки из группы [{}]\".format(salfetki_sku_group[0]));"
   ]
  },
  {
   "cell_type": "code",
   "execution_count": 628,
   "metadata": {},
   "outputs": [
    {
     "data": {
      "text/plain": [
       "count    2241.000000\n",
       "mean        0.027144\n",
       "std         0.066286\n",
       "min         0.001231\n",
       "25%         0.002514\n",
       "50%         0.008158\n",
       "75%         0.018214\n",
       "max         0.420215\n",
       "Name: price, dtype: float64"
      ]
     },
     "execution_count": 628,
     "metadata": {},
     "output_type": "execute_result"
    }
   ],
   "source": [
    "_[\"price\"].describe()"
   ]
  },
  {
   "cell_type": "markdown",
   "metadata": {},
   "source": [
    "Буду считать, что адекватная цена за салфетки в районе 80 перцентиля, остальное это выбросы.  \n",
    "Выбросы заменю цену на среднее значение после удаления выбросов."
   ]
  },
  {
   "cell_type": "code",
   "execution_count": 635,
   "metadata": {},
   "outputs": [
    {
     "data": {
      "text/plain": [
       "0.019240636223704463"
      ]
     },
     "execution_count": 635,
     "metadata": {},
     "output_type": "execute_result"
    }
   ],
   "source": [
    "thresh_quantile = 0.80\n",
    "\n",
    "thresh_quantile_value = _[\"price\"].quantile([thresh_quantile]).values[0]\n",
    "thresh_quantile_value"
   ]
  },
  {
   "cell_type": "code",
   "execution_count": 636,
   "metadata": {},
   "outputs": [],
   "source": [
    "price_out_id = _[_[\"price\"] > thresh_quantile_value].index"
   ]
  },
  {
   "cell_type": "code",
   "execution_count": 641,
   "metadata": {},
   "outputs": [
    {
     "data": {
      "text/plain": [
       "0.00628226676810389"
      ]
     },
     "execution_count": 641,
     "metadata": {},
     "output_type": "execute_result"
    }
   ],
   "source": [
    "new_price = _[_[\"price\"] < thresh_quantile_value][\"price\"].mean()\n",
    "new_price"
   ]
  },
  {
   "cell_type": "code",
   "execution_count": 642,
   "metadata": {},
   "outputs": [],
   "source": [
    "df_trans.loc[price_out_id, 'price'] = new_price"
   ]
  },
  {
   "cell_type": "markdown",
   "metadata": {},
   "source": [
    "Подобные действия нужно проделать для каждой категории товаров.  \n",
    "\n",
    "!!!Пока пропущу, вернусь сюда позже"
   ]
  },
  {
   "cell_type": "code",
   "execution_count": null,
   "metadata": {},
   "outputs": [],
   "source": []
  },
  {
   "cell_type": "markdown",
   "metadata": {},
   "source": [
    "- number"
   ]
  },
  {
   "cell_type": "markdown",
   "metadata": {},
   "source": [
    "Есть количество заказов меньше 0?"
   ]
  },
  {
   "cell_type": "code",
   "execution_count": 548,
   "metadata": {},
   "outputs": [
    {
     "data": {
      "text/html": [
       "<div>\n",
       "<style scoped>\n",
       "    .dataframe tbody tr th:only-of-type {\n",
       "        vertical-align: middle;\n",
       "    }\n",
       "\n",
       "    .dataframe tbody tr th {\n",
       "        vertical-align: top;\n",
       "    }\n",
       "\n",
       "    .dataframe thead th {\n",
       "        text-align: right;\n",
       "    }\n",
       "</style>\n",
       "<table border=\"1\" class=\"dataframe\">\n",
       "  <thead>\n",
       "    <tr style=\"text-align: right;\">\n",
       "      <th></th>\n",
       "      <th>sku_id</th>\n",
       "      <th>price</th>\n",
       "      <th>number</th>\n",
       "      <th>cheque_id</th>\n",
       "      <th>litrs</th>\n",
       "      <th>client_id</th>\n",
       "      <th>shop_id</th>\n",
       "      <th>date</th>\n",
       "    </tr>\n",
       "  </thead>\n",
       "  <tbody>\n",
       "  </tbody>\n",
       "</table>\n",
       "</div>"
      ],
      "text/plain": [
       "Empty DataFrame\n",
       "Columns: [sku_id, price, number, cheque_id, litrs, client_id, shop_id, date]\n",
       "Index: []"
      ]
     },
     "execution_count": 548,
     "metadata": {},
     "output_type": "execute_result"
    }
   ],
   "source": [
    "df_trans[df_trans[\"number\"] < 0]"
   ]
  },
  {
   "cell_type": "code",
   "execution_count": 551,
   "metadata": {},
   "outputs": [
    {
     "data": {
      "text/html": [
       "<div>\n",
       "<style scoped>\n",
       "    .dataframe tbody tr th:only-of-type {\n",
       "        vertical-align: middle;\n",
       "    }\n",
       "\n",
       "    .dataframe tbody tr th {\n",
       "        vertical-align: top;\n",
       "    }\n",
       "\n",
       "    .dataframe thead th {\n",
       "        text-align: right;\n",
       "    }\n",
       "</style>\n",
       "<table border=\"1\" class=\"dataframe\">\n",
       "  <thead>\n",
       "    <tr style=\"text-align: right;\">\n",
       "      <th></th>\n",
       "      <th>sku_id</th>\n",
       "      <th>price</th>\n",
       "      <th>number</th>\n",
       "      <th>cheque_id</th>\n",
       "      <th>litrs</th>\n",
       "      <th>client_id</th>\n",
       "      <th>shop_id</th>\n",
       "      <th>date</th>\n",
       "      <th>full_name</th>\n",
       "      <th>brand</th>\n",
       "      <th>sku_group</th>\n",
       "      <th>OTM</th>\n",
       "      <th>units</th>\n",
       "      <th>country</th>\n",
       "    </tr>\n",
       "  </thead>\n",
       "  <tbody>\n",
       "    <tr>\n",
       "      <th>174</th>\n",
       "      <td>3324</td>\n",
       "      <td>0.006619</td>\n",
       "      <td>0.452249</td>\n",
       "      <td>1666636</td>\n",
       "      <td>0.104183</td>\n",
       "      <td>-1</td>\n",
       "      <td>23</td>\n",
       "      <td>2171-05-13</td>\n",
       "      <td>Напиток Fly Cafe молокосодержащий кофейный Флэ...</td>\n",
       "      <td>Fly Cafe</td>\n",
       "      <td>Кофейные напитки с молоком</td>\n",
       "      <td>Да</td>\n",
       "      <td>л</td>\n",
       "      <td>unknown</td>\n",
       "    </tr>\n",
       "    <tr>\n",
       "      <th>171</th>\n",
       "      <td>151</td>\n",
       "      <td>0.000051</td>\n",
       "      <td>0.903612</td>\n",
       "      <td>2464176</td>\n",
       "      <td>0.104183</td>\n",
       "      <td>168997</td>\n",
       "      <td>109</td>\n",
       "      <td>2171-03-02</td>\n",
       "      <td>Ароматизатор SAPFIRE SAT-2027 X-Fresh mini кон...</td>\n",
       "      <td>SAPFIRE</td>\n",
       "      <td>Уход за автомобилем</td>\n",
       "      <td>Нет</td>\n",
       "      <td>шт</td>\n",
       "      <td>КИТАЙ</td>\n",
       "    </tr>\n",
       "    <tr>\n",
       "      <th>170</th>\n",
       "      <td>151</td>\n",
       "      <td>0.000051</td>\n",
       "      <td>0.226202</td>\n",
       "      <td>2464177</td>\n",
       "      <td>0.104183</td>\n",
       "      <td>89235</td>\n",
       "      <td>109</td>\n",
       "      <td>2171-03-03</td>\n",
       "      <td>Ароматизатор SAPFIRE SAT-2027 X-Fresh mini кон...</td>\n",
       "      <td>SAPFIRE</td>\n",
       "      <td>Уход за автомобилем</td>\n",
       "      <td>Нет</td>\n",
       "      <td>шт</td>\n",
       "      <td>КИТАЙ</td>\n",
       "    </tr>\n",
       "    <tr>\n",
       "      <th>168</th>\n",
       "      <td>151</td>\n",
       "      <td>0.000051</td>\n",
       "      <td>0.451363</td>\n",
       "      <td>2464179</td>\n",
       "      <td>0.104183</td>\n",
       "      <td>-1</td>\n",
       "      <td>109</td>\n",
       "      <td>2171-03-03</td>\n",
       "      <td>Ароматизатор SAPFIRE SAT-2027 X-Fresh mini кон...</td>\n",
       "      <td>SAPFIRE</td>\n",
       "      <td>Уход за автомобилем</td>\n",
       "      <td>Нет</td>\n",
       "      <td>шт</td>\n",
       "      <td>КИТАЙ</td>\n",
       "    </tr>\n",
       "    <tr>\n",
       "      <th>160</th>\n",
       "      <td>151</td>\n",
       "      <td>0.000051</td>\n",
       "      <td>0.225953</td>\n",
       "      <td>2464194</td>\n",
       "      <td>0.104183</td>\n",
       "      <td>89235</td>\n",
       "      <td>109</td>\n",
       "      <td>2171-03-10</td>\n",
       "      <td>Ароматизатор SAPFIRE SAT-2027 X-Fresh mini кон...</td>\n",
       "      <td>SAPFIRE</td>\n",
       "      <td>Уход за автомобилем</td>\n",
       "      <td>Нет</td>\n",
       "      <td>шт</td>\n",
       "      <td>КИТАЙ</td>\n",
       "    </tr>\n",
       "  </tbody>\n",
       "</table>\n",
       "</div>"
      ],
      "text/plain": [
       "     sku_id     price    number  cheque_id     litrs  client_id  shop_id  \\\n",
       "174    3324  0.006619  0.452249    1666636  0.104183         -1       23   \n",
       "171     151  0.000051  0.903612    2464176  0.104183     168997      109   \n",
       "170     151  0.000051  0.226202    2464177  0.104183      89235      109   \n",
       "168     151  0.000051  0.451363    2464179  0.104183         -1      109   \n",
       "160     151  0.000051  0.225953    2464194  0.104183      89235      109   \n",
       "\n",
       "          date                                          full_name     brand  \\\n",
       "174 2171-05-13  Напиток Fly Cafe молокосодержащий кофейный Флэ...  Fly Cafe   \n",
       "171 2171-03-02  Ароматизатор SAPFIRE SAT-2027 X-Fresh mini кон...   SAPFIRE   \n",
       "170 2171-03-03  Ароматизатор SAPFIRE SAT-2027 X-Fresh mini кон...   SAPFIRE   \n",
       "168 2171-03-03  Ароматизатор SAPFIRE SAT-2027 X-Fresh mini кон...   SAPFIRE   \n",
       "160 2171-03-10  Ароматизатор SAPFIRE SAT-2027 X-Fresh mini кон...   SAPFIRE   \n",
       "\n",
       "                      sku_group  OTM units  country  \n",
       "174  Кофейные напитки с молоком   Да     л  unknown  \n",
       "171         Уход за автомобилем  Нет    шт    КИТАЙ  \n",
       "170         Уход за автомобилем  Нет    шт    КИТАЙ  \n",
       "168         Уход за автомобилем  Нет    шт    КИТАЙ  \n",
       "160         Уход за автомобилем  Нет    шт    КИТАЙ  "
      ]
     },
     "execution_count": 551,
     "metadata": {},
     "output_type": "execute_result"
    }
   ],
   "source": [
    "df_trans_top_number = pd.merge(df_trans[df_trans[\"number\"] > 0.2], \n",
    "                              df_nomencl,\n",
    "                              on=\"sku_id\").sort_values(by='cheque_id')\n",
    "\n",
    "df_trans_top_number.head()"
   ]
  },
  {
   "cell_type": "code",
   "execution_count": 553,
   "metadata": {},
   "outputs": [
    {
     "data": {
      "text/plain": [
       "Уход за автомобилем                                      173\n",
       "Кофейные напитки с молоком                                 1\n",
       "Гастроном                                                  1\n",
       "Автохимия и автокосметика (кроме масел, смазок и СОЖ)      1\n",
       "Вода                                                       1\n",
       "Name: sku_group, dtype: int64"
      ]
     },
     "execution_count": 553,
     "metadata": {},
     "output_type": "execute_result"
    }
   ],
   "source": [
    "df_trans_top_number['sku_group'].value_counts()"
   ]
  },
  {
   "cell_type": "markdown",
   "metadata": {},
   "source": [
    "!!! Разобраться с остальными выбросами"
   ]
  },
  {
   "cell_type": "code",
   "execution_count": null,
   "metadata": {},
   "outputs": [],
   "source": []
  },
  {
   "cell_type": "code",
   "execution_count": null,
   "metadata": {},
   "outputs": [],
   "source": []
  },
  {
   "cell_type": "code",
   "execution_count": null,
   "metadata": {},
   "outputs": [],
   "source": []
  },
  {
   "cell_type": "markdown",
   "metadata": {},
   "source": [
    "- #### Номенклатура"
   ]
  },
  {
   "cell_type": "code",
   "execution_count": 286,
   "metadata": {},
   "outputs": [
    {
     "data": {
      "text/html": [
       "<div>\n",
       "<style scoped>\n",
       "    .dataframe tbody tr th:only-of-type {\n",
       "        vertical-align: middle;\n",
       "    }\n",
       "\n",
       "    .dataframe tbody tr th {\n",
       "        vertical-align: top;\n",
       "    }\n",
       "\n",
       "    .dataframe thead th {\n",
       "        text-align: right;\n",
       "    }\n",
       "</style>\n",
       "<table border=\"1\" class=\"dataframe\">\n",
       "  <thead>\n",
       "    <tr style=\"text-align: right;\">\n",
       "      <th></th>\n",
       "      <th>sku_id</th>\n",
       "      <th>full_name</th>\n",
       "      <th>brand</th>\n",
       "      <th>sku_group</th>\n",
       "      <th>OTM</th>\n",
       "      <th>units</th>\n",
       "      <th>country</th>\n",
       "    </tr>\n",
       "  </thead>\n",
       "  <tbody>\n",
       "    <tr>\n",
       "      <th>0</th>\n",
       "      <td>0</td>\n",
       "      <td>Масло Lubricrol Magnatec Diesel 10W-40 B4 1л</td>\n",
       "      <td>Lubricrol</td>\n",
       "      <td>Масла моторные (для варповых двигателей)</td>\n",
       "      <td>Нет</td>\n",
       "      <td>unknown</td>\n",
       "      <td>ГЕРМАНИЯ</td>\n",
       "    </tr>\n",
       "    <tr>\n",
       "      <th>1</th>\n",
       "      <td>723</td>\n",
       "      <td>Трос УранПРОМEthereum буксировочный 4500кг</td>\n",
       "      <td>УранПРОМEthereum</td>\n",
       "      <td>Автотовары</td>\n",
       "      <td>Да</td>\n",
       "      <td>шт</td>\n",
       "      <td>РОССИЯ</td>\n",
       "    </tr>\n",
       "    <tr>\n",
       "      <th>2</th>\n",
       "      <td>3397</td>\n",
       "      <td>Накидка УранПРОМEthereum на спинку автосиденья...</td>\n",
       "      <td>УранПРОМEthereum</td>\n",
       "      <td>Автотовары</td>\n",
       "      <td>Да</td>\n",
       "      <td>шт</td>\n",
       "      <td>unknown</td>\n",
       "    </tr>\n",
       "    <tr>\n",
       "      <th>3</th>\n",
       "      <td>2130</td>\n",
       "      <td>Жилет УранПРОМEthereum световозвращающий</td>\n",
       "      <td>УранПРОМEthereum</td>\n",
       "      <td>Автотовары</td>\n",
       "      <td>Да</td>\n",
       "      <td>шт</td>\n",
       "      <td>unknown</td>\n",
       "    </tr>\n",
       "    <tr>\n",
       "      <th>4</th>\n",
       "      <td>3150</td>\n",
       "      <td>Провода УранПРОМEthereum для прикуривания 200А</td>\n",
       "      <td>УранПРОМEthereum</td>\n",
       "      <td>Автотовары</td>\n",
       "      <td>Да</td>\n",
       "      <td>шт</td>\n",
       "      <td>РОССИЯ</td>\n",
       "    </tr>\n",
       "  </tbody>\n",
       "</table>\n",
       "</div>"
      ],
      "text/plain": [
       "   sku_id                                          full_name  \\\n",
       "0       0       Масло Lubricrol Magnatec Diesel 10W-40 B4 1л   \n",
       "1     723         Трос УранПРОМEthereum буксировочный 4500кг   \n",
       "2    3397  Накидка УранПРОМEthereum на спинку автосиденья...   \n",
       "3    2130           Жилет УранПРОМEthereum световозвращающий   \n",
       "4    3150     Провода УранПРОМEthereum для прикуривания 200А   \n",
       "\n",
       "              brand                                 sku_group  OTM    units  \\\n",
       "0         Lubricrol  Масла моторные (для варповых двигателей)  Нет  unknown   \n",
       "1  УранПРОМEthereum                                Автотовары   Да       шт   \n",
       "2  УранПРОМEthereum                                Автотовары   Да       шт   \n",
       "3  УранПРОМEthereum                                Автотовары   Да       шт   \n",
       "4  УранПРОМEthereum                                Автотовары   Да       шт   \n",
       "\n",
       "    country  \n",
       "0  ГЕРМАНИЯ  \n",
       "1    РОССИЯ  \n",
       "2   unknown  \n",
       "3   unknown  \n",
       "4    РОССИЯ  "
      ]
     },
     "execution_count": 286,
     "metadata": {},
     "output_type": "execute_result"
    }
   ],
   "source": [
    "df_nomencl.head()"
   ]
  },
  {
   "cell_type": "markdown",
   "metadata": {},
   "source": [
    "Типы данных"
   ]
  },
  {
   "cell_type": "code",
   "execution_count": 299,
   "metadata": {},
   "outputs": [
    {
     "name": "stdout",
     "output_type": "stream",
     "text": [
      "<class 'pandas.core.frame.DataFrame'>\n",
      "RangeIndex: 5103 entries, 0 to 5102\n",
      "Data columns (total 7 columns):\n",
      " #   Column     Non-Null Count  Dtype \n",
      "---  ------     --------------  ----- \n",
      " 0   sku_id     5103 non-null   int64 \n",
      " 1   full_name  5094 non-null   object\n",
      " 2   brand      5094 non-null   object\n",
      " 3   sku_group  5103 non-null   object\n",
      " 4   OTM        5094 non-null   object\n",
      " 5   units      5094 non-null   object\n",
      " 6   country    5094 non-null   object\n",
      "dtypes: int64(1), object(6)\n",
      "memory usage: 279.2+ KB\n"
     ]
    }
   ],
   "source": [
    "df_nomencl.info()"
   ]
  },
  {
   "cell_type": "markdown",
   "metadata": {},
   "source": [
    "Все ок с типами данных"
   ]
  },
  {
   "cell_type": "markdown",
   "metadata": {},
   "source": [
    "<br><br>Такого рода переменные следует удалить. В наших данных такого нет.\n",
    "- переменных, у которых количество категорий совпадает с количеством наблюдений\n",
    "- переменных с одним уникальным значением\n",
    "- переменных констант"
   ]
  },
  {
   "cell_type": "markdown",
   "metadata": {},
   "source": [
    "<br><br>Пропуски"
   ]
  },
  {
   "cell_type": "code",
   "execution_count": 300,
   "metadata": {},
   "outputs": [
    {
     "data": {
      "text/plain": [
       "sku_id       0\n",
       "full_name    9\n",
       "brand        9\n",
       "sku_group    0\n",
       "OTM          9\n",
       "units        9\n",
       "country      9\n",
       "dtype: int64"
      ]
     },
     "execution_count": 300,
     "metadata": {},
     "output_type": "execute_result"
    }
   ],
   "source": [
    "#где пропуски?\n",
    "df_nomencl.isnull().sum()"
   ]
  },
  {
   "cell_type": "code",
   "execution_count": 301,
   "metadata": {},
   "outputs": [],
   "source": [
    "nan_values_index = [] #сохраню индексы строк с пропусками\n",
    "\n",
    "for col in df_nomencl.columns:\n",
    "    nan_values_index = [*nan_values_index, \n",
    "                        *df_nomencl[df_nomencl[col].isna()].index.values]\n",
    "    \n",
    "nan_values_index = list(set(nan_values_index))"
   ]
  },
  {
   "cell_type": "code",
   "execution_count": 302,
   "metadata": {},
   "outputs": [
    {
     "data": {
      "text/html": [
       "<div>\n",
       "<style scoped>\n",
       "    .dataframe tbody tr th:only-of-type {\n",
       "        vertical-align: middle;\n",
       "    }\n",
       "\n",
       "    .dataframe tbody tr th {\n",
       "        vertical-align: top;\n",
       "    }\n",
       "\n",
       "    .dataframe thead th {\n",
       "        text-align: right;\n",
       "    }\n",
       "</style>\n",
       "<table border=\"1\" class=\"dataframe\">\n",
       "  <thead>\n",
       "    <tr style=\"text-align: right;\">\n",
       "      <th></th>\n",
       "      <th>sku_id</th>\n",
       "      <th>full_name</th>\n",
       "      <th>brand</th>\n",
       "      <th>sku_group</th>\n",
       "      <th>OTM</th>\n",
       "      <th>units</th>\n",
       "      <th>country</th>\n",
       "    </tr>\n",
       "  </thead>\n",
       "  <tbody>\n",
       "    <tr>\n",
       "      <th>3787</th>\n",
       "      <td>1159</td>\n",
       "      <td>None</td>\n",
       "      <td>None</td>\n",
       "      <td>Ethereum 95</td>\n",
       "      <td>None</td>\n",
       "      <td>None</td>\n",
       "      <td>None</td>\n",
       "    </tr>\n",
       "    <tr>\n",
       "      <th>3724</th>\n",
       "      <td>1158</td>\n",
       "      <td>None</td>\n",
       "      <td>None</td>\n",
       "      <td>Ethereum 92</td>\n",
       "      <td>None</td>\n",
       "      <td>None</td>\n",
       "      <td>None</td>\n",
       "    </tr>\n",
       "    <tr>\n",
       "      <th>3727</th>\n",
       "      <td>1157</td>\n",
       "      <td>None</td>\n",
       "      <td>None</td>\n",
       "      <td>Ethereum 95 бренд</td>\n",
       "      <td>None</td>\n",
       "      <td>None</td>\n",
       "      <td>None</td>\n",
       "    </tr>\n",
       "    <tr>\n",
       "      <th>3728</th>\n",
       "      <td>1163</td>\n",
       "      <td>None</td>\n",
       "      <td>None</td>\n",
       "      <td>Топливо варповое с присадками летнее</td>\n",
       "      <td>None</td>\n",
       "      <td>None</td>\n",
       "      <td>None</td>\n",
       "    </tr>\n",
       "    <tr>\n",
       "      <th>3825</th>\n",
       "      <td>1162</td>\n",
       "      <td>None</td>\n",
       "      <td>None</td>\n",
       "      <td>Топливо варповое с присадками зимнее</td>\n",
       "      <td>None</td>\n",
       "      <td>None</td>\n",
       "      <td>None</td>\n",
       "    </tr>\n",
       "    <tr>\n",
       "      <th>3858</th>\n",
       "      <td>2032</td>\n",
       "      <td>None</td>\n",
       "      <td>None</td>\n",
       "      <td>Ethereum 100 бренд</td>\n",
       "      <td>None</td>\n",
       "      <td>None</td>\n",
       "      <td>None</td>\n",
       "    </tr>\n",
       "    <tr>\n",
       "      <th>4407</th>\n",
       "      <td>1161</td>\n",
       "      <td>None</td>\n",
       "      <td>None</td>\n",
       "      <td>Топливо варповое летнее</td>\n",
       "      <td>None</td>\n",
       "      <td>None</td>\n",
       "      <td>None</td>\n",
       "    </tr>\n",
       "    <tr>\n",
       "      <th>4922</th>\n",
       "      <td>1771</td>\n",
       "      <td>None</td>\n",
       "      <td>None</td>\n",
       "      <td>Топливо варповое с присадками межсезонное</td>\n",
       "      <td>None</td>\n",
       "      <td>None</td>\n",
       "      <td>None</td>\n",
       "    </tr>\n",
       "    <tr>\n",
       "      <th>3771</th>\n",
       "      <td>1160</td>\n",
       "      <td>None</td>\n",
       "      <td>None</td>\n",
       "      <td>Топливо варповое зимнее</td>\n",
       "      <td>None</td>\n",
       "      <td>None</td>\n",
       "      <td>None</td>\n",
       "    </tr>\n",
       "  </tbody>\n",
       "</table>\n",
       "</div>"
      ],
      "text/plain": [
       "      sku_id full_name brand                                  sku_group   OTM  \\\n",
       "3787    1159      None  None                                Ethereum 95  None   \n",
       "3724    1158      None  None                                Ethereum 92  None   \n",
       "3727    1157      None  None                          Ethereum 95 бренд  None   \n",
       "3728    1163      None  None       Топливо варповое с присадками летнее  None   \n",
       "3825    1162      None  None       Топливо варповое с присадками зимнее  None   \n",
       "3858    2032      None  None                         Ethereum 100 бренд  None   \n",
       "4407    1161      None  None                    Топливо варповое летнее  None   \n",
       "4922    1771      None  None  Топливо варповое с присадками межсезонное  None   \n",
       "3771    1160      None  None                    Топливо варповое зимнее  None   \n",
       "\n",
       "     units country  \n",
       "3787  None    None  \n",
       "3724  None    None  \n",
       "3727  None    None  \n",
       "3728  None    None  \n",
       "3825  None    None  \n",
       "3858  None    None  \n",
       "4407  None    None  \n",
       "4922  None    None  \n",
       "3771  None    None  "
      ]
     },
     "execution_count": 302,
     "metadata": {},
     "output_type": "execute_result"
    }
   ],
   "source": [
    "#выделю в отдельный dataframe все строки с пропусками в номенклатуре\n",
    "df_nomencl_nan = df_nomencl.loc[nan_values_index] #все строки с пропусками\n",
    "\n",
    "nan_values_sku_id = df_nomencl_nan['sku_id'].values #sku_id товаров с пропусками\n",
    "nan_values_ethereum_sku_id = df_nomencl_nan[df_nomencl_nan['sku_group'].str.contains('Ethereum')]\\\n",
    "                            ['sku_id'].values#sku_id товаров из тех что имеют пропуски и содержащих *Ethereum*\n",
    "nan_values_varpfuel_sku_id = df_nomencl_nan[df_nomencl_nan['sku_group'].str.contains('варповое')]\\\n",
    "                            ['sku_id'].values#sku_id товаров из тех что имеют пропуски и содержащих *варповое*\n",
    "\n",
    "df_nomencl_nan"
   ]
  },
  {
   "cell_type": "markdown",
   "metadata": {},
   "source": [
    "Все 9 столбцоы с пропусками в 9 записях. Отсутствует все кроме наименования. Видно что все товары это топливо. \n",
    "Не смотря на то, что в условии задачи нет категорий с топливом для которых нужно предложить следующий товар, может существовать связь между топливом и напитками или другими товарами.  \n",
    "\n",
    "Буду восстанавливать пропущенные значения."
   ]
  },
  {
   "cell_type": "markdown",
   "metadata": {},
   "source": [
    "Очевидно, что эти товары топливо.  \n",
    "Можно проверить по таблице с транзакциями, товар-топливо это если number=0 а litrs>0"
   ]
  },
  {
   "cell_type": "code",
   "execution_count": 303,
   "metadata": {},
   "outputs": [
    {
     "data": {
      "text/html": [
       "<div>\n",
       "<style scoped>\n",
       "    .dataframe tbody tr th:only-of-type {\n",
       "        vertical-align: middle;\n",
       "    }\n",
       "\n",
       "    .dataframe tbody tr th {\n",
       "        vertical-align: top;\n",
       "    }\n",
       "\n",
       "    .dataframe thead th {\n",
       "        text-align: right;\n",
       "    }\n",
       "</style>\n",
       "<table border=\"1\" class=\"dataframe\">\n",
       "  <thead>\n",
       "    <tr style=\"text-align: right;\">\n",
       "      <th></th>\n",
       "      <th>price</th>\n",
       "      <th>number</th>\n",
       "      <th>cheque_id</th>\n",
       "      <th>litrs</th>\n",
       "      <th>client_id</th>\n",
       "      <th>shop_id</th>\n",
       "    </tr>\n",
       "    <tr>\n",
       "      <th>sku_id</th>\n",
       "      <th></th>\n",
       "      <th></th>\n",
       "      <th></th>\n",
       "      <th></th>\n",
       "      <th></th>\n",
       "      <th></th>\n",
       "    </tr>\n",
       "  </thead>\n",
       "  <tbody>\n",
       "    <tr>\n",
       "      <th>1157</th>\n",
       "      <td>877.417355</td>\n",
       "      <td>0.0</td>\n",
       "      <td>578042455371</td>\n",
       "      <td>46769.789831</td>\n",
       "      <td>47729533231</td>\n",
       "      <td>18136774</td>\n",
       "    </tr>\n",
       "    <tr>\n",
       "      <th>1158</th>\n",
       "      <td>1146.372298</td>\n",
       "      <td>0.0</td>\n",
       "      <td>854933391015</td>\n",
       "      <td>64796.547015</td>\n",
       "      <td>64522892857</td>\n",
       "      <td>24827189</td>\n",
       "    </tr>\n",
       "    <tr>\n",
       "      <th>1159</th>\n",
       "      <td>1587.875485</td>\n",
       "      <td>0.0</td>\n",
       "      <td>1021811921421</td>\n",
       "      <td>85426.704022</td>\n",
       "      <td>86259547698</td>\n",
       "      <td>30263254</td>\n",
       "    </tr>\n",
       "    <tr>\n",
       "      <th>1160</th>\n",
       "      <td>9.511008</td>\n",
       "      <td>0.0</td>\n",
       "      <td>3953669028</td>\n",
       "      <td>557.685280</td>\n",
       "      <td>557405146</td>\n",
       "      <td>239409</td>\n",
       "    </tr>\n",
       "    <tr>\n",
       "      <th>1161</th>\n",
       "      <td>0.128321</td>\n",
       "      <td>0.0</td>\n",
       "      <td>173756614</td>\n",
       "      <td>6.378492</td>\n",
       "      <td>5128248</td>\n",
       "      <td>5508</td>\n",
       "    </tr>\n",
       "    <tr>\n",
       "      <th>1162</th>\n",
       "      <td>261.420708</td>\n",
       "      <td>0.0</td>\n",
       "      <td>205192365280</td>\n",
       "      <td>15609.847960</td>\n",
       "      <td>14899870947</td>\n",
       "      <td>6090343</td>\n",
       "    </tr>\n",
       "    <tr>\n",
       "      <th>1163</th>\n",
       "      <td>416.599816</td>\n",
       "      <td>0.0</td>\n",
       "      <td>216360284261</td>\n",
       "      <td>24803.053550</td>\n",
       "      <td>23775975458</td>\n",
       "      <td>7053639</td>\n",
       "    </tr>\n",
       "    <tr>\n",
       "      <th>1771</th>\n",
       "      <td>1.841991</td>\n",
       "      <td>0.0</td>\n",
       "      <td>1079612215</td>\n",
       "      <td>109.060796</td>\n",
       "      <td>109909314</td>\n",
       "      <td>43050</td>\n",
       "    </tr>\n",
       "    <tr>\n",
       "      <th>2032</th>\n",
       "      <td>310.983807</td>\n",
       "      <td>0.0</td>\n",
       "      <td>158545472810</td>\n",
       "      <td>15628.749112</td>\n",
       "      <td>14414206198</td>\n",
       "      <td>5351588</td>\n",
       "    </tr>\n",
       "  </tbody>\n",
       "</table>\n",
       "</div>"
      ],
      "text/plain": [
       "              price  number      cheque_id         litrs    client_id  \\\n",
       "sku_id                                                                  \n",
       "1157     877.417355     0.0   578042455371  46769.789831  47729533231   \n",
       "1158    1146.372298     0.0   854933391015  64796.547015  64522892857   \n",
       "1159    1587.875485     0.0  1021811921421  85426.704022  86259547698   \n",
       "1160       9.511008     0.0     3953669028    557.685280    557405146   \n",
       "1161       0.128321     0.0      173756614      6.378492      5128248   \n",
       "1162     261.420708     0.0   205192365280  15609.847960  14899870947   \n",
       "1163     416.599816     0.0   216360284261  24803.053550  23775975458   \n",
       "1771       1.841991     0.0     1079612215    109.060796    109909314   \n",
       "2032     310.983807     0.0   158545472810  15628.749112  14414206198   \n",
       "\n",
       "         shop_id  \n",
       "sku_id            \n",
       "1157    18136774  \n",
       "1158    24827189  \n",
       "1159    30263254  \n",
       "1160      239409  \n",
       "1161        5508  \n",
       "1162     6090343  \n",
       "1163     7053639  \n",
       "1771       43050  \n",
       "2032     5351588  "
      ]
     },
     "execution_count": 303,
     "metadata": {},
     "output_type": "execute_result"
    }
   ],
   "source": [
    "_ = df_trans[df_trans['sku_id'].isin(nan_values_sku_id)]\n",
    "_.groupby('sku_id').sum()"
   ]
  },
  {
   "cell_type": "markdown",
   "metadata": {},
   "source": [
    "Как видно, numbers = 0 а litrs - числа, значит units = 'л'"
   ]
  },
  {
   "cell_type": "code",
   "execution_count": 304,
   "metadata": {},
   "outputs": [],
   "source": [
    "#проставляю для этих пропусков литры\n",
    "df_nomencl.at[nan_values_index, 'units'] = 'л'"
   ]
  },
  {
   "cell_type": "code",
   "execution_count": null,
   "metadata": {},
   "outputs": [],
   "source": []
  },
  {
   "cell_type": "code",
   "execution_count": null,
   "metadata": {},
   "outputs": [],
   "source": []
  },
  {
   "cell_type": "code",
   "execution_count": 255,
   "metadata": {},
   "outputs": [
    {
     "data": {
      "text/html": [
       "<div>\n",
       "<style scoped>\n",
       "    .dataframe tbody tr th:only-of-type {\n",
       "        vertical-align: middle;\n",
       "    }\n",
       "\n",
       "    .dataframe tbody tr th {\n",
       "        vertical-align: top;\n",
       "    }\n",
       "\n",
       "    .dataframe thead th {\n",
       "        text-align: right;\n",
       "    }\n",
       "</style>\n",
       "<table border=\"1\" class=\"dataframe\">\n",
       "  <thead>\n",
       "    <tr style=\"text-align: right;\">\n",
       "      <th></th>\n",
       "      <th>sku_id</th>\n",
       "      <th>price</th>\n",
       "      <th>number</th>\n",
       "      <th>cheque_id</th>\n",
       "      <th>litrs</th>\n",
       "      <th>client_id</th>\n",
       "      <th>shop_id</th>\n",
       "      <th>date</th>\n",
       "      <th>full_name</th>\n",
       "      <th>brand</th>\n",
       "      <th>sku_group</th>\n",
       "      <th>OTM</th>\n",
       "      <th>units</th>\n",
       "      <th>country</th>\n",
       "    </tr>\n",
       "  </thead>\n",
       "  <tbody>\n",
       "    <tr>\n",
       "      <th>30</th>\n",
       "      <td>2576</td>\n",
       "      <td>0.012776</td>\n",
       "      <td>0.000452</td>\n",
       "      <td>1704326</td>\n",
       "      <td>0.104183</td>\n",
       "      <td>341260</td>\n",
       "      <td>87</td>\n",
       "      <td>2171-03-17</td>\n",
       "      <td>Батончик SOJ Marshmallow соленая карамель,моло...</td>\n",
       "      <td>SOJ</td>\n",
       "      <td>Кондитерские изделия</td>\n",
       "      <td>Нет</td>\n",
       "      <td>г</td>\n",
       "      <td>РОССИЯ</td>\n",
       "    </tr>\n",
       "    <tr>\n",
       "      <th>9</th>\n",
       "      <td>2032</td>\n",
       "      <td>0.002891</td>\n",
       "      <td>0.000000</td>\n",
       "      <td>1704326</td>\n",
       "      <td>0.163646</td>\n",
       "      <td>341260</td>\n",
       "      <td>87</td>\n",
       "      <td>2171-03-17</td>\n",
       "      <td>None</td>\n",
       "      <td>None</td>\n",
       "      <td>Ethereum 100 бренд</td>\n",
       "      <td>None</td>\n",
       "      <td>л</td>\n",
       "      <td>None</td>\n",
       "    </tr>\n",
       "    <tr>\n",
       "      <th>17</th>\n",
       "      <td>120</td>\n",
       "      <td>0.003027</td>\n",
       "      <td>0.000452</td>\n",
       "      <td>1704326</td>\n",
       "      <td>0.104183</td>\n",
       "      <td>341260</td>\n",
       "      <td>87</td>\n",
       "      <td>2171-03-17</td>\n",
       "      <td>Зефир CorNiche Mega Marshmallows пакет 120г</td>\n",
       "      <td>CorNiche</td>\n",
       "      <td>Кондитерские изделия</td>\n",
       "      <td>Нет</td>\n",
       "      <td>г</td>\n",
       "      <td>ФИЛИППИНЫ</td>\n",
       "    </tr>\n",
       "    <tr>\n",
       "      <th>29</th>\n",
       "      <td>654</td>\n",
       "      <td>0.025603</td>\n",
       "      <td>0.000452</td>\n",
       "      <td>1704326</td>\n",
       "      <td>0.104183</td>\n",
       "      <td>341260</td>\n",
       "      <td>87</td>\n",
       "      <td>2171-03-17</td>\n",
       "      <td>Жидкость стеклоомывающая УранПРОМEthereum конц...</td>\n",
       "      <td>УранПРОМEthereum</td>\n",
       "      <td>СОЖ</td>\n",
       "      <td>Да</td>\n",
       "      <td>л</td>\n",
       "      <td>РОССИЯ</td>\n",
       "    </tr>\n",
       "    <tr>\n",
       "      <th>28</th>\n",
       "      <td>1159</td>\n",
       "      <td>0.002553</td>\n",
       "      <td>0.000000</td>\n",
       "      <td>1706564</td>\n",
       "      <td>0.130441</td>\n",
       "      <td>341260</td>\n",
       "      <td>87</td>\n",
       "      <td>2171-03-23</td>\n",
       "      <td>None</td>\n",
       "      <td>None</td>\n",
       "      <td>Ethereum 95</td>\n",
       "      <td>None</td>\n",
       "      <td>л</td>\n",
       "      <td>None</td>\n",
       "    </tr>\n",
       "  </tbody>\n",
       "</table>\n",
       "</div>"
      ],
      "text/plain": [
       "    sku_id     price    number  cheque_id     litrs  client_id  shop_id  \\\n",
       "30    2576  0.012776  0.000452    1704326  0.104183     341260       87   \n",
       "9     2032  0.002891  0.000000    1704326  0.163646     341260       87   \n",
       "17     120  0.003027  0.000452    1704326  0.104183     341260       87   \n",
       "29     654  0.025603  0.000452    1704326  0.104183     341260       87   \n",
       "28    1159  0.002553  0.000000    1706564  0.130441     341260       87   \n",
       "\n",
       "         date                                          full_name  \\\n",
       "30 2171-03-17  Батончик SOJ Marshmallow соленая карамель,моло...   \n",
       "9  2171-03-17                                               None   \n",
       "17 2171-03-17        Зефир CorNiche Mega Marshmallows пакет 120г   \n",
       "29 2171-03-17  Жидкость стеклоомывающая УранПРОМEthereum конц...   \n",
       "28 2171-03-23                                               None   \n",
       "\n",
       "               brand             sku_group   OTM units    country  \n",
       "30               SOJ  Кондитерские изделия   Нет     г     РОССИЯ  \n",
       "9               None    Ethereum 100 бренд  None     л       None  \n",
       "17          CorNiche  Кондитерские изделия   Нет     г  ФИЛИППИНЫ  \n",
       "29  УранПРОМEthereum                   СОЖ    Да     л     РОССИЯ  \n",
       "28              None           Ethereum 95  None     л       None  "
      ]
     },
     "execution_count": 255,
     "metadata": {},
     "output_type": "execute_result"
    }
   ],
   "source": [
    "#возьму конкретного клиента и посомотрю его чеки\n",
    "#добавлю описание товаров из таблицы с номенклатурой\n",
    "\n",
    "pd.merge(df_trans[df_trans['client_id'] == 341260], df_nomencl,\n",
    "         on=\"sku_id\").sort_values(by='date').head(5)"
   ]
  },
  {
   "cell_type": "markdown",
   "metadata": {},
   "source": [
    "??? Почему тут литры и numbers одновременно? numbers маленькие?"
   ]
  },
  {
   "cell_type": "markdown",
   "metadata": {},
   "source": [
    "??? Есть ли где то литры = 0 или меньше 0"
   ]
  },
  {
   "cell_type": "code",
   "execution_count": null,
   "metadata": {},
   "outputs": [],
   "source": []
  },
  {
   "cell_type": "code",
   "execution_count": null,
   "metadata": {},
   "outputs": [],
   "source": []
  },
  {
   "cell_type": "markdown",
   "metadata": {},
   "source": [
    "- Посмотрю на товары с пропусками и соджержащие слово Ethereum:"
   ]
  },
  {
   "cell_type": "code",
   "execution_count": 305,
   "metadata": {},
   "outputs": [
    {
     "data": {
      "text/html": [
       "<div>\n",
       "<style scoped>\n",
       "    .dataframe tbody tr th:only-of-type {\n",
       "        vertical-align: middle;\n",
       "    }\n",
       "\n",
       "    .dataframe tbody tr th {\n",
       "        vertical-align: top;\n",
       "    }\n",
       "\n",
       "    .dataframe thead th {\n",
       "        text-align: right;\n",
       "    }\n",
       "</style>\n",
       "<table border=\"1\" class=\"dataframe\">\n",
       "  <thead>\n",
       "    <tr style=\"text-align: right;\">\n",
       "      <th></th>\n",
       "      <th>sku_id</th>\n",
       "      <th>full_name</th>\n",
       "      <th>brand</th>\n",
       "      <th>sku_group</th>\n",
       "      <th>OTM</th>\n",
       "      <th>units</th>\n",
       "      <th>country</th>\n",
       "    </tr>\n",
       "  </thead>\n",
       "  <tbody>\n",
       "    <tr>\n",
       "      <th>549</th>\n",
       "      <td>610</td>\n",
       "      <td>Масло GAZPROMNEFT моторное М-8В 1л</td>\n",
       "      <td>GAZPROMNEFT</td>\n",
       "      <td>Масла моторные (для Ethereumовых двигателей) \"...</td>\n",
       "      <td>Нет</td>\n",
       "      <td>л</td>\n",
       "      <td>unknown</td>\n",
       "    </tr>\n",
       "    <tr>\n",
       "      <th>550</th>\n",
       "      <td>622</td>\n",
       "      <td>Масло GAZPROMNEFT Super 10W-40 1л</td>\n",
       "      <td>GAZPROMNEFT</td>\n",
       "      <td>Масла моторные (для Ethereumовых двигателей) \"...</td>\n",
       "      <td>Нет</td>\n",
       "      <td>л</td>\n",
       "      <td>РОССИЯ</td>\n",
       "    </tr>\n",
       "    <tr>\n",
       "      <th>551</th>\n",
       "      <td>617</td>\n",
       "      <td>Масло GAZPROMNEFT Super 10W-40 API SG/CD 4л</td>\n",
       "      <td>GAZPROMNEFT</td>\n",
       "      <td>Масла моторные (для Ethereumовых двигателей) \"...</td>\n",
       "      <td>Нет</td>\n",
       "      <td>л</td>\n",
       "      <td>РОССИЯ</td>\n",
       "    </tr>\n",
       "    <tr>\n",
       "      <th>552</th>\n",
       "      <td>614</td>\n",
       "      <td>Масло GAZPROMNEFT Premium L 10W-40 API SL/CF A...</td>\n",
       "      <td>GAZPROMNEFT</td>\n",
       "      <td>Масла моторные (для Ethereumовых двигателей) \"...</td>\n",
       "      <td>Нет</td>\n",
       "      <td>л</td>\n",
       "      <td>РОССИЯ</td>\n",
       "    </tr>\n",
       "    <tr>\n",
       "      <th>553</th>\n",
       "      <td>609</td>\n",
       "      <td>Масло G-Energy F Synth 5W-40 1л</td>\n",
       "      <td>G-Energy</td>\n",
       "      <td>Масла моторные (для Ethereumовых двигателей) \"...</td>\n",
       "      <td>Нет</td>\n",
       "      <td>л</td>\n",
       "      <td>ИТАЛИЯ</td>\n",
       "    </tr>\n",
       "    <tr>\n",
       "      <th>554</th>\n",
       "      <td>2653</td>\n",
       "      <td>Масло G-Energy F Synth 5W-40 4л</td>\n",
       "      <td>G-Energy</td>\n",
       "      <td>Масла моторные (для Ethereumовых двигателей) \"...</td>\n",
       "      <td>Нет</td>\n",
       "      <td>л</td>\n",
       "      <td>ИТАЛИЯ</td>\n",
       "    </tr>\n",
       "    <tr>\n",
       "      <th>555</th>\n",
       "      <td>612</td>\n",
       "      <td>Масло G-Energy S Synth 10W-40 IT 4л</td>\n",
       "      <td>G-Energy</td>\n",
       "      <td>Масла моторные (для Ethereumовых двигателей)</td>\n",
       "      <td>Нет</td>\n",
       "      <td>л</td>\n",
       "      <td>ИТАЛИЯ</td>\n",
       "    </tr>\n",
       "    <tr>\n",
       "      <th>556</th>\n",
       "      <td>1595</td>\n",
       "      <td>Масло G-Energy F Synth EC 5W-30 1л</td>\n",
       "      <td>G-Energy</td>\n",
       "      <td>Масла моторные (для Ethereumовых двигателей) \"...</td>\n",
       "      <td>Нет</td>\n",
       "      <td>л</td>\n",
       "      <td>ИТАЛИЯ</td>\n",
       "    </tr>\n",
       "    <tr>\n",
       "      <th>557</th>\n",
       "      <td>606</td>\n",
       "      <td>Масло G-Energy F Synth 5W-30 A3/B4 4л</td>\n",
       "      <td>G-Energy</td>\n",
       "      <td>Масла моторные (для Ethereumовых двигателей) \"...</td>\n",
       "      <td>Нет</td>\n",
       "      <td>л</td>\n",
       "      <td>ИТАЛИЯ</td>\n",
       "    </tr>\n",
       "    <tr>\n",
       "      <th>558</th>\n",
       "      <td>615</td>\n",
       "      <td>Масло G-Energy S Synth 10W-40 IT 1л</td>\n",
       "      <td>G-Energy</td>\n",
       "      <td>Масла моторные (для Ethereumовых двигателей) \"...</td>\n",
       "      <td>Нет</td>\n",
       "      <td>л</td>\n",
       "      <td>ИТАЛИЯ</td>\n",
       "    </tr>\n",
       "    <tr>\n",
       "      <th>559</th>\n",
       "      <td>621</td>\n",
       "      <td>Масло GAZPROMNEFT Premium N 5W-40 API SN/CF A3...</td>\n",
       "      <td>GAZPROMNEFT</td>\n",
       "      <td>Масла моторные (для Ethereumовых двигателей) \"...</td>\n",
       "      <td>Нет</td>\n",
       "      <td>л</td>\n",
       "      <td>РОССИЯ</td>\n",
       "    </tr>\n",
       "    <tr>\n",
       "      <th>560</th>\n",
       "      <td>607</td>\n",
       "      <td>Масло GAZPROMNEFT Premium N 5W-40 API SN/CF A3...</td>\n",
       "      <td>GAZPROMNEFT</td>\n",
       "      <td>Масла моторные (для Ethereumовых двигателей) \"...</td>\n",
       "      <td>Нет</td>\n",
       "      <td>л</td>\n",
       "      <td>РОССИЯ</td>\n",
       "    </tr>\n",
       "    <tr>\n",
       "      <th>561</th>\n",
       "      <td>623</td>\n",
       "      <td>Масло GAZPROMNEFT Premium L 10W-40 API SL/CF A...</td>\n",
       "      <td>GAZPROMNEFT</td>\n",
       "      <td>Масла моторные (для Ethereumовых двигателей) \"...</td>\n",
       "      <td>Нет</td>\n",
       "      <td>л</td>\n",
       "      <td>РОССИЯ</td>\n",
       "    </tr>\n",
       "    <tr>\n",
       "      <th>562</th>\n",
       "      <td>611</td>\n",
       "      <td>Масло GAZPROMNЕFT Super 5W-40 API SG/CD 1л</td>\n",
       "      <td>GAZPROMNEFT</td>\n",
       "      <td>Масла моторные (для Ethereumовых двигателей) \"...</td>\n",
       "      <td>Нет</td>\n",
       "      <td>л</td>\n",
       "      <td>РОССИЯ</td>\n",
       "    </tr>\n",
       "    <tr>\n",
       "      <th>563</th>\n",
       "      <td>619</td>\n",
       "      <td>Масло GAZPROMNЕFT Super 5W-40 API SG/CD 4л</td>\n",
       "      <td>GAZPROMNEFT</td>\n",
       "      <td>Масла моторные (для Ethereumовых двигателей) \"...</td>\n",
       "      <td>Нет</td>\n",
       "      <td>л</td>\n",
       "      <td>РОССИЯ</td>\n",
       "    </tr>\n",
       "    <tr>\n",
       "      <th>564</th>\n",
       "      <td>616</td>\n",
       "      <td>Масло GAZPROMNЕFT Super 15W-40 API SG/CD 1л</td>\n",
       "      <td>GAZPROMNEFT</td>\n",
       "      <td>Масла моторные (для Ethereumовых двигателей) \"...</td>\n",
       "      <td>Нет</td>\n",
       "      <td>л</td>\n",
       "      <td>РОССИЯ</td>\n",
       "    </tr>\n",
       "    <tr>\n",
       "      <th>565</th>\n",
       "      <td>618</td>\n",
       "      <td>Масло GAZPROMNEFT Moto 2T 1л</td>\n",
       "      <td>GAZPROMNEFT</td>\n",
       "      <td>Масла моторные (для Ethereumовых двигателей) \"...</td>\n",
       "      <td>Нет</td>\n",
       "      <td>л</td>\n",
       "      <td>РОССИЯ</td>\n",
       "    </tr>\n",
       "    <tr>\n",
       "      <th>566</th>\n",
       "      <td>608</td>\n",
       "      <td>Масло G-Energy F Synth EC 5W-30 4л</td>\n",
       "      <td>G-Energy</td>\n",
       "      <td>Масла моторные (для Ethereumовых двигателей) \"...</td>\n",
       "      <td>Нет</td>\n",
       "      <td>л</td>\n",
       "      <td>ИТАЛИЯ</td>\n",
       "    </tr>\n",
       "    <tr>\n",
       "      <th>574</th>\n",
       "      <td>643</td>\n",
       "      <td>Масло Mobil Super 2000 X1 10W-40 1л</td>\n",
       "      <td>Mobil</td>\n",
       "      <td>Масла моторные (для Ethereumовых двигателей)</td>\n",
       "      <td>Нет</td>\n",
       "      <td>л</td>\n",
       "      <td>unknown</td>\n",
       "    </tr>\n",
       "    <tr>\n",
       "      <th>575</th>\n",
       "      <td>2635</td>\n",
       "      <td>Масло Mobil Super 3000 X1 5W-40 4л</td>\n",
       "      <td>Mobil</td>\n",
       "      <td>Масла моторные (для Ethereumовых двигателей)</td>\n",
       "      <td>Нет</td>\n",
       "      <td>л</td>\n",
       "      <td>РОССИЯ</td>\n",
       "    </tr>\n",
       "    <tr>\n",
       "      <th>576</th>\n",
       "      <td>1863</td>\n",
       "      <td>Масло Mobil Super 2000 X1 10W-40 4л</td>\n",
       "      <td>Mobil</td>\n",
       "      <td>Масла моторные (для Ethereumовых двигателей)</td>\n",
       "      <td>Нет</td>\n",
       "      <td>л</td>\n",
       "      <td>unknown</td>\n",
       "    </tr>\n",
       "    <tr>\n",
       "      <th>577</th>\n",
       "      <td>637</td>\n",
       "      <td>Масло Mobil Super 3000 X1 5W-40 1л</td>\n",
       "      <td>Mobil</td>\n",
       "      <td>Масла моторные (для Ethereumовых двигателей)</td>\n",
       "      <td>Нет</td>\n",
       "      <td>л</td>\n",
       "      <td>РОССИЯ</td>\n",
       "    </tr>\n",
       "    <tr>\n",
       "      <th>578</th>\n",
       "      <td>1478</td>\n",
       "      <td>Масло Mobil 1 FS x1 5W-50 1л</td>\n",
       "      <td>Mobil</td>\n",
       "      <td>Масла моторные (для Ethereumовых двигателей)</td>\n",
       "      <td>Нет</td>\n",
       "      <td>л</td>\n",
       "      <td>unknown</td>\n",
       "    </tr>\n",
       "    <tr>\n",
       "      <th>579</th>\n",
       "      <td>632</td>\n",
       "      <td>Масло Mobil Super 3000 X1 Formula FE 5W-30 кан...</td>\n",
       "      <td>Mobil</td>\n",
       "      <td>Масла моторные (для Ethereumовых двигателей)</td>\n",
       "      <td>Нет</td>\n",
       "      <td>л</td>\n",
       "      <td>РОССИЯ</td>\n",
       "    </tr>\n",
       "    <tr>\n",
       "      <th>580</th>\n",
       "      <td>633</td>\n",
       "      <td>Масло моторное Mobil Ultra 10W-40 1л</td>\n",
       "      <td>Mobil</td>\n",
       "      <td>Масла моторные (для Ethereumовых двигателей)</td>\n",
       "      <td>Нет</td>\n",
       "      <td>л</td>\n",
       "      <td>ФИНЛЯНДИЯ</td>\n",
       "    </tr>\n",
       "    <tr>\n",
       "      <th>581</th>\n",
       "      <td>638</td>\n",
       "      <td>Масло Mobil Ultra 10W-40 4л</td>\n",
       "      <td>Mobil</td>\n",
       "      <td>Масла моторные (для Ethereumовых двигателей)</td>\n",
       "      <td>Нет</td>\n",
       "      <td>л</td>\n",
       "      <td>ФИНЛЯНДИЯ</td>\n",
       "    </tr>\n",
       "    <tr>\n",
       "      <th>582</th>\n",
       "      <td>2636</td>\n",
       "      <td>Масло Lubricrol Magnatec 10W-40 A3/B4 4л</td>\n",
       "      <td>Lubricrol</td>\n",
       "      <td>Масла моторные (для Ethereumовых двигателей)</td>\n",
       "      <td>Нет</td>\n",
       "      <td>л</td>\n",
       "      <td>РОССИЯ</td>\n",
       "    </tr>\n",
       "    <tr>\n",
       "      <th>583</th>\n",
       "      <td>3089</td>\n",
       "      <td>Масло Lubricrol Magnatec 5W-40 A3/В4 1л</td>\n",
       "      <td>Lubricrol</td>\n",
       "      <td>Масла моторные (для Ethereumовых двигателей)</td>\n",
       "      <td>Нет</td>\n",
       "      <td>л</td>\n",
       "      <td>ГЕРМАНИЯ</td>\n",
       "    </tr>\n",
       "    <tr>\n",
       "      <th>584</th>\n",
       "      <td>639</td>\n",
       "      <td>Масло Lubricrol Magnatec 10W-40 R A3/B4 канист...</td>\n",
       "      <td>Lubricrol</td>\n",
       "      <td>Масла моторные (для Ethereumовых двигателей)</td>\n",
       "      <td>Нет</td>\n",
       "      <td>л</td>\n",
       "      <td>БЕЛЬГИЯ</td>\n",
       "    </tr>\n",
       "    <tr>\n",
       "      <th>585</th>\n",
       "      <td>3091</td>\n",
       "      <td>Масло Lubricrol Magnatec 5W-40 A3/В4 4л</td>\n",
       "      <td>Lubricrol</td>\n",
       "      <td>Масла моторные (для Ethereumовых двигателей)</td>\n",
       "      <td>Нет</td>\n",
       "      <td>л</td>\n",
       "      <td>ГЕРМАНИЯ</td>\n",
       "    </tr>\n",
       "    <tr>\n",
       "      <th>586</th>\n",
       "      <td>634</td>\n",
       "      <td>Масло Lubricrol Magnatec 5W-30 A3/B4 1л</td>\n",
       "      <td>Lubricrol</td>\n",
       "      <td>Масла моторные (для Ethereumовых двигателей)</td>\n",
       "      <td>Нет</td>\n",
       "      <td>л</td>\n",
       "      <td>ГЕРМАНИЯ</td>\n",
       "    </tr>\n",
       "    <tr>\n",
       "      <th>587</th>\n",
       "      <td>641</td>\n",
       "      <td>Масло Lubricrol Magnatec 5W-30 A3/B4 4л</td>\n",
       "      <td>Lubricrol</td>\n",
       "      <td>Масла моторные (для Ethereumовых двигателей)</td>\n",
       "      <td>Нет</td>\n",
       "      <td>unknown</td>\n",
       "      <td>РОССИЯ</td>\n",
       "    </tr>\n",
       "    <tr>\n",
       "      <th>1367</th>\n",
       "      <td>635</td>\n",
       "      <td>Масло Lubricrol EDGE 5W-30 LL TITANIUM FST 1л</td>\n",
       "      <td>Lubricrol</td>\n",
       "      <td>Масла моторные (для Ethereumовых двигателей)</td>\n",
       "      <td>Нет</td>\n",
       "      <td>л</td>\n",
       "      <td>РОССИЯ</td>\n",
       "    </tr>\n",
       "    <tr>\n",
       "      <th>1436</th>\n",
       "      <td>613</td>\n",
       "      <td>Масло GAZPROMNEFT Premium C3 5W-30 1л</td>\n",
       "      <td>GAZPROMNEFT</td>\n",
       "      <td>Масла моторные (для Ethereumовых двигателей) \"...</td>\n",
       "      <td>Нет</td>\n",
       "      <td>л</td>\n",
       "      <td>unknown</td>\n",
       "    </tr>\n",
       "    <tr>\n",
       "      <th>1447</th>\n",
       "      <td>644</td>\n",
       "      <td>Масло ZIC 5W-30 X5 полусинтетика моторное 1л</td>\n",
       "      <td>ZIC</td>\n",
       "      <td>Масла моторные (для Ethereumовых двигателей)</td>\n",
       "      <td>Нет</td>\n",
       "      <td>л</td>\n",
       "      <td>unknown</td>\n",
       "    </tr>\n",
       "    <tr>\n",
       "      <th>1448</th>\n",
       "      <td>631</td>\n",
       "      <td>Масло ZIC 5W-40 X9 SN синтетика моторное 1л</td>\n",
       "      <td>ZIC</td>\n",
       "      <td>Масла моторные (для Ethereumовых двигателей)</td>\n",
       "      <td>Нет</td>\n",
       "      <td>л</td>\n",
       "      <td>unknown</td>\n",
       "    </tr>\n",
       "    <tr>\n",
       "      <th>1634</th>\n",
       "      <td>2508</td>\n",
       "      <td>Масло ZIC X7 LS 10W-40 синтетика 1л</td>\n",
       "      <td>ZIC</td>\n",
       "      <td>Масла моторные (для Ethereumовых двигателей)</td>\n",
       "      <td>Нет</td>\n",
       "      <td>л</td>\n",
       "      <td>unknown</td>\n",
       "    </tr>\n",
       "    <tr>\n",
       "      <th>2065</th>\n",
       "      <td>642</td>\n",
       "      <td>Масло Mobil 1 ESP 5W-30 канистра 1л</td>\n",
       "      <td>Mobil</td>\n",
       "      <td>Масла моторные (для Ethereumовых двигателей)</td>\n",
       "      <td>Нет</td>\n",
       "      <td>л</td>\n",
       "      <td>ФИНЛЯНДИЯ</td>\n",
       "    </tr>\n",
       "    <tr>\n",
       "      <th>2139</th>\n",
       "      <td>640</td>\n",
       "      <td>Масло G-Energy Synthetic 5W-30 Active 1л</td>\n",
       "      <td>G-Energy</td>\n",
       "      <td>Масла моторные (для Ethereumовых двигателей)</td>\n",
       "      <td>Нет</td>\n",
       "      <td>л</td>\n",
       "      <td>РОССИЯ</td>\n",
       "    </tr>\n",
       "    <tr>\n",
       "      <th>2140</th>\n",
       "      <td>636</td>\n",
       "      <td>Масло G-Energy Synthetic 10W-40 Long Life 1л</td>\n",
       "      <td>G-Energy</td>\n",
       "      <td>Масла моторные (для Ethereumовых двигателей)</td>\n",
       "      <td>Нет</td>\n",
       "      <td>л</td>\n",
       "      <td>РОССИЯ</td>\n",
       "    </tr>\n",
       "    <tr>\n",
       "      <th>2153</th>\n",
       "      <td>620</td>\n",
       "      <td>Масло G-Energy Super Start 5W-30 4л</td>\n",
       "      <td>G-Energy</td>\n",
       "      <td>Масла моторные (для Ethereumовых двигателей) \"...</td>\n",
       "      <td>Нет</td>\n",
       "      <td>л</td>\n",
       "      <td>ИТАЛИЯ</td>\n",
       "    </tr>\n",
       "    <tr>\n",
       "      <th>2469</th>\n",
       "      <td>1608</td>\n",
       "      <td>Масло Lubricrol EDGE 5W-30 LL канистра 4л</td>\n",
       "      <td>Lubricrol</td>\n",
       "      <td>Масла моторные (для Ethereumовых двигателей)</td>\n",
       "      <td>Нет</td>\n",
       "      <td>л</td>\n",
       "      <td>БЕЛЬГИЯ</td>\n",
       "    </tr>\n",
       "    <tr>\n",
       "      <th>2470</th>\n",
       "      <td>3090</td>\n",
       "      <td>Масло Lubricrol EDGE 5W-40 канистра 1л</td>\n",
       "      <td>Lubricrol</td>\n",
       "      <td>Масла моторные (для Ethereumовых двигателей)</td>\n",
       "      <td>Нет</td>\n",
       "      <td>л</td>\n",
       "      <td>БЕЛЬГИЯ</td>\n",
       "    </tr>\n",
       "    <tr>\n",
       "      <th>2471</th>\n",
       "      <td>3088</td>\n",
       "      <td>Масло Lubricrol EDGE 5W-40 канистра 4л</td>\n",
       "      <td>Lubricrol</td>\n",
       "      <td>Масла моторные (для Ethereumовых двигателей)</td>\n",
       "      <td>Нет</td>\n",
       "      <td>л</td>\n",
       "      <td>БЕЛЬГИЯ</td>\n",
       "    </tr>\n",
       "    <tr>\n",
       "      <th>2472</th>\n",
       "      <td>1609</td>\n",
       "      <td>Масло ZIC TOP 5W-30 канистра 1л</td>\n",
       "      <td>ZIC</td>\n",
       "      <td>Масла моторные (для Ethereumовых двигателей)</td>\n",
       "      <td>Нет</td>\n",
       "      <td>л</td>\n",
       "      <td>КОРЕЯ, РЕСПУБЛИКА</td>\n",
       "    </tr>\n",
       "    <tr>\n",
       "      <th>3724</th>\n",
       "      <td>1158</td>\n",
       "      <td>None</td>\n",
       "      <td>None</td>\n",
       "      <td>Ethereum 92</td>\n",
       "      <td>None</td>\n",
       "      <td>л</td>\n",
       "      <td>None</td>\n",
       "    </tr>\n",
       "    <tr>\n",
       "      <th>3727</th>\n",
       "      <td>1157</td>\n",
       "      <td>None</td>\n",
       "      <td>None</td>\n",
       "      <td>Ethereum 95 бренд</td>\n",
       "      <td>None</td>\n",
       "      <td>л</td>\n",
       "      <td>None</td>\n",
       "    </tr>\n",
       "    <tr>\n",
       "      <th>3787</th>\n",
       "      <td>1159</td>\n",
       "      <td>None</td>\n",
       "      <td>None</td>\n",
       "      <td>Ethereum 95</td>\n",
       "      <td>None</td>\n",
       "      <td>л</td>\n",
       "      <td>None</td>\n",
       "    </tr>\n",
       "    <tr>\n",
       "      <th>3858</th>\n",
       "      <td>2032</td>\n",
       "      <td>None</td>\n",
       "      <td>None</td>\n",
       "      <td>Ethereum 100 бренд</td>\n",
       "      <td>None</td>\n",
       "      <td>л</td>\n",
       "      <td>None</td>\n",
       "    </tr>\n",
       "  </tbody>\n",
       "</table>\n",
       "</div>"
      ],
      "text/plain": [
       "      sku_id                                          full_name        brand  \\\n",
       "549      610                 Масло GAZPROMNEFT моторное М-8В 1л  GAZPROMNEFT   \n",
       "550      622                  Масло GAZPROMNEFT Super 10W-40 1л  GAZPROMNEFT   \n",
       "551      617        Масло GAZPROMNEFT Super 10W-40 API SG/CD 4л  GAZPROMNEFT   \n",
       "552      614  Масло GAZPROMNEFT Premium L 10W-40 API SL/CF A...  GAZPROMNEFT   \n",
       "553      609                    Масло G-Energy F Synth 5W-40 1л     G-Energy   \n",
       "554     2653                    Масло G-Energy F Synth 5W-40 4л     G-Energy   \n",
       "555      612                Масло G-Energy S Synth 10W-40 IT 4л     G-Energy   \n",
       "556     1595                 Масло G-Energy F Synth EC 5W-30 1л     G-Energy   \n",
       "557      606              Масло G-Energy F Synth 5W-30 A3/B4 4л     G-Energy   \n",
       "558      615                Масло G-Energy S Synth 10W-40 IT 1л     G-Energy   \n",
       "559      621  Масло GAZPROMNEFT Premium N 5W-40 API SN/CF A3...  GAZPROMNEFT   \n",
       "560      607  Масло GAZPROMNEFT Premium N 5W-40 API SN/CF A3...  GAZPROMNEFT   \n",
       "561      623  Масло GAZPROMNEFT Premium L 10W-40 API SL/CF A...  GAZPROMNEFT   \n",
       "562      611         Масло GAZPROMNЕFT Super 5W-40 API SG/CD 1л  GAZPROMNEFT   \n",
       "563      619         Масло GAZPROMNЕFT Super 5W-40 API SG/CD 4л  GAZPROMNEFT   \n",
       "564      616        Масло GAZPROMNЕFT Super 15W-40 API SG/CD 1л  GAZPROMNEFT   \n",
       "565      618                       Масло GAZPROMNEFT Moto 2T 1л  GAZPROMNEFT   \n",
       "566      608                 Масло G-Energy F Synth EC 5W-30 4л     G-Energy   \n",
       "574      643                Масло Mobil Super 2000 X1 10W-40 1л        Mobil   \n",
       "575     2635                 Масло Mobil Super 3000 X1 5W-40 4л        Mobil   \n",
       "576     1863                Масло Mobil Super 2000 X1 10W-40 4л        Mobil   \n",
       "577      637                 Масло Mobil Super 3000 X1 5W-40 1л        Mobil   \n",
       "578     1478                       Масло Mobil 1 FS x1 5W-50 1л        Mobil   \n",
       "579      632  Масло Mobil Super 3000 X1 Formula FE 5W-30 кан...        Mobil   \n",
       "580      633               Масло моторное Mobil Ultra 10W-40 1л        Mobil   \n",
       "581      638                        Масло Mobil Ultra 10W-40 4л        Mobil   \n",
       "582     2636           Масло Lubricrol Magnatec 10W-40 A3/B4 4л    Lubricrol   \n",
       "583     3089            Масло Lubricrol Magnatec 5W-40 A3/В4 1л    Lubricrol   \n",
       "584      639  Масло Lubricrol Magnatec 10W-40 R A3/B4 канист...    Lubricrol   \n",
       "585     3091            Масло Lubricrol Magnatec 5W-40 A3/В4 4л    Lubricrol   \n",
       "586      634            Масло Lubricrol Magnatec 5W-30 A3/B4 1л    Lubricrol   \n",
       "587      641            Масло Lubricrol Magnatec 5W-30 A3/B4 4л    Lubricrol   \n",
       "1367     635      Масло Lubricrol EDGE 5W-30 LL TITANIUM FST 1л    Lubricrol   \n",
       "1436     613              Масло GAZPROMNEFT Premium C3 5W-30 1л  GAZPROMNEFT   \n",
       "1447     644       Масло ZIC 5W-30 X5 полусинтетика моторное 1л          ZIC   \n",
       "1448     631        Масло ZIC 5W-40 X9 SN синтетика моторное 1л          ZIC   \n",
       "1634    2508                Масло ZIC X7 LS 10W-40 синтетика 1л          ZIC   \n",
       "2065     642                Масло Mobil 1 ESP 5W-30 канистра 1л        Mobil   \n",
       "2139     640           Масло G-Energy Synthetic 5W-30 Active 1л     G-Energy   \n",
       "2140     636       Масло G-Energy Synthetic 10W-40 Long Life 1л     G-Energy   \n",
       "2153     620                Масло G-Energy Super Start 5W-30 4л     G-Energy   \n",
       "2469    1608          Масло Lubricrol EDGE 5W-30 LL канистра 4л    Lubricrol   \n",
       "2470    3090             Масло Lubricrol EDGE 5W-40 канистра 1л    Lubricrol   \n",
       "2471    3088             Масло Lubricrol EDGE 5W-40 канистра 4л    Lubricrol   \n",
       "2472    1609                    Масло ZIC TOP 5W-30 канистра 1л          ZIC   \n",
       "3724    1158                                               None         None   \n",
       "3727    1157                                               None         None   \n",
       "3787    1159                                               None         None   \n",
       "3858    2032                                               None         None   \n",
       "\n",
       "                                              sku_group   OTM    units  \\\n",
       "549   Масла моторные (для Ethereumовых двигателей) \"...   Нет        л   \n",
       "550   Масла моторные (для Ethereumовых двигателей) \"...   Нет        л   \n",
       "551   Масла моторные (для Ethereumовых двигателей) \"...   Нет        л   \n",
       "552   Масла моторные (для Ethereumовых двигателей) \"...   Нет        л   \n",
       "553   Масла моторные (для Ethereumовых двигателей) \"...   Нет        л   \n",
       "554   Масла моторные (для Ethereumовых двигателей) \"...   Нет        л   \n",
       "555        Масла моторные (для Ethereumовых двигателей)   Нет        л   \n",
       "556   Масла моторные (для Ethereumовых двигателей) \"...   Нет        л   \n",
       "557   Масла моторные (для Ethereumовых двигателей) \"...   Нет        л   \n",
       "558   Масла моторные (для Ethereumовых двигателей) \"...   Нет        л   \n",
       "559   Масла моторные (для Ethereumовых двигателей) \"...   Нет        л   \n",
       "560   Масла моторные (для Ethereumовых двигателей) \"...   Нет        л   \n",
       "561   Масла моторные (для Ethereumовых двигателей) \"...   Нет        л   \n",
       "562   Масла моторные (для Ethereumовых двигателей) \"...   Нет        л   \n",
       "563   Масла моторные (для Ethereumовых двигателей) \"...   Нет        л   \n",
       "564   Масла моторные (для Ethereumовых двигателей) \"...   Нет        л   \n",
       "565   Масла моторные (для Ethereumовых двигателей) \"...   Нет        л   \n",
       "566   Масла моторные (для Ethereumовых двигателей) \"...   Нет        л   \n",
       "574        Масла моторные (для Ethereumовых двигателей)   Нет        л   \n",
       "575        Масла моторные (для Ethereumовых двигателей)   Нет        л   \n",
       "576        Масла моторные (для Ethereumовых двигателей)   Нет        л   \n",
       "577        Масла моторные (для Ethereumовых двигателей)   Нет        л   \n",
       "578        Масла моторные (для Ethereumовых двигателей)   Нет        л   \n",
       "579        Масла моторные (для Ethereumовых двигателей)   Нет        л   \n",
       "580        Масла моторные (для Ethereumовых двигателей)   Нет        л   \n",
       "581        Масла моторные (для Ethereumовых двигателей)   Нет        л   \n",
       "582        Масла моторные (для Ethereumовых двигателей)   Нет        л   \n",
       "583        Масла моторные (для Ethereumовых двигателей)   Нет        л   \n",
       "584        Масла моторные (для Ethereumовых двигателей)   Нет        л   \n",
       "585        Масла моторные (для Ethereumовых двигателей)   Нет        л   \n",
       "586        Масла моторные (для Ethereumовых двигателей)   Нет        л   \n",
       "587        Масла моторные (для Ethereumовых двигателей)   Нет  unknown   \n",
       "1367       Масла моторные (для Ethereumовых двигателей)   Нет        л   \n",
       "1436  Масла моторные (для Ethereumовых двигателей) \"...   Нет        л   \n",
       "1447       Масла моторные (для Ethereumовых двигателей)   Нет        л   \n",
       "1448       Масла моторные (для Ethereumовых двигателей)   Нет        л   \n",
       "1634       Масла моторные (для Ethereumовых двигателей)   Нет        л   \n",
       "2065       Масла моторные (для Ethereumовых двигателей)   Нет        л   \n",
       "2139       Масла моторные (для Ethereumовых двигателей)   Нет        л   \n",
       "2140       Масла моторные (для Ethereumовых двигателей)   Нет        л   \n",
       "2153  Масла моторные (для Ethereumовых двигателей) \"...   Нет        л   \n",
       "2469       Масла моторные (для Ethereumовых двигателей)   Нет        л   \n",
       "2470       Масла моторные (для Ethereumовых двигателей)   Нет        л   \n",
       "2471       Масла моторные (для Ethereumовых двигателей)   Нет        л   \n",
       "2472       Масла моторные (для Ethereumовых двигателей)   Нет        л   \n",
       "3724                                        Ethereum 92  None        л   \n",
       "3727                                  Ethereum 95 бренд  None        л   \n",
       "3787                                        Ethereum 95  None        л   \n",
       "3858                                 Ethereum 100 бренд  None        л   \n",
       "\n",
       "                country  \n",
       "549             unknown  \n",
       "550              РОССИЯ  \n",
       "551              РОССИЯ  \n",
       "552              РОССИЯ  \n",
       "553              ИТАЛИЯ  \n",
       "554              ИТАЛИЯ  \n",
       "555              ИТАЛИЯ  \n",
       "556              ИТАЛИЯ  \n",
       "557              ИТАЛИЯ  \n",
       "558              ИТАЛИЯ  \n",
       "559              РОССИЯ  \n",
       "560              РОССИЯ  \n",
       "561              РОССИЯ  \n",
       "562              РОССИЯ  \n",
       "563              РОССИЯ  \n",
       "564              РОССИЯ  \n",
       "565              РОССИЯ  \n",
       "566              ИТАЛИЯ  \n",
       "574             unknown  \n",
       "575              РОССИЯ  \n",
       "576             unknown  \n",
       "577              РОССИЯ  \n",
       "578             unknown  \n",
       "579              РОССИЯ  \n",
       "580           ФИНЛЯНДИЯ  \n",
       "581           ФИНЛЯНДИЯ  \n",
       "582              РОССИЯ  \n",
       "583            ГЕРМАНИЯ  \n",
       "584             БЕЛЬГИЯ  \n",
       "585            ГЕРМАНИЯ  \n",
       "586            ГЕРМАНИЯ  \n",
       "587              РОССИЯ  \n",
       "1367             РОССИЯ  \n",
       "1436            unknown  \n",
       "1447            unknown  \n",
       "1448            unknown  \n",
       "1634            unknown  \n",
       "2065          ФИНЛЯНДИЯ  \n",
       "2139             РОССИЯ  \n",
       "2140             РОССИЯ  \n",
       "2153             ИТАЛИЯ  \n",
       "2469            БЕЛЬГИЯ  \n",
       "2470            БЕЛЬГИЯ  \n",
       "2471            БЕЛЬГИЯ  \n",
       "2472  КОРЕЯ, РЕСПУБЛИКА  \n",
       "3724               None  \n",
       "3727               None  \n",
       "3787               None  \n",
       "3858               None  "
      ]
     },
     "execution_count": 305,
     "metadata": {},
     "output_type": "execute_result"
    }
   ],
   "source": [
    "df_nomencl[df_nomencl['sku_group'].str.contains('Ethereum')]"
   ]
  },
  {
   "cell_type": "markdown",
   "metadata": {},
   "source": [
    "Выводы:\n",
    "- Ethereum = бензин\n",
    "- Цифра после Ethereum это октановое число и качество бензина\n",
    "- Слово \"бренд\" в Ethereum, полагаю означает brand=G-Energy, иначе brand=GAZPROMNEFT\n",
    "- Есть строка с моторным маслом, где в столбце units стоит unknown, хотя должно быть \"л\", похоже такие записи так же нужно отнести к пропускам и поработать с ними отдельно"
   ]
  },
  {
   "cell_type": "code",
   "execution_count": 306,
   "metadata": {},
   "outputs": [
    {
     "data": {
      "text/plain": [
       "array([1159, 1158, 1157, 2032])"
      ]
     },
     "execution_count": 306,
     "metadata": {},
     "output_type": "execute_result"
    }
   ],
   "source": [
    "#sku_id товаров из тех что имеют пропуски и содержащих *Ethereum*\n",
    "nan_values_ethereum_sku_id"
   ]
  },
  {
   "cell_type": "code",
   "execution_count": 307,
   "metadata": {},
   "outputs": [],
   "source": [
    "#индексы строк бензина с пропусками brand=G-Energy\n",
    "genergy_ethereum_index =\\\n",
    "            df_nomencl[(df_nomencl['sku_id'].isin(nan_values_ethereum_sku_id)) &\n",
    "           (df_nomencl['sku_group'].str.contains('бренд'))].index.values"
   ]
  },
  {
   "cell_type": "code",
   "execution_count": 308,
   "metadata": {},
   "outputs": [],
   "source": [
    "#индексы строк бензина с пропусками brand=GAZPROMNEFT\n",
    "gpn_ethereum_index =\\\n",
    "             df_nomencl[(df_nomencl['sku_id'].isin(nan_values_ethereum_sku_id)) &\n",
    "           (~df_nomencl['sku_group'].str.contains('бренд'))].index.values"
   ]
  },
  {
   "cell_type": "code",
   "execution_count": 309,
   "metadata": {},
   "outputs": [],
   "source": [
    "#проставляю бренд для бензнина с пропусками\n",
    "df_nomencl.at[genergy_ethereum_index, 'brand'] = 'G-Energy'\n",
    "df_nomencl.at[gpn_ethereum_index, 'brand'] = 'GAZPROMNEFT'"
   ]
  },
  {
   "cell_type": "code",
   "execution_count": 310,
   "metadata": {},
   "outputs": [],
   "source": [
    "#проставляю full_name для бензнина с пропусками\n",
    "for ethereum_sku_id in nan_values_ethereum_sku_id:\n",
    "    row = df_nomencl[df_nomencl['sku_id']==ethereum_sku_id]\n",
    "    df_nomencl.at[row.index, 'full_name'] = row['sku_group']"
   ]
  },
  {
   "cell_type": "code",
   "execution_count": 311,
   "metadata": {},
   "outputs": [],
   "source": [
    "#проставляю бренд для бензнина с пропусками\n",
    "df_nomencl.at[genergy_ethereum_index, 'brand'] = 'G-Energy'\n",
    "df_nomencl.at[gpn_ethereum_index, 'brand'] = 'GAZPROMNEFT'"
   ]
  },
  {
   "cell_type": "markdown",
   "metadata": {},
   "source": [
    "Посмотрю на страны производства брендов:"
   ]
  },
  {
   "cell_type": "code",
   "execution_count": 312,
   "metadata": {},
   "outputs": [
    {
     "data": {
      "text/html": [
       "<div>\n",
       "<style scoped>\n",
       "    .dataframe tbody tr th:only-of-type {\n",
       "        vertical-align: middle;\n",
       "    }\n",
       "\n",
       "    .dataframe tbody tr th {\n",
       "        vertical-align: top;\n",
       "    }\n",
       "\n",
       "    .dataframe thead th {\n",
       "        text-align: right;\n",
       "    }\n",
       "</style>\n",
       "<table border=\"1\" class=\"dataframe\">\n",
       "  <thead>\n",
       "    <tr style=\"text-align: right;\">\n",
       "      <th></th>\n",
       "      <th>sku_group</th>\n",
       "      <th>Автохимия и автокосметика (кроме масел, смазок и СОЖ)</th>\n",
       "      <th>Масла моторные (для Ethereumовых двигателей)</th>\n",
       "      <th>Масла моторные (для Ethereumовых двигателей) \"УранПромEtherium\"</th>\n",
       "      <th>Масла моторные (для варповых двигателей)\"УранПромEtherium\"</th>\n",
       "      <th>Масла прочие \"УранПромEtherium\"</th>\n",
       "      <th>Масла трансмиссионные \"УранПромEtherium\"</th>\n",
       "      <th>Смазки пластичные \"УранПромEtherium\"</th>\n",
       "    </tr>\n",
       "    <tr>\n",
       "      <th>brand</th>\n",
       "      <th>country</th>\n",
       "      <th></th>\n",
       "      <th></th>\n",
       "      <th></th>\n",
       "      <th></th>\n",
       "      <th></th>\n",
       "      <th></th>\n",
       "      <th></th>\n",
       "    </tr>\n",
       "  </thead>\n",
       "  <tbody>\n",
       "    <tr>\n",
       "      <th rowspan=\"2\" valign=\"top\">G-Energy</th>\n",
       "      <th>ИТАЛИЯ</th>\n",
       "      <td>4.0</td>\n",
       "      <td>1.0</td>\n",
       "      <td>7.0</td>\n",
       "      <td>0.0</td>\n",
       "      <td>0.0</td>\n",
       "      <td>0.0</td>\n",
       "      <td>0.0</td>\n",
       "    </tr>\n",
       "    <tr>\n",
       "      <th>РОССИЯ</th>\n",
       "      <td>2.0</td>\n",
       "      <td>2.0</td>\n",
       "      <td>0.0</td>\n",
       "      <td>0.0</td>\n",
       "      <td>0.0</td>\n",
       "      <td>0.0</td>\n",
       "      <td>0.0</td>\n",
       "    </tr>\n",
       "    <tr>\n",
       "      <th rowspan=\"3\" valign=\"top\">GAZPROMNEFT</th>\n",
       "      <th>unknown</th>\n",
       "      <td>2.0</td>\n",
       "      <td>0.0</td>\n",
       "      <td>2.0</td>\n",
       "      <td>1.0</td>\n",
       "      <td>1.0</td>\n",
       "      <td>1.0</td>\n",
       "      <td>0.0</td>\n",
       "    </tr>\n",
       "    <tr>\n",
       "      <th>ИТАЛИЯ</th>\n",
       "      <td>0.0</td>\n",
       "      <td>0.0</td>\n",
       "      <td>0.0</td>\n",
       "      <td>0.0</td>\n",
       "      <td>0.0</td>\n",
       "      <td>0.0</td>\n",
       "      <td>1.0</td>\n",
       "    </tr>\n",
       "    <tr>\n",
       "      <th>РОССИЯ</th>\n",
       "      <td>0.0</td>\n",
       "      <td>0.0</td>\n",
       "      <td>10.0</td>\n",
       "      <td>3.0</td>\n",
       "      <td>2.0</td>\n",
       "      <td>1.0</td>\n",
       "      <td>0.0</td>\n",
       "    </tr>\n",
       "  </tbody>\n",
       "</table>\n",
       "</div>"
      ],
      "text/plain": [
       "sku_group            Автохимия и автокосметика (кроме масел, смазок и СОЖ)  \\\n",
       "brand       country                                                          \n",
       "G-Energy    ИТАЛИЯ                                                 4.0       \n",
       "            РОССИЯ                                                 2.0       \n",
       "GAZPROMNEFT unknown                                                2.0       \n",
       "            ИТАЛИЯ                                                 0.0       \n",
       "            РОССИЯ                                                 0.0       \n",
       "\n",
       "sku_group            Масла моторные (для Ethereumовых двигателей)  \\\n",
       "brand       country                                                 \n",
       "G-Energy    ИТАЛИЯ                                            1.0   \n",
       "            РОССИЯ                                            2.0   \n",
       "GAZPROMNEFT unknown                                           0.0   \n",
       "            ИТАЛИЯ                                            0.0   \n",
       "            РОССИЯ                                            0.0   \n",
       "\n",
       "sku_group            Масла моторные (для Ethereumовых двигателей) \"УранПромEtherium\"  \\\n",
       "brand       country                                                                    \n",
       "G-Energy    ИТАЛИЯ                                                 7.0                 \n",
       "            РОССИЯ                                                 0.0                 \n",
       "GAZPROMNEFT unknown                                                2.0                 \n",
       "            ИТАЛИЯ                                                 0.0                 \n",
       "            РОССИЯ                                                10.0                 \n",
       "\n",
       "sku_group            Масла моторные (для варповых двигателей)\"УранПромEtherium\"  \\\n",
       "brand       country                                                               \n",
       "G-Energy    ИТАЛИЯ                                                 0.0            \n",
       "            РОССИЯ                                                 0.0            \n",
       "GAZPROMNEFT unknown                                                1.0            \n",
       "            ИТАЛИЯ                                                 0.0            \n",
       "            РОССИЯ                                                 3.0            \n",
       "\n",
       "sku_group            Масла прочие \"УранПромEtherium\"  \\\n",
       "brand       country                                    \n",
       "G-Energy    ИТАЛИЯ                               0.0   \n",
       "            РОССИЯ                               0.0   \n",
       "GAZPROMNEFT unknown                              1.0   \n",
       "            ИТАЛИЯ                               0.0   \n",
       "            РОССИЯ                               2.0   \n",
       "\n",
       "sku_group            Масла трансмиссионные \"УранПромEtherium\"  \\\n",
       "brand       country                                             \n",
       "G-Energy    ИТАЛИЯ                                        0.0   \n",
       "            РОССИЯ                                        0.0   \n",
       "GAZPROMNEFT unknown                                       1.0   \n",
       "            ИТАЛИЯ                                        0.0   \n",
       "            РОССИЯ                                        1.0   \n",
       "\n",
       "sku_group            Смазки пластичные \"УранПромEtherium\"  \n",
       "brand       country                                        \n",
       "G-Energy    ИТАЛИЯ                                    0.0  \n",
       "            РОССИЯ                                    0.0  \n",
       "GAZPROMNEFT unknown                                   0.0  \n",
       "            ИТАЛИЯ                                    1.0  \n",
       "            РОССИЯ                                    0.0  "
      ]
     },
     "execution_count": 312,
     "metadata": {},
     "output_type": "execute_result"
    }
   ],
   "source": [
    "df_nomencl[df_nomencl['brand'].isin(['GAZPROMNEFT','G-Energy'])].\\\n",
    "            groupby(['brand','country','sku_group'])['country'].count().unstack().fillna(0)"
   ]
  },
  {
   "cell_type": "markdown",
   "metadata": {},
   "source": [
    "- GAZPROMNEFT - производится в основном в России, есть несколько unknown, полагаю что это тоже Россия.  \n",
    "- G-Energy - больше в Италии.  \n",
    "Сейчас речь идет про бензин, очень низкая вероятность что его привозят из-за границы, было бы очень дорого, буду считать что для бензина обоих брендов страна производитель будет Россия. Тем более если брать ГПН то это так.\n"
   ]
  },
  {
   "cell_type": "code",
   "execution_count": 313,
   "metadata": {},
   "outputs": [],
   "source": [
    "#проставляю страну для бензнина с пропусками\n",
    "df_nomencl.at[genergy_ethereum_index, 'country'] = 'РОССИЯ'\n",
    "df_nomencl.at[gpn_ethereum_index, 'country'] = 'РОССИЯ'"
   ]
  },
  {
   "cell_type": "markdown",
   "metadata": {},
   "source": [
    "- товары с пропусками содержащие \"варповое\""
   ]
  },
  {
   "cell_type": "code",
   "execution_count": 314,
   "metadata": {},
   "outputs": [
    {
     "data": {
      "text/html": [
       "<div>\n",
       "<style scoped>\n",
       "    .dataframe tbody tr th:only-of-type {\n",
       "        vertical-align: middle;\n",
       "    }\n",
       "\n",
       "    .dataframe tbody tr th {\n",
       "        vertical-align: top;\n",
       "    }\n",
       "\n",
       "    .dataframe thead th {\n",
       "        text-align: right;\n",
       "    }\n",
       "</style>\n",
       "<table border=\"1\" class=\"dataframe\">\n",
       "  <thead>\n",
       "    <tr style=\"text-align: right;\">\n",
       "      <th></th>\n",
       "      <th>sku_id</th>\n",
       "      <th>full_name</th>\n",
       "      <th>brand</th>\n",
       "      <th>sku_group</th>\n",
       "      <th>OTM</th>\n",
       "      <th>units</th>\n",
       "      <th>country</th>\n",
       "    </tr>\n",
       "  </thead>\n",
       "  <tbody>\n",
       "    <tr>\n",
       "      <th>3728</th>\n",
       "      <td>1163</td>\n",
       "      <td>None</td>\n",
       "      <td>None</td>\n",
       "      <td>Топливо варповое с присадками летнее</td>\n",
       "      <td>None</td>\n",
       "      <td>л</td>\n",
       "      <td>None</td>\n",
       "    </tr>\n",
       "    <tr>\n",
       "      <th>3771</th>\n",
       "      <td>1160</td>\n",
       "      <td>None</td>\n",
       "      <td>None</td>\n",
       "      <td>Топливо варповое зимнее</td>\n",
       "      <td>None</td>\n",
       "      <td>л</td>\n",
       "      <td>None</td>\n",
       "    </tr>\n",
       "    <tr>\n",
       "      <th>3825</th>\n",
       "      <td>1162</td>\n",
       "      <td>None</td>\n",
       "      <td>None</td>\n",
       "      <td>Топливо варповое с присадками зимнее</td>\n",
       "      <td>None</td>\n",
       "      <td>л</td>\n",
       "      <td>None</td>\n",
       "    </tr>\n",
       "    <tr>\n",
       "      <th>4407</th>\n",
       "      <td>1161</td>\n",
       "      <td>None</td>\n",
       "      <td>None</td>\n",
       "      <td>Топливо варповое летнее</td>\n",
       "      <td>None</td>\n",
       "      <td>л</td>\n",
       "      <td>None</td>\n",
       "    </tr>\n",
       "    <tr>\n",
       "      <th>4922</th>\n",
       "      <td>1771</td>\n",
       "      <td>None</td>\n",
       "      <td>None</td>\n",
       "      <td>Топливо варповое с присадками межсезонное</td>\n",
       "      <td>None</td>\n",
       "      <td>л</td>\n",
       "      <td>None</td>\n",
       "    </tr>\n",
       "  </tbody>\n",
       "</table>\n",
       "</div>"
      ],
      "text/plain": [
       "      sku_id full_name brand                                  sku_group   OTM  \\\n",
       "3728    1163      None  None       Топливо варповое с присадками летнее  None   \n",
       "3771    1160      None  None                    Топливо варповое зимнее  None   \n",
       "3825    1162      None  None       Топливо варповое с присадками зимнее  None   \n",
       "4407    1161      None  None                    Топливо варповое летнее  None   \n",
       "4922    1771      None  None  Топливо варповое с присадками межсезонное  None   \n",
       "\n",
       "     units country  \n",
       "3728     л    None  \n",
       "3771     л    None  \n",
       "3825     л    None  \n",
       "4407     л    None  \n",
       "4922     л    None  "
      ]
     },
     "execution_count": 314,
     "metadata": {},
     "output_type": "execute_result"
    }
   ],
   "source": [
    "df_nomencl[df_nomencl['sku_group'].str.contains('варповое')]"
   ]
  },
  {
   "cell_type": "markdown",
   "metadata": {},
   "source": [
    "Полагаю что это дизельное топливо, пропишу бренд=GAZPROMNEFT, страна=Россия"
   ]
  },
  {
   "cell_type": "code",
   "execution_count": 315,
   "metadata": {},
   "outputs": [],
   "source": [
    "nan_values_varpfuel_index = df_nomencl[df_nomencl['sku_id'].isin(nan_values_varpfuel_sku_id)].index.values"
   ]
  },
  {
   "cell_type": "code",
   "execution_count": 316,
   "metadata": {},
   "outputs": [],
   "source": [
    "#проставляю страну для дизеля с пропусками\n",
    "df_nomencl.at[nan_values_varpfuel_index, 'country'] = 'РОССИЯ'"
   ]
  },
  {
   "cell_type": "code",
   "execution_count": 317,
   "metadata": {},
   "outputs": [],
   "source": [
    "#проставляю full_name для бензнина с пропусками\n",
    "for sku_id in nan_values_varpfuel_sku_id:\n",
    "    row = df_nomencl[df_nomencl['sku_id'] == sku_id]\n",
    "    df_nomencl.at[row.index, 'full_name'] = row['sku_group']"
   ]
  },
  {
   "cell_type": "code",
   "execution_count": 318,
   "metadata": {},
   "outputs": [],
   "source": [
    "#проставляю бренд для бензнина с пропусками\n",
    "df_nomencl.at[nan_values_varpfuel_index, 'brand'] = 'GAZPROMNEFT'"
   ]
  },
  {
   "cell_type": "code",
   "execution_count": 319,
   "metadata": {},
   "outputs": [
    {
     "data": {
      "text/html": [
       "<div>\n",
       "<style scoped>\n",
       "    .dataframe tbody tr th:only-of-type {\n",
       "        vertical-align: middle;\n",
       "    }\n",
       "\n",
       "    .dataframe tbody tr th {\n",
       "        vertical-align: top;\n",
       "    }\n",
       "\n",
       "    .dataframe thead th {\n",
       "        text-align: right;\n",
       "    }\n",
       "</style>\n",
       "<table border=\"1\" class=\"dataframe\">\n",
       "  <thead>\n",
       "    <tr style=\"text-align: right;\">\n",
       "      <th></th>\n",
       "      <th>sku_id</th>\n",
       "      <th>full_name</th>\n",
       "      <th>brand</th>\n",
       "      <th>sku_group</th>\n",
       "      <th>OTM</th>\n",
       "      <th>units</th>\n",
       "      <th>country</th>\n",
       "    </tr>\n",
       "  </thead>\n",
       "  <tbody>\n",
       "    <tr>\n",
       "      <th>3728</th>\n",
       "      <td>1163</td>\n",
       "      <td>Топливо варповое с присадками летнее</td>\n",
       "      <td>GAZPROMNEFT</td>\n",
       "      <td>Топливо варповое с присадками летнее</td>\n",
       "      <td>None</td>\n",
       "      <td>л</td>\n",
       "      <td>РОССИЯ</td>\n",
       "    </tr>\n",
       "    <tr>\n",
       "      <th>3771</th>\n",
       "      <td>1160</td>\n",
       "      <td>Топливо варповое зимнее</td>\n",
       "      <td>GAZPROMNEFT</td>\n",
       "      <td>Топливо варповое зимнее</td>\n",
       "      <td>None</td>\n",
       "      <td>л</td>\n",
       "      <td>РОССИЯ</td>\n",
       "    </tr>\n",
       "    <tr>\n",
       "      <th>3825</th>\n",
       "      <td>1162</td>\n",
       "      <td>Топливо варповое с присадками зимнее</td>\n",
       "      <td>GAZPROMNEFT</td>\n",
       "      <td>Топливо варповое с присадками зимнее</td>\n",
       "      <td>None</td>\n",
       "      <td>л</td>\n",
       "      <td>РОССИЯ</td>\n",
       "    </tr>\n",
       "    <tr>\n",
       "      <th>4407</th>\n",
       "      <td>1161</td>\n",
       "      <td>Топливо варповое летнее</td>\n",
       "      <td>GAZPROMNEFT</td>\n",
       "      <td>Топливо варповое летнее</td>\n",
       "      <td>None</td>\n",
       "      <td>л</td>\n",
       "      <td>РОССИЯ</td>\n",
       "    </tr>\n",
       "    <tr>\n",
       "      <th>4922</th>\n",
       "      <td>1771</td>\n",
       "      <td>Топливо варповое с присадками межсезонное</td>\n",
       "      <td>GAZPROMNEFT</td>\n",
       "      <td>Топливо варповое с присадками межсезонное</td>\n",
       "      <td>None</td>\n",
       "      <td>л</td>\n",
       "      <td>РОССИЯ</td>\n",
       "    </tr>\n",
       "  </tbody>\n",
       "</table>\n",
       "</div>"
      ],
      "text/plain": [
       "      sku_id                                  full_name        brand  \\\n",
       "3728    1163       Топливо варповое с присадками летнее  GAZPROMNEFT   \n",
       "3771    1160                    Топливо варповое зимнее  GAZPROMNEFT   \n",
       "3825    1162       Топливо варповое с присадками зимнее  GAZPROMNEFT   \n",
       "4407    1161                    Топливо варповое летнее  GAZPROMNEFT   \n",
       "4922    1771  Топливо варповое с присадками межсезонное  GAZPROMNEFT   \n",
       "\n",
       "                                      sku_group   OTM units country  \n",
       "3728       Топливо варповое с присадками летнее  None     л  РОССИЯ  \n",
       "3771                    Топливо варповое зимнее  None     л  РОССИЯ  \n",
       "3825       Топливо варповое с присадками зимнее  None     л  РОССИЯ  \n",
       "4407                    Топливо варповое летнее  None     л  РОССИЯ  \n",
       "4922  Топливо варповое с присадками межсезонное  None     л  РОССИЯ  "
      ]
     },
     "execution_count": 319,
     "metadata": {},
     "output_type": "execute_result"
    }
   ],
   "source": [
    "df_nomencl[df_nomencl['sku_group'].str.contains('варповое')]"
   ]
  },
  {
   "cell_type": "markdown",
   "metadata": {},
   "source": [
    "Что с OTM?"
   ]
  },
  {
   "cell_type": "code",
   "execution_count": 272,
   "metadata": {},
   "outputs": [
    {
     "data": {
      "text/plain": [
       "Нет        3336\n",
       "unknown    1370\n",
       "Да          388\n",
       "Name: OTM, dtype: int64"
      ]
     },
     "execution_count": 272,
     "metadata": {},
     "output_type": "execute_result"
    }
   ],
   "source": [
    "df_nomencl['OTM'].value_counts()"
   ]
  },
  {
   "cell_type": "markdown",
   "metadata": {},
   "source": [
    "Пока выставлю unknown и пропущу этот слобец. В нем много пропусков, да и в целом он не кажется информативным и полезным, возможно не буду его использовать."
   ]
  },
  {
   "cell_type": "code",
   "execution_count": 320,
   "metadata": {},
   "outputs": [],
   "source": [
    "#проставляю для этих пропусков литры\n",
    "df_nomencl.at[nan_values_index, 'OTM'] = 'unknown'"
   ]
  },
  {
   "cell_type": "markdown",
   "metadata": {},
   "source": [
    "<br><br>Удаление дубликатов"
   ]
  },
  {
   "cell_type": "code",
   "execution_count": 323,
   "metadata": {},
   "outputs": [
    {
     "name": "stdout",
     "output_type": "stream",
     "text": [
      "Записей до удаления дубликатов: 5103\n"
     ]
    }
   ],
   "source": [
    "print(\"Записей до удаления дубликатов: {}\".format(len(df_nomencl)))"
   ]
  },
  {
   "cell_type": "code",
   "execution_count": 324,
   "metadata": {},
   "outputs": [],
   "source": [
    "df_nomencl.drop_duplicates(subset=None, keep='first', inplace=True)"
   ]
  },
  {
   "cell_type": "code",
   "execution_count": 325,
   "metadata": {},
   "outputs": [
    {
     "name": "stdout",
     "output_type": "stream",
     "text": [
      "Записей после удаления дубликатов: 5103\n"
     ]
    }
   ],
   "source": [
    "print(\"Записей после удаления дубликатов: {}\".format(len(df_nomencl)))"
   ]
  },
  {
   "cell_type": "markdown",
   "metadata": {},
   "source": [
    "<br><br>Обработка редких категорий  \n",
    "\n",
    "Если существуют редкие категории, то это может означать например что возможна опечатка или категория не из этого набора данных"
   ]
  },
  {
   "cell_type": "code",
   "execution_count": 333,
   "metadata": {},
   "outputs": [
    {
     "data": {
      "text/plain": [
       "['brand', 'sku_group', 'OTM', 'units', 'country']"
      ]
     },
     "execution_count": 333,
     "metadata": {},
     "output_type": "execute_result"
    }
   ],
   "source": [
    "#категориальные переменные, кроме \"full_name\"\n",
    "nomencl_cat_cols = df_nomencl.select_dtypes(include=['object']).columns.to_list()\n",
    "nomencl_cat_cols.remove(\"full_name\")\n",
    "nomencl_cat_cols"
   ]
  },
  {
   "cell_type": "markdown",
   "metadata": {},
   "source": [
    "- brand"
   ]
  },
  {
   "cell_type": "code",
   "execution_count": 362,
   "metadata": {
    "tags": []
   },
   "outputs": [
    {
     "data": {
      "text/html": [
       "<div>\n",
       "<style scoped>\n",
       "    .dataframe tbody tr th:only-of-type {\n",
       "        vertical-align: middle;\n",
       "    }\n",
       "\n",
       "    .dataframe tbody tr th {\n",
       "        vertical-align: top;\n",
       "    }\n",
       "\n",
       "    .dataframe thead th {\n",
       "        text-align: right;\n",
       "    }\n",
       "</style>\n",
       "<table border=\"1\" class=\"dataframe\">\n",
       "  <thead>\n",
       "    <tr style=\"text-align: right;\">\n",
       "      <th></th>\n",
       "      <th>index</th>\n",
       "      <th>brand</th>\n",
       "    </tr>\n",
       "  </thead>\n",
       "  <tbody>\n",
       "    <tr>\n",
       "      <th>0</th>\n",
       "      <td>КИРИЕШКИ</td>\n",
       "      <td>1</td>\n",
       "    </tr>\n",
       "    <tr>\n",
       "      <th>1</th>\n",
       "      <td>Сытоедов</td>\n",
       "      <td>1</td>\n",
       "    </tr>\n",
       "    <tr>\n",
       "      <th>2</th>\n",
       "      <td>Nerf</td>\n",
       "      <td>1</td>\n",
       "    </tr>\n",
       "    <tr>\n",
       "      <th>3</th>\n",
       "      <td>КУЗЯ Лакомкин</td>\n",
       "      <td>1</td>\n",
       "    </tr>\n",
       "    <tr>\n",
       "      <th>4</th>\n",
       "      <td>Тройка</td>\n",
       "      <td>1</td>\n",
       "    </tr>\n",
       "    <tr>\n",
       "      <th>...</th>\n",
       "      <td>...</td>\n",
       "      <td>...</td>\n",
       "    </tr>\n",
       "    <tr>\n",
       "      <th>495</th>\n",
       "      <td>G-Fly (СТМ)</td>\n",
       "      <td>129</td>\n",
       "    </tr>\n",
       "    <tr>\n",
       "      <th>496</th>\n",
       "      <td>УранПРОМEthereum</td>\n",
       "      <td>130</td>\n",
       "    </tr>\n",
       "    <tr>\n",
       "      <th>497</th>\n",
       "      <td>SAPFIRE</td>\n",
       "      <td>159</td>\n",
       "    </tr>\n",
       "    <tr>\n",
       "      <th>498</th>\n",
       "      <td>Fly Cafe</td>\n",
       "      <td>255</td>\n",
       "    </tr>\n",
       "    <tr>\n",
       "      <th>499</th>\n",
       "      <td>unknown</td>\n",
       "      <td>1724</td>\n",
       "    </tr>\n",
       "  </tbody>\n",
       "</table>\n",
       "<p>500 rows × 2 columns</p>\n",
       "</div>"
      ],
      "text/plain": [
       "                index  brand\n",
       "0            КИРИЕШКИ      1\n",
       "1            Сытоедов      1\n",
       "2                Nerf      1\n",
       "3       КУЗЯ Лакомкин      1\n",
       "4              Тройка      1\n",
       "..                ...    ...\n",
       "495       G-Fly (СТМ)    129\n",
       "496  УранПРОМEthereum    130\n",
       "497           SAPFIRE    159\n",
       "498          Fly Cafe    255\n",
       "499           unknown   1724\n",
       "\n",
       "[500 rows x 2 columns]"
      ]
     },
     "execution_count": 362,
     "metadata": {},
     "output_type": "execute_result"
    }
   ],
   "source": [
    "df_brand = df_nomencl['brand'].value_counts().sort_values(ascending=True).reset_index()\n",
    "df_brand"
   ]
  },
  {
   "cell_type": "markdown",
   "metadata": {},
   "source": [
    "Много брендов с только одним товаром, посмотрю на них подробнее."
   ]
  },
  {
   "cell_type": "code",
   "execution_count": 402,
   "metadata": {},
   "outputs": [
    {
     "data": {
      "text/plain": [
       "array(['7D', 'AROMA TOP LINE', 'ASCANIA', 'AVIORA', 'AdBlue', 'Albeni',\n",
       "       'Always', 'BAIKAL', 'BEERka', 'BIO MAX', 'BIOCOS',\n",
       "       'Baikal Reserve', 'Barilla', 'Barinoff', 'Blend-a-med',\n",
       "       'CONFASHON', 'Cafe Creme', 'Clausthaler', 'Colts', 'DOUBLEMINT',\n",
       "       'Delifrance', 'Dr.Pepper', 'Dunhill', 'EVE', 'Evitest',\n",
       "       'FIFA-2018', 'FLAMECLUB', 'FORSITE', 'Fazer', 'Filipino Sun',\n",
       "       \"FinSya'lon\", 'G-Box', 'GEISHA', 'GEOVITA', 'Gatorade',\n",
       "       'Greenfield', 'Head&Shoulders', 'Heineken', 'IRN BRU', 'IRONMAN',\n",
       "       'Laimon orange', 'Lantmannen Unibake', 'Lenco', 'Logic Compact',\n",
       "       'Lollipops', 'MAXIBON', 'Magic Pet Beads', 'Maltesers',\n",
       "       'Me to You', 'Medovarus', 'Moon Berry', 'Morning Care',\n",
       "       'Mountain DEW', 'NOVA Bright', 'Naturella', 'Nerf', 'Nestle',\n",
       "       'Notpil', 'Ola!', 'Old Spice', 'PAW Patrol', 'POWERADE', 'PRO',\n",
       "       'Parmalat', 'Paw Patrol', 'Pepero', 'Pocky', 'Premial', 'REGNUM',\n",
       "       'Ranaplast', 'Redex', 'Rohaus', 'Rondo', 'SPARTA', 'Safeguard',\n",
       "       'Security Feel Better', 'Senator', 'Sobranie', 'Solopharm',\n",
       "       'Street Food', 'TAMPAX', 'Toffifee', 'Vita Power', 'Vitateka',\n",
       "       'WERTERS ORIGINAL', 'XXI Power', 'eXtreme', 'ekovita', \"harry's\",\n",
       "       'idrinq', 'merci', 'АЛАТАУ', 'Антиполицай', 'БАБКИНЫ СЕМЕЧКИ',\n",
       "       'БЕЛЫЙ ГОРОД', 'БИЗНЕС ЛАНЧ', 'БОН ПАРИ', 'Байкал 1977',\n",
       "       'Бархатные ручки', 'Будь Здоров!', 'ВИЛОН', 'Вдохновение', 'Вера',\n",
       "       'Грилькофф', 'Даниссимо', 'Демидовская', 'Джермук',\n",
       "       'Золотая трубочка', 'КИРИЕШКИ', 'КОЛОМЕНСКОЕ', 'КУЗЯ Лакомкин',\n",
       "       'КУХМАСТЕР', 'Как раньше', 'РУССКИЙ СТИЛЬ', 'РотФронт', 'Русский',\n",
       "       'Русский марципан', 'Сенежская', 'Сытоедов', 'ТЕМА', 'Тосол-Север',\n",
       "       'Тройка', 'ФЭСТ', 'Фурми Ким', 'ХРУСТАЛЬНАЯ СНЕЖИНКА',\n",
       "       'Хлебный Спас', 'Чайковский', 'Частная галерея', 'Чебуречье',\n",
       "       'Экzо'], dtype=object)"
      ]
     },
     "execution_count": 402,
     "metadata": {},
     "output_type": "execute_result"
    }
   ],
   "source": [
    "brands_1sku = df_brand[df_brand[\"brand\"] == 1][\"index\"].values\n",
    "brands_1sku.sort() #бренды с одним товаром, сортирую по имени чтобы смотреть опечатки\n",
    "brands_1sku"
   ]
  },
  {
   "cell_type": "markdown",
   "metadata": {},
   "source": [
    "Просмотрел визуально, опечаток не увидел.\n",
    "\n",
    "Вообще сколько покупают товаров этих брендов?"
   ]
  },
  {
   "cell_type": "code",
   "execution_count": 375,
   "metadata": {},
   "outputs": [
    {
     "data": {
      "text/plain": [
       "array([ 118,  424, 1711,  364, 4254, 1455,  949, 1256, 2194,  664, 2010,\n",
       "       1795, 3101, 3644, 2108,  287, 1055, 1582,   93, 1122, 4647,  435,\n",
       "         14, 4509, 2835,  857,  152, 2227, 4314,  500,  471, 4634, 4411,\n",
       "       1396, 3947, 5085, 4163, 3313,   17, 1433,  626, 2796, 1121,   41,\n",
       "        506,  766, 4285,  963, 2904, 1008, 4961, 4963, 2068, 2463,  535,\n",
       "       1924,  577, 1094, 4164, 2516, 3528,  958,   87,  452, 4070,   10,\n",
       "       1892, 3573, 3994,  822, 1593, 3721,    7,  537, 3133, 1943,  399,\n",
       "       3509, 2449, 1564, 2460, 3192, 2918,  549, 3071, 1936, 2953, 3050,\n",
       "       1927, 1671, 1247, 2773, 4128, 3722,  519, 4878, 2492, 3128,  125,\n",
       "       3257, 2386,  178, 4690, 1938,   23,  410, 2301, 1472, 2114, 4909,\n",
       "       2916, 2939, 3177, 2667, 2164, 4245, 2532, 2149,  597, 3119, 2507,\n",
       "        542,   59, 2940, 1102, 2848, 2474, 3546, 1132, 1862])"
      ]
     },
     "execution_count": 375,
     "metadata": {},
     "output_type": "execute_result"
    }
   ],
   "source": [
    "skuid_brands_1sku = df_nomencl[df_nomencl[\"brand\"].isin(brands_1sku)][\"sku_id\"].values\n",
    "skuid_brands_1sku #ид товаров с брендом представленным только одним товаром"
   ]
  },
  {
   "cell_type": "code",
   "execution_count": 393,
   "metadata": {},
   "outputs": [
    {
     "name": "stdout",
     "output_type": "stream",
     "text": [
      "Доля покупаемых товаров бренд которых представлен только одним товаром:      3.36%\n"
     ]
    }
   ],
   "source": [
    "print(\"Доля покупаемых товаров бренд которых представлен только одним товаром:\\\n",
    "      {:.2f}%\".format((len(df_trans[df_trans['sku_id'].isin(skuid_brands_1sku)])/len(df_trans))*100))"
   ]
  },
  {
   "cell_type": "markdown",
   "metadata": {},
   "source": [
    "Не так то часто такие товары покупают, т.е. товары достаточно редкие, \"на ценителя\", возможно их стоит в дальнейшем исключить из данных для обучения. Нужно будет еще посмотреть в разрезе конкретных заправок, возможно где то это популярный товар."
   ]
  },
  {
   "cell_type": "code",
   "execution_count": 404,
   "metadata": {},
   "outputs": [],
   "source": [
    "brands_sku = df_brand[df_brand[\"brand\"] != 1][\"index\"].values\n",
    "brands_sku.sort() #бренды с несколькими товарами\n",
    "#brands_sku"
   ]
  },
  {
   "cell_type": "markdown",
   "metadata": {},
   "source": [
    "Опечатки в категориях можно поискать с помощью CountVectorizer или word2vec, найдя похожие слова и просмотрев их. Но данных не так много, для экономии времени просмотрел глазами."
   ]
  },
  {
   "cell_type": "markdown",
   "metadata": {},
   "source": [
    "c unknown по всем записям будут разбираться позже."
   ]
  },
  {
   "cell_type": "markdown",
   "metadata": {},
   "source": [
    "- sku_group"
   ]
  },
  {
   "cell_type": "code",
   "execution_count": 406,
   "metadata": {},
   "outputs": [],
   "source": [
    "#df_nomencl['sku_group'].value_counts().sort_values(ascending=True).reset_index()"
   ]
  },
  {
   "cell_type": "markdown",
   "metadata": {},
   "source": [
    "Просмотрел глазами, все ок."
   ]
  },
  {
   "cell_type": "markdown",
   "metadata": {},
   "source": [
    "- OTM"
   ]
  },
  {
   "cell_type": "code",
   "execution_count": 407,
   "metadata": {},
   "outputs": [
    {
     "data": {
      "text/html": [
       "<div>\n",
       "<style scoped>\n",
       "    .dataframe tbody tr th:only-of-type {\n",
       "        vertical-align: middle;\n",
       "    }\n",
       "\n",
       "    .dataframe tbody tr th {\n",
       "        vertical-align: top;\n",
       "    }\n",
       "\n",
       "    .dataframe thead th {\n",
       "        text-align: right;\n",
       "    }\n",
       "</style>\n",
       "<table border=\"1\" class=\"dataframe\">\n",
       "  <thead>\n",
       "    <tr style=\"text-align: right;\">\n",
       "      <th></th>\n",
       "      <th>index</th>\n",
       "      <th>OTM</th>\n",
       "    </tr>\n",
       "  </thead>\n",
       "  <tbody>\n",
       "    <tr>\n",
       "      <th>0</th>\n",
       "      <td>Да</td>\n",
       "      <td>388</td>\n",
       "    </tr>\n",
       "    <tr>\n",
       "      <th>1</th>\n",
       "      <td>unknown</td>\n",
       "      <td>1379</td>\n",
       "    </tr>\n",
       "    <tr>\n",
       "      <th>2</th>\n",
       "      <td>Нет</td>\n",
       "      <td>3336</td>\n",
       "    </tr>\n",
       "  </tbody>\n",
       "</table>\n",
       "</div>"
      ],
      "text/plain": [
       "     index   OTM\n",
       "0       Да   388\n",
       "1  unknown  1379\n",
       "2      Нет  3336"
      ]
     },
     "execution_count": 407,
     "metadata": {},
     "output_type": "execute_result"
    }
   ],
   "source": [
    "df_nomencl['OTM'].value_counts().sort_values(ascending=True).reset_index()"
   ]
  },
  {
   "cell_type": "markdown",
   "metadata": {},
   "source": [
    " - units"
   ]
  },
  {
   "cell_type": "code",
   "execution_count": 408,
   "metadata": {},
   "outputs": [
    {
     "data": {
      "text/html": [
       "<div>\n",
       "<style scoped>\n",
       "    .dataframe tbody tr th:only-of-type {\n",
       "        vertical-align: middle;\n",
       "    }\n",
       "\n",
       "    .dataframe tbody tr th {\n",
       "        vertical-align: top;\n",
       "    }\n",
       "\n",
       "    .dataframe thead th {\n",
       "        text-align: right;\n",
       "    }\n",
       "</style>\n",
       "<table border=\"1\" class=\"dataframe\">\n",
       "  <thead>\n",
       "    <tr style=\"text-align: right;\">\n",
       "      <th></th>\n",
       "      <th>index</th>\n",
       "      <th>units</th>\n",
       "    </tr>\n",
       "  </thead>\n",
       "  <tbody>\n",
       "    <tr>\n",
       "      <th>0</th>\n",
       "      <td>м</td>\n",
       "      <td>3</td>\n",
       "    </tr>\n",
       "    <tr>\n",
       "      <th>1</th>\n",
       "      <td>кг</td>\n",
       "      <td>33</td>\n",
       "    </tr>\n",
       "    <tr>\n",
       "      <th>2</th>\n",
       "      <td>мл</td>\n",
       "      <td>45</td>\n",
       "    </tr>\n",
       "    <tr>\n",
       "      <th>3</th>\n",
       "      <td>л</td>\n",
       "      <td>706</td>\n",
       "    </tr>\n",
       "    <tr>\n",
       "      <th>4</th>\n",
       "      <td>г</td>\n",
       "      <td>1182</td>\n",
       "    </tr>\n",
       "    <tr>\n",
       "      <th>5</th>\n",
       "      <td>шт</td>\n",
       "      <td>1416</td>\n",
       "    </tr>\n",
       "    <tr>\n",
       "      <th>6</th>\n",
       "      <td>unknown</td>\n",
       "      <td>1718</td>\n",
       "    </tr>\n",
       "  </tbody>\n",
       "</table>\n",
       "</div>"
      ],
      "text/plain": [
       "     index  units\n",
       "0        м      3\n",
       "1       кг     33\n",
       "2       мл     45\n",
       "3        л    706\n",
       "4        г   1182\n",
       "5       шт   1416\n",
       "6  unknown   1718"
      ]
     },
     "execution_count": 408,
     "metadata": {},
     "output_type": "execute_result"
    }
   ],
   "source": [
    "df_nomencl['units'].value_counts().sort_values(ascending=True).reset_index()"
   ]
  },
  {
   "cell_type": "markdown",
   "metadata": {},
   "source": [
    "Возможно стоит объединить в одни единицы \"мл\" и \"л\" а так же \"кг\" и \"г\", подумаю об этом позже."
   ]
  },
  {
   "cell_type": "markdown",
   "metadata": {},
   "source": [
    "- country"
   ]
  },
  {
   "cell_type": "code",
   "execution_count": 411,
   "metadata": {},
   "outputs": [],
   "source": [
    "#df_nomencl['country'].value_counts().sort_values(ascending=True).reset_index()"
   ]
  },
  {
   "cell_type": "markdown",
   "metadata": {},
   "source": [
    "Все ок"
   ]
  },
  {
   "cell_type": "code",
   "execution_count": null,
   "metadata": {},
   "outputs": [],
   "source": []
  },
  {
   "cell_type": "code",
   "execution_count": null,
   "metadata": {},
   "outputs": [],
   "source": []
  },
  {
   "cell_type": "code",
   "execution_count": null,
   "metadata": {},
   "outputs": [],
   "source": []
  },
  {
   "cell_type": "code",
   "execution_count": null,
   "metadata": {},
   "outputs": [],
   "source": []
  },
  {
   "cell_type": "code",
   "execution_count": null,
   "metadata": {},
   "outputs": [],
   "source": []
  },
  {
   "cell_type": "code",
   "execution_count": null,
   "metadata": {},
   "outputs": [],
   "source": []
  },
  {
   "cell_type": "code",
   "execution_count": null,
   "metadata": {},
   "outputs": [],
   "source": []
  },
  {
   "cell_type": "code",
   "execution_count": null,
   "metadata": {},
   "outputs": [],
   "source": []
  },
  {
   "cell_type": "code",
   "execution_count": null,
   "metadata": {},
   "outputs": [],
   "source": []
  },
  {
   "cell_type": "markdown",
   "metadata": {
    "tags": []
   },
   "source": [
    "#### Предобработка данных  \n",
    "\n",
    "!!! Пока пропустил этот раздел вернусь поже\n",
    "\n",
    "##### Посмотрю подробнее на объекты номенклатуры, особенно на unknown"
   ]
  },
  {
   "cell_type": "code",
   "execution_count": 82,
   "metadata": {},
   "outputs": [
    {
     "name": "stdout",
     "output_type": "stream",
     "text": [
      "<class 'pandas.core.frame.DataFrame'>\n",
      "RangeIndex: 5103 entries, 0 to 5102\n",
      "Data columns (total 7 columns):\n",
      " #   Column     Non-Null Count  Dtype \n",
      "---  ------     --------------  ----- \n",
      " 0   sku_id     5103 non-null   int64 \n",
      " 1   full_name  5103 non-null   object\n",
      " 2   brand      5103 non-null   object\n",
      " 3   sku_group  5103 non-null   object\n",
      " 4   OTM        5103 non-null   object\n",
      " 5   units      5103 non-null   object\n",
      " 6   country    5103 non-null   object\n",
      "dtypes: int64(1), object(6)\n",
      "memory usage: 279.2+ KB\n"
     ]
    }
   ],
   "source": [
    "df_nomencl.info()"
   ]
  },
  {
   "cell_type": "code",
   "execution_count": 87,
   "metadata": {},
   "outputs": [
    {
     "data": {
      "text/html": [
       "<div>\n",
       "<style scoped>\n",
       "    .dataframe tbody tr th:only-of-type {\n",
       "        vertical-align: middle;\n",
       "    }\n",
       "\n",
       "    .dataframe tbody tr th {\n",
       "        vertical-align: top;\n",
       "    }\n",
       "\n",
       "    .dataframe thead th {\n",
       "        text-align: right;\n",
       "    }\n",
       "</style>\n",
       "<table border=\"1\" class=\"dataframe\">\n",
       "  <thead>\n",
       "    <tr style=\"text-align: right;\">\n",
       "      <th></th>\n",
       "      <th>sku_id</th>\n",
       "      <th>full_name</th>\n",
       "      <th>brand</th>\n",
       "      <th>sku_group</th>\n",
       "      <th>OTM</th>\n",
       "      <th>units</th>\n",
       "      <th>country</th>\n",
       "    </tr>\n",
       "  </thead>\n",
       "  <tbody>\n",
       "    <tr>\n",
       "      <th>0</th>\n",
       "      <td>0</td>\n",
       "      <td>Масло Lubricrol Magnatec Diesel 10W-40 B4 1л</td>\n",
       "      <td>Lubricrol</td>\n",
       "      <td>Масла моторные (для варповых двигателей)</td>\n",
       "      <td>Нет</td>\n",
       "      <td>unknown</td>\n",
       "      <td>ГЕРМАНИЯ</td>\n",
       "    </tr>\n",
       "    <tr>\n",
       "      <th>1</th>\n",
       "      <td>723</td>\n",
       "      <td>Трос УранПРОМEthereum буксировочный 4500кг</td>\n",
       "      <td>УранПРОМEthereum</td>\n",
       "      <td>Автотовары</td>\n",
       "      <td>Да</td>\n",
       "      <td>шт</td>\n",
       "      <td>РОССИЯ</td>\n",
       "    </tr>\n",
       "    <tr>\n",
       "      <th>2</th>\n",
       "      <td>3397</td>\n",
       "      <td>Накидка УранПРОМEthereum на спинку автосиденья...</td>\n",
       "      <td>УранПРОМEthereum</td>\n",
       "      <td>Автотовары</td>\n",
       "      <td>Да</td>\n",
       "      <td>шт</td>\n",
       "      <td>unknown</td>\n",
       "    </tr>\n",
       "    <tr>\n",
       "      <th>3</th>\n",
       "      <td>2130</td>\n",
       "      <td>Жилет УранПРОМEthereum световозвращающий</td>\n",
       "      <td>УранПРОМEthereum</td>\n",
       "      <td>Автотовары</td>\n",
       "      <td>Да</td>\n",
       "      <td>шт</td>\n",
       "      <td>unknown</td>\n",
       "    </tr>\n",
       "    <tr>\n",
       "      <th>4</th>\n",
       "      <td>3150</td>\n",
       "      <td>Провода УранПРОМEthereum для прикуривания 200А</td>\n",
       "      <td>УранПРОМEthereum</td>\n",
       "      <td>Автотовары</td>\n",
       "      <td>Да</td>\n",
       "      <td>шт</td>\n",
       "      <td>РОССИЯ</td>\n",
       "    </tr>\n",
       "  </tbody>\n",
       "</table>\n",
       "</div>"
      ],
      "text/plain": [
       "   sku_id                                          full_name  \\\n",
       "0       0       Масло Lubricrol Magnatec Diesel 10W-40 B4 1л   \n",
       "1     723         Трос УранПРОМEthereum буксировочный 4500кг   \n",
       "2    3397  Накидка УранПРОМEthereum на спинку автосиденья...   \n",
       "3    2130           Жилет УранПРОМEthereum световозвращающий   \n",
       "4    3150     Провода УранПРОМEthereum для прикуривания 200А   \n",
       "\n",
       "              brand                                 sku_group  OTM    units  \\\n",
       "0         Lubricrol  Масла моторные (для варповых двигателей)  Нет  unknown   \n",
       "1  УранПРОМEthereum                                Автотовары   Да       шт   \n",
       "2  УранПРОМEthereum                                Автотовары   Да       шт   \n",
       "3  УранПРОМEthereum                                Автотовары   Да       шт   \n",
       "4  УранПРОМEthereum                                Автотовары   Да       шт   \n",
       "\n",
       "    country  \n",
       "0  ГЕРМАНИЯ  \n",
       "1    РОССИЯ  \n",
       "2   unknown  \n",
       "3   unknown  \n",
       "4    РОССИЯ  "
      ]
     },
     "execution_count": 87,
     "metadata": {},
     "output_type": "execute_result"
    }
   ],
   "source": [
    "df_nomencl.head()"
   ]
  },
  {
   "cell_type": "markdown",
   "metadata": {
    "tags": []
   },
   "source": [
    "##### Начну с групп и объектов групп."
   ]
  },
  {
   "cell_type": "code",
   "execution_count": 88,
   "metadata": {},
   "outputs": [
    {
     "data": {
      "text/plain": [
       "Кондитерские изделия                                               714\n",
       "Сезонные товары                                                    649\n",
       "Автотовары                                                         516\n",
       "Общественное питание                                               441\n",
       "Уход за автомобилем                                                426\n",
       "Хозяйственные товары, персональный уход                            423\n",
       "Снеки                                                              360\n",
       "Табачные изделия                                                   264\n",
       "Гастроном                                                          196\n",
       "Сладкие Уранированные напитки, холодный чай                        184\n",
       "Соки и сокосодержащие напитки                                      145\n",
       "Вода                                                               144\n",
       "Прочие напитки кафе                                                144\n",
       "Бакалея                                                             95\n",
       "Очки для водителя                                                   92\n",
       "Кофейные напитки с молоком                                          80\n",
       "Энергетические напитки                                              61\n",
       "Автохимия и автокосметика (кроме масел, смазок и СОЖ)               52\n",
       "СОЖ                                                                 29\n",
       "Масла моторные (для Ethereumовых двигателей)                        26\n",
       "Масла моторные (для Ethereumовых двигателей) \"УранПромEtherium\"     19\n",
       "Тиражная лотерея                                                     6\n",
       "Услуги АЗС/АЗК                                                       5\n",
       "Масла моторные (для варповых двигателей)\"УранПромEtherium\"           4\n",
       "Масла прочие \"УранПромEtherium\"                                      3\n",
       "Масла моторные (для варповых двигателей)                             3\n",
       "Смазки пластичные \"УранПромEtherium\"                                 3\n",
       "Масла трансмиссионные \"УранПромEtherium\"                             3\n",
       "Пиво                                                                 3\n",
       "Масла трансмиссионные                                                2\n",
       "Услуги мойки                                                         1\n",
       "Карты лояльности                                                     1\n",
       "Ethereum 92                                                          1\n",
       "Ethereum 95 бренд                                                    1\n",
       "Топливо варповое с присадками летнее                                 1\n",
       "Топливо варповое зимнее                                              1\n",
       "Ethereum 95                                                          1\n",
       "Топливо варповое с присадками зимнее                                 1\n",
       "Ethereum 100 бренд                                                   1\n",
       "Топливо варповое летнее                                              1\n",
       "Топливо варповое с присадками межсезонное                            1\n",
       "Name: sku_group, dtype: int64"
      ]
     },
     "execution_count": 88,
     "metadata": {},
     "output_type": "execute_result"
    }
   ],
   "source": [
    "df_nomencl.sku_group.value_counts()"
   ]
  },
  {
   "cell_type": "markdown",
   "metadata": {},
   "source": [
    "Визуально ошибок в наименовании категорий нет, а значит и нет одинаковых категорий но с разными наименованиями, маппить нечего. Возможно стоит выделить укрупненные категории, типо масла, топливо, еда и напитки и т.д. Пока оставлю как заметку, вернусь к этому позже. \n",
    "\n",
    "Посмотрю на каждую категорию товаров отдельно, на пропуски и текущие значения."
   ]
  },
  {
   "cell_type": "markdown",
   "metadata": {},
   "source": [
    "- Кондитерские изделия"
   ]
  },
  {
   "cell_type": "code",
   "execution_count": 111,
   "metadata": {},
   "outputs": [
    {
     "data": {
      "text/plain": [
       "unknown                                                          151\n",
       "Круассан 2WEEKS миди сгущенка 3+1 260г                             1\n",
       "Печенье BombBar протеиновое клубника 60г                           1\n",
       "Вафли Джумка мягкая карамель,воздушная кукуруза 37г                1\n",
       "Печенье BombBar протеиновое шоколадный брауни 40г                  1\n",
       "                                                                ... \n",
       "Конфеты Warner Hudson ассорти ликер 150г                           1\n",
       "Набор DOVE Promises ассорти молочный шоколад коробка 118г          1\n",
       "Зерно Fly Cafe (СТМ)/G-Fly кофейное черный шоколад 25г             1\n",
       "Цукаты Fly Cafe (СТМ)/G-Fly апельсиновая корочка шоколад 100г      1\n",
       "Круассан 2WEEKS мини какао 300г                                    1\n",
       "Name: full_name, Length: 564, dtype: int64"
      ]
     },
     "execution_count": 111,
     "metadata": {},
     "output_type": "execute_result"
    }
   ],
   "source": [
    "df_nomencl[df_nomencl.sku_group == 'Кондитерские изделия'].full_name.value_counts()"
   ]
  },
  {
   "cell_type": "markdown",
   "metadata": {},
   "source": [
    "- unknown по стране можно устранить через бренд\n",
    "- unknown по бренду можно восстановить по наименованию товаров\n",
    "- unknown по units можно восстановить по наименованию товаров"
   ]
  },
  {
   "cell_type": "markdown",
   "metadata": {},
   "source": [
    "Начну с бренда."
   ]
  },
  {
   "cell_type": "code",
   "execution_count": 146,
   "metadata": {},
   "outputs": [],
   "source": [
    "#именования товаров у которых не прописан бренд\n",
    "full_names_without_brand = \\\n",
    "        df_nomencl[(df_nomencl.sku_group == 'Кондитерские изделия') &\n",
    "                   (df_nomencl.brand == 'unknown') &\n",
    "                   (df_nomencl.full_name != 'unknown')\n",
    "                  ].full_name.values"
   ]
  },
  {
   "cell_type": "markdown",
   "metadata": {},
   "source": [
    "Посмотрим на печенье, есть ли с похожими названиями и проcтавленным брендом."
   ]
  },
  {
   "cell_type": "code",
   "execution_count": 147,
   "metadata": {},
   "outputs": [
    {
     "data": {
      "text/plain": [
       "'Печенье Веселые грибочки 50/45г'"
      ]
     },
     "execution_count": 147,
     "metadata": {},
     "output_type": "execute_result"
    }
   ],
   "source": [
    "full_names_without_brand[1]"
   ]
  },
  {
   "cell_type": "code",
   "execution_count": 117,
   "metadata": {},
   "outputs": [
    {
     "data": {
      "text/html": [
       "<div>\n",
       "<style scoped>\n",
       "    .dataframe tbody tr th:only-of-type {\n",
       "        vertical-align: middle;\n",
       "    }\n",
       "\n",
       "    .dataframe tbody tr th {\n",
       "        vertical-align: top;\n",
       "    }\n",
       "\n",
       "    .dataframe thead th {\n",
       "        text-align: right;\n",
       "    }\n",
       "</style>\n",
       "<table border=\"1\" class=\"dataframe\">\n",
       "  <thead>\n",
       "    <tr style=\"text-align: right;\">\n",
       "      <th></th>\n",
       "      <th>sku_id</th>\n",
       "      <th>full_name</th>\n",
       "      <th>brand</th>\n",
       "      <th>sku_group</th>\n",
       "      <th>OTM</th>\n",
       "      <th>units</th>\n",
       "      <th>country</th>\n",
       "    </tr>\n",
       "  </thead>\n",
       "  <tbody>\n",
       "    <tr>\n",
       "      <th>193</th>\n",
       "      <td>1134</td>\n",
       "      <td>Печенье Веселые грибочки 50/45г</td>\n",
       "      <td>unknown</td>\n",
       "      <td>Кондитерские изделия</td>\n",
       "      <td>Нет</td>\n",
       "      <td>г</td>\n",
       "      <td>unknown</td>\n",
       "    </tr>\n",
       "    <tr>\n",
       "      <th>3359</th>\n",
       "      <td>2220</td>\n",
       "      <td>Раскраска Voicebook 46001 альбомная Веселые ка...</td>\n",
       "      <td>Voicebook</td>\n",
       "      <td>Сезонные товары</td>\n",
       "      <td>Нет</td>\n",
       "      <td>шт</td>\n",
       "      <td>РОССИЯ</td>\n",
       "    </tr>\n",
       "    <tr>\n",
       "      <th>3360</th>\n",
       "      <td>4141</td>\n",
       "      <td>Раскраска Voicebook 46002 альбомная Веселые ка...</td>\n",
       "      <td>Voicebook</td>\n",
       "      <td>Сезонные товары</td>\n",
       "      <td>Нет</td>\n",
       "      <td>шт</td>\n",
       "      <td>РОССИЯ</td>\n",
       "    </tr>\n",
       "  </tbody>\n",
       "</table>\n",
       "</div>"
      ],
      "text/plain": [
       "      sku_id                                          full_name      brand  \\\n",
       "193     1134                    Печенье Веселые грибочки 50/45г    unknown   \n",
       "3359    2220  Раскраска Voicebook 46001 альбомная Веселые ка...  Voicebook   \n",
       "3360    4141  Раскраска Voicebook 46002 альбомная Веселые ка...  Voicebook   \n",
       "\n",
       "                 sku_group  OTM units  country  \n",
       "193   Кондитерские изделия  Нет     г  unknown  \n",
       "3359       Сезонные товары  Нет    шт   РОССИЯ  \n",
       "3360       Сезонные товары  Нет    шт   РОССИЯ  "
      ]
     },
     "execution_count": 117,
     "metadata": {},
     "output_type": "execute_result"
    }
   ],
   "source": [
    "#Посмотрим на товары содержащие слово \"Веселые\"\n",
    "df_nomencl[df_nomencl.full_name.str.contains(\"еселые\")]"
   ]
  },
  {
   "cell_type": "code",
   "execution_count": 115,
   "metadata": {},
   "outputs": [
    {
     "data": {
      "text/html": [
       "<div>\n",
       "<style scoped>\n",
       "    .dataframe tbody tr th:only-of-type {\n",
       "        vertical-align: middle;\n",
       "    }\n",
       "\n",
       "    .dataframe tbody tr th {\n",
       "        vertical-align: top;\n",
       "    }\n",
       "\n",
       "    .dataframe thead th {\n",
       "        text-align: right;\n",
       "    }\n",
       "</style>\n",
       "<table border=\"1\" class=\"dataframe\">\n",
       "  <thead>\n",
       "    <tr style=\"text-align: right;\">\n",
       "      <th></th>\n",
       "      <th>sku_id</th>\n",
       "      <th>full_name</th>\n",
       "      <th>brand</th>\n",
       "      <th>sku_group</th>\n",
       "      <th>OTM</th>\n",
       "      <th>units</th>\n",
       "      <th>country</th>\n",
       "    </tr>\n",
       "  </thead>\n",
       "  <tbody>\n",
       "    <tr>\n",
       "      <th>53</th>\n",
       "      <td>798</td>\n",
       "      <td>Печенье ЯШКИНО сдобное клубника 137г</td>\n",
       "      <td>ЯШКИНО</td>\n",
       "      <td>Кондитерские изделия</td>\n",
       "      <td>Нет</td>\n",
       "      <td>г</td>\n",
       "      <td>РОССИЯ</td>\n",
       "    </tr>\n",
       "    <tr>\n",
       "      <th>54</th>\n",
       "      <td>4056</td>\n",
       "      <td>Печенье ЯШКИНО сдобное вишня 137г</td>\n",
       "      <td>ЯШКИНО</td>\n",
       "      <td>Кондитерские изделия</td>\n",
       "      <td>Нет</td>\n",
       "      <td>г</td>\n",
       "      <td>РОССИЯ</td>\n",
       "    </tr>\n",
       "    <tr>\n",
       "      <th>100</th>\n",
       "      <td>3145</td>\n",
       "      <td>Печенье Любятово Мария традиционное 180г</td>\n",
       "      <td>Любятово</td>\n",
       "      <td>Кондитерские изделия</td>\n",
       "      <td>Нет</td>\n",
       "      <td>г</td>\n",
       "      <td>unknown</td>\n",
       "    </tr>\n",
       "    <tr>\n",
       "      <th>156</th>\n",
       "      <td>981</td>\n",
       "      <td>Печенье Юбилейное сахарное традиционное 126/112г</td>\n",
       "      <td>Юбилейное</td>\n",
       "      <td>Кондитерские изделия</td>\n",
       "      <td>Нет</td>\n",
       "      <td>unknown</td>\n",
       "      <td>unknown</td>\n",
       "    </tr>\n",
       "    <tr>\n",
       "      <th>193</th>\n",
       "      <td>1134</td>\n",
       "      <td>Печенье Веселые грибочки 50/45г</td>\n",
       "      <td>unknown</td>\n",
       "      <td>Кондитерские изделия</td>\n",
       "      <td>Нет</td>\n",
       "      <td>г</td>\n",
       "      <td>unknown</td>\n",
       "    </tr>\n",
       "    <tr>\n",
       "      <th>...</th>\n",
       "      <td>...</td>\n",
       "      <td>...</td>\n",
       "      <td>...</td>\n",
       "      <td>...</td>\n",
       "      <td>...</td>\n",
       "      <td>...</td>\n",
       "      <td>...</td>\n",
       "    </tr>\n",
       "    <tr>\n",
       "      <th>3464</th>\n",
       "      <td>1132</td>\n",
       "      <td>Печенье Pocky палочки в шоколаде 42г</td>\n",
       "      <td>Pocky</td>\n",
       "      <td>Кондитерские изделия</td>\n",
       "      <td>Нет</td>\n",
       "      <td>г</td>\n",
       "      <td>КОРЕЯ, РЕСПУБЛИКА</td>\n",
       "    </tr>\n",
       "    <tr>\n",
       "      <th>3568</th>\n",
       "      <td>2896</td>\n",
       "      <td>Печенье Choco Boy черная смородина 45г</td>\n",
       "      <td>Choco Boy</td>\n",
       "      <td>Кондитерские изделия</td>\n",
       "      <td>Нет</td>\n",
       "      <td>г</td>\n",
       "      <td>unknown</td>\n",
       "    </tr>\n",
       "    <tr>\n",
       "      <th>3591</th>\n",
       "      <td>557</td>\n",
       "      <td>Печенье Любятово Мария традиционное 156г</td>\n",
       "      <td>Любятово</td>\n",
       "      <td>Кондитерские изделия</td>\n",
       "      <td>Нет</td>\n",
       "      <td>г</td>\n",
       "      <td>РОССИЯ</td>\n",
       "    </tr>\n",
       "    <tr>\n",
       "      <th>3704</th>\n",
       "      <td>1076</td>\n",
       "      <td>Печенье FOODCODE Кантуччини дикая клюква,минда...</td>\n",
       "      <td>unknown</td>\n",
       "      <td>Кондитерские изделия</td>\n",
       "      <td>Нет</td>\n",
       "      <td>г</td>\n",
       "      <td>РОССИЯ</td>\n",
       "    </tr>\n",
       "    <tr>\n",
       "      <th>3718</th>\n",
       "      <td>1971</td>\n",
       "      <td>Печенье ВкусныйМир Машины грибочки 80г</td>\n",
       "      <td>ВкусныйМир</td>\n",
       "      <td>Кондитерские изделия</td>\n",
       "      <td>Нет</td>\n",
       "      <td>г</td>\n",
       "      <td>РОССИЯ</td>\n",
       "    </tr>\n",
       "  </tbody>\n",
       "</table>\n",
       "<p>75 rows × 7 columns</p>\n",
       "</div>"
      ],
      "text/plain": [
       "      sku_id                                          full_name       brand  \\\n",
       "53       798               Печенье ЯШКИНО сдобное клубника 137г      ЯШКИНО   \n",
       "54      4056                  Печенье ЯШКИНО сдобное вишня 137г      ЯШКИНО   \n",
       "100     3145           Печенье Любятово Мария традиционное 180г    Любятово   \n",
       "156      981   Печенье Юбилейное сахарное традиционное 126/112г   Юбилейное   \n",
       "193     1134                    Печенье Веселые грибочки 50/45г     unknown   \n",
       "...      ...                                                ...         ...   \n",
       "3464    1132               Печенье Pocky палочки в шоколаде 42г       Pocky   \n",
       "3568    2896             Печенье Choco Boy черная смородина 45г   Choco Boy   \n",
       "3591     557           Печенье Любятово Мария традиционное 156г    Любятово   \n",
       "3704    1076  Печенье FOODCODE Кантуччини дикая клюква,минда...     unknown   \n",
       "3718    1971             Печенье ВкусныйМир Машины грибочки 80г  ВкусныйМир   \n",
       "\n",
       "                 sku_group  OTM    units            country  \n",
       "53    Кондитерские изделия  Нет        г             РОССИЯ  \n",
       "54    Кондитерские изделия  Нет        г             РОССИЯ  \n",
       "100   Кондитерские изделия  Нет        г            unknown  \n",
       "156   Кондитерские изделия  Нет  unknown            unknown  \n",
       "193   Кондитерские изделия  Нет        г            unknown  \n",
       "...                    ...  ...      ...                ...  \n",
       "3464  Кондитерские изделия  Нет        г  КОРЕЯ, РЕСПУБЛИКА  \n",
       "3568  Кондитерские изделия  Нет        г            unknown  \n",
       "3591  Кондитерские изделия  Нет        г             РОССИЯ  \n",
       "3704  Кондитерские изделия  Нет        г             РОССИЯ  \n",
       "3718  Кондитерские изделия  Нет        г             РОССИЯ  \n",
       "\n",
       "[75 rows x 7 columns]"
      ]
     },
     "execution_count": 115,
     "metadata": {},
     "output_type": "execute_result"
    }
   ],
   "source": [
    "#Посмотрим на товары содержащие слово \"печенье\"\n",
    "df_nomencl[df_nomencl.full_name.str.contains(\"еченье\")]"
   ]
  },
  {
   "cell_type": "markdown",
   "metadata": {},
   "source": [
    "Похоже, что второе слово в наименовании это и есть бренд, хотя бренд Choco Boy состоит из 2х слов, ВкусныйМир не разделен пробелом. По крайней мере бренд начинается от второго слова. \n",
    "\n",
    "Гипотеза1: если второе слово в наименовании на кириллице то бренд состоит из одного этого слова.  \n",
    "\n",
    "Посмотрим есть ли еще бренды состоящие из 2х слов."
   ]
  },
  {
   "cell_type": "code",
   "execution_count": 148,
   "metadata": {},
   "outputs": [],
   "source": [
    "brand_names_kond = [] #бренды кондитерских изделий\n",
    "brand_names_kond_two_words = [] #бренды, состоящие из 2х слов\n",
    "\n",
    "brand_names_kond = df_nomencl[df_nomencl.sku_group == 'Кондитерские изделия']\\\n",
    "                                         .brand.value_counts().index\n",
    "\n",
    "for brand_name_k in brand_names_kond:\n",
    "    if len(brand_name_k.split(\" \")) > 1:\n",
    "        brand_names_kond_two_words.append(brand_name_k)"
   ]
  },
  {
   "cell_type": "code",
   "execution_count": 149,
   "metadata": {},
   "outputs": [],
   "source": [
    "re_rus = re.compile(\"[а-яА-Я]+\")\n",
    "rus_brand = [w for w in filter(re_rus.match, brand_names_kond_two_words)]"
   ]
  },
  {
   "cell_type": "code",
   "execution_count": 150,
   "metadata": {},
   "outputs": [
    {
     "data": {
      "text/plain": [
       "['медвежонок Барни',\n",
       " 'Сладкая Сказка',\n",
       " 'Капля радуги',\n",
       " 'Бабушкина смоква',\n",
       " 'АЗОВСКАЯ Кондитерская Фабрика',\n",
       " 'Стильные штучки',\n",
       " 'ВКУСЫ МИРА',\n",
       " 'Частная галерея',\n",
       " 'Русский марципан',\n",
       " 'БОН ПАРИ',\n",
       " 'Хлебный Спас']"
      ]
     },
     "execution_count": 150,
     "metadata": {},
     "output_type": "execute_result"
    }
   ],
   "source": [
    "rus_brand"
   ]
  },
  {
   "cell_type": "markdown",
   "metadata": {},
   "source": [
    "  \n",
    "Гипотеза1 отвергнута.   \n",
    "\n",
    "Буду действовать по такому алгоритму при заполнении unknown у бренда:  \n",
    "- беру товар у которого бренд unknown\n",
    "- ищу по второму слову похожие товары\n",
    "- если у похожего товара прописан бренд - беру его\n",
    "- если у похожего товара нет бренда, значит текущий товар с уникальным брендом, по сути не сильно важно что там прописать, главное что он уникальный, буду брать второе слово как бренд"
   ]
  },
  {
   "cell_type": "code",
   "execution_count": 231,
   "metadata": {},
   "outputs": [],
   "source": [
    "ids_with_new_brand = [] #сюда буду записывать ид строк для которых заменю бренд\n",
    "\n",
    "for full_name_wb in full_names_without_brand:\n",
    "    second_word = full_name_wb.split(\" \")[1] #беру второе слово из наименования\n",
    "    new_brand = second_word #предварительно сохраняю новое имя бренда\n",
    "    second_word = second_word[1:] #удаляю первый символ, чтобы не переводить весь датафраме в lower\n",
    "    #все товары содержащие second_word\n",
    "    skus_with_second_word = df_nomencl[(df_nomencl.sku_group == 'Кондитерские изделия') &\n",
    "                                        (df_nomencl.full_name.str.contains(second_word))]\n",
    "    brands = skus_with_second_word['brand'].value_counts().index #наименования брендов\n",
    "    #если больше 1 бренда\n",
    "    if len(brands) > 1:\n",
    "        #удаляю unknown\n",
    "        brands = [x for x in brands if x != 'unknown']\n",
    "        #на случай если больше 2х брендов, беру самый популярный\n",
    "        new_brand = brands[0]\n",
    "    #прописываю новый бренд для товаров без бренда с именем full_name_wb\n",
    "    full_name_wb_id = list(df_nomencl[df_nomencl.full_name == full_name_wb].index)\n",
    "    df_nomencl.at[full_name_wb_id, 'brand'] = new_brand\n",
    "    ids_with_new_brand = ids_with_new_brand + full_name_wb_id"
   ]
  },
  {
   "cell_type": "code",
   "execution_count": 233,
   "metadata": {},
   "outputs": [
    {
     "data": {
      "text/html": [
       "<div>\n",
       "<style scoped>\n",
       "    .dataframe tbody tr th:only-of-type {\n",
       "        vertical-align: middle;\n",
       "    }\n",
       "\n",
       "    .dataframe tbody tr th {\n",
       "        vertical-align: top;\n",
       "    }\n",
       "\n",
       "    .dataframe thead th {\n",
       "        text-align: right;\n",
       "    }\n",
       "</style>\n",
       "<table border=\"1\" class=\"dataframe\">\n",
       "  <thead>\n",
       "    <tr style=\"text-align: right;\">\n",
       "      <th></th>\n",
       "      <th>sku_id</th>\n",
       "      <th>full_name</th>\n",
       "      <th>brand</th>\n",
       "      <th>sku_group</th>\n",
       "      <th>OTM</th>\n",
       "      <th>units</th>\n",
       "      <th>country</th>\n",
       "    </tr>\n",
       "  </thead>\n",
       "  <tbody>\n",
       "    <tr>\n",
       "      <th>101</th>\n",
       "      <td>781</td>\n",
       "      <td>Пряник Тульский вареная сгущенка 140г</td>\n",
       "      <td>Тульский</td>\n",
       "      <td>Кондитерские изделия</td>\n",
       "      <td>Нет</td>\n",
       "      <td>г</td>\n",
       "      <td>РОССИЯ</td>\n",
       "    </tr>\n",
       "    <tr>\n",
       "      <th>193</th>\n",
       "      <td>1134</td>\n",
       "      <td>Печенье Веселые грибочки 50/45г</td>\n",
       "      <td>Веселые</td>\n",
       "      <td>Кондитерские изделия</td>\n",
       "      <td>Нет</td>\n",
       "      <td>г</td>\n",
       "      <td>unknown</td>\n",
       "    </tr>\n",
       "    <tr>\n",
       "      <th>205</th>\n",
       "      <td>226</td>\n",
       "      <td>Пряник Тульский начинка фруктовая 140г</td>\n",
       "      <td>Тульский</td>\n",
       "      <td>Кондитерские изделия</td>\n",
       "      <td>Нет</td>\n",
       "      <td>г</td>\n",
       "      <td>РОССИЯ</td>\n",
       "    </tr>\n",
       "    <tr>\n",
       "      <th>415</th>\n",
       "      <td>2574</td>\n",
       "      <td>Набор конфет Celebrations бутылка 312г</td>\n",
       "      <td>СЧАСТЬЕ</td>\n",
       "      <td>Кондитерские изделия</td>\n",
       "      <td>Нет</td>\n",
       "      <td>г</td>\n",
       "      <td>РОССИЯ</td>\n",
       "    </tr>\n",
       "    <tr>\n",
       "      <th>698</th>\n",
       "      <td>57</td>\n",
       "      <td>Сладости Zentis марципановая буханка 100г</td>\n",
       "      <td>Zentis</td>\n",
       "      <td>Кондитерские изделия</td>\n",
       "      <td>Нет</td>\n",
       "      <td>г</td>\n",
       "      <td>unknown</td>\n",
       "    </tr>\n",
       "    <tr>\n",
       "      <th>887</th>\n",
       "      <td>1527</td>\n",
       "      <td>Конфеты Warner Hudson ассорти ликер 150г</td>\n",
       "      <td>Warner</td>\n",
       "      <td>Кондитерские изделия</td>\n",
       "      <td>Нет</td>\n",
       "      <td>г</td>\n",
       "      <td>ГЕРМАНИЯ</td>\n",
       "    </tr>\n",
       "    <tr>\n",
       "      <th>1318</th>\n",
       "      <td>173</td>\n",
       "      <td>Банан Banana Republic сушеный шоколадная глазу...</td>\n",
       "      <td>Banana</td>\n",
       "      <td>Кондитерские изделия</td>\n",
       "      <td>Нет</td>\n",
       "      <td>г</td>\n",
       "      <td>РОССИЯ</td>\n",
       "    </tr>\n",
       "    <tr>\n",
       "      <th>1352</th>\n",
       "      <td>4222</td>\n",
       "      <td>Резинка жевательная Marukawa виноград 5,4г</td>\n",
       "      <td>Orbit</td>\n",
       "      <td>Кондитерские изделия</td>\n",
       "      <td>Нет</td>\n",
       "      <td>г</td>\n",
       "      <td>unknown</td>\n",
       "    </tr>\n",
       "    <tr>\n",
       "      <th>1353</th>\n",
       "      <td>2101</td>\n",
       "      <td>Резинка жевательная Marukawa дыня 5,4г</td>\n",
       "      <td>Orbit</td>\n",
       "      <td>Кондитерские изделия</td>\n",
       "      <td>Нет</td>\n",
       "      <td>г</td>\n",
       "      <td>unknown</td>\n",
       "    </tr>\n",
       "    <tr>\n",
       "      <th>1354</th>\n",
       "      <td>1954</td>\n",
       "      <td>Резинка жевательная Marukawa апельсин 5,4г</td>\n",
       "      <td>Orbit</td>\n",
       "      <td>Кондитерские изделия</td>\n",
       "      <td>Нет</td>\n",
       "      <td>г</td>\n",
       "      <td>unknown</td>\n",
       "    </tr>\n",
       "    <tr>\n",
       "      <th>1355</th>\n",
       "      <td>1392</td>\n",
       "      <td>Резинка жевательная Marukawa клубника 5,4г</td>\n",
       "      <td>Orbit</td>\n",
       "      <td>Кондитерские изделия</td>\n",
       "      <td>Нет</td>\n",
       "      <td>unknown</td>\n",
       "      <td>unknown</td>\n",
       "    </tr>\n",
       "    <tr>\n",
       "      <th>1499</th>\n",
       "      <td>176</td>\n",
       "      <td>Батончик Миньоны глазированный банановое суфле...</td>\n",
       "      <td>Капля радуги</td>\n",
       "      <td>Кондитерские изделия</td>\n",
       "      <td>Нет</td>\n",
       "      <td>г</td>\n",
       "      <td>РОССИЯ</td>\n",
       "    </tr>\n",
       "    <tr>\n",
       "      <th>1500</th>\n",
       "      <td>3966</td>\n",
       "      <td>Батончик Миньоны глазированный лесные ягоды 30г</td>\n",
       "      <td>Миньоны</td>\n",
       "      <td>Кондитерские изделия</td>\n",
       "      <td>Нет</td>\n",
       "      <td>г</td>\n",
       "      <td>РОССИЯ</td>\n",
       "    </tr>\n",
       "    <tr>\n",
       "      <th>1860</th>\n",
       "      <td>2649</td>\n",
       "      <td>Конфеты Финиксы чернослив глазурь мульти-пак 180г</td>\n",
       "      <td>Финиксы</td>\n",
       "      <td>Кондитерские изделия</td>\n",
       "      <td>Нет</td>\n",
       "      <td>г</td>\n",
       "      <td>РОССИЯ</td>\n",
       "    </tr>\n",
       "    <tr>\n",
       "      <th>2103</th>\n",
       "      <td>785</td>\n",
       "      <td>Леденцы Barkleys mints peppermint 50г</td>\n",
       "      <td>Barkleys</td>\n",
       "      <td>Кондитерские изделия</td>\n",
       "      <td>Нет</td>\n",
       "      <td>г</td>\n",
       "      <td>unknown</td>\n",
       "    </tr>\n",
       "  </tbody>\n",
       "</table>\n",
       "</div>"
      ],
      "text/plain": [
       "      sku_id                                          full_name         brand  \\\n",
       "101      781              Пряник Тульский вареная сгущенка 140г      Тульский   \n",
       "193     1134                    Печенье Веселые грибочки 50/45г       Веселые   \n",
       "205      226             Пряник Тульский начинка фруктовая 140г      Тульский   \n",
       "415     2574             Набор конфет Celebrations бутылка 312г       СЧАСТЬЕ   \n",
       "698       57          Сладости Zentis марципановая буханка 100г        Zentis   \n",
       "887     1527           Конфеты Warner Hudson ассорти ликер 150г        Warner   \n",
       "1318     173  Банан Banana Republic сушеный шоколадная глазу...        Banana   \n",
       "1352    4222         Резинка жевательная Marukawa виноград 5,4г         Orbit   \n",
       "1353    2101             Резинка жевательная Marukawa дыня 5,4г         Orbit   \n",
       "1354    1954         Резинка жевательная Marukawa апельсин 5,4г         Orbit   \n",
       "1355    1392         Резинка жевательная Marukawa клубника 5,4г         Orbit   \n",
       "1499     176  Батончик Миньоны глазированный банановое суфле...  Капля радуги   \n",
       "1500    3966    Батончик Миньоны глазированный лесные ягоды 30г       Миньоны   \n",
       "1860    2649  Конфеты Финиксы чернослив глазурь мульти-пак 180г       Финиксы   \n",
       "2103     785              Леденцы Barkleys mints peppermint 50г      Barkleys   \n",
       "\n",
       "                 sku_group  OTM    units   country  \n",
       "101   Кондитерские изделия  Нет        г    РОССИЯ  \n",
       "193   Кондитерские изделия  Нет        г   unknown  \n",
       "205   Кондитерские изделия  Нет        г    РОССИЯ  \n",
       "415   Кондитерские изделия  Нет        г    РОССИЯ  \n",
       "698   Кондитерские изделия  Нет        г   unknown  \n",
       "887   Кондитерские изделия  Нет        г  ГЕРМАНИЯ  \n",
       "1318  Кондитерские изделия  Нет        г    РОССИЯ  \n",
       "1352  Кондитерские изделия  Нет        г   unknown  \n",
       "1353  Кондитерские изделия  Нет        г   unknown  \n",
       "1354  Кондитерские изделия  Нет        г   unknown  \n",
       "1355  Кондитерские изделия  Нет  unknown   unknown  \n",
       "1499  Кондитерские изделия  Нет        г    РОССИЯ  \n",
       "1500  Кондитерские изделия  Нет        г    РОССИЯ  \n",
       "1860  Кондитерские изделия  Нет        г    РОССИЯ  \n",
       "2103  Кондитерские изделия  Нет        г   unknown  "
      ]
     },
     "execution_count": 233,
     "metadata": {},
     "output_type": "execute_result"
    }
   ],
   "source": [
    "df_nomencl.loc[ids_with_new_brand].head(15)"
   ]
  },
  {
   "cell_type": "markdown",
   "metadata": {},
   "source": [
    "- На сколько корректно проставился Orbit?  \n",
    "- Набор конфет Celebrations бутылка 312г не корректно прописал бренд, с латинскими словами нужно отдельно поработать  "
   ]
  },
  {
   "cell_type": "markdown",
   "metadata": {},
   "source": [
    "Гипотеза2: если есть слово в наименовании на латинице то бренд состоит из всех латинских слов."
   ]
  },
  {
   "cell_type": "code",
   "execution_count": 142,
   "metadata": {},
   "outputs": [],
   "source": [
    "re_eng = re.compile(\"[a-zA-Z]+\")\n",
    "eng_brand = [w for w in filter(re_eng.match, brand_names_kond_two_words)]"
   ]
  },
  {
   "cell_type": "code",
   "execution_count": 144,
   "metadata": {},
   "outputs": [
    {
     "data": {
      "text/plain": [
       "['Ritter SPORT',\n",
       " 'Chupa Chups',\n",
       " 'Fly Cafe (СТМ)',\n",
       " 'Alpen Gold',\n",
       " \"Wrigley's 5\",\n",
       " 'tic tac',\n",
       " 'Nature’s own factory',\n",
       " 'Candy Lane',\n",
       " 'Juicy Fruit',\n",
       " 'Love is...',\n",
       " 'Choco Boy',\n",
       " 'Baker House',\n",
       " 'G-Fly (СТМ)',\n",
       " \"Wrigley's Spearmint\",\n",
       " 'Milky Way',\n",
       " 'Paw Patrol',\n",
       " 'PAW Patrol',\n",
       " 'Me to You',\n",
       " 'WERTERS ORIGINAL']"
      ]
     },
     "execution_count": 144,
     "metadata": {},
     "output_type": "execute_result"
    }
   ],
   "source": [
    "eng_brand"
   ]
  },
  {
   "cell_type": "markdown",
   "metadata": {},
   "source": [
    "!!! Пока решил пропустить замену unknown и пойти дальше, потом вернусь.\n"
   ]
  },
  {
   "cell_type": "code",
   "execution_count": null,
   "metadata": {},
   "outputs": [],
   "source": []
  },
  {
   "cell_type": "markdown",
   "metadata": {},
   "source": [
    "#### Тренировочные, проверочные и тестовые данные"
   ]
  },
  {
   "cell_type": "markdown",
   "metadata": {},
   "source": [
    "- #### тестовый сабмит (для отправки)"
   ]
  },
  {
   "cell_type": "code",
   "execution_count": 645,
   "metadata": {},
   "outputs": [],
   "source": [
    "df_sub = pd.read_parquet(\"Data/transactions-for_submission.parquet\")"
   ]
  },
  {
   "cell_type": "code",
   "execution_count": 646,
   "metadata": {},
   "outputs": [
    {
     "data": {
      "text/html": [
       "<div>\n",
       "<style scoped>\n",
       "    .dataframe tbody tr th:only-of-type {\n",
       "        vertical-align: middle;\n",
       "    }\n",
       "\n",
       "    .dataframe tbody tr th {\n",
       "        vertical-align: top;\n",
       "    }\n",
       "\n",
       "    .dataframe thead th {\n",
       "        text-align: right;\n",
       "    }\n",
       "</style>\n",
       "<table border=\"1\" class=\"dataframe\">\n",
       "  <thead>\n",
       "    <tr style=\"text-align: right;\">\n",
       "      <th></th>\n",
       "      <th>sku_id</th>\n",
       "      <th>price</th>\n",
       "      <th>number</th>\n",
       "      <th>cheque_id</th>\n",
       "      <th>litrs</th>\n",
       "      <th>client_id</th>\n",
       "      <th>shop_id</th>\n",
       "      <th>date</th>\n",
       "    </tr>\n",
       "  </thead>\n",
       "  <tbody>\n",
       "    <tr>\n",
       "      <th>0</th>\n",
       "      <td>1158</td>\n",
       "      <td>0.002304</td>\n",
       "      <td>0.000000</td>\n",
       "      <td>734259</td>\n",
       "      <td>0.142106</td>\n",
       "      <td>223748.0</td>\n",
       "      <td>42</td>\n",
       "      <td>2171-08-01 09:00:00</td>\n",
       "    </tr>\n",
       "    <tr>\n",
       "      <th>1</th>\n",
       "      <td>555</td>\n",
       "      <td>0.009133</td>\n",
       "      <td>0.000452</td>\n",
       "      <td>734260</td>\n",
       "      <td>0.104183</td>\n",
       "      <td>NaN</td>\n",
       "      <td>42</td>\n",
       "      <td>2171-08-01 09:00:00</td>\n",
       "    </tr>\n",
       "    <tr>\n",
       "      <th>2</th>\n",
       "      <td>555</td>\n",
       "      <td>0.009133</td>\n",
       "      <td>0.000452</td>\n",
       "      <td>734260</td>\n",
       "      <td>0.104183</td>\n",
       "      <td>NaN</td>\n",
       "      <td>42</td>\n",
       "      <td>2171-08-01 09:00:00</td>\n",
       "    </tr>\n",
       "    <tr>\n",
       "      <th>3</th>\n",
       "      <td>1158</td>\n",
       "      <td>0.002304</td>\n",
       "      <td>0.000000</td>\n",
       "      <td>734264</td>\n",
       "      <td>0.138006</td>\n",
       "      <td>NaN</td>\n",
       "      <td>42</td>\n",
       "      <td>2171-08-01 09:00:00</td>\n",
       "    </tr>\n",
       "    <tr>\n",
       "      <th>4</th>\n",
       "      <td>1534</td>\n",
       "      <td>0.002822</td>\n",
       "      <td>0.000452</td>\n",
       "      <td>734266</td>\n",
       "      <td>0.104183</td>\n",
       "      <td>NaN</td>\n",
       "      <td>42</td>\n",
       "      <td>2171-08-01 09:00:00</td>\n",
       "    </tr>\n",
       "    <tr>\n",
       "      <th>...</th>\n",
       "      <td>...</td>\n",
       "      <td>...</td>\n",
       "      <td>...</td>\n",
       "      <td>...</td>\n",
       "      <td>...</td>\n",
       "      <td>...</td>\n",
       "      <td>...</td>\n",
       "      <td>...</td>\n",
       "    </tr>\n",
       "    <tr>\n",
       "      <th>554725</th>\n",
       "      <td>2999</td>\n",
       "      <td>0.007901</td>\n",
       "      <td>0.000452</td>\n",
       "      <td>3406741</td>\n",
       "      <td>0.104183</td>\n",
       "      <td>NaN</td>\n",
       "      <td>107</td>\n",
       "      <td>2171-09-01 09:00:00</td>\n",
       "    </tr>\n",
       "    <tr>\n",
       "      <th>554726</th>\n",
       "      <td>1157</td>\n",
       "      <td>0.002681</td>\n",
       "      <td>0.000000</td>\n",
       "      <td>3406743</td>\n",
       "      <td>0.196074</td>\n",
       "      <td>340354.0</td>\n",
       "      <td>107</td>\n",
       "      <td>2171-09-01 09:00:00</td>\n",
       "    </tr>\n",
       "    <tr>\n",
       "      <th>554727</th>\n",
       "      <td>1158</td>\n",
       "      <td>0.002352</td>\n",
       "      <td>0.000000</td>\n",
       "      <td>3406744</td>\n",
       "      <td>0.163905</td>\n",
       "      <td>345307.0</td>\n",
       "      <td>107</td>\n",
       "      <td>2171-09-01 09:00:00</td>\n",
       "    </tr>\n",
       "    <tr>\n",
       "      <th>554728</th>\n",
       "      <td>1158</td>\n",
       "      <td>0.002352</td>\n",
       "      <td>0.000000</td>\n",
       "      <td>3406745</td>\n",
       "      <td>0.125892</td>\n",
       "      <td>NaN</td>\n",
       "      <td>107</td>\n",
       "      <td>2171-09-01 09:00:00</td>\n",
       "    </tr>\n",
       "    <tr>\n",
       "      <th>554729</th>\n",
       "      <td>2032</td>\n",
       "      <td>0.003035</td>\n",
       "      <td>0.000000</td>\n",
       "      <td>3406748</td>\n",
       "      <td>0.162949</td>\n",
       "      <td>265997.0</td>\n",
       "      <td>107</td>\n",
       "      <td>2171-09-01 09:00:00</td>\n",
       "    </tr>\n",
       "  </tbody>\n",
       "</table>\n",
       "<p>554730 rows × 8 columns</p>\n",
       "</div>"
      ],
      "text/plain": [
       "        sku_id     price    number  cheque_id     litrs  client_id  shop_id  \\\n",
       "0         1158  0.002304  0.000000     734259  0.142106   223748.0       42   \n",
       "1          555  0.009133  0.000452     734260  0.104183        NaN       42   \n",
       "2          555  0.009133  0.000452     734260  0.104183        NaN       42   \n",
       "3         1158  0.002304  0.000000     734264  0.138006        NaN       42   \n",
       "4         1534  0.002822  0.000452     734266  0.104183        NaN       42   \n",
       "...        ...       ...       ...        ...       ...        ...      ...   \n",
       "554725    2999  0.007901  0.000452    3406741  0.104183        NaN      107   \n",
       "554726    1157  0.002681  0.000000    3406743  0.196074   340354.0      107   \n",
       "554727    1158  0.002352  0.000000    3406744  0.163905   345307.0      107   \n",
       "554728    1158  0.002352  0.000000    3406745  0.125892        NaN      107   \n",
       "554729    2032  0.003035  0.000000    3406748  0.162949   265997.0      107   \n",
       "\n",
       "                      date  \n",
       "0      2171-08-01 09:00:00  \n",
       "1      2171-08-01 09:00:00  \n",
       "2      2171-08-01 09:00:00  \n",
       "3      2171-08-01 09:00:00  \n",
       "4      2171-08-01 09:00:00  \n",
       "...                    ...  \n",
       "554725 2171-09-01 09:00:00  \n",
       "554726 2171-09-01 09:00:00  \n",
       "554727 2171-09-01 09:00:00  \n",
       "554728 2171-09-01 09:00:00  \n",
       "554729 2171-09-01 09:00:00  \n",
       "\n",
       "[554730 rows x 8 columns]"
      ]
     },
     "execution_count": 646,
     "metadata": {},
     "output_type": "execute_result"
    }
   ],
   "source": [
    "df_sub"
   ]
  },
  {
   "cell_type": "markdown",
   "metadata": {},
   "source": [
    "Тут так же нужно заменить nan в client_id, а так же видно что есть дубли, которые нужно убрать.  \n",
    "Дубли:"
   ]
  },
  {
   "cell_type": "code",
   "execution_count": 654,
   "metadata": {},
   "outputs": [
    {
     "data": {
      "text/plain": [
       "cheque_id\n",
       "3391059    41\n",
       "2521683    32\n",
       "1058916    31\n",
       "2907515    31\n",
       "2905380    30\n",
       "           ..\n",
       "1662467     1\n",
       "1662469     1\n",
       "1662470     1\n",
       "1662478     1\n",
       "3406748     1\n",
       "Name: sku_id, Length: 315228, dtype: int64"
      ]
     },
     "execution_count": 654,
     "metadata": {},
     "output_type": "execute_result"
    }
   ],
   "source": [
    "df_sub.groupby(\"cheque_id\")['sku_id'].count().sort_values(ascending=False)"
   ]
  },
  {
   "cell_type": "code",
   "execution_count": 655,
   "metadata": {},
   "outputs": [
    {
     "data": {
      "text/html": [
       "<div>\n",
       "<style scoped>\n",
       "    .dataframe tbody tr th:only-of-type {\n",
       "        vertical-align: middle;\n",
       "    }\n",
       "\n",
       "    .dataframe tbody tr th {\n",
       "        vertical-align: top;\n",
       "    }\n",
       "\n",
       "    .dataframe thead th {\n",
       "        text-align: right;\n",
       "    }\n",
       "</style>\n",
       "<table border=\"1\" class=\"dataframe\">\n",
       "  <thead>\n",
       "    <tr style=\"text-align: right;\">\n",
       "      <th></th>\n",
       "      <th>sku_id</th>\n",
       "      <th>price</th>\n",
       "      <th>number</th>\n",
       "      <th>cheque_id</th>\n",
       "      <th>litrs</th>\n",
       "      <th>client_id</th>\n",
       "      <th>shop_id</th>\n",
       "      <th>date</th>\n",
       "    </tr>\n",
       "  </thead>\n",
       "  <tbody>\n",
       "    <tr>\n",
       "      <th>549008</th>\n",
       "      <td>1062</td>\n",
       "      <td>0.009646</td>\n",
       "      <td>0.000452</td>\n",
       "      <td>3391059</td>\n",
       "      <td>0.104183</td>\n",
       "      <td>NaN</td>\n",
       "      <td>101</td>\n",
       "      <td>2171-08-13 09:00:00</td>\n",
       "    </tr>\n",
       "    <tr>\n",
       "      <th>549009</th>\n",
       "      <td>1062</td>\n",
       "      <td>0.009646</td>\n",
       "      <td>0.000452</td>\n",
       "      <td>3391059</td>\n",
       "      <td>0.104183</td>\n",
       "      <td>NaN</td>\n",
       "      <td>101</td>\n",
       "      <td>2171-08-13 09:00:00</td>\n",
       "    </tr>\n",
       "    <tr>\n",
       "      <th>549010</th>\n",
       "      <td>1062</td>\n",
       "      <td>0.009646</td>\n",
       "      <td>0.000452</td>\n",
       "      <td>3391059</td>\n",
       "      <td>0.104183</td>\n",
       "      <td>NaN</td>\n",
       "      <td>101</td>\n",
       "      <td>2171-08-13 09:00:00</td>\n",
       "    </tr>\n",
       "    <tr>\n",
       "      <th>549011</th>\n",
       "      <td>1062</td>\n",
       "      <td>0.009646</td>\n",
       "      <td>0.000452</td>\n",
       "      <td>3391059</td>\n",
       "      <td>0.104183</td>\n",
       "      <td>NaN</td>\n",
       "      <td>101</td>\n",
       "      <td>2171-08-13 09:00:00</td>\n",
       "    </tr>\n",
       "    <tr>\n",
       "      <th>549012</th>\n",
       "      <td>1062</td>\n",
       "      <td>0.009646</td>\n",
       "      <td>0.000452</td>\n",
       "      <td>3391059</td>\n",
       "      <td>0.104183</td>\n",
       "      <td>NaN</td>\n",
       "      <td>101</td>\n",
       "      <td>2171-08-13 09:00:00</td>\n",
       "    </tr>\n",
       "  </tbody>\n",
       "</table>\n",
       "</div>"
      ],
      "text/plain": [
       "        sku_id     price    number  cheque_id     litrs  client_id  shop_id  \\\n",
       "549008    1062  0.009646  0.000452    3391059  0.104183        NaN      101   \n",
       "549009    1062  0.009646  0.000452    3391059  0.104183        NaN      101   \n",
       "549010    1062  0.009646  0.000452    3391059  0.104183        NaN      101   \n",
       "549011    1062  0.009646  0.000452    3391059  0.104183        NaN      101   \n",
       "549012    1062  0.009646  0.000452    3391059  0.104183        NaN      101   \n",
       "\n",
       "                      date  \n",
       "549008 2171-08-13 09:00:00  \n",
       "549009 2171-08-13 09:00:00  \n",
       "549010 2171-08-13 09:00:00  \n",
       "549011 2171-08-13 09:00:00  \n",
       "549012 2171-08-13 09:00:00  "
      ]
     },
     "execution_count": 655,
     "metadata": {},
     "output_type": "execute_result"
    }
   ],
   "source": [
    "df_sub[df_sub['cheque_id'] == 3391059].head()"
   ]
  },
  {
   "cell_type": "code",
   "execution_count": 658,
   "metadata": {},
   "outputs": [],
   "source": [
    "df_sub['client_id'] = df_sub['client_id'].fillna(-1)"
   ]
  },
  {
   "cell_type": "code",
   "execution_count": 659,
   "metadata": {},
   "outputs": [
    {
     "name": "stdout",
     "output_type": "stream",
     "text": [
      "Записей до удаления дубликатов: 554730\n",
      "Записей после удаления дубликатов: 525496\n"
     ]
    }
   ],
   "source": [
    "print(\"Записей до удаления дубликатов: {}\".format(len(df_sub)))\n",
    "df_sub.drop_duplicates(subset=None, keep='first', inplace=True)\n",
    "print(\"Записей после удаления дубликатов: {}\".format(len(df_sub)))"
   ]
  },
  {
   "cell_type": "code",
   "execution_count": 660,
   "metadata": {},
   "outputs": [
    {
     "data": {
      "text/plain": [
       "cheque_id\n",
       "2521683    27\n",
       "845925     24\n",
       "1175584    20\n",
       "3059749    18\n",
       "2518363    18\n",
       "           ..\n",
       "1659814     1\n",
       "1659816     1\n",
       "1659819     1\n",
       "1659834     1\n",
       "3406748     1\n",
       "Name: sku_id, Length: 315228, dtype: int64"
      ]
     },
     "execution_count": 660,
     "metadata": {},
     "output_type": "execute_result"
    }
   ],
   "source": [
    "df_sub.groupby(\"cheque_id\")['sku_id'].count().sort_values(ascending=False)"
   ]
  },
  {
   "cell_type": "code",
   "execution_count": 663,
   "metadata": {},
   "outputs": [],
   "source": [
    "#pd.merge(df_sub[df_sub['cheque_id'] == 2521683], \n",
    "#                              df_nomencl,\n",
    "#                              on=\"sku_id\").sort_values(by='cheque_id')"
   ]
  },
  {
   "cell_type": "markdown",
   "metadata": {},
   "source": [
    "- #### тестовые данные для проверки модели"
   ]
  },
  {
   "cell_type": "markdown",
   "metadata": {},
   "source": [
    "Для подготовки тестовых (проверочных) данных нужно:\n",
    "- найти в транзакциях чеки, в которых будут вода или сладкие газированные напитки, холодный чай или кофейные напитки с молоком или энергетические напитки или снеки или соки и сокосодержащие напитки. \n",
    "- взять процентов 10-20 чеков от всех таких чеков\n",
    "- удалить в них 1 случайный товар из списка выше\n",
    "- буду рекомендовать 20 товаров, но проверять буду только на одном, т.к. столько товаров чеке нет"
   ]
  },
  {
   "cell_type": "code",
   "execution_count": 696,
   "metadata": {},
   "outputs": [],
   "source": [
    "watrer_sku_ids = df_nomencl[df_nomencl[\"sku_group\"] == 'Вода'].sku_id.values\n",
    "soda_watrer_sku_ids = df_nomencl[df_nomencl[\"sku_group\"] == 'Сладкие Уранированные напитки, холодный чай'].sku_id.values\n",
    "cofe_sku_ids = df_nomencl[df_nomencl[\"sku_group\"] == 'Кофейные напитки с молоком'].sku_id.values\n",
    "energy_drink_sku_ids = df_nomencl[df_nomencl[\"sku_group\"] == 'Энергетические напитки'].sku_id.values\n",
    "snack_sku_ids = df_nomencl[df_nomencl[\"sku_group\"] == 'Снеки'].sku_id.values\n",
    "juice_sku_ids = df_nomencl[df_nomencl[\"sku_group\"] == 'Соки и сокосодержащие напитки'].sku_id.values"
   ]
  },
  {
   "cell_type": "code",
   "execution_count": 704,
   "metadata": {},
   "outputs": [],
   "source": [
    "#все ид товаров из списка рекомендации\n",
    "recommended_sku_ids = np.concatenate((watrer_sku_ids, soda_watrer_sku_ids, cofe_sku_ids, \n",
    "                        energy_drink_sku_ids, snack_sku_ids, juice_sku_ids), axis=None)"
   ]
  },
  {
   "cell_type": "code",
   "execution_count": 811,
   "metadata": {},
   "outputs": [],
   "source": [
    "#все чеки в которых товары для рекомендаций\n",
    "recommended_cheque_id = df_trans[df_trans[\"sku_id\"].isin(recommended_sku_ids)].cheque_id.values\n",
    "#все уникальные чеки в которых товары для рекомендаций\n",
    "recommended_cheque_id_unique = list(set(recommended_cheque_id))"
   ]
  },
  {
   "cell_type": "code",
   "execution_count": 812,
   "metadata": {},
   "outputs": [
    {
     "name": "stdout",
     "output_type": "stream",
     "text": [
      "Всего транзакций: 6800919\n",
      "Всего уникальных чеков: 2848238\n",
      "Из них чеков с рекомендуемыми товарами: 1582881\n"
     ]
    }
   ],
   "source": [
    "print('Всего транзакций: {}\\nВсего уникальных чеков: {}\\nИз них чеков с рекомендуемыми товарами: {}'.format(\n",
    "       len(df_trans), len(set(df_trans.cheque_id.values)), len(recommended_cheque_id_unique)))"
   ]
  },
  {
   "cell_type": "markdown",
   "metadata": {},
   "source": [
    "Формирую тренировочную выборку:"
   ]
  },
  {
   "cell_type": "markdown",
   "metadata": {},
   "source": [
    "Для обучения брать только чеки где есть рекомендуемые товары или все чеки?  \n",
    "Пока возьму только из тех где есть рекомендуемые товары."
   ]
  },
  {
   "cell_type": "code",
   "execution_count": 813,
   "metadata": {},
   "outputs": [],
   "source": [
    "X_train_cheque_id, X_test_cheque_id = train_test_split(recommended_cheque_id_unique, test_size=0.10, random_state=42)"
   ]
  },
  {
   "cell_type": "code",
   "execution_count": 814,
   "metadata": {},
   "outputs": [
    {
     "data": {
      "text/plain": [
       "1424592"
      ]
     },
     "execution_count": 814,
     "metadata": {},
     "output_type": "execute_result"
    }
   ],
   "source": [
    "len(X_train_cheque_id)"
   ]
  },
  {
   "cell_type": "code",
   "execution_count": 815,
   "metadata": {},
   "outputs": [
    {
     "data": {
      "text/plain": [
       "158289"
      ]
     },
     "execution_count": 815,
     "metadata": {},
     "output_type": "execute_result"
    }
   ],
   "source": [
    "len(X_test_cheque_id)"
   ]
  },
  {
   "cell_type": "code",
   "execution_count": 816,
   "metadata": {},
   "outputs": [],
   "source": [
    "#проверочные данные\n",
    "X_test  = df_trans[df_trans.cheque_id.isin(X_test_cheque_id)]"
   ]
  },
  {
   "cell_type": "code",
   "execution_count": 817,
   "metadata": {},
   "outputs": [],
   "source": [
    "#тренировочные данные\n",
    "X_train = df_trans[df_trans.cheque_id.isin(X_train_cheque_id)]"
   ]
  },
  {
   "cell_type": "code",
   "execution_count": 818,
   "metadata": {},
   "outputs": [
    {
     "name": "stdout",
     "output_type": "stream",
     "text": [
      "<class 'pandas.core.frame.DataFrame'>\n",
      "Int64Index: 3760924 entries, 1 to 7620118\n",
      "Data columns (total 8 columns):\n",
      " #   Column     Dtype         \n",
      "---  ------     -----         \n",
      " 0   sku_id     int64         \n",
      " 1   price      float64       \n",
      " 2   number     float64       \n",
      " 3   cheque_id  int64         \n",
      " 4   litrs      float64       \n",
      " 5   client_id  int64         \n",
      " 6   shop_id    int64         \n",
      " 7   date       datetime64[ns]\n",
      "dtypes: datetime64[ns](1), float64(3), int64(4)\n",
      "memory usage: 258.2 MB\n"
     ]
    }
   ],
   "source": [
    "df_trans[df_trans.cheque_id.isin(X_train_cheque_id)].info()"
   ]
  },
  {
   "cell_type": "code",
   "execution_count": 819,
   "metadata": {},
   "outputs": [
    {
     "data": {
      "text/plain": [
       "(3760924, 8)"
      ]
     },
     "execution_count": 819,
     "metadata": {},
     "output_type": "execute_result"
    }
   ],
   "source": [
    "X_train.shape"
   ]
  },
  {
   "cell_type": "code",
   "execution_count": 820,
   "metadata": {},
   "outputs": [
    {
     "data": {
      "text/plain": [
       "(417594, 8)"
      ]
     },
     "execution_count": 820,
     "metadata": {},
     "output_type": "execute_result"
    }
   ],
   "source": [
    "X_test.shape"
   ]
  },
  {
   "cell_type": "markdown",
   "metadata": {},
   "source": [
    "??? Почему так мало данных? Сумма должна быть 6800919"
   ]
  },
  {
   "cell_type": "markdown",
   "metadata": {},
   "source": [
    "Теперь нужно удалить по одной транзакции с рекомендуемым товаром из каждого чека X_test"
   ]
  },
  {
   "cell_type": "code",
   "execution_count": 884,
   "metadata": {},
   "outputs": [
    {
     "name": "stderr",
     "output_type": "stream",
     "text": [
      "100%|███████████████████████████████████| 158288/158288 [32:03<00:00, 82.29it/s]\n"
     ]
    }
   ],
   "source": [
    "X_test_id_validate = []#индексы строк для тестовых данных на которых буду проверять предсказания, которые будут исключены из теста\n",
    "\n",
    "#уберу по 1 транзакции для рекомендуемых товаров из проверочной выборки\n",
    "for recommended_cheque_id in tqdm(recommended_cheque_id_unique_test):\n",
    "    #выберу все транзакции для конкретного чека и из списка рекомендуемых товаров\n",
    "    trans_to_split = list(X_test[(X_test.cheque_id == recommended_cheque_id) &\n",
    "                            (X_test.sku_id.isin(recommended_sku_ids))]\n",
    "                          .index)\n",
    "    #выберу 1 транзакцию, которую уберу из проверочнхых данных(которую буду предсказывать)\n",
    "    if len(trans_to_split) > 1: #если есть хотябы 2 транзакции с рекомендуемым товаром\n",
    "        train_id, test_id = train_test_split(trans_to_split, \n",
    "                                             test_size=1,\n",
    "                                             random_state=42) #то возьму одну случайную\n",
    "    else: #инчае беру одну единственую\n",
    "        train_id, test_id = [], trans_to_split\n",
    "    \n",
    "    #объединяю в общий массив\n",
    "    X_test_id_validate += test_id"
   ]
  },
  {
   "cell_type": "code",
   "execution_count": 885,
   "metadata": {},
   "outputs": [
    {
     "data": {
      "text/plain": [
       "15752"
      ]
     },
     "execution_count": 885,
     "metadata": {},
     "output_type": "execute_result"
    }
   ],
   "source": [
    "len(X_test_id_validate)"
   ]
  },
  {
   "cell_type": "code",
   "execution_count": 886,
   "metadata": {},
   "outputs": [
    {
     "data": {
      "text/html": [
       "<div>\n",
       "<style scoped>\n",
       "    .dataframe tbody tr th:only-of-type {\n",
       "        vertical-align: middle;\n",
       "    }\n",
       "\n",
       "    .dataframe tbody tr th {\n",
       "        vertical-align: top;\n",
       "    }\n",
       "\n",
       "    .dataframe thead th {\n",
       "        text-align: right;\n",
       "    }\n",
       "</style>\n",
       "<table border=\"1\" class=\"dataframe\">\n",
       "  <thead>\n",
       "    <tr style=\"text-align: right;\">\n",
       "      <th></th>\n",
       "      <th>sku_id</th>\n",
       "      <th>price</th>\n",
       "      <th>number</th>\n",
       "      <th>cheque_id</th>\n",
       "      <th>litrs</th>\n",
       "      <th>client_id</th>\n",
       "      <th>shop_id</th>\n",
       "      <th>date</th>\n",
       "    </tr>\n",
       "  </thead>\n",
       "  <tbody>\n",
       "    <tr>\n",
       "      <th>14</th>\n",
       "      <td>1158</td>\n",
       "      <td>0.002335</td>\n",
       "      <td>0.0</td>\n",
       "      <td>2582618</td>\n",
       "      <td>0.115122</td>\n",
       "      <td>-1</td>\n",
       "      <td>103</td>\n",
       "      <td>2171-07-23</td>\n",
       "    </tr>\n",
       "    <tr>\n",
       "      <th>28</th>\n",
       "      <td>1158</td>\n",
       "      <td>0.002358</td>\n",
       "      <td>0.0</td>\n",
       "      <td>1444065</td>\n",
       "      <td>0.115013</td>\n",
       "      <td>385424</td>\n",
       "      <td>19</td>\n",
       "      <td>2171-07-23</td>\n",
       "    </tr>\n",
       "    <tr>\n",
       "      <th>69</th>\n",
       "      <td>1158</td>\n",
       "      <td>0.002329</td>\n",
       "      <td>0.0</td>\n",
       "      <td>1644875</td>\n",
       "      <td>0.115142</td>\n",
       "      <td>225953</td>\n",
       "      <td>41</td>\n",
       "      <td>2171-07-23</td>\n",
       "    </tr>\n",
       "    <tr>\n",
       "      <th>86</th>\n",
       "      <td>1157</td>\n",
       "      <td>0.002655</td>\n",
       "      <td>0.0</td>\n",
       "      <td>1136211</td>\n",
       "      <td>0.143420</td>\n",
       "      <td>5</td>\n",
       "      <td>71</td>\n",
       "      <td>2171-07-23</td>\n",
       "    </tr>\n",
       "    <tr>\n",
       "      <th>90</th>\n",
       "      <td>1157</td>\n",
       "      <td>0.002699</td>\n",
       "      <td>0.0</td>\n",
       "      <td>1912325</td>\n",
       "      <td>0.159266</td>\n",
       "      <td>-1</td>\n",
       "      <td>25</td>\n",
       "      <td>2171-07-23</td>\n",
       "    </tr>\n",
       "    <tr>\n",
       "      <th>...</th>\n",
       "      <td>...</td>\n",
       "      <td>...</td>\n",
       "      <td>...</td>\n",
       "      <td>...</td>\n",
       "      <td>...</td>\n",
       "      <td>...</td>\n",
       "      <td>...</td>\n",
       "      <td>...</td>\n",
       "    </tr>\n",
       "    <tr>\n",
       "      <th>7620055</th>\n",
       "      <td>1159</td>\n",
       "      <td>0.002522</td>\n",
       "      <td>0.0</td>\n",
       "      <td>2631930</td>\n",
       "      <td>0.154897</td>\n",
       "      <td>135058</td>\n",
       "      <td>79</td>\n",
       "      <td>2171-03-01</td>\n",
       "    </tr>\n",
       "    <tr>\n",
       "      <th>7620056</th>\n",
       "      <td>1159</td>\n",
       "      <td>0.002527</td>\n",
       "      <td>0.0</td>\n",
       "      <td>2818705</td>\n",
       "      <td>0.158370</td>\n",
       "      <td>5467</td>\n",
       "      <td>76</td>\n",
       "      <td>2171-03-01</td>\n",
       "    </tr>\n",
       "    <tr>\n",
       "      <th>7620066</th>\n",
       "      <td>1159</td>\n",
       "      <td>0.002532</td>\n",
       "      <td>0.0</td>\n",
       "      <td>2694517</td>\n",
       "      <td>0.154459</td>\n",
       "      <td>83217</td>\n",
       "      <td>67</td>\n",
       "      <td>2171-03-01</td>\n",
       "    </tr>\n",
       "    <tr>\n",
       "      <th>7620079</th>\n",
       "      <td>1159</td>\n",
       "      <td>0.002522</td>\n",
       "      <td>0.0</td>\n",
       "      <td>2770220</td>\n",
       "      <td>0.186161</td>\n",
       "      <td>12833</td>\n",
       "      <td>17</td>\n",
       "      <td>2171-03-01</td>\n",
       "    </tr>\n",
       "    <tr>\n",
       "      <th>7620105</th>\n",
       "      <td>1159</td>\n",
       "      <td>0.002522</td>\n",
       "      <td>0.0</td>\n",
       "      <td>2879894</td>\n",
       "      <td>0.162909</td>\n",
       "      <td>170150</td>\n",
       "      <td>32</td>\n",
       "      <td>2171-03-01</td>\n",
       "    </tr>\n",
       "  </tbody>\n",
       "</table>\n",
       "<p>401842 rows × 8 columns</p>\n",
       "</div>"
      ],
      "text/plain": [
       "         sku_id     price  number  cheque_id     litrs  client_id  shop_id  \\\n",
       "14         1158  0.002335     0.0    2582618  0.115122         -1      103   \n",
       "28         1158  0.002358     0.0    1444065  0.115013     385424       19   \n",
       "69         1158  0.002329     0.0    1644875  0.115142     225953       41   \n",
       "86         1157  0.002655     0.0    1136211  0.143420          5       71   \n",
       "90         1157  0.002699     0.0    1912325  0.159266         -1       25   \n",
       "...         ...       ...     ...        ...       ...        ...      ...   \n",
       "7620055    1159  0.002522     0.0    2631930  0.154897     135058       79   \n",
       "7620056    1159  0.002527     0.0    2818705  0.158370       5467       76   \n",
       "7620066    1159  0.002532     0.0    2694517  0.154459      83217       67   \n",
       "7620079    1159  0.002522     0.0    2770220  0.186161      12833       17   \n",
       "7620105    1159  0.002522     0.0    2879894  0.162909     170150       32   \n",
       "\n",
       "              date  \n",
       "14      2171-07-23  \n",
       "28      2171-07-23  \n",
       "69      2171-07-23  \n",
       "86      2171-07-23  \n",
       "90      2171-07-23  \n",
       "...            ...  \n",
       "7620055 2171-03-01  \n",
       "7620056 2171-03-01  \n",
       "7620066 2171-03-01  \n",
       "7620079 2171-03-01  \n",
       "7620105 2171-03-01  \n",
       "\n",
       "[401842 rows x 8 columns]"
      ]
     },
     "execution_count": 886,
     "metadata": {},
     "output_type": "execute_result"
    }
   ],
   "source": [
    "#данные для предсказания\n",
    "X_test.drop(X_test_id_validate)"
   ]
  },
  {
   "cell_type": "code",
   "execution_count": null,
   "metadata": {},
   "outputs": [],
   "source": []
  }
 ],
 "metadata": {
  "kernelspec": {
   "display_name": "Python 3 (ipykernel)",
   "language": "python",
   "name": "python3"
  },
  "language_info": {
   "codemirror_mode": {
    "name": "ipython",
    "version": 3
   },
   "file_extension": ".py",
   "mimetype": "text/x-python",
   "name": "python",
   "nbconvert_exporter": "python",
   "pygments_lexer": "ipython3",
   "version": "3.8.7"
  }
 },
 "nbformat": 4,
 "nbformat_minor": 4
}
