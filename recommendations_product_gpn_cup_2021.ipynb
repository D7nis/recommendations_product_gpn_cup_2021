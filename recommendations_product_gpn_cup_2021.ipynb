{
 "cells": [
  {
   "cell_type": "markdown",
   "metadata": {},
   "source": [
    "#### Описание задачи"
   ]
  },
  {
   "cell_type": "markdown",
   "metadata": {},
   "source": [
    "- Подробное описание в файле gpn-cup-2021-data_science_task.docx"
   ]
  },
  {
   "cell_type": "markdown",
   "metadata": {},
   "source": [
    "Для увеличения продаж товаров из следующих групп:\n",
    "- вода\n",
    "- сладкие газированные напитки, холодный чай\n",
    "- кофейные напитки с молоком\n",
    "- энергетические напитки\n",
    "- снеки\n",
    "- соки и сокосодержащие напитки  \n",
    "\n",
    "Вам необходимо разработать рекомендательную систему, которая будет предлагать покупателям 20 дополнительных товаров в чек.  \n",
    "\n",
    "Пример: покупатель приходит на кассу с 2-мя товарами: напитком «Local-Cola» и чипсами «Sya'l». Алгоритм должен предложить 20 товаров, которые пользователь вероятнее всего захочет добавить в свою корзину (в порядке убывания релевантности). На практике кассир предложит 1й по порядку товар, из имеющихся в наличии. \n",
    "В качестве метрики качества рекомендаций используется mean average precision at 20"
   ]
  },
  {
   "cell_type": "markdown",
   "metadata": {},
   "source": [
    "Транзакционные данные продаж – transactions:\n",
    "- sku_id – уникальный идентификатор товара\n",
    "- price – цена, по которой был продан товар\n",
    "- number – количество товаров (если не топливо) \n",
    "- cheque_id – уникальный идентификатор чека\n",
    "- litrs – количество литров (если товар - топливо)\n",
    "- client_id – уникальный идентификатор клиента (если клиент «представился» при покупке)\n",
    "- shop_id – уникальный идентификатор магазина\n",
    "- date – дата транзакции  \n",
    "\n",
    "Данные о товарах – nomenclature:\n",
    "- sku_id – уникальный идентификатор товара\n",
    "- full_name – полное наименование товара\n",
    "- brand – наименование торговой марки\n",
    "- sku_group – группа, к которой принадлежит товар\n",
    "- OTM – признак собственной торговой марки\n",
    "- units – единица измерения для количества \n",
    "- country – страна производства товара  \n",
    "\n",
    "Формат всех источников - .parquet."
   ]
  },
  {
   "cell_type": "code",
   "execution_count": 1,
   "metadata": {},
   "outputs": [],
   "source": [
    "#! pip install pyarrow"
   ]
  },
  {
   "cell_type": "code",
   "execution_count": 1,
   "metadata": {},
   "outputs": [],
   "source": [
    "import pandas as pd\n",
    "import numpy as np\n",
    "from matplotlib import pyplot as plt\n",
    "from matplotlib import dates as mdates\n",
    "import seaborn as sns\n",
    "import math\n",
    "from sklearn.preprocessing import MinMaxScaler, StandardScaler, MaxAbsScaler\n",
    "from sklearn.model_selection import train_test_split, GridSearchCV\n",
    "from sklearn.decomposition import TruncatedSVD\n",
    "from sklearn.neighbors import NearestNeighbors\n",
    "import scipy.sparse as sps\n",
    "\n",
    "from tqdm import tqdm\n",
    "import re \n",
    "import random\n",
    "\n",
    "import implicit\n",
    "import itertools\n",
    "import pickle\n",
    "\n",
    "%matplotlib inline"
   ]
  },
  {
   "cell_type": "code",
   "execution_count": 2,
   "metadata": {},
   "outputs": [
    {
     "name": "stdout",
     "output_type": "stream",
     "text": [
      "Note: you may need to restart the kernel to use updated packages.\n"
     ]
    }
   ],
   "source": [
    "pip freeze > requirements.txt"
   ]
  },
  {
   "cell_type": "markdown",
   "metadata": {},
   "source": [
    "#### Загрузка данных"
   ]
  },
  {
   "cell_type": "code",
   "execution_count": 65,
   "metadata": {},
   "outputs": [],
   "source": [
    "df_trans = pd.read_parquet(\"Data/transactions.parquet\")"
   ]
  },
  {
   "cell_type": "code",
   "execution_count": 66,
   "metadata": {},
   "outputs": [],
   "source": [
    "df_nomencl = pd.read_parquet(\"Data/nomenclature.parquet\")"
   ]
  },
  {
   "cell_type": "markdown",
   "metadata": {},
   "source": [
    "#### Работа с пропусками, дублями и типами данных"
   ]
  },
  {
   "cell_type": "markdown",
   "metadata": {},
   "source": [
    "- Транзакции"
   ]
  },
  {
   "cell_type": "code",
   "execution_count": 67,
   "metadata": {},
   "outputs": [
    {
     "data": {
      "text/html": [
       "<div>\n",
       "<style scoped>\n",
       "    .dataframe tbody tr th:only-of-type {\n",
       "        vertical-align: middle;\n",
       "    }\n",
       "\n",
       "    .dataframe tbody tr th {\n",
       "        vertical-align: top;\n",
       "    }\n",
       "\n",
       "    .dataframe thead th {\n",
       "        text-align: right;\n",
       "    }\n",
       "</style>\n",
       "<table border=\"1\" class=\"dataframe\">\n",
       "  <thead>\n",
       "    <tr style=\"text-align: right;\">\n",
       "      <th></th>\n",
       "      <th>sku_id</th>\n",
       "      <th>price</th>\n",
       "      <th>number</th>\n",
       "      <th>cheque_id</th>\n",
       "      <th>litrs</th>\n",
       "      <th>client_id</th>\n",
       "      <th>shop_id</th>\n",
       "      <th>date</th>\n",
       "    </tr>\n",
       "  </thead>\n",
       "  <tbody>\n",
       "    <tr>\n",
       "      <th>0</th>\n",
       "      <td>1158</td>\n",
       "      <td>0.002335</td>\n",
       "      <td>0.000000</td>\n",
       "      <td>3338297</td>\n",
       "      <td>0.147929</td>\n",
       "      <td>78634.0</td>\n",
       "      <td>102</td>\n",
       "      <td>2171-07-23</td>\n",
       "    </tr>\n",
       "    <tr>\n",
       "      <th>1</th>\n",
       "      <td>1158</td>\n",
       "      <td>0.002317</td>\n",
       "      <td>0.000000</td>\n",
       "      <td>3386107</td>\n",
       "      <td>0.134562</td>\n",
       "      <td>20900.0</td>\n",
       "      <td>101</td>\n",
       "      <td>2171-07-23</td>\n",
       "    </tr>\n",
       "    <tr>\n",
       "      <th>2</th>\n",
       "      <td>1913</td>\n",
       "      <td>0.007850</td>\n",
       "      <td>0.000452</td>\n",
       "      <td>1845331</td>\n",
       "      <td>0.104183</td>\n",
       "      <td>96397.0</td>\n",
       "      <td>36</td>\n",
       "      <td>2171-07-23</td>\n",
       "    </tr>\n",
       "    <tr>\n",
       "      <th>3</th>\n",
       "      <td>1808</td>\n",
       "      <td>0.008979</td>\n",
       "      <td>0.000452</td>\n",
       "      <td>2256499</td>\n",
       "      <td>0.104183</td>\n",
       "      <td>103560.0</td>\n",
       "      <td>89</td>\n",
       "      <td>2171-07-23</td>\n",
       "    </tr>\n",
       "    <tr>\n",
       "      <th>4</th>\n",
       "      <td>1158</td>\n",
       "      <td>0.002355</td>\n",
       "      <td>0.000000</td>\n",
       "      <td>3257281</td>\n",
       "      <td>0.115023</td>\n",
       "      <td>67691.0</td>\n",
       "      <td>58</td>\n",
       "      <td>2171-07-23</td>\n",
       "    </tr>\n",
       "  </tbody>\n",
       "</table>\n",
       "</div>"
      ],
      "text/plain": [
       "   sku_id     price    number  cheque_id     litrs  client_id  shop_id  \\\n",
       "0    1158  0.002335  0.000000    3338297  0.147929    78634.0      102   \n",
       "1    1158  0.002317  0.000000    3386107  0.134562    20900.0      101   \n",
       "2    1913  0.007850  0.000452    1845331  0.104183    96397.0       36   \n",
       "3    1808  0.008979  0.000452    2256499  0.104183   103560.0       89   \n",
       "4    1158  0.002355  0.000000    3257281  0.115023    67691.0       58   \n",
       "\n",
       "        date  \n",
       "0 2171-07-23  \n",
       "1 2171-07-23  \n",
       "2 2171-07-23  \n",
       "3 2171-07-23  \n",
       "4 2171-07-23  "
      ]
     },
     "execution_count": 67,
     "metadata": {},
     "output_type": "execute_result"
    }
   ],
   "source": [
    "df_trans.head()"
   ]
  },
  {
   "cell_type": "code",
   "execution_count": 68,
   "metadata": {},
   "outputs": [
    {
     "data": {
      "text/html": [
       "<div>\n",
       "<style scoped>\n",
       "    .dataframe tbody tr th:only-of-type {\n",
       "        vertical-align: middle;\n",
       "    }\n",
       "\n",
       "    .dataframe tbody tr th {\n",
       "        vertical-align: top;\n",
       "    }\n",
       "\n",
       "    .dataframe thead th {\n",
       "        text-align: right;\n",
       "    }\n",
       "</style>\n",
       "<table border=\"1\" class=\"dataframe\">\n",
       "  <thead>\n",
       "    <tr style=\"text-align: right;\">\n",
       "      <th></th>\n",
       "      <th>sku_id</th>\n",
       "      <th>price</th>\n",
       "      <th>number</th>\n",
       "      <th>cheque_id</th>\n",
       "      <th>litrs</th>\n",
       "      <th>client_id</th>\n",
       "      <th>shop_id</th>\n",
       "      <th>date</th>\n",
       "      <th>full_name</th>\n",
       "      <th>brand</th>\n",
       "      <th>sku_group</th>\n",
       "      <th>OTM</th>\n",
       "      <th>units</th>\n",
       "      <th>country</th>\n",
       "    </tr>\n",
       "  </thead>\n",
       "  <tbody>\n",
       "    <tr>\n",
       "      <th>18</th>\n",
       "      <td>1913</td>\n",
       "      <td>0.007337</td>\n",
       "      <td>0.000452</td>\n",
       "      <td>2634308</td>\n",
       "      <td>0.104183</td>\n",
       "      <td>96397.0</td>\n",
       "      <td>79</td>\n",
       "      <td>2171-03-07</td>\n",
       "      <td>Сигареты KENT crystal</td>\n",
       "      <td>KENT</td>\n",
       "      <td>Табачные изделия</td>\n",
       "      <td>Нет</td>\n",
       "      <td>шт</td>\n",
       "      <td>unknown</td>\n",
       "    </tr>\n",
       "    <tr>\n",
       "      <th>31</th>\n",
       "      <td>1158</td>\n",
       "      <td>0.002301</td>\n",
       "      <td>0.000000</td>\n",
       "      <td>2634308</td>\n",
       "      <td>0.110832</td>\n",
       "      <td>96397.0</td>\n",
       "      <td>79</td>\n",
       "      <td>2171-03-07</td>\n",
       "      <td>None</td>\n",
       "      <td>None</td>\n",
       "      <td>Ethereum 92</td>\n",
       "      <td>None</td>\n",
       "      <td>None</td>\n",
       "      <td>None</td>\n",
       "    </tr>\n",
       "    <tr>\n",
       "      <th>16</th>\n",
       "      <td>1913</td>\n",
       "      <td>0.007337</td>\n",
       "      <td>0.000452</td>\n",
       "      <td>1817242</td>\n",
       "      <td>0.104183</td>\n",
       "      <td>96397.0</td>\n",
       "      <td>36</td>\n",
       "      <td>2171-03-14</td>\n",
       "      <td>Сигареты KENT crystal</td>\n",
       "      <td>KENT</td>\n",
       "      <td>Табачные изделия</td>\n",
       "      <td>Нет</td>\n",
       "      <td>шт</td>\n",
       "      <td>unknown</td>\n",
       "    </tr>\n",
       "    <tr>\n",
       "      <th>30</th>\n",
       "      <td>1158</td>\n",
       "      <td>0.002306</td>\n",
       "      <td>0.000000</td>\n",
       "      <td>1817242</td>\n",
       "      <td>0.117461</td>\n",
       "      <td>96397.0</td>\n",
       "      <td>36</td>\n",
       "      <td>2171-03-14</td>\n",
       "      <td>None</td>\n",
       "      <td>None</td>\n",
       "      <td>Ethereum 92</td>\n",
       "      <td>None</td>\n",
       "      <td>None</td>\n",
       "      <td>None</td>\n",
       "    </tr>\n",
       "    <tr>\n",
       "      <th>17</th>\n",
       "      <td>1913</td>\n",
       "      <td>0.007337</td>\n",
       "      <td>0.000452</td>\n",
       "      <td>1817242</td>\n",
       "      <td>0.104183</td>\n",
       "      <td>96397.0</td>\n",
       "      <td>36</td>\n",
       "      <td>2171-03-14</td>\n",
       "      <td>Сигареты KENT crystal</td>\n",
       "      <td>KENT</td>\n",
       "      <td>Табачные изделия</td>\n",
       "      <td>Нет</td>\n",
       "      <td>шт</td>\n",
       "      <td>unknown</td>\n",
       "    </tr>\n",
       "  </tbody>\n",
       "</table>\n",
       "</div>"
      ],
      "text/plain": [
       "    sku_id     price    number  cheque_id     litrs  client_id  shop_id  \\\n",
       "18    1913  0.007337  0.000452    2634308  0.104183    96397.0       79   \n",
       "31    1158  0.002301  0.000000    2634308  0.110832    96397.0       79   \n",
       "16    1913  0.007337  0.000452    1817242  0.104183    96397.0       36   \n",
       "30    1158  0.002306  0.000000    1817242  0.117461    96397.0       36   \n",
       "17    1913  0.007337  0.000452    1817242  0.104183    96397.0       36   \n",
       "\n",
       "         date              full_name brand         sku_group   OTM units  \\\n",
       "18 2171-03-07  Сигареты KENT crystal  KENT  Табачные изделия   Нет    шт   \n",
       "31 2171-03-07                   None  None       Ethereum 92  None  None   \n",
       "16 2171-03-14  Сигареты KENT crystal  KENT  Табачные изделия   Нет    шт   \n",
       "30 2171-03-14                   None  None       Ethereum 92  None  None   \n",
       "17 2171-03-14  Сигареты KENT crystal  KENT  Табачные изделия   Нет    шт   \n",
       "\n",
       "    country  \n",
       "18  unknown  \n",
       "31     None  \n",
       "16  unknown  \n",
       "30     None  \n",
       "17  unknown  "
      ]
     },
     "execution_count": 68,
     "metadata": {},
     "output_type": "execute_result"
    }
   ],
   "source": [
    "#возьму конкретного клиента и посмотрю его чеки\n",
    "#добавлю описание товаров из таблицы с номенклатурой\n",
    "pd.merge(df_trans[df_trans['client_id'] == 96397], df_nomencl,\n",
    "         on=\"sku_id\").sort_values(by='date').head(5)"
   ]
  },
  {
   "cell_type": "markdown",
   "metadata": {},
   "source": [
    "??? Почему у сигарет литры и numbers одновременно? numbers маленькие?"
   ]
  },
  {
   "cell_type": "markdown",
   "metadata": {},
   "source": [
    "??? Есть ли где то литры = 0 или меньше 0?  \n",
    "Есть значения unknown  \n",
    "\n",
    "Разберусь с этим позже, сначала закончу с пропусками"
   ]
  },
  {
   "cell_type": "markdown",
   "metadata": {},
   "source": [
    "<br>Пропуски"
   ]
  },
  {
   "cell_type": "code",
   "execution_count": 69,
   "metadata": {},
   "outputs": [
    {
     "data": {
      "text/plain": [
       "sku_id             0\n",
       "price              0\n",
       "number             0\n",
       "cheque_id          0\n",
       "litrs              0\n",
       "client_id    3772355\n",
       "shop_id            0\n",
       "date               0\n",
       "dtype: int64"
      ]
     },
     "execution_count": 69,
     "metadata": {},
     "output_type": "execute_result"
    }
   ],
   "source": [
    "df_trans.isnull().sum()"
   ]
  },
  {
   "cell_type": "code",
   "execution_count": 70,
   "metadata": {},
   "outputs": [
    {
     "data": {
      "text/html": [
       "<div>\n",
       "<style scoped>\n",
       "    .dataframe tbody tr th:only-of-type {\n",
       "        vertical-align: middle;\n",
       "    }\n",
       "\n",
       "    .dataframe tbody tr th {\n",
       "        vertical-align: top;\n",
       "    }\n",
       "\n",
       "    .dataframe thead th {\n",
       "        text-align: right;\n",
       "    }\n",
       "</style>\n",
       "<table border=\"1\" class=\"dataframe\">\n",
       "  <thead>\n",
       "    <tr style=\"text-align: right;\">\n",
       "      <th></th>\n",
       "      <th>sku_id</th>\n",
       "      <th>price</th>\n",
       "      <th>number</th>\n",
       "      <th>cheque_id</th>\n",
       "      <th>litrs</th>\n",
       "      <th>client_id</th>\n",
       "      <th>shop_id</th>\n",
       "      <th>date</th>\n",
       "    </tr>\n",
       "  </thead>\n",
       "  <tbody>\n",
       "    <tr>\n",
       "      <th>11</th>\n",
       "      <td>558</td>\n",
       "      <td>0.011237</td>\n",
       "      <td>0.000452</td>\n",
       "      <td>1386544</td>\n",
       "      <td>0.104183</td>\n",
       "      <td>NaN</td>\n",
       "      <td>94</td>\n",
       "      <td>2171-07-23</td>\n",
       "    </tr>\n",
       "    <tr>\n",
       "      <th>12</th>\n",
       "      <td>558</td>\n",
       "      <td>0.011237</td>\n",
       "      <td>0.000452</td>\n",
       "      <td>1386544</td>\n",
       "      <td>0.104183</td>\n",
       "      <td>NaN</td>\n",
       "      <td>94</td>\n",
       "      <td>2171-07-23</td>\n",
       "    </tr>\n",
       "    <tr>\n",
       "      <th>13</th>\n",
       "      <td>558</td>\n",
       "      <td>0.011237</td>\n",
       "      <td>0.000452</td>\n",
       "      <td>1386544</td>\n",
       "      <td>0.104183</td>\n",
       "      <td>NaN</td>\n",
       "      <td>94</td>\n",
       "      <td>2171-07-23</td>\n",
       "    </tr>\n",
       "    <tr>\n",
       "      <th>14</th>\n",
       "      <td>1158</td>\n",
       "      <td>0.002335</td>\n",
       "      <td>0.000000</td>\n",
       "      <td>2582618</td>\n",
       "      <td>0.115122</td>\n",
       "      <td>NaN</td>\n",
       "      <td>103</td>\n",
       "      <td>2171-07-23</td>\n",
       "    </tr>\n",
       "    <tr>\n",
       "      <th>16</th>\n",
       "      <td>1158</td>\n",
       "      <td>0.002335</td>\n",
       "      <td>0.000000</td>\n",
       "      <td>3338268</td>\n",
       "      <td>0.126051</td>\n",
       "      <td>NaN</td>\n",
       "      <td>102</td>\n",
       "      <td>2171-07-23</td>\n",
       "    </tr>\n",
       "  </tbody>\n",
       "</table>\n",
       "</div>"
      ],
      "text/plain": [
       "    sku_id     price    number  cheque_id     litrs  client_id  shop_id  \\\n",
       "11     558  0.011237  0.000452    1386544  0.104183        NaN       94   \n",
       "12     558  0.011237  0.000452    1386544  0.104183        NaN       94   \n",
       "13     558  0.011237  0.000452    1386544  0.104183        NaN       94   \n",
       "14    1158  0.002335  0.000000    2582618  0.115122        NaN      103   \n",
       "16    1158  0.002335  0.000000    3338268  0.126051        NaN      102   \n",
       "\n",
       "         date  \n",
       "11 2171-07-23  \n",
       "12 2171-07-23  \n",
       "13 2171-07-23  \n",
       "14 2171-07-23  \n",
       "16 2171-07-23  "
      ]
     },
     "execution_count": 70,
     "metadata": {},
     "output_type": "execute_result"
    }
   ],
   "source": [
    "#посмотрю на несколько пропусков\n",
    "df_trans[df_trans['client_id'].isna()].head()"
   ]
  },
  {
   "cell_type": "markdown",
   "metadata": {},
   "source": [
    "client_id имеет много пропусков, нам об это и сказали в условии задачи (уникальный идентификатор клиента заполнен если клиент \"представился\" при покупке. Под представился вероятно имеется в виду наличие карты лояльности). Заменю таких клиентов на \"-1\""
   ]
  },
  {
   "cell_type": "code",
   "execution_count": 71,
   "metadata": {},
   "outputs": [],
   "source": [
    "df_trans['client_id'] = df_trans['client_id'].fillna(-1)"
   ]
  },
  {
   "cell_type": "code",
   "execution_count": 72,
   "metadata": {},
   "outputs": [
    {
     "data": {
      "text/plain": [
       "sku_id       0\n",
       "price        0\n",
       "number       0\n",
       "cheque_id    0\n",
       "litrs        0\n",
       "client_id    0\n",
       "shop_id      0\n",
       "date         0\n",
       "dtype: int64"
      ]
     },
     "execution_count": 72,
     "metadata": {},
     "output_type": "execute_result"
    }
   ],
   "source": [
    "df_trans.isnull().sum()"
   ]
  },
  {
   "cell_type": "markdown",
   "metadata": {},
   "source": [
    "<br><br>Типы данных"
   ]
  },
  {
   "cell_type": "code",
   "execution_count": 73,
   "metadata": {},
   "outputs": [
    {
     "name": "stdout",
     "output_type": "stream",
     "text": [
      "<class 'pandas.core.frame.DataFrame'>\n",
      "RangeIndex: 7620119 entries, 0 to 7620118\n",
      "Data columns (total 8 columns):\n",
      " #   Column     Dtype         \n",
      "---  ------     -----         \n",
      " 0   sku_id     int64         \n",
      " 1   price      float64       \n",
      " 2   number     float64       \n",
      " 3   cheque_id  int64         \n",
      " 4   litrs      float64       \n",
      " 5   client_id  float64       \n",
      " 6   shop_id    int64         \n",
      " 7   date       datetime64[ns]\n",
      "dtypes: datetime64[ns](1), float64(4), int64(3)\n",
      "memory usage: 465.1 MB\n"
     ]
    }
   ],
   "source": [
    "df_trans.info()"
   ]
  },
  {
   "cell_type": "markdown",
   "metadata": {},
   "source": [
    " Все ок, за исключением client_id, почему то у него тип float а по логике должен быть int"
   ]
  },
  {
   "cell_type": "code",
   "execution_count": 74,
   "metadata": {},
   "outputs": [],
   "source": [
    "#посмотрю на дробные части, есть ли что то отличное от нуля?\n",
    "client_id_parts = []\n",
    "for val in df_trans[\"client_id\"].values:\n",
    "    client_id_parts.append(str(val).split(\".\")[1])"
   ]
  },
  {
   "cell_type": "code",
   "execution_count": 75,
   "metadata": {},
   "outputs": [
    {
     "data": {
      "text/plain": [
       "{'0'}"
      ]
     },
     "execution_count": 75,
     "metadata": {},
     "output_type": "execute_result"
    }
   ],
   "source": [
    "#дробная часть всегда равна нулю. \n",
    "#Переделаю тип в int\n",
    "set(client_id_parts)"
   ]
  },
  {
   "cell_type": "code",
   "execution_count": 76,
   "metadata": {},
   "outputs": [],
   "source": [
    "df_trans['client_id'] = df_trans['client_id'].astype(int)"
   ]
  },
  {
   "cell_type": "markdown",
   "metadata": {},
   "source": [
    "<br><br>Удаление дублей"
   ]
  },
  {
   "cell_type": "code",
   "execution_count": 77,
   "metadata": {},
   "outputs": [
    {
     "name": "stdout",
     "output_type": "stream",
     "text": [
      "Записей до удаления дубликатов: 7620119\n"
     ]
    }
   ],
   "source": [
    "print(\"Записей до удаления дубликатов: {}\".format(len(df_trans)))"
   ]
  },
  {
   "cell_type": "code",
   "execution_count": 78,
   "metadata": {},
   "outputs": [],
   "source": [
    "df_trans.drop_duplicates(subset=None, keep='first', inplace=True)"
   ]
  },
  {
   "cell_type": "code",
   "execution_count": 79,
   "metadata": {},
   "outputs": [
    {
     "name": "stdout",
     "output_type": "stream",
     "text": [
      "Записей после удаления дубликатов: 6800919\n"
     ]
    }
   ],
   "source": [
    "print(\"Записей после удаления дубликатов: {}\".format(len(df_trans)))"
   ]
  },
  {
   "cell_type": "markdown",
   "metadata": {},
   "source": [
    "Сколько у нас трназакций по времени?"
   ]
  },
  {
   "cell_type": "code",
   "execution_count": 80,
   "metadata": {},
   "outputs": [],
   "source": [
    "#для начала отсротирую данные по дате\n",
    "df_trans = df_trans.sort_values(by='date')"
   ]
  },
  {
   "cell_type": "code",
   "execution_count": 81,
   "metadata": {},
   "outputs": [
    {
     "data": {
      "text/html": [
       "<div>\n",
       "<style scoped>\n",
       "    .dataframe tbody tr th:only-of-type {\n",
       "        vertical-align: middle;\n",
       "    }\n",
       "\n",
       "    .dataframe tbody tr th {\n",
       "        vertical-align: top;\n",
       "    }\n",
       "\n",
       "    .dataframe thead th {\n",
       "        text-align: right;\n",
       "    }\n",
       "</style>\n",
       "<table border=\"1\" class=\"dataframe\">\n",
       "  <thead>\n",
       "    <tr style=\"text-align: right;\">\n",
       "      <th></th>\n",
       "      <th>sku_id</th>\n",
       "      <th>price</th>\n",
       "      <th>number</th>\n",
       "      <th>cheque_id</th>\n",
       "      <th>litrs</th>\n",
       "      <th>client_id</th>\n",
       "      <th>shop_id</th>\n",
       "      <th>date</th>\n",
       "    </tr>\n",
       "  </thead>\n",
       "  <tbody>\n",
       "    <tr>\n",
       "      <th>7620118</th>\n",
       "      <td>1158</td>\n",
       "      <td>0.00227</td>\n",
       "      <td>0.0</td>\n",
       "      <td>1764664</td>\n",
       "      <td>0.159197</td>\n",
       "      <td>192548</td>\n",
       "      <td>77</td>\n",
       "      <td>2171-03-01</td>\n",
       "    </tr>\n",
       "  </tbody>\n",
       "</table>\n",
       "</div>"
      ],
      "text/plain": [
       "         sku_id    price  number  cheque_id     litrs  client_id  shop_id  \\\n",
       "7620118    1158  0.00227     0.0    1764664  0.159197     192548       77   \n",
       "\n",
       "              date  \n",
       "7620118 2171-03-01  "
      ]
     },
     "execution_count": 81,
     "metadata": {},
     "output_type": "execute_result"
    }
   ],
   "source": [
    "df_trans.head(1)"
   ]
  },
  {
   "cell_type": "code",
   "execution_count": 82,
   "metadata": {},
   "outputs": [
    {
     "data": {
      "text/html": [
       "<div>\n",
       "<style scoped>\n",
       "    .dataframe tbody tr th:only-of-type {\n",
       "        vertical-align: middle;\n",
       "    }\n",
       "\n",
       "    .dataframe tbody tr th {\n",
       "        vertical-align: top;\n",
       "    }\n",
       "\n",
       "    .dataframe thead th {\n",
       "        text-align: right;\n",
       "    }\n",
       "</style>\n",
       "<table border=\"1\" class=\"dataframe\">\n",
       "  <thead>\n",
       "    <tr style=\"text-align: right;\">\n",
       "      <th></th>\n",
       "      <th>sku_id</th>\n",
       "      <th>price</th>\n",
       "      <th>number</th>\n",
       "      <th>cheque_id</th>\n",
       "      <th>litrs</th>\n",
       "      <th>client_id</th>\n",
       "      <th>shop_id</th>\n",
       "      <th>date</th>\n",
       "    </tr>\n",
       "  </thead>\n",
       "  <tbody>\n",
       "    <tr>\n",
       "      <th>40967</th>\n",
       "      <td>1509</td>\n",
       "      <td>0.008671</td>\n",
       "      <td>0.000452</td>\n",
       "      <td>2625142</td>\n",
       "      <td>0.104183</td>\n",
       "      <td>-1</td>\n",
       "      <td>6</td>\n",
       "      <td>2171-07-31</td>\n",
       "    </tr>\n",
       "  </tbody>\n",
       "</table>\n",
       "</div>"
      ],
      "text/plain": [
       "       sku_id     price    number  cheque_id     litrs  client_id  shop_id  \\\n",
       "40967    1509  0.008671  0.000452    2625142  0.104183         -1        6   \n",
       "\n",
       "            date  \n",
       "40967 2171-07-31  "
      ]
     },
     "execution_count": 82,
     "metadata": {},
     "output_type": "execute_result"
    }
   ],
   "source": [
    "df_trans.tail(1)"
   ]
  },
  {
   "cell_type": "markdown",
   "metadata": {},
   "source": [
    "Данные у нас за 5 месяцев.  \n",
    "Визуализирую количество чеков по месяцам, чтобы понять активность или просадки в данных или продажах"
   ]
  },
  {
   "cell_type": "code",
   "execution_count": 83,
   "metadata": {},
   "outputs": [],
   "source": [
    "#Создам столбец с месяцем\n",
    "df_trans['month'] = df_trans['date'].apply(lambda d: d.month)"
   ]
  },
  {
   "cell_type": "code",
   "execution_count": 84,
   "metadata": {},
   "outputs": [
    {
     "data": {
      "image/png": "[encoded data removed]",
      "text/plain": [
       "<Figure size 432x288 with 1 Axes>"
      ]
     },
     "metadata": {
      "needs_background": "light"
     },
     "output_type": "display_data"
    }
   ],
   "source": [
    "sns.countplot(data=df_trans, x='month');"
   ]
  },
  {
   "cell_type": "markdown",
   "metadata": {},
   "source": [
    "В целом количество чеков, суммарно по всем заправкам, +/- одинаковая в разрезе месяцев, нет падений или явного отсутствия данных."
   ]
  },
  {
   "cell_type": "markdown",
   "metadata": {},
   "source": [
    "- #### Номенклатура"
   ]
  },
  {
   "cell_type": "code",
   "execution_count": 85,
   "metadata": {},
   "outputs": [
    {
     "data": {
      "text/html": [
       "<div>\n",
       "<style scoped>\n",
       "    .dataframe tbody tr th:only-of-type {\n",
       "        vertical-align: middle;\n",
       "    }\n",
       "\n",
       "    .dataframe tbody tr th {\n",
       "        vertical-align: top;\n",
       "    }\n",
       "\n",
       "    .dataframe thead th {\n",
       "        text-align: right;\n",
       "    }\n",
       "</style>\n",
       "<table border=\"1\" class=\"dataframe\">\n",
       "  <thead>\n",
       "    <tr style=\"text-align: right;\">\n",
       "      <th></th>\n",
       "      <th>sku_id</th>\n",
       "      <th>full_name</th>\n",
       "      <th>brand</th>\n",
       "      <th>sku_group</th>\n",
       "      <th>OTM</th>\n",
       "      <th>units</th>\n",
       "      <th>country</th>\n",
       "    </tr>\n",
       "  </thead>\n",
       "  <tbody>\n",
       "    <tr>\n",
       "      <th>0</th>\n",
       "      <td>0</td>\n",
       "      <td>Масло Lubricrol Magnatec Diesel 10W-40 B4 1л</td>\n",
       "      <td>Lubricrol</td>\n",
       "      <td>Масла моторные (для варповых двигателей)</td>\n",
       "      <td>Нет</td>\n",
       "      <td>unknown</td>\n",
       "      <td>ГЕРМАНИЯ</td>\n",
       "    </tr>\n",
       "    <tr>\n",
       "      <th>1</th>\n",
       "      <td>723</td>\n",
       "      <td>Трос УранПРОМEthereum буксировочный 4500кг</td>\n",
       "      <td>УранПРОМEthereum</td>\n",
       "      <td>Автотовары</td>\n",
       "      <td>Да</td>\n",
       "      <td>шт</td>\n",
       "      <td>РОССИЯ</td>\n",
       "    </tr>\n",
       "    <tr>\n",
       "      <th>2</th>\n",
       "      <td>3397</td>\n",
       "      <td>Накидка УранПРОМEthereum на спинку автосиденья...</td>\n",
       "      <td>УранПРОМEthereum</td>\n",
       "      <td>Автотовары</td>\n",
       "      <td>Да</td>\n",
       "      <td>шт</td>\n",
       "      <td>unknown</td>\n",
       "    </tr>\n",
       "    <tr>\n",
       "      <th>3</th>\n",
       "      <td>2130</td>\n",
       "      <td>Жилет УранПРОМEthereum световозвращающий</td>\n",
       "      <td>УранПРОМEthereum</td>\n",
       "      <td>Автотовары</td>\n",
       "      <td>Да</td>\n",
       "      <td>шт</td>\n",
       "      <td>unknown</td>\n",
       "    </tr>\n",
       "    <tr>\n",
       "      <th>4</th>\n",
       "      <td>3150</td>\n",
       "      <td>Провода УранПРОМEthereum для прикуривания 200А</td>\n",
       "      <td>УранПРОМEthereum</td>\n",
       "      <td>Автотовары</td>\n",
       "      <td>Да</td>\n",
       "      <td>шт</td>\n",
       "      <td>РОССИЯ</td>\n",
       "    </tr>\n",
       "  </tbody>\n",
       "</table>\n",
       "</div>"
      ],
      "text/plain": [
       "   sku_id                                          full_name  \\\n",
       "0       0       Масло Lubricrol Magnatec Diesel 10W-40 B4 1л   \n",
       "1     723         Трос УранПРОМEthereum буксировочный 4500кг   \n",
       "2    3397  Накидка УранПРОМEthereum на спинку автосиденья...   \n",
       "3    2130           Жилет УранПРОМEthereum световозвращающий   \n",
       "4    3150     Провода УранПРОМEthereum для прикуривания 200А   \n",
       "\n",
       "              brand                                 sku_group  OTM    units  \\\n",
       "0         Lubricrol  Масла моторные (для варповых двигателей)  Нет  unknown   \n",
       "1  УранПРОМEthereum                                Автотовары   Да       шт   \n",
       "2  УранПРОМEthereum                                Автотовары   Да       шт   \n",
       "3  УранПРОМEthereum                                Автотовары   Да       шт   \n",
       "4  УранПРОМEthereum                                Автотовары   Да       шт   \n",
       "\n",
       "    country  \n",
       "0  ГЕРМАНИЯ  \n",
       "1    РОССИЯ  \n",
       "2   unknown  \n",
       "3   unknown  \n",
       "4    РОССИЯ  "
      ]
     },
     "execution_count": 85,
     "metadata": {},
     "output_type": "execute_result"
    }
   ],
   "source": [
    "df_nomencl.head()"
   ]
  },
  {
   "cell_type": "markdown",
   "metadata": {},
   "source": [
    "Типы данных"
   ]
  },
  {
   "cell_type": "code",
   "execution_count": 86,
   "metadata": {},
   "outputs": [
    {
     "name": "stdout",
     "output_type": "stream",
     "text": [
      "<class 'pandas.core.frame.DataFrame'>\n",
      "RangeIndex: 5103 entries, 0 to 5102\n",
      "Data columns (total 7 columns):\n",
      " #   Column     Non-Null Count  Dtype \n",
      "---  ------     --------------  ----- \n",
      " 0   sku_id     5103 non-null   int64 \n",
      " 1   full_name  5094 non-null   object\n",
      " 2   brand      5094 non-null   object\n",
      " 3   sku_group  5103 non-null   object\n",
      " 4   OTM        5094 non-null   object\n",
      " 5   units      5094 non-null   object\n",
      " 6   country    5094 non-null   object\n",
      "dtypes: int64(1), object(6)\n",
      "memory usage: 279.2+ KB\n"
     ]
    }
   ],
   "source": [
    "df_nomencl.info()"
   ]
  },
  {
   "cell_type": "markdown",
   "metadata": {},
   "source": [
    "Все ок с типами данных"
   ]
  },
  {
   "cell_type": "markdown",
   "metadata": {},
   "source": [
    "<br><br>Такого рода переменные следует удалить:\n",
    "- переменных, у которых количество категорий совпадает с количеством наблюдений\n",
    "- переменных с одним уникальным значением\n",
    "- переменных констант  \n",
    "В наших данных такого нет."
   ]
  },
  {
   "cell_type": "markdown",
   "metadata": {},
   "source": [
    "<br><br>Пропуски"
   ]
  },
  {
   "cell_type": "code",
   "execution_count": 87,
   "metadata": {},
   "outputs": [
    {
     "data": {
      "text/plain": [
       "sku_id       0\n",
       "full_name    9\n",
       "brand        9\n",
       "sku_group    0\n",
       "OTM          9\n",
       "units        9\n",
       "country      9\n",
       "dtype: int64"
      ]
     },
     "execution_count": 87,
     "metadata": {},
     "output_type": "execute_result"
    }
   ],
   "source": [
    "#где пропуски?\n",
    "df_nomencl.isnull().sum()"
   ]
  },
  {
   "cell_type": "code",
   "execution_count": 88,
   "metadata": {},
   "outputs": [],
   "source": [
    "nan_values_index = [] #сохраню индексы строк с пропусками\n",
    "\n",
    "for col in df_nomencl.columns:\n",
    "    nan_values_index = [*nan_values_index, \n",
    "                        *df_nomencl[df_nomencl[col].isna()].index.values]\n",
    "    \n",
    "nan_values_index = list(set(nan_values_index))"
   ]
  },
  {
   "cell_type": "code",
   "execution_count": 89,
   "metadata": {},
   "outputs": [
    {
     "data": {
      "text/html": [
       "<div>\n",
       "<style scoped>\n",
       "    .dataframe tbody tr th:only-of-type {\n",
       "        vertical-align: middle;\n",
       "    }\n",
       "\n",
       "    .dataframe tbody tr th {\n",
       "        vertical-align: top;\n",
       "    }\n",
       "\n",
       "    .dataframe thead th {\n",
       "        text-align: right;\n",
       "    }\n",
       "</style>\n",
       "<table border=\"1\" class=\"dataframe\">\n",
       "  <thead>\n",
       "    <tr style=\"text-align: right;\">\n",
       "      <th></th>\n",
       "      <th>sku_id</th>\n",
       "      <th>full_name</th>\n",
       "      <th>brand</th>\n",
       "      <th>sku_group</th>\n",
       "      <th>OTM</th>\n",
       "      <th>units</th>\n",
       "      <th>country</th>\n",
       "    </tr>\n",
       "  </thead>\n",
       "  <tbody>\n",
       "    <tr>\n",
       "      <th>3787</th>\n",
       "      <td>1159</td>\n",
       "      <td>None</td>\n",
       "      <td>None</td>\n",
       "      <td>Ethereum 95</td>\n",
       "      <td>None</td>\n",
       "      <td>None</td>\n",
       "      <td>None</td>\n",
       "    </tr>\n",
       "    <tr>\n",
       "      <th>3724</th>\n",
       "      <td>1158</td>\n",
       "      <td>None</td>\n",
       "      <td>None</td>\n",
       "      <td>Ethereum 92</td>\n",
       "      <td>None</td>\n",
       "      <td>None</td>\n",
       "      <td>None</td>\n",
       "    </tr>\n",
       "    <tr>\n",
       "      <th>3727</th>\n",
       "      <td>1157</td>\n",
       "      <td>None</td>\n",
       "      <td>None</td>\n",
       "      <td>Ethereum 95 бренд</td>\n",
       "      <td>None</td>\n",
       "      <td>None</td>\n",
       "      <td>None</td>\n",
       "    </tr>\n",
       "    <tr>\n",
       "      <th>3728</th>\n",
       "      <td>1163</td>\n",
       "      <td>None</td>\n",
       "      <td>None</td>\n",
       "      <td>Топливо варповое с присадками летнее</td>\n",
       "      <td>None</td>\n",
       "      <td>None</td>\n",
       "      <td>None</td>\n",
       "    </tr>\n",
       "    <tr>\n",
       "      <th>3825</th>\n",
       "      <td>1162</td>\n",
       "      <td>None</td>\n",
       "      <td>None</td>\n",
       "      <td>Топливо варповое с присадками зимнее</td>\n",
       "      <td>None</td>\n",
       "      <td>None</td>\n",
       "      <td>None</td>\n",
       "    </tr>\n",
       "    <tr>\n",
       "      <th>3858</th>\n",
       "      <td>2032</td>\n",
       "      <td>None</td>\n",
       "      <td>None</td>\n",
       "      <td>Ethereum 100 бренд</td>\n",
       "      <td>None</td>\n",
       "      <td>None</td>\n",
       "      <td>None</td>\n",
       "    </tr>\n",
       "    <tr>\n",
       "      <th>4407</th>\n",
       "      <td>1161</td>\n",
       "      <td>None</td>\n",
       "      <td>None</td>\n",
       "      <td>Топливо варповое летнее</td>\n",
       "      <td>None</td>\n",
       "      <td>None</td>\n",
       "      <td>None</td>\n",
       "    </tr>\n",
       "    <tr>\n",
       "      <th>4922</th>\n",
       "      <td>1771</td>\n",
       "      <td>None</td>\n",
       "      <td>None</td>\n",
       "      <td>Топливо варповое с присадками межсезонное</td>\n",
       "      <td>None</td>\n",
       "      <td>None</td>\n",
       "      <td>None</td>\n",
       "    </tr>\n",
       "    <tr>\n",
       "      <th>3771</th>\n",
       "      <td>1160</td>\n",
       "      <td>None</td>\n",
       "      <td>None</td>\n",
       "      <td>Топливо варповое зимнее</td>\n",
       "      <td>None</td>\n",
       "      <td>None</td>\n",
       "      <td>None</td>\n",
       "    </tr>\n",
       "  </tbody>\n",
       "</table>\n",
       "</div>"
      ],
      "text/plain": [
       "      sku_id full_name brand                                  sku_group   OTM  \\\n",
       "3787    1159      None  None                                Ethereum 95  None   \n",
       "3724    1158      None  None                                Ethereum 92  None   \n",
       "3727    1157      None  None                          Ethereum 95 бренд  None   \n",
       "3728    1163      None  None       Топливо варповое с присадками летнее  None   \n",
       "3825    1162      None  None       Топливо варповое с присадками зимнее  None   \n",
       "3858    2032      None  None                         Ethereum 100 бренд  None   \n",
       "4407    1161      None  None                    Топливо варповое летнее  None   \n",
       "4922    1771      None  None  Топливо варповое с присадками межсезонное  None   \n",
       "3771    1160      None  None                    Топливо варповое зимнее  None   \n",
       "\n",
       "     units country  \n",
       "3787  None    None  \n",
       "3724  None    None  \n",
       "3727  None    None  \n",
       "3728  None    None  \n",
       "3825  None    None  \n",
       "3858  None    None  \n",
       "4407  None    None  \n",
       "4922  None    None  \n",
       "3771  None    None  "
      ]
     },
     "execution_count": 89,
     "metadata": {},
     "output_type": "execute_result"
    }
   ],
   "source": [
    "#выделю в отдельный dataframe все строки с пропусками в номенклатуре чтобы проанализировать их\n",
    "df_nomencl_nan = df_nomencl.loc[nan_values_index] #все строки с пропусками\n",
    "\n",
    "nan_values_sku_id = df_nomencl_nan['sku_id'].values #sku_id товаров с пропусками\n",
    "nan_values_ethereum_sku_id = df_nomencl_nan[df_nomencl_nan['sku_group'].str.contains('Ethereum')]\\\n",
    "                            ['sku_id'].values#sku_id товаров из тех что имеют пропуски и содержащих *Ethereum*\n",
    "nan_values_varpfuel_sku_id = df_nomencl_nan[df_nomencl_nan['sku_group'].str.contains('варповое')]\\\n",
    "                            ['sku_id'].values#sku_id товаров из тех что имеют пропуски и содержащих *варповое*\n",
    "\n",
    "df_nomencl_nan"
   ]
  },
  {
   "cell_type": "markdown",
   "metadata": {},
   "source": [
    "Все 9 столбцов с пропусками в 9 записях. Отсутствует все кроме наименования. По группе видно что все товары это топливо. \n",
    "Не смотря на то, что в условии задачи нет категорий с топливом для которых нужно предложить следующий товар, может существовать связь между топливом и напитками или другими товарами, ведь люди приезжают за топливом на заправку. \n",
    "\n",
    "Нужно восстановить пропущенные значения."
   ]
  },
  {
   "cell_type": "markdown",
   "metadata": {},
   "source": [
    "Очевидно, что эти товары топливо.  \n",
    "Можно проверить по таблице с транзакциями, товар-топливо это если number=0 а litrs>0"
   ]
  },
  {
   "cell_type": "code",
   "execution_count": 90,
   "metadata": {},
   "outputs": [
    {
     "data": {
      "text/html": [
       "<div>\n",
       "<style scoped>\n",
       "    .dataframe tbody tr th:only-of-type {\n",
       "        vertical-align: middle;\n",
       "    }\n",
       "\n",
       "    .dataframe tbody tr th {\n",
       "        vertical-align: top;\n",
       "    }\n",
       "\n",
       "    .dataframe thead th {\n",
       "        text-align: right;\n",
       "    }\n",
       "</style>\n",
       "<table border=\"1\" class=\"dataframe\">\n",
       "  <thead>\n",
       "    <tr style=\"text-align: right;\">\n",
       "      <th></th>\n",
       "      <th>number</th>\n",
       "      <th>litrs</th>\n",
       "    </tr>\n",
       "    <tr>\n",
       "      <th>sku_id</th>\n",
       "      <th></th>\n",
       "      <th></th>\n",
       "    </tr>\n",
       "  </thead>\n",
       "  <tbody>\n",
       "    <tr>\n",
       "      <th>1157</th>\n",
       "      <td>0.0</td>\n",
       "      <td>46769.789831</td>\n",
       "    </tr>\n",
       "    <tr>\n",
       "      <th>1158</th>\n",
       "      <td>0.0</td>\n",
       "      <td>64796.547015</td>\n",
       "    </tr>\n",
       "    <tr>\n",
       "      <th>1159</th>\n",
       "      <td>0.0</td>\n",
       "      <td>85426.704022</td>\n",
       "    </tr>\n",
       "    <tr>\n",
       "      <th>1160</th>\n",
       "      <td>0.0</td>\n",
       "      <td>557.685280</td>\n",
       "    </tr>\n",
       "    <tr>\n",
       "      <th>1161</th>\n",
       "      <td>0.0</td>\n",
       "      <td>6.378492</td>\n",
       "    </tr>\n",
       "    <tr>\n",
       "      <th>1162</th>\n",
       "      <td>0.0</td>\n",
       "      <td>15609.847960</td>\n",
       "    </tr>\n",
       "    <tr>\n",
       "      <th>1163</th>\n",
       "      <td>0.0</td>\n",
       "      <td>24803.053550</td>\n",
       "    </tr>\n",
       "    <tr>\n",
       "      <th>1771</th>\n",
       "      <td>0.0</td>\n",
       "      <td>109.060796</td>\n",
       "    </tr>\n",
       "    <tr>\n",
       "      <th>2032</th>\n",
       "      <td>0.0</td>\n",
       "      <td>15628.749112</td>\n",
       "    </tr>\n",
       "  </tbody>\n",
       "</table>\n",
       "</div>"
      ],
      "text/plain": [
       "        number         litrs\n",
       "sku_id                      \n",
       "1157       0.0  46769.789831\n",
       "1158       0.0  64796.547015\n",
       "1159       0.0  85426.704022\n",
       "1160       0.0    557.685280\n",
       "1161       0.0      6.378492\n",
       "1162       0.0  15609.847960\n",
       "1163       0.0  24803.053550\n",
       "1771       0.0    109.060796\n",
       "2032       0.0  15628.749112"
      ]
     },
     "execution_count": 90,
     "metadata": {},
     "output_type": "execute_result"
    }
   ],
   "source": [
    "_ = df_trans[df_trans['sku_id'].isin(nan_values_sku_id)]\n",
    "_.groupby('sku_id')[['number', 'litrs']].sum()"
   ]
  },
  {
   "cell_type": "markdown",
   "metadata": {},
   "source": [
    "Как видно, numbers = 0 а litrs - числа, значит units = 'л'"
   ]
  },
  {
   "cell_type": "code",
   "execution_count": 91,
   "metadata": {},
   "outputs": [],
   "source": [
    "#проставляю для этих пропусков литры\n",
    "df_nomencl.at[nan_values_index, 'units'] = 'л'"
   ]
  },
  {
   "cell_type": "markdown",
   "metadata": {},
   "source": [
    "- Посмотрю на товары с пропусками и соджержащие слово Ethereum:"
   ]
  },
  {
   "cell_type": "code",
   "execution_count": 92,
   "metadata": {},
   "outputs": [
    {
     "data": {
      "text/html": [
       "<div>\n",
       "<style scoped>\n",
       "    .dataframe tbody tr th:only-of-type {\n",
       "        vertical-align: middle;\n",
       "    }\n",
       "\n",
       "    .dataframe tbody tr th {\n",
       "        vertical-align: top;\n",
       "    }\n",
       "\n",
       "    .dataframe thead th {\n",
       "        text-align: right;\n",
       "    }\n",
       "</style>\n",
       "<table border=\"1\" class=\"dataframe\">\n",
       "  <thead>\n",
       "    <tr style=\"text-align: right;\">\n",
       "      <th></th>\n",
       "      <th>sku_id</th>\n",
       "      <th>full_name</th>\n",
       "      <th>brand</th>\n",
       "      <th>sku_group</th>\n",
       "      <th>OTM</th>\n",
       "      <th>units</th>\n",
       "      <th>country</th>\n",
       "    </tr>\n",
       "  </thead>\n",
       "  <tbody>\n",
       "    <tr>\n",
       "      <th>549</th>\n",
       "      <td>610</td>\n",
       "      <td>Масло GAZPROMNEFT моторное М-8В 1л</td>\n",
       "      <td>GAZPROMNEFT</td>\n",
       "      <td>Масла моторные (для Ethereumовых двигателей) \"...</td>\n",
       "      <td>Нет</td>\n",
       "      <td>л</td>\n",
       "      <td>unknown</td>\n",
       "    </tr>\n",
       "    <tr>\n",
       "      <th>550</th>\n",
       "      <td>622</td>\n",
       "      <td>Масло GAZPROMNEFT Super 10W-40 1л</td>\n",
       "      <td>GAZPROMNEFT</td>\n",
       "      <td>Масла моторные (для Ethereumовых двигателей) \"...</td>\n",
       "      <td>Нет</td>\n",
       "      <td>л</td>\n",
       "      <td>РОССИЯ</td>\n",
       "    </tr>\n",
       "    <tr>\n",
       "      <th>551</th>\n",
       "      <td>617</td>\n",
       "      <td>Масло GAZPROMNEFT Super 10W-40 API SG/CD 4л</td>\n",
       "      <td>GAZPROMNEFT</td>\n",
       "      <td>Масла моторные (для Ethereumовых двигателей) \"...</td>\n",
       "      <td>Нет</td>\n",
       "      <td>л</td>\n",
       "      <td>РОССИЯ</td>\n",
       "    </tr>\n",
       "    <tr>\n",
       "      <th>552</th>\n",
       "      <td>614</td>\n",
       "      <td>Масло GAZPROMNEFT Premium L 10W-40 API SL/CF A...</td>\n",
       "      <td>GAZPROMNEFT</td>\n",
       "      <td>Масла моторные (для Ethereumовых двигателей) \"...</td>\n",
       "      <td>Нет</td>\n",
       "      <td>л</td>\n",
       "      <td>РОССИЯ</td>\n",
       "    </tr>\n",
       "    <tr>\n",
       "      <th>553</th>\n",
       "      <td>609</td>\n",
       "      <td>Масло G-Energy F Synth 5W-40 1л</td>\n",
       "      <td>G-Energy</td>\n",
       "      <td>Масла моторные (для Ethereumовых двигателей) \"...</td>\n",
       "      <td>Нет</td>\n",
       "      <td>л</td>\n",
       "      <td>ИТАЛИЯ</td>\n",
       "    </tr>\n",
       "    <tr>\n",
       "      <th>554</th>\n",
       "      <td>2653</td>\n",
       "      <td>Масло G-Energy F Synth 5W-40 4л</td>\n",
       "      <td>G-Energy</td>\n",
       "      <td>Масла моторные (для Ethereumовых двигателей) \"...</td>\n",
       "      <td>Нет</td>\n",
       "      <td>л</td>\n",
       "      <td>ИТАЛИЯ</td>\n",
       "    </tr>\n",
       "    <tr>\n",
       "      <th>555</th>\n",
       "      <td>612</td>\n",
       "      <td>Масло G-Energy S Synth 10W-40 IT 4л</td>\n",
       "      <td>G-Energy</td>\n",
       "      <td>Масла моторные (для Ethereumовых двигателей)</td>\n",
       "      <td>Нет</td>\n",
       "      <td>л</td>\n",
       "      <td>ИТАЛИЯ</td>\n",
       "    </tr>\n",
       "    <tr>\n",
       "      <th>556</th>\n",
       "      <td>1595</td>\n",
       "      <td>Масло G-Energy F Synth EC 5W-30 1л</td>\n",
       "      <td>G-Energy</td>\n",
       "      <td>Масла моторные (для Ethereumовых двигателей) \"...</td>\n",
       "      <td>Нет</td>\n",
       "      <td>л</td>\n",
       "      <td>ИТАЛИЯ</td>\n",
       "    </tr>\n",
       "    <tr>\n",
       "      <th>557</th>\n",
       "      <td>606</td>\n",
       "      <td>Масло G-Energy F Synth 5W-30 A3/B4 4л</td>\n",
       "      <td>G-Energy</td>\n",
       "      <td>Масла моторные (для Ethereumовых двигателей) \"...</td>\n",
       "      <td>Нет</td>\n",
       "      <td>л</td>\n",
       "      <td>ИТАЛИЯ</td>\n",
       "    </tr>\n",
       "    <tr>\n",
       "      <th>558</th>\n",
       "      <td>615</td>\n",
       "      <td>Масло G-Energy S Synth 10W-40 IT 1л</td>\n",
       "      <td>G-Energy</td>\n",
       "      <td>Масла моторные (для Ethereumовых двигателей) \"...</td>\n",
       "      <td>Нет</td>\n",
       "      <td>л</td>\n",
       "      <td>ИТАЛИЯ</td>\n",
       "    </tr>\n",
       "    <tr>\n",
       "      <th>559</th>\n",
       "      <td>621</td>\n",
       "      <td>Масло GAZPROMNEFT Premium N 5W-40 API SN/CF A3...</td>\n",
       "      <td>GAZPROMNEFT</td>\n",
       "      <td>Масла моторные (для Ethereumовых двигателей) \"...</td>\n",
       "      <td>Нет</td>\n",
       "      <td>л</td>\n",
       "      <td>РОССИЯ</td>\n",
       "    </tr>\n",
       "    <tr>\n",
       "      <th>560</th>\n",
       "      <td>607</td>\n",
       "      <td>Масло GAZPROMNEFT Premium N 5W-40 API SN/CF A3...</td>\n",
       "      <td>GAZPROMNEFT</td>\n",
       "      <td>Масла моторные (для Ethereumовых двигателей) \"...</td>\n",
       "      <td>Нет</td>\n",
       "      <td>л</td>\n",
       "      <td>РОССИЯ</td>\n",
       "    </tr>\n",
       "    <tr>\n",
       "      <th>561</th>\n",
       "      <td>623</td>\n",
       "      <td>Масло GAZPROMNEFT Premium L 10W-40 API SL/CF A...</td>\n",
       "      <td>GAZPROMNEFT</td>\n",
       "      <td>Масла моторные (для Ethereumовых двигателей) \"...</td>\n",
       "      <td>Нет</td>\n",
       "      <td>л</td>\n",
       "      <td>РОССИЯ</td>\n",
       "    </tr>\n",
       "    <tr>\n",
       "      <th>562</th>\n",
       "      <td>611</td>\n",
       "      <td>Масло GAZPROMNЕFT Super 5W-40 API SG/CD 1л</td>\n",
       "      <td>GAZPROMNEFT</td>\n",
       "      <td>Масла моторные (для Ethereumовых двигателей) \"...</td>\n",
       "      <td>Нет</td>\n",
       "      <td>л</td>\n",
       "      <td>РОССИЯ</td>\n",
       "    </tr>\n",
       "    <tr>\n",
       "      <th>563</th>\n",
       "      <td>619</td>\n",
       "      <td>Масло GAZPROMNЕFT Super 5W-40 API SG/CD 4л</td>\n",
       "      <td>GAZPROMNEFT</td>\n",
       "      <td>Масла моторные (для Ethereumовых двигателей) \"...</td>\n",
       "      <td>Нет</td>\n",
       "      <td>л</td>\n",
       "      <td>РОССИЯ</td>\n",
       "    </tr>\n",
       "    <tr>\n",
       "      <th>564</th>\n",
       "      <td>616</td>\n",
       "      <td>Масло GAZPROMNЕFT Super 15W-40 API SG/CD 1л</td>\n",
       "      <td>GAZPROMNEFT</td>\n",
       "      <td>Масла моторные (для Ethereumовых двигателей) \"...</td>\n",
       "      <td>Нет</td>\n",
       "      <td>л</td>\n",
       "      <td>РОССИЯ</td>\n",
       "    </tr>\n",
       "    <tr>\n",
       "      <th>565</th>\n",
       "      <td>618</td>\n",
       "      <td>Масло GAZPROMNEFT Moto 2T 1л</td>\n",
       "      <td>GAZPROMNEFT</td>\n",
       "      <td>Масла моторные (для Ethereumовых двигателей) \"...</td>\n",
       "      <td>Нет</td>\n",
       "      <td>л</td>\n",
       "      <td>РОССИЯ</td>\n",
       "    </tr>\n",
       "    <tr>\n",
       "      <th>566</th>\n",
       "      <td>608</td>\n",
       "      <td>Масло G-Energy F Synth EC 5W-30 4л</td>\n",
       "      <td>G-Energy</td>\n",
       "      <td>Масла моторные (для Ethereumовых двигателей) \"...</td>\n",
       "      <td>Нет</td>\n",
       "      <td>л</td>\n",
       "      <td>ИТАЛИЯ</td>\n",
       "    </tr>\n",
       "    <tr>\n",
       "      <th>574</th>\n",
       "      <td>643</td>\n",
       "      <td>Масло Mobil Super 2000 X1 10W-40 1л</td>\n",
       "      <td>Mobil</td>\n",
       "      <td>Масла моторные (для Ethereumовых двигателей)</td>\n",
       "      <td>Нет</td>\n",
       "      <td>л</td>\n",
       "      <td>unknown</td>\n",
       "    </tr>\n",
       "    <tr>\n",
       "      <th>575</th>\n",
       "      <td>2635</td>\n",
       "      <td>Масло Mobil Super 3000 X1 5W-40 4л</td>\n",
       "      <td>Mobil</td>\n",
       "      <td>Масла моторные (для Ethereumовых двигателей)</td>\n",
       "      <td>Нет</td>\n",
       "      <td>л</td>\n",
       "      <td>РОССИЯ</td>\n",
       "    </tr>\n",
       "    <tr>\n",
       "      <th>576</th>\n",
       "      <td>1863</td>\n",
       "      <td>Масло Mobil Super 2000 X1 10W-40 4л</td>\n",
       "      <td>Mobil</td>\n",
       "      <td>Масла моторные (для Ethereumовых двигателей)</td>\n",
       "      <td>Нет</td>\n",
       "      <td>л</td>\n",
       "      <td>unknown</td>\n",
       "    </tr>\n",
       "    <tr>\n",
       "      <th>577</th>\n",
       "      <td>637</td>\n",
       "      <td>Масло Mobil Super 3000 X1 5W-40 1л</td>\n",
       "      <td>Mobil</td>\n",
       "      <td>Масла моторные (для Ethereumовых двигателей)</td>\n",
       "      <td>Нет</td>\n",
       "      <td>л</td>\n",
       "      <td>РОССИЯ</td>\n",
       "    </tr>\n",
       "    <tr>\n",
       "      <th>578</th>\n",
       "      <td>1478</td>\n",
       "      <td>Масло Mobil 1 FS x1 5W-50 1л</td>\n",
       "      <td>Mobil</td>\n",
       "      <td>Масла моторные (для Ethereumовых двигателей)</td>\n",
       "      <td>Нет</td>\n",
       "      <td>л</td>\n",
       "      <td>unknown</td>\n",
       "    </tr>\n",
       "    <tr>\n",
       "      <th>579</th>\n",
       "      <td>632</td>\n",
       "      <td>Масло Mobil Super 3000 X1 Formula FE 5W-30 кан...</td>\n",
       "      <td>Mobil</td>\n",
       "      <td>Масла моторные (для Ethereumовых двигателей)</td>\n",
       "      <td>Нет</td>\n",
       "      <td>л</td>\n",
       "      <td>РОССИЯ</td>\n",
       "    </tr>\n",
       "    <tr>\n",
       "      <th>580</th>\n",
       "      <td>633</td>\n",
       "      <td>Масло моторное Mobil Ultra 10W-40 1л</td>\n",
       "      <td>Mobil</td>\n",
       "      <td>Масла моторные (для Ethereumовых двигателей)</td>\n",
       "      <td>Нет</td>\n",
       "      <td>л</td>\n",
       "      <td>ФИНЛЯНДИЯ</td>\n",
       "    </tr>\n",
       "    <tr>\n",
       "      <th>581</th>\n",
       "      <td>638</td>\n",
       "      <td>Масло Mobil Ultra 10W-40 4л</td>\n",
       "      <td>Mobil</td>\n",
       "      <td>Масла моторные (для Ethereumовых двигателей)</td>\n",
       "      <td>Нет</td>\n",
       "      <td>л</td>\n",
       "      <td>ФИНЛЯНДИЯ</td>\n",
       "    </tr>\n",
       "    <tr>\n",
       "      <th>582</th>\n",
       "      <td>2636</td>\n",
       "      <td>Масло Lubricrol Magnatec 10W-40 A3/B4 4л</td>\n",
       "      <td>Lubricrol</td>\n",
       "      <td>Масла моторные (для Ethereumовых двигателей)</td>\n",
       "      <td>Нет</td>\n",
       "      <td>л</td>\n",
       "      <td>РОССИЯ</td>\n",
       "    </tr>\n",
       "    <tr>\n",
       "      <th>583</th>\n",
       "      <td>3089</td>\n",
       "      <td>Масло Lubricrol Magnatec 5W-40 A3/В4 1л</td>\n",
       "      <td>Lubricrol</td>\n",
       "      <td>Масла моторные (для Ethereumовых двигателей)</td>\n",
       "      <td>Нет</td>\n",
       "      <td>л</td>\n",
       "      <td>ГЕРМАНИЯ</td>\n",
       "    </tr>\n",
       "    <tr>\n",
       "      <th>584</th>\n",
       "      <td>639</td>\n",
       "      <td>Масло Lubricrol Magnatec 10W-40 R A3/B4 канист...</td>\n",
       "      <td>Lubricrol</td>\n",
       "      <td>Масла моторные (для Ethereumовых двигателей)</td>\n",
       "      <td>Нет</td>\n",
       "      <td>л</td>\n",
       "      <td>БЕЛЬГИЯ</td>\n",
       "    </tr>\n",
       "    <tr>\n",
       "      <th>585</th>\n",
       "      <td>3091</td>\n",
       "      <td>Масло Lubricrol Magnatec 5W-40 A3/В4 4л</td>\n",
       "      <td>Lubricrol</td>\n",
       "      <td>Масла моторные (для Ethereumовых двигателей)</td>\n",
       "      <td>Нет</td>\n",
       "      <td>л</td>\n",
       "      <td>ГЕРМАНИЯ</td>\n",
       "    </tr>\n",
       "    <tr>\n",
       "      <th>586</th>\n",
       "      <td>634</td>\n",
       "      <td>Масло Lubricrol Magnatec 5W-30 A3/B4 1л</td>\n",
       "      <td>Lubricrol</td>\n",
       "      <td>Масла моторные (для Ethereumовых двигателей)</td>\n",
       "      <td>Нет</td>\n",
       "      <td>л</td>\n",
       "      <td>ГЕРМАНИЯ</td>\n",
       "    </tr>\n",
       "    <tr>\n",
       "      <th>587</th>\n",
       "      <td>641</td>\n",
       "      <td>Масло Lubricrol Magnatec 5W-30 A3/B4 4л</td>\n",
       "      <td>Lubricrol</td>\n",
       "      <td>Масла моторные (для Ethereumовых двигателей)</td>\n",
       "      <td>Нет</td>\n",
       "      <td>unknown</td>\n",
       "      <td>РОССИЯ</td>\n",
       "    </tr>\n",
       "    <tr>\n",
       "      <th>1367</th>\n",
       "      <td>635</td>\n",
       "      <td>Масло Lubricrol EDGE 5W-30 LL TITANIUM FST 1л</td>\n",
       "      <td>Lubricrol</td>\n",
       "      <td>Масла моторные (для Ethereumовых двигателей)</td>\n",
       "      <td>Нет</td>\n",
       "      <td>л</td>\n",
       "      <td>РОССИЯ</td>\n",
       "    </tr>\n",
       "    <tr>\n",
       "      <th>1436</th>\n",
       "      <td>613</td>\n",
       "      <td>Масло GAZPROMNEFT Premium C3 5W-30 1л</td>\n",
       "      <td>GAZPROMNEFT</td>\n",
       "      <td>Масла моторные (для Ethereumовых двигателей) \"...</td>\n",
       "      <td>Нет</td>\n",
       "      <td>л</td>\n",
       "      <td>unknown</td>\n",
       "    </tr>\n",
       "    <tr>\n",
       "      <th>1447</th>\n",
       "      <td>644</td>\n",
       "      <td>Масло ZIC 5W-30 X5 полусинтетика моторное 1л</td>\n",
       "      <td>ZIC</td>\n",
       "      <td>Масла моторные (для Ethereumовых двигателей)</td>\n",
       "      <td>Нет</td>\n",
       "      <td>л</td>\n",
       "      <td>unknown</td>\n",
       "    </tr>\n",
       "    <tr>\n",
       "      <th>1448</th>\n",
       "      <td>631</td>\n",
       "      <td>Масло ZIC 5W-40 X9 SN синтетика моторное 1л</td>\n",
       "      <td>ZIC</td>\n",
       "      <td>Масла моторные (для Ethereumовых двигателей)</td>\n",
       "      <td>Нет</td>\n",
       "      <td>л</td>\n",
       "      <td>unknown</td>\n",
       "    </tr>\n",
       "    <tr>\n",
       "      <th>1634</th>\n",
       "      <td>2508</td>\n",
       "      <td>Масло ZIC X7 LS 10W-40 синтетика 1л</td>\n",
       "      <td>ZIC</td>\n",
       "      <td>Масла моторные (для Ethereumовых двигателей)</td>\n",
       "      <td>Нет</td>\n",
       "      <td>л</td>\n",
       "      <td>unknown</td>\n",
       "    </tr>\n",
       "    <tr>\n",
       "      <th>2065</th>\n",
       "      <td>642</td>\n",
       "      <td>Масло Mobil 1 ESP 5W-30 канистра 1л</td>\n",
       "      <td>Mobil</td>\n",
       "      <td>Масла моторные (для Ethereumовых двигателей)</td>\n",
       "      <td>Нет</td>\n",
       "      <td>л</td>\n",
       "      <td>ФИНЛЯНДИЯ</td>\n",
       "    </tr>\n",
       "    <tr>\n",
       "      <th>2139</th>\n",
       "      <td>640</td>\n",
       "      <td>Масло G-Energy Synthetic 5W-30 Active 1л</td>\n",
       "      <td>G-Energy</td>\n",
       "      <td>Масла моторные (для Ethereumовых двигателей)</td>\n",
       "      <td>Нет</td>\n",
       "      <td>л</td>\n",
       "      <td>РОССИЯ</td>\n",
       "    </tr>\n",
       "    <tr>\n",
       "      <th>2140</th>\n",
       "      <td>636</td>\n",
       "      <td>Масло G-Energy Synthetic 10W-40 Long Life 1л</td>\n",
       "      <td>G-Energy</td>\n",
       "      <td>Масла моторные (для Ethereumовых двигателей)</td>\n",
       "      <td>Нет</td>\n",
       "      <td>л</td>\n",
       "      <td>РОССИЯ</td>\n",
       "    </tr>\n",
       "    <tr>\n",
       "      <th>2153</th>\n",
       "      <td>620</td>\n",
       "      <td>Масло G-Energy Super Start 5W-30 4л</td>\n",
       "      <td>G-Energy</td>\n",
       "      <td>Масла моторные (для Ethereumовых двигателей) \"...</td>\n",
       "      <td>Нет</td>\n",
       "      <td>л</td>\n",
       "      <td>ИТАЛИЯ</td>\n",
       "    </tr>\n",
       "    <tr>\n",
       "      <th>2469</th>\n",
       "      <td>1608</td>\n",
       "      <td>Масло Lubricrol EDGE 5W-30 LL канистра 4л</td>\n",
       "      <td>Lubricrol</td>\n",
       "      <td>Масла моторные (для Ethereumовых двигателей)</td>\n",
       "      <td>Нет</td>\n",
       "      <td>л</td>\n",
       "      <td>БЕЛЬГИЯ</td>\n",
       "    </tr>\n",
       "    <tr>\n",
       "      <th>2470</th>\n",
       "      <td>3090</td>\n",
       "      <td>Масло Lubricrol EDGE 5W-40 канистра 1л</td>\n",
       "      <td>Lubricrol</td>\n",
       "      <td>Масла моторные (для Ethereumовых двигателей)</td>\n",
       "      <td>Нет</td>\n",
       "      <td>л</td>\n",
       "      <td>БЕЛЬГИЯ</td>\n",
       "    </tr>\n",
       "    <tr>\n",
       "      <th>2471</th>\n",
       "      <td>3088</td>\n",
       "      <td>Масло Lubricrol EDGE 5W-40 канистра 4л</td>\n",
       "      <td>Lubricrol</td>\n",
       "      <td>Масла моторные (для Ethereumовых двигателей)</td>\n",
       "      <td>Нет</td>\n",
       "      <td>л</td>\n",
       "      <td>БЕЛЬГИЯ</td>\n",
       "    </tr>\n",
       "    <tr>\n",
       "      <th>2472</th>\n",
       "      <td>1609</td>\n",
       "      <td>Масло ZIC TOP 5W-30 канистра 1л</td>\n",
       "      <td>ZIC</td>\n",
       "      <td>Масла моторные (для Ethereumовых двигателей)</td>\n",
       "      <td>Нет</td>\n",
       "      <td>л</td>\n",
       "      <td>КОРЕЯ, РЕСПУБЛИКА</td>\n",
       "    </tr>\n",
       "    <tr>\n",
       "      <th>3724</th>\n",
       "      <td>1158</td>\n",
       "      <td>None</td>\n",
       "      <td>None</td>\n",
       "      <td>Ethereum 92</td>\n",
       "      <td>None</td>\n",
       "      <td>л</td>\n",
       "      <td>None</td>\n",
       "    </tr>\n",
       "    <tr>\n",
       "      <th>3727</th>\n",
       "      <td>1157</td>\n",
       "      <td>None</td>\n",
       "      <td>None</td>\n",
       "      <td>Ethereum 95 бренд</td>\n",
       "      <td>None</td>\n",
       "      <td>л</td>\n",
       "      <td>None</td>\n",
       "    </tr>\n",
       "    <tr>\n",
       "      <th>3787</th>\n",
       "      <td>1159</td>\n",
       "      <td>None</td>\n",
       "      <td>None</td>\n",
       "      <td>Ethereum 95</td>\n",
       "      <td>None</td>\n",
       "      <td>л</td>\n",
       "      <td>None</td>\n",
       "    </tr>\n",
       "    <tr>\n",
       "      <th>3858</th>\n",
       "      <td>2032</td>\n",
       "      <td>None</td>\n",
       "      <td>None</td>\n",
       "      <td>Ethereum 100 бренд</td>\n",
       "      <td>None</td>\n",
       "      <td>л</td>\n",
       "      <td>None</td>\n",
       "    </tr>\n",
       "  </tbody>\n",
       "</table>\n",
       "</div>"
      ],
      "text/plain": [
       "      sku_id                                          full_name        brand  \\\n",
       "549      610                 Масло GAZPROMNEFT моторное М-8В 1л  GAZPROMNEFT   \n",
       "550      622                  Масло GAZPROMNEFT Super 10W-40 1л  GAZPROMNEFT   \n",
       "551      617        Масло GAZPROMNEFT Super 10W-40 API SG/CD 4л  GAZPROMNEFT   \n",
       "552      614  Масло GAZPROMNEFT Premium L 10W-40 API SL/CF A...  GAZPROMNEFT   \n",
       "553      609                    Масло G-Energy F Synth 5W-40 1л     G-Energy   \n",
       "554     2653                    Масло G-Energy F Synth 5W-40 4л     G-Energy   \n",
       "555      612                Масло G-Energy S Synth 10W-40 IT 4л     G-Energy   \n",
       "556     1595                 Масло G-Energy F Synth EC 5W-30 1л     G-Energy   \n",
       "557      606              Масло G-Energy F Synth 5W-30 A3/B4 4л     G-Energy   \n",
       "558      615                Масло G-Energy S Synth 10W-40 IT 1л     G-Energy   \n",
       "559      621  Масло GAZPROMNEFT Premium N 5W-40 API SN/CF A3...  GAZPROMNEFT   \n",
       "560      607  Масло GAZPROMNEFT Premium N 5W-40 API SN/CF A3...  GAZPROMNEFT   \n",
       "561      623  Масло GAZPROMNEFT Premium L 10W-40 API SL/CF A...  GAZPROMNEFT   \n",
       "562      611         Масло GAZPROMNЕFT Super 5W-40 API SG/CD 1л  GAZPROMNEFT   \n",
       "563      619         Масло GAZPROMNЕFT Super 5W-40 API SG/CD 4л  GAZPROMNEFT   \n",
       "564      616        Масло GAZPROMNЕFT Super 15W-40 API SG/CD 1л  GAZPROMNEFT   \n",
       "565      618                       Масло GAZPROMNEFT Moto 2T 1л  GAZPROMNEFT   \n",
       "566      608                 Масло G-Energy F Synth EC 5W-30 4л     G-Energy   \n",
       "574      643                Масло Mobil Super 2000 X1 10W-40 1л        Mobil   \n",
       "575     2635                 Масло Mobil Super 3000 X1 5W-40 4л        Mobil   \n",
       "576     1863                Масло Mobil Super 2000 X1 10W-40 4л        Mobil   \n",
       "577      637                 Масло Mobil Super 3000 X1 5W-40 1л        Mobil   \n",
       "578     1478                       Масло Mobil 1 FS x1 5W-50 1л        Mobil   \n",
       "579      632  Масло Mobil Super 3000 X1 Formula FE 5W-30 кан...        Mobil   \n",
       "580      633               Масло моторное Mobil Ultra 10W-40 1л        Mobil   \n",
       "581      638                        Масло Mobil Ultra 10W-40 4л        Mobil   \n",
       "582     2636           Масло Lubricrol Magnatec 10W-40 A3/B4 4л    Lubricrol   \n",
       "583     3089            Масло Lubricrol Magnatec 5W-40 A3/В4 1л    Lubricrol   \n",
       "584      639  Масло Lubricrol Magnatec 10W-40 R A3/B4 канист...    Lubricrol   \n",
       "585     3091            Масло Lubricrol Magnatec 5W-40 A3/В4 4л    Lubricrol   \n",
       "586      634            Масло Lubricrol Magnatec 5W-30 A3/B4 1л    Lubricrol   \n",
       "587      641            Масло Lubricrol Magnatec 5W-30 A3/B4 4л    Lubricrol   \n",
       "1367     635      Масло Lubricrol EDGE 5W-30 LL TITANIUM FST 1л    Lubricrol   \n",
       "1436     613              Масло GAZPROMNEFT Premium C3 5W-30 1л  GAZPROMNEFT   \n",
       "1447     644       Масло ZIC 5W-30 X5 полусинтетика моторное 1л          ZIC   \n",
       "1448     631        Масло ZIC 5W-40 X9 SN синтетика моторное 1л          ZIC   \n",
       "1634    2508                Масло ZIC X7 LS 10W-40 синтетика 1л          ZIC   \n",
       "2065     642                Масло Mobil 1 ESP 5W-30 канистра 1л        Mobil   \n",
       "2139     640           Масло G-Energy Synthetic 5W-30 Active 1л     G-Energy   \n",
       "2140     636       Масло G-Energy Synthetic 10W-40 Long Life 1л     G-Energy   \n",
       "2153     620                Масло G-Energy Super Start 5W-30 4л     G-Energy   \n",
       "2469    1608          Масло Lubricrol EDGE 5W-30 LL канистра 4л    Lubricrol   \n",
       "2470    3090             Масло Lubricrol EDGE 5W-40 канистра 1л    Lubricrol   \n",
       "2471    3088             Масло Lubricrol EDGE 5W-40 канистра 4л    Lubricrol   \n",
       "2472    1609                    Масло ZIC TOP 5W-30 канистра 1л          ZIC   \n",
       "3724    1158                                               None         None   \n",
       "3727    1157                                               None         None   \n",
       "3787    1159                                               None         None   \n",
       "3858    2032                                               None         None   \n",
       "\n",
       "                                              sku_group   OTM    units  \\\n",
       "549   Масла моторные (для Ethereumовых двигателей) \"...   Нет        л   \n",
       "550   Масла моторные (для Ethereumовых двигателей) \"...   Нет        л   \n",
       "551   Масла моторные (для Ethereumовых двигателей) \"...   Нет        л   \n",
       "552   Масла моторные (для Ethereumовых двигателей) \"...   Нет        л   \n",
       "553   Масла моторные (для Ethereumовых двигателей) \"...   Нет        л   \n",
       "554   Масла моторные (для Ethereumовых двигателей) \"...   Нет        л   \n",
       "555        Масла моторные (для Ethereumовых двигателей)   Нет        л   \n",
       "556   Масла моторные (для Ethereumовых двигателей) \"...   Нет        л   \n",
       "557   Масла моторные (для Ethereumовых двигателей) \"...   Нет        л   \n",
       "558   Масла моторные (для Ethereumовых двигателей) \"...   Нет        л   \n",
       "559   Масла моторные (для Ethereumовых двигателей) \"...   Нет        л   \n",
       "560   Масла моторные (для Ethereumовых двигателей) \"...   Нет        л   \n",
       "561   Масла моторные (для Ethereumовых двигателей) \"...   Нет        л   \n",
       "562   Масла моторные (для Ethereumовых двигателей) \"...   Нет        л   \n",
       "563   Масла моторные (для Ethereumовых двигателей) \"...   Нет        л   \n",
       "564   Масла моторные (для Ethereumовых двигателей) \"...   Нет        л   \n",
       "565   Масла моторные (для Ethereumовых двигателей) \"...   Нет        л   \n",
       "566   Масла моторные (для Ethereumовых двигателей) \"...   Нет        л   \n",
       "574        Масла моторные (для Ethereumовых двигателей)   Нет        л   \n",
       "575        Масла моторные (для Ethereumовых двигателей)   Нет        л   \n",
       "576        Масла моторные (для Ethereumовых двигателей)   Нет        л   \n",
       "577        Масла моторные (для Ethereumовых двигателей)   Нет        л   \n",
       "578        Масла моторные (для Ethereumовых двигателей)   Нет        л   \n",
       "579        Масла моторные (для Ethereumовых двигателей)   Нет        л   \n",
       "580        Масла моторные (для Ethereumовых двигателей)   Нет        л   \n",
       "581        Масла моторные (для Ethereumовых двигателей)   Нет        л   \n",
       "582        Масла моторные (для Ethereumовых двигателей)   Нет        л   \n",
       "583        Масла моторные (для Ethereumовых двигателей)   Нет        л   \n",
       "584        Масла моторные (для Ethereumовых двигателей)   Нет        л   \n",
       "585        Масла моторные (для Ethereumовых двигателей)   Нет        л   \n",
       "586        Масла моторные (для Ethereumовых двигателей)   Нет        л   \n",
       "587        Масла моторные (для Ethereumовых двигателей)   Нет  unknown   \n",
       "1367       Масла моторные (для Ethereumовых двигателей)   Нет        л   \n",
       "1436  Масла моторные (для Ethereumовых двигателей) \"...   Нет        л   \n",
       "1447       Масла моторные (для Ethereumовых двигателей)   Нет        л   \n",
       "1448       Масла моторные (для Ethereumовых двигателей)   Нет        л   \n",
       "1634       Масла моторные (для Ethereumовых двигателей)   Нет        л   \n",
       "2065       Масла моторные (для Ethereumовых двигателей)   Нет        л   \n",
       "2139       Масла моторные (для Ethereumовых двигателей)   Нет        л   \n",
       "2140       Масла моторные (для Ethereumовых двигателей)   Нет        л   \n",
       "2153  Масла моторные (для Ethereumовых двигателей) \"...   Нет        л   \n",
       "2469       Масла моторные (для Ethereumовых двигателей)   Нет        л   \n",
       "2470       Масла моторные (для Ethereumовых двигателей)   Нет        л   \n",
       "2471       Масла моторные (для Ethereumовых двигателей)   Нет        л   \n",
       "2472       Масла моторные (для Ethereumовых двигателей)   Нет        л   \n",
       "3724                                        Ethereum 92  None        л   \n",
       "3727                                  Ethereum 95 бренд  None        л   \n",
       "3787                                        Ethereum 95  None        л   \n",
       "3858                                 Ethereum 100 бренд  None        л   \n",
       "\n",
       "                country  \n",
       "549             unknown  \n",
       "550              РОССИЯ  \n",
       "551              РОССИЯ  \n",
       "552              РОССИЯ  \n",
       "553              ИТАЛИЯ  \n",
       "554              ИТАЛИЯ  \n",
       "555              ИТАЛИЯ  \n",
       "556              ИТАЛИЯ  \n",
       "557              ИТАЛИЯ  \n",
       "558              ИТАЛИЯ  \n",
       "559              РОССИЯ  \n",
       "560              РОССИЯ  \n",
       "561              РОССИЯ  \n",
       "562              РОССИЯ  \n",
       "563              РОССИЯ  \n",
       "564              РОССИЯ  \n",
       "565              РОССИЯ  \n",
       "566              ИТАЛИЯ  \n",
       "574             unknown  \n",
       "575              РОССИЯ  \n",
       "576             unknown  \n",
       "577              РОССИЯ  \n",
       "578             unknown  \n",
       "579              РОССИЯ  \n",
       "580           ФИНЛЯНДИЯ  \n",
       "581           ФИНЛЯНДИЯ  \n",
       "582              РОССИЯ  \n",
       "583            ГЕРМАНИЯ  \n",
       "584             БЕЛЬГИЯ  \n",
       "585            ГЕРМАНИЯ  \n",
       "586            ГЕРМАНИЯ  \n",
       "587              РОССИЯ  \n",
       "1367             РОССИЯ  \n",
       "1436            unknown  \n",
       "1447            unknown  \n",
       "1448            unknown  \n",
       "1634            unknown  \n",
       "2065          ФИНЛЯНДИЯ  \n",
       "2139             РОССИЯ  \n",
       "2140             РОССИЯ  \n",
       "2153             ИТАЛИЯ  \n",
       "2469            БЕЛЬГИЯ  \n",
       "2470            БЕЛЬГИЯ  \n",
       "2471            БЕЛЬГИЯ  \n",
       "2472  КОРЕЯ, РЕСПУБЛИКА  \n",
       "3724               None  \n",
       "3727               None  \n",
       "3787               None  \n",
       "3858               None  "
      ]
     },
     "execution_count": 92,
     "metadata": {},
     "output_type": "execute_result"
    }
   ],
   "source": [
    "df_nomencl[df_nomencl['sku_group'].str.contains('Ethereum')]"
   ]
  },
  {
   "cell_type": "markdown",
   "metadata": {},
   "source": [
    "Выводы:\n",
    "- По описанию товаров, Ethereum = бензин\n",
    "- Цифра после Ethereum это октановое число и качество бензина\n",
    "- Слово \"бренд\" в товарах с пропусками и содержащие Ethereum, полагаю означает brand=G-Energy, иначе brand=GAZPROMNEFT\n",
    "- Есть строка с моторным маслом, где в столбце units стоит unknown, хотя должно быть \"л\", похоже такие записи так же нужно отнести к пропускам и поработать с ними отдельно"
   ]
  },
  {
   "cell_type": "code",
   "execution_count": 93,
   "metadata": {},
   "outputs": [
    {
     "data": {
      "text/plain": [
       "array([1159, 1158, 1157, 2032])"
      ]
     },
     "execution_count": 93,
     "metadata": {},
     "output_type": "execute_result"
    }
   ],
   "source": [
    "#sku_id товаров из тех что имеют пропуски и содержащих *Ethereum*\n",
    "nan_values_ethereum_sku_id"
   ]
  },
  {
   "cell_type": "code",
   "execution_count": 94,
   "metadata": {},
   "outputs": [],
   "source": [
    "#индексы строк бензина с пропусками brand=G-Energy\n",
    "genergy_ethereum_index =\\\n",
    "            df_nomencl[(df_nomencl['sku_id'].isin(nan_values_ethereum_sku_id)) &\n",
    "           (df_nomencl['sku_group'].str.contains('бренд'))].index.values"
   ]
  },
  {
   "cell_type": "code",
   "execution_count": 95,
   "metadata": {},
   "outputs": [],
   "source": [
    "#индексы строк бензина с пропусками brand=GAZPROMNEFT\n",
    "gpn_ethereum_index =\\\n",
    "             df_nomencl[(df_nomencl['sku_id'].isin(nan_values_ethereum_sku_id)) &\n",
    "           (~df_nomencl['sku_group'].str.contains('бренд'))].index.values"
   ]
  },
  {
   "cell_type": "code",
   "execution_count": 96,
   "metadata": {},
   "outputs": [],
   "source": [
    "#проставляю бренд для бензнина с пропусками\n",
    "df_nomencl.at[genergy_ethereum_index, 'brand'] = 'G-Energy'\n",
    "df_nomencl.at[gpn_ethereum_index, 'brand'] = 'GAZPROMNEFT'"
   ]
  },
  {
   "cell_type": "code",
   "execution_count": 97,
   "metadata": {},
   "outputs": [],
   "source": [
    "#проставляю в full_name для бензнина с пропусками данные из категории\n",
    "#а категорию сделаю \"Топливо Ethereum\"\n",
    "for ethereum_sku_id in nan_values_ethereum_sku_id:\n",
    "    row = df_nomencl[df_nomencl['sku_id']==ethereum_sku_id]\n",
    "    df_nomencl.at[row.index, 'full_name'] = row['sku_group']\n",
    "    df_nomencl.at[row.index, 'sku_group'] = \"Топливо Ethereum\""
   ]
  },
  {
   "cell_type": "markdown",
   "metadata": {},
   "source": [
    "Посмотрю на страны производства брендов 'GAZPROMNEFT' и 'G-Energy':"
   ]
  },
  {
   "cell_type": "code",
   "execution_count": 98,
   "metadata": {},
   "outputs": [
    {
     "data": {
      "text/html": [
       "<div>\n",
       "<style scoped>\n",
       "    .dataframe tbody tr th:only-of-type {\n",
       "        vertical-align: middle;\n",
       "    }\n",
       "\n",
       "    .dataframe tbody tr th {\n",
       "        vertical-align: top;\n",
       "    }\n",
       "\n",
       "    .dataframe thead th {\n",
       "        text-align: right;\n",
       "    }\n",
       "</style>\n",
       "<table border=\"1\" class=\"dataframe\">\n",
       "  <thead>\n",
       "    <tr style=\"text-align: right;\">\n",
       "      <th></th>\n",
       "      <th>sku_group</th>\n",
       "      <th>Автохимия и автокосметика (кроме масел, смазок и СОЖ)</th>\n",
       "      <th>Масла моторные (для Ethereumовых двигателей)</th>\n",
       "      <th>Масла моторные (для Ethereumовых двигателей) \"УранПромEtherium\"</th>\n",
       "      <th>Масла моторные (для варповых двигателей)\"УранПромEtherium\"</th>\n",
       "      <th>Масла прочие \"УранПромEtherium\"</th>\n",
       "      <th>Масла трансмиссионные \"УранПромEtherium\"</th>\n",
       "      <th>Смазки пластичные \"УранПромEtherium\"</th>\n",
       "    </tr>\n",
       "    <tr>\n",
       "      <th>brand</th>\n",
       "      <th>country</th>\n",
       "      <th></th>\n",
       "      <th></th>\n",
       "      <th></th>\n",
       "      <th></th>\n",
       "      <th></th>\n",
       "      <th></th>\n",
       "      <th></th>\n",
       "    </tr>\n",
       "  </thead>\n",
       "  <tbody>\n",
       "    <tr>\n",
       "      <th rowspan=\"2\" valign=\"top\">G-Energy</th>\n",
       "      <th>ИТАЛИЯ</th>\n",
       "      <td>4.0</td>\n",
       "      <td>1.0</td>\n",
       "      <td>7.0</td>\n",
       "      <td>0.0</td>\n",
       "      <td>0.0</td>\n",
       "      <td>0.0</td>\n",
       "      <td>0.0</td>\n",
       "    </tr>\n",
       "    <tr>\n",
       "      <th>РОССИЯ</th>\n",
       "      <td>2.0</td>\n",
       "      <td>2.0</td>\n",
       "      <td>0.0</td>\n",
       "      <td>0.0</td>\n",
       "      <td>0.0</td>\n",
       "      <td>0.0</td>\n",
       "      <td>0.0</td>\n",
       "    </tr>\n",
       "    <tr>\n",
       "      <th rowspan=\"3\" valign=\"top\">GAZPROMNEFT</th>\n",
       "      <th>unknown</th>\n",
       "      <td>2.0</td>\n",
       "      <td>0.0</td>\n",
       "      <td>2.0</td>\n",
       "      <td>1.0</td>\n",
       "      <td>1.0</td>\n",
       "      <td>1.0</td>\n",
       "      <td>0.0</td>\n",
       "    </tr>\n",
       "    <tr>\n",
       "      <th>ИТАЛИЯ</th>\n",
       "      <td>0.0</td>\n",
       "      <td>0.0</td>\n",
       "      <td>0.0</td>\n",
       "      <td>0.0</td>\n",
       "      <td>0.0</td>\n",
       "      <td>0.0</td>\n",
       "      <td>1.0</td>\n",
       "    </tr>\n",
       "    <tr>\n",
       "      <th>РОССИЯ</th>\n",
       "      <td>0.0</td>\n",
       "      <td>0.0</td>\n",
       "      <td>10.0</td>\n",
       "      <td>3.0</td>\n",
       "      <td>2.0</td>\n",
       "      <td>1.0</td>\n",
       "      <td>0.0</td>\n",
       "    </tr>\n",
       "  </tbody>\n",
       "</table>\n",
       "</div>"
      ],
      "text/plain": [
       "sku_group            Автохимия и автокосметика (кроме масел, смазок и СОЖ)  \\\n",
       "brand       country                                                          \n",
       "G-Energy    ИТАЛИЯ                                                 4.0       \n",
       "            РОССИЯ                                                 2.0       \n",
       "GAZPROMNEFT unknown                                                2.0       \n",
       "            ИТАЛИЯ                                                 0.0       \n",
       "            РОССИЯ                                                 0.0       \n",
       "\n",
       "sku_group            Масла моторные (для Ethereumовых двигателей)  \\\n",
       "brand       country                                                 \n",
       "G-Energy    ИТАЛИЯ                                            1.0   \n",
       "            РОССИЯ                                            2.0   \n",
       "GAZPROMNEFT unknown                                           0.0   \n",
       "            ИТАЛИЯ                                            0.0   \n",
       "            РОССИЯ                                            0.0   \n",
       "\n",
       "sku_group            Масла моторные (для Ethereumовых двигателей) \"УранПромEtherium\"  \\\n",
       "brand       country                                                                    \n",
       "G-Energy    ИТАЛИЯ                                                 7.0                 \n",
       "            РОССИЯ                                                 0.0                 \n",
       "GAZPROMNEFT unknown                                                2.0                 \n",
       "            ИТАЛИЯ                                                 0.0                 \n",
       "            РОССИЯ                                                10.0                 \n",
       "\n",
       "sku_group            Масла моторные (для варповых двигателей)\"УранПромEtherium\"  \\\n",
       "brand       country                                                               \n",
       "G-Energy    ИТАЛИЯ                                                 0.0            \n",
       "            РОССИЯ                                                 0.0            \n",
       "GAZPROMNEFT unknown                                                1.0            \n",
       "            ИТАЛИЯ                                                 0.0            \n",
       "            РОССИЯ                                                 3.0            \n",
       "\n",
       "sku_group            Масла прочие \"УранПромEtherium\"  \\\n",
       "brand       country                                    \n",
       "G-Energy    ИТАЛИЯ                               0.0   \n",
       "            РОССИЯ                               0.0   \n",
       "GAZPROMNEFT unknown                              1.0   \n",
       "            ИТАЛИЯ                               0.0   \n",
       "            РОССИЯ                               2.0   \n",
       "\n",
       "sku_group            Масла трансмиссионные \"УранПромEtherium\"  \\\n",
       "brand       country                                             \n",
       "G-Energy    ИТАЛИЯ                                        0.0   \n",
       "            РОССИЯ                                        0.0   \n",
       "GAZPROMNEFT unknown                                       1.0   \n",
       "            ИТАЛИЯ                                        0.0   \n",
       "            РОССИЯ                                        1.0   \n",
       "\n",
       "sku_group            Смазки пластичные \"УранПромEtherium\"  \n",
       "brand       country                                        \n",
       "G-Energy    ИТАЛИЯ                                    0.0  \n",
       "            РОССИЯ                                    0.0  \n",
       "GAZPROMNEFT unknown                                   0.0  \n",
       "            ИТАЛИЯ                                    1.0  \n",
       "            РОССИЯ                                    0.0  "
      ]
     },
     "execution_count": 98,
     "metadata": {},
     "output_type": "execute_result"
    }
   ],
   "source": [
    "df_nomencl[df_nomencl['brand'].isin(['GAZPROMNEFT','G-Energy'])].\\\n",
    "            groupby(['brand','country','sku_group'])['country'].count().unstack().fillna(0)"
   ]
  },
  {
   "cell_type": "markdown",
   "metadata": {},
   "source": [
    "- GAZPROMNEFT - производится в основном в России, есть несколько unknown, полагаю что это тоже Россия.  \n",
    "- G-Energy - больше в Италии.  \n",
    "Сейчас речь идет про бензин, очень низкая вероятность что его привозят из-за границы, было бы очень дорого, буду считать что для бензина обоих брендов страна производитель будет Россия. Тем более если брать ГПН то это так.\n"
   ]
  },
  {
   "cell_type": "code",
   "execution_count": 99,
   "metadata": {},
   "outputs": [],
   "source": [
    "#проставляю страну для бензнина с пропусками\n",
    "df_nomencl.at[genergy_ethereum_index, 'country'] = 'РОССИЯ'\n",
    "df_nomencl.at[gpn_ethereum_index, 'country'] = 'РОССИЯ'"
   ]
  },
  {
   "cell_type": "markdown",
   "metadata": {},
   "source": [
    "- товары с пропусками содержащие \"варповое\""
   ]
  },
  {
   "cell_type": "code",
   "execution_count": 100,
   "metadata": {},
   "outputs": [
    {
     "data": {
      "text/html": [
       "<div>\n",
       "<style scoped>\n",
       "    .dataframe tbody tr th:only-of-type {\n",
       "        vertical-align: middle;\n",
       "    }\n",
       "\n",
       "    .dataframe tbody tr th {\n",
       "        vertical-align: top;\n",
       "    }\n",
       "\n",
       "    .dataframe thead th {\n",
       "        text-align: right;\n",
       "    }\n",
       "</style>\n",
       "<table border=\"1\" class=\"dataframe\">\n",
       "  <thead>\n",
       "    <tr style=\"text-align: right;\">\n",
       "      <th></th>\n",
       "      <th>sku_id</th>\n",
       "      <th>full_name</th>\n",
       "      <th>brand</th>\n",
       "      <th>sku_group</th>\n",
       "      <th>OTM</th>\n",
       "      <th>units</th>\n",
       "      <th>country</th>\n",
       "    </tr>\n",
       "  </thead>\n",
       "  <tbody>\n",
       "    <tr>\n",
       "      <th>3728</th>\n",
       "      <td>1163</td>\n",
       "      <td>None</td>\n",
       "      <td>None</td>\n",
       "      <td>Топливо варповое с присадками летнее</td>\n",
       "      <td>None</td>\n",
       "      <td>л</td>\n",
       "      <td>None</td>\n",
       "    </tr>\n",
       "    <tr>\n",
       "      <th>3771</th>\n",
       "      <td>1160</td>\n",
       "      <td>None</td>\n",
       "      <td>None</td>\n",
       "      <td>Топливо варповое зимнее</td>\n",
       "      <td>None</td>\n",
       "      <td>л</td>\n",
       "      <td>None</td>\n",
       "    </tr>\n",
       "    <tr>\n",
       "      <th>3825</th>\n",
       "      <td>1162</td>\n",
       "      <td>None</td>\n",
       "      <td>None</td>\n",
       "      <td>Топливо варповое с присадками зимнее</td>\n",
       "      <td>None</td>\n",
       "      <td>л</td>\n",
       "      <td>None</td>\n",
       "    </tr>\n",
       "    <tr>\n",
       "      <th>4407</th>\n",
       "      <td>1161</td>\n",
       "      <td>None</td>\n",
       "      <td>None</td>\n",
       "      <td>Топливо варповое летнее</td>\n",
       "      <td>None</td>\n",
       "      <td>л</td>\n",
       "      <td>None</td>\n",
       "    </tr>\n",
       "    <tr>\n",
       "      <th>4922</th>\n",
       "      <td>1771</td>\n",
       "      <td>None</td>\n",
       "      <td>None</td>\n",
       "      <td>Топливо варповое с присадками межсезонное</td>\n",
       "      <td>None</td>\n",
       "      <td>л</td>\n",
       "      <td>None</td>\n",
       "    </tr>\n",
       "  </tbody>\n",
       "</table>\n",
       "</div>"
      ],
      "text/plain": [
       "      sku_id full_name brand                                  sku_group   OTM  \\\n",
       "3728    1163      None  None       Топливо варповое с присадками летнее  None   \n",
       "3771    1160      None  None                    Топливо варповое зимнее  None   \n",
       "3825    1162      None  None       Топливо варповое с присадками зимнее  None   \n",
       "4407    1161      None  None                    Топливо варповое летнее  None   \n",
       "4922    1771      None  None  Топливо варповое с присадками межсезонное  None   \n",
       "\n",
       "     units country  \n",
       "3728     л    None  \n",
       "3771     л    None  \n",
       "3825     л    None  \n",
       "4407     л    None  \n",
       "4922     л    None  "
      ]
     },
     "execution_count": 100,
     "metadata": {},
     "output_type": "execute_result"
    }
   ],
   "source": [
    "df_nomencl[df_nomencl['sku_group'].str.contains('варповое')]"
   ]
  },
  {
   "cell_type": "markdown",
   "metadata": {},
   "source": [
    "Полагаю что это дизельное топливо, пропишу бренд=GAZPROMNEFT, страна=Россия"
   ]
  },
  {
   "cell_type": "code",
   "execution_count": 101,
   "metadata": {},
   "outputs": [],
   "source": [
    "nan_values_varpfuel_index = df_nomencl[df_nomencl['sku_id'].isin(nan_values_varpfuel_sku_id)].index.values"
   ]
  },
  {
   "cell_type": "code",
   "execution_count": 102,
   "metadata": {},
   "outputs": [],
   "source": [
    "#проставляю страну для дизеля с пропусками\n",
    "df_nomencl.at[nan_values_varpfuel_index, 'country'] = 'РОССИЯ'"
   ]
  },
  {
   "cell_type": "code",
   "execution_count": 103,
   "metadata": {},
   "outputs": [],
   "source": [
    "#проставляю в full_name для дизельного топлива с пропусками данные из категории\n",
    "#а категорию сделаю \"Топливо варповое\"\n",
    "for sku_id in nan_values_varpfuel_sku_id:\n",
    "    row = df_nomencl[df_nomencl['sku_id'] == sku_id]\n",
    "    df_nomencl.at[row.index, 'full_name'] = row['sku_group']\n",
    "    df_nomencl.at[row.index, 'sku_group'] = \"Топливо варповое\""
   ]
  },
  {
   "cell_type": "code",
   "execution_count": 104,
   "metadata": {},
   "outputs": [],
   "source": [
    "#проставляю бренд для дизеля с пропусками\n",
    "df_nomencl.at[nan_values_varpfuel_index, 'brand'] = 'GAZPROMNEFT'"
   ]
  },
  {
   "cell_type": "code",
   "execution_count": 105,
   "metadata": {},
   "outputs": [
    {
     "data": {
      "text/html": [
       "<div>\n",
       "<style scoped>\n",
       "    .dataframe tbody tr th:only-of-type {\n",
       "        vertical-align: middle;\n",
       "    }\n",
       "\n",
       "    .dataframe tbody tr th {\n",
       "        vertical-align: top;\n",
       "    }\n",
       "\n",
       "    .dataframe thead th {\n",
       "        text-align: right;\n",
       "    }\n",
       "</style>\n",
       "<table border=\"1\" class=\"dataframe\">\n",
       "  <thead>\n",
       "    <tr style=\"text-align: right;\">\n",
       "      <th></th>\n",
       "      <th>sku_id</th>\n",
       "      <th>full_name</th>\n",
       "      <th>brand</th>\n",
       "      <th>sku_group</th>\n",
       "      <th>OTM</th>\n",
       "      <th>units</th>\n",
       "      <th>country</th>\n",
       "    </tr>\n",
       "  </thead>\n",
       "  <tbody>\n",
       "    <tr>\n",
       "      <th>3728</th>\n",
       "      <td>1163</td>\n",
       "      <td>Топливо варповое с присадками летнее</td>\n",
       "      <td>GAZPROMNEFT</td>\n",
       "      <td>Топливо варповое</td>\n",
       "      <td>None</td>\n",
       "      <td>л</td>\n",
       "      <td>РОССИЯ</td>\n",
       "    </tr>\n",
       "    <tr>\n",
       "      <th>3771</th>\n",
       "      <td>1160</td>\n",
       "      <td>Топливо варповое зимнее</td>\n",
       "      <td>GAZPROMNEFT</td>\n",
       "      <td>Топливо варповое</td>\n",
       "      <td>None</td>\n",
       "      <td>л</td>\n",
       "      <td>РОССИЯ</td>\n",
       "    </tr>\n",
       "    <tr>\n",
       "      <th>3825</th>\n",
       "      <td>1162</td>\n",
       "      <td>Топливо варповое с присадками зимнее</td>\n",
       "      <td>GAZPROMNEFT</td>\n",
       "      <td>Топливо варповое</td>\n",
       "      <td>None</td>\n",
       "      <td>л</td>\n",
       "      <td>РОССИЯ</td>\n",
       "    </tr>\n",
       "    <tr>\n",
       "      <th>4407</th>\n",
       "      <td>1161</td>\n",
       "      <td>Топливо варповое летнее</td>\n",
       "      <td>GAZPROMNEFT</td>\n",
       "      <td>Топливо варповое</td>\n",
       "      <td>None</td>\n",
       "      <td>л</td>\n",
       "      <td>РОССИЯ</td>\n",
       "    </tr>\n",
       "    <tr>\n",
       "      <th>4922</th>\n",
       "      <td>1771</td>\n",
       "      <td>Топливо варповое с присадками межсезонное</td>\n",
       "      <td>GAZPROMNEFT</td>\n",
       "      <td>Топливо варповое</td>\n",
       "      <td>None</td>\n",
       "      <td>л</td>\n",
       "      <td>РОССИЯ</td>\n",
       "    </tr>\n",
       "  </tbody>\n",
       "</table>\n",
       "</div>"
      ],
      "text/plain": [
       "      sku_id                                  full_name        brand  \\\n",
       "3728    1163       Топливо варповое с присадками летнее  GAZPROMNEFT   \n",
       "3771    1160                    Топливо варповое зимнее  GAZPROMNEFT   \n",
       "3825    1162       Топливо варповое с присадками зимнее  GAZPROMNEFT   \n",
       "4407    1161                    Топливо варповое летнее  GAZPROMNEFT   \n",
       "4922    1771  Топливо варповое с присадками межсезонное  GAZPROMNEFT   \n",
       "\n",
       "             sku_group   OTM units country  \n",
       "3728  Топливо варповое  None     л  РОССИЯ  \n",
       "3771  Топливо варповое  None     л  РОССИЯ  \n",
       "3825  Топливо варповое  None     л  РОССИЯ  \n",
       "4407  Топливо варповое  None     л  РОССИЯ  \n",
       "4922  Топливо варповое  None     л  РОССИЯ  "
      ]
     },
     "execution_count": 105,
     "metadata": {},
     "output_type": "execute_result"
    }
   ],
   "source": [
    "df_nomencl[df_nomencl['sku_group'].str.contains('варповое')]"
   ]
  },
  {
   "cell_type": "markdown",
   "metadata": {},
   "source": [
    "Что с OTM (признак собственной торговой марки)?"
   ]
  },
  {
   "cell_type": "code",
   "execution_count": 106,
   "metadata": {},
   "outputs": [
    {
     "data": {
      "text/plain": [
       "Нет        3336\n",
       "unknown    1370\n",
       "Да          388\n",
       "Name: OTM, dtype: int64"
      ]
     },
     "execution_count": 106,
     "metadata": {},
     "output_type": "execute_result"
    }
   ],
   "source": [
    "df_nomencl['OTM'].value_counts()"
   ]
  },
  {
   "cell_type": "markdown",
   "metadata": {},
   "source": [
    "В нем очень много много пропусков(unknown), и в целом столбец не кажется информативным и полезным, возможно не буду его использовать.  \n",
    "Для топлива выставлю - \"Да\"."
   ]
  },
  {
   "cell_type": "code",
   "execution_count": 107,
   "metadata": {},
   "outputs": [],
   "source": [
    "#проставляю признак собственного бренда \"Да\"\n",
    "df_nomencl.at[nan_values_index, 'OTM'] = 'Да'"
   ]
  },
  {
   "cell_type": "markdown",
   "metadata": {},
   "source": [
    "<br><br>Удаление дубликатов в номенклатуре"
   ]
  },
  {
   "cell_type": "code",
   "execution_count": 108,
   "metadata": {},
   "outputs": [
    {
     "name": "stdout",
     "output_type": "stream",
     "text": [
      "Записей до удаления дубликатов: 5103\n"
     ]
    }
   ],
   "source": [
    "print(\"Записей до удаления дубликатов: {}\".format(len(df_nomencl)))"
   ]
  },
  {
   "cell_type": "code",
   "execution_count": 109,
   "metadata": {},
   "outputs": [],
   "source": [
    "df_nomencl.drop_duplicates(subset=None, keep='first', inplace=True)"
   ]
  },
  {
   "cell_type": "code",
   "execution_count": 110,
   "metadata": {},
   "outputs": [
    {
     "name": "stdout",
     "output_type": "stream",
     "text": [
      "Записей после удаления дубликатов: 5103\n"
     ]
    }
   ],
   "source": [
    "print(\"Записей после удаления дубликатов: {}\".format(len(df_nomencl)))"
   ]
  },
  {
   "cell_type": "markdown",
   "metadata": {},
   "source": [
    "<br><br>Обработка редких категорий  \n",
    "\n",
    "Если существуют редкие категории, то это может означать например что возможна опечатка или категория не из этого набора данных"
   ]
  },
  {
   "cell_type": "code",
   "execution_count": 111,
   "metadata": {},
   "outputs": [
    {
     "data": {
      "text/plain": [
       "['brand', 'sku_group', 'OTM', 'units', 'country']"
      ]
     },
     "execution_count": 111,
     "metadata": {},
     "output_type": "execute_result"
    }
   ],
   "source": [
    "#категориальные переменные, кроме \"full_name\"\n",
    "nomencl_cat_cols = df_nomencl.select_dtypes(include=['object']).columns.to_list()\n",
    "nomencl_cat_cols.remove(\"full_name\")\n",
    "nomencl_cat_cols"
   ]
  },
  {
   "cell_type": "markdown",
   "metadata": {},
   "source": [
    "- brand"
   ]
  },
  {
   "cell_type": "code",
   "execution_count": 112,
   "metadata": {
    "tags": []
   },
   "outputs": [
    {
     "data": {
      "text/html": [
       "<div>\n",
       "<style scoped>\n",
       "    .dataframe tbody tr th:only-of-type {\n",
       "        vertical-align: middle;\n",
       "    }\n",
       "\n",
       "    .dataframe tbody tr th {\n",
       "        vertical-align: top;\n",
       "    }\n",
       "\n",
       "    .dataframe thead th {\n",
       "        text-align: right;\n",
       "    }\n",
       "</style>\n",
       "<table border=\"1\" class=\"dataframe\">\n",
       "  <thead>\n",
       "    <tr style=\"text-align: right;\">\n",
       "      <th></th>\n",
       "      <th>index</th>\n",
       "      <th>brand</th>\n",
       "    </tr>\n",
       "  </thead>\n",
       "  <tbody>\n",
       "    <tr>\n",
       "      <th>0</th>\n",
       "      <td>КИРИЕШКИ</td>\n",
       "      <td>1</td>\n",
       "    </tr>\n",
       "    <tr>\n",
       "      <th>1</th>\n",
       "      <td>Сытоедов</td>\n",
       "      <td>1</td>\n",
       "    </tr>\n",
       "    <tr>\n",
       "      <th>2</th>\n",
       "      <td>Nerf</td>\n",
       "      <td>1</td>\n",
       "    </tr>\n",
       "    <tr>\n",
       "      <th>3</th>\n",
       "      <td>КУЗЯ Лакомкин</td>\n",
       "      <td>1</td>\n",
       "    </tr>\n",
       "    <tr>\n",
       "      <th>4</th>\n",
       "      <td>Тройка</td>\n",
       "      <td>1</td>\n",
       "    </tr>\n",
       "    <tr>\n",
       "      <th>...</th>\n",
       "      <td>...</td>\n",
       "      <td>...</td>\n",
       "    </tr>\n",
       "    <tr>\n",
       "      <th>495</th>\n",
       "      <td>G-Fly (СТМ)</td>\n",
       "      <td>129</td>\n",
       "    </tr>\n",
       "    <tr>\n",
       "      <th>496</th>\n",
       "      <td>УранПРОМEthereum</td>\n",
       "      <td>130</td>\n",
       "    </tr>\n",
       "    <tr>\n",
       "      <th>497</th>\n",
       "      <td>SAPFIRE</td>\n",
       "      <td>159</td>\n",
       "    </tr>\n",
       "    <tr>\n",
       "      <th>498</th>\n",
       "      <td>Fly Cafe</td>\n",
       "      <td>255</td>\n",
       "    </tr>\n",
       "    <tr>\n",
       "      <th>499</th>\n",
       "      <td>unknown</td>\n",
       "      <td>1724</td>\n",
       "    </tr>\n",
       "  </tbody>\n",
       "</table>\n",
       "<p>500 rows × 2 columns</p>\n",
       "</div>"
      ],
      "text/plain": [
       "                index  brand\n",
       "0            КИРИЕШКИ      1\n",
       "1            Сытоедов      1\n",
       "2                Nerf      1\n",
       "3       КУЗЯ Лакомкин      1\n",
       "4              Тройка      1\n",
       "..                ...    ...\n",
       "495       G-Fly (СТМ)    129\n",
       "496  УранПРОМEthereum    130\n",
       "497           SAPFIRE    159\n",
       "498          Fly Cafe    255\n",
       "499           unknown   1724\n",
       "\n",
       "[500 rows x 2 columns]"
      ]
     },
     "execution_count": 112,
     "metadata": {},
     "output_type": "execute_result"
    }
   ],
   "source": [
    "#посмотрим на количество товаров для брендов\n",
    "df_brand = df_nomencl['brand'].value_counts().sort_values(ascending=True).reset_index()\n",
    "df_brand"
   ]
  },
  {
   "cell_type": "markdown",
   "metadata": {},
   "source": [
    "Много брендов с только одним товаром, посмотрю на них подробнее."
   ]
  },
  {
   "cell_type": "code",
   "execution_count": 113,
   "metadata": {},
   "outputs": [
    {
     "data": {
      "text/plain": [
       "array(['7D', 'AROMA TOP LINE', 'ASCANIA', 'AVIORA', 'AdBlue', 'Albeni',\n",
       "       'Always', 'BAIKAL', 'BEERka', 'BIO MAX', 'BIOCOS',\n",
       "       'Baikal Reserve', 'Barilla', 'Barinoff', 'Blend-a-med',\n",
       "       'CONFASHON', 'Cafe Creme', 'Clausthaler', 'Colts', 'DOUBLEMINT',\n",
       "       'Delifrance', 'Dr.Pepper', 'Dunhill', 'EVE', 'Evitest',\n",
       "       'FIFA-2018', 'FLAMECLUB', 'FORSITE', 'Fazer', 'Filipino Sun',\n",
       "       \"FinSya'lon\", 'G-Box', 'GEISHA', 'GEOVITA', 'Gatorade',\n",
       "       'Greenfield', 'Head&Shoulders', 'Heineken', 'IRN BRU', 'IRONMAN',\n",
       "       'Laimon orange', 'Lantmannen Unibake', 'Lenco', 'Logic Compact',\n",
       "       'Lollipops', 'MAXIBON', 'Magic Pet Beads', 'Maltesers',\n",
       "       'Me to You', 'Medovarus', 'Moon Berry', 'Morning Care',\n",
       "       'Mountain DEW', 'NOVA Bright', 'Naturella', 'Nerf', 'Nestle',\n",
       "       'Notpil', 'Ola!', 'Old Spice', 'PAW Patrol', 'POWERADE', 'PRO',\n",
       "       'Parmalat', 'Paw Patrol', 'Pepero', 'Pocky', 'Premial', 'REGNUM',\n",
       "       'Ranaplast', 'Redex', 'Rohaus', 'Rondo', 'SPARTA', 'Safeguard',\n",
       "       'Security Feel Better', 'Senator', 'Sobranie', 'Solopharm',\n",
       "       'Street Food', 'TAMPAX', 'Toffifee', 'Vita Power', 'Vitateka',\n",
       "       'WERTERS ORIGINAL', 'XXI Power', 'eXtreme', 'ekovita', \"harry's\",\n",
       "       'idrinq', 'merci', 'АЛАТАУ', 'Антиполицай', 'БАБКИНЫ СЕМЕЧКИ',\n",
       "       'БЕЛЫЙ ГОРОД', 'БИЗНЕС ЛАНЧ', 'БОН ПАРИ', 'Байкал 1977',\n",
       "       'Бархатные ручки', 'Будь Здоров!', 'ВИЛОН', 'Вдохновение', 'Вера',\n",
       "       'Грилькофф', 'Даниссимо', 'Демидовская', 'Джермук',\n",
       "       'Золотая трубочка', 'КИРИЕШКИ', 'КОЛОМЕНСКОЕ', 'КУЗЯ Лакомкин',\n",
       "       'КУХМАСТЕР', 'Как раньше', 'РУССКИЙ СТИЛЬ', 'РотФронт', 'Русский',\n",
       "       'Русский марципан', 'Сенежская', 'Сытоедов', 'ТЕМА', 'Тосол-Север',\n",
       "       'Тройка', 'ФЭСТ', 'Фурми Ким', 'ХРУСТАЛЬНАЯ СНЕЖИНКА',\n",
       "       'Хлебный Спас', 'Чайковский', 'Частная галерея', 'Чебуречье',\n",
       "       'Экzо'], dtype=object)"
      ]
     },
     "execution_count": 113,
     "metadata": {},
     "output_type": "execute_result"
    }
   ],
   "source": [
    "brands_1sku = df_brand[df_brand[\"brand\"] == 1][\"index\"].values\n",
    "brands_1sku.sort() #бренды с одним товаром, сортирую по имени чтобы смотреть опечатки (буду делать визуально, данных не много)\n",
    "brands_1sku"
   ]
  },
  {
   "cell_type": "markdown",
   "metadata": {},
   "source": [
    "Просмотрел визуально, опечаток не увидел.\n",
    "\n",
    "Вообще сколько покупают товаров этих брендов?"
   ]
  },
  {
   "cell_type": "code",
   "execution_count": 114,
   "metadata": {},
   "outputs": [
    {
     "data": {
      "text/plain": [
       "array([ 118,  424, 1711,  364, 4254, 1455,  949, 1256, 2194,  664, 2010,\n",
       "       1795, 3101, 3644, 2108,  287, 1055, 1582,   93, 1122, 4647,  435,\n",
       "         14, 4509, 2835,  857,  152, 2227, 4314,  500,  471, 4634, 4411,\n",
       "       1396, 3947, 5085, 4163, 3313,   17, 1433,  626, 2796, 1121,   41,\n",
       "        506,  766, 4285,  963, 2904, 1008, 4961, 4963, 2068, 2463,  535,\n",
       "       1924,  577, 1094, 4164, 2516, 3528,  958,   87,  452, 4070,   10,\n",
       "       1892, 3573, 3994,  822, 1593, 3721,    7,  537, 3133, 1943,  399,\n",
       "       3509, 2449, 1564, 2460, 3192, 2918,  549, 3071, 1936, 2953, 3050,\n",
       "       1927, 1671, 1247, 2773, 4128, 3722,  519, 4878, 2492, 3128,  125,\n",
       "       3257, 2386,  178, 4690, 1938,   23,  410, 2301, 1472, 2114, 4909,\n",
       "       2916, 2939, 3177, 2667, 2164, 4245, 2532, 2149,  597, 3119, 2507,\n",
       "        542,   59, 2940, 1102, 2848, 2474, 3546, 1132, 1862])"
      ]
     },
     "execution_count": 114,
     "metadata": {},
     "output_type": "execute_result"
    }
   ],
   "source": [
    "skuid_brands_1sku = df_nomencl[df_nomencl[\"brand\"].isin(brands_1sku)][\"sku_id\"].values\n",
    "skuid_brands_1sku #ид товаров с брендом представленным только одним товаром"
   ]
  },
  {
   "cell_type": "code",
   "execution_count": 115,
   "metadata": {},
   "outputs": [
    {
     "name": "stdout",
     "output_type": "stream",
     "text": [
      "Доля покупаемых товаров бренд которых представлен только одним товаром:      3.36%\n"
     ]
    }
   ],
   "source": [
    "print(\"Доля покупаемых товаров бренд которых представлен только одним товаром:\\\n",
    "      {:.2f}%\".format((len(df_trans[df_trans['sku_id'].isin(skuid_brands_1sku)])/len(df_trans))*100))"
   ]
  },
  {
   "cell_type": "markdown",
   "metadata": {},
   "source": [
    "Не так то часто такие товары покупают, т.е. товары достаточно редкие, \"на ценителя\" или по необходимости, возможно их стоит в дальнейшем исключить из данных для обучения, хотя и так у них рейтинг будет низкий для попадания в рекомендации. Можно будет еще посмотреть в разрезе конкретных заправок, возможно где то это популярный товар."
   ]
  },
  {
   "cell_type": "code",
   "execution_count": 116,
   "metadata": {},
   "outputs": [],
   "source": [
    "brands_sku = df_brand[df_brand[\"brand\"] != 1][\"index\"].values\n",
    "brands_sku.sort() #бренды с несколькими товарами\n",
    "#brands_sku"
   ]
  },
  {
   "cell_type": "markdown",
   "metadata": {},
   "source": [
    "Опечатки в категориях можно поискать с помощью CountVectorizer или word2vec, найдя похожие слова и просмотрев их. Но данных не так много, для экономии времени просмотрел глазами."
   ]
  },
  {
   "cell_type": "markdown",
   "metadata": {},
   "source": [
    "c unknown по всем записям буду разбираться позже."
   ]
  },
  {
   "cell_type": "markdown",
   "metadata": {},
   "source": [
    "- sku_group"
   ]
  },
  {
   "cell_type": "code",
   "execution_count": 117,
   "metadata": {},
   "outputs": [],
   "source": [
    "#df_nomencl['sku_group'].value_counts().sort_values(ascending=True).reset_index()"
   ]
  },
  {
   "cell_type": "markdown",
   "metadata": {},
   "source": [
    "Просмотрел глазами, все ок."
   ]
  },
  {
   "cell_type": "markdown",
   "metadata": {},
   "source": [
    "- OTM"
   ]
  },
  {
   "cell_type": "code",
   "execution_count": 118,
   "metadata": {},
   "outputs": [
    {
     "data": {
      "text/html": [
       "<div>\n",
       "<style scoped>\n",
       "    .dataframe tbody tr th:only-of-type {\n",
       "        vertical-align: middle;\n",
       "    }\n",
       "\n",
       "    .dataframe tbody tr th {\n",
       "        vertical-align: top;\n",
       "    }\n",
       "\n",
       "    .dataframe thead th {\n",
       "        text-align: right;\n",
       "    }\n",
       "</style>\n",
       "<table border=\"1\" class=\"dataframe\">\n",
       "  <thead>\n",
       "    <tr style=\"text-align: right;\">\n",
       "      <th></th>\n",
       "      <th>index</th>\n",
       "      <th>OTM</th>\n",
       "    </tr>\n",
       "  </thead>\n",
       "  <tbody>\n",
       "    <tr>\n",
       "      <th>0</th>\n",
       "      <td>Да</td>\n",
       "      <td>397</td>\n",
       "    </tr>\n",
       "    <tr>\n",
       "      <th>1</th>\n",
       "      <td>unknown</td>\n",
       "      <td>1370</td>\n",
       "    </tr>\n",
       "    <tr>\n",
       "      <th>2</th>\n",
       "      <td>Нет</td>\n",
       "      <td>3336</td>\n",
       "    </tr>\n",
       "  </tbody>\n",
       "</table>\n",
       "</div>"
      ],
      "text/plain": [
       "     index   OTM\n",
       "0       Да   397\n",
       "1  unknown  1370\n",
       "2      Нет  3336"
      ]
     },
     "execution_count": 118,
     "metadata": {},
     "output_type": "execute_result"
    }
   ],
   "source": [
    "df_nomencl['OTM'].value_counts().sort_values(ascending=True).reset_index()"
   ]
  },
  {
   "cell_type": "markdown",
   "metadata": {},
   "source": [
    " - units"
   ]
  },
  {
   "cell_type": "code",
   "execution_count": 119,
   "metadata": {},
   "outputs": [
    {
     "data": {
      "text/html": [
       "<div>\n",
       "<style scoped>\n",
       "    .dataframe tbody tr th:only-of-type {\n",
       "        vertical-align: middle;\n",
       "    }\n",
       "\n",
       "    .dataframe tbody tr th {\n",
       "        vertical-align: top;\n",
       "    }\n",
       "\n",
       "    .dataframe thead th {\n",
       "        text-align: right;\n",
       "    }\n",
       "</style>\n",
       "<table border=\"1\" class=\"dataframe\">\n",
       "  <thead>\n",
       "    <tr style=\"text-align: right;\">\n",
       "      <th></th>\n",
       "      <th>index</th>\n",
       "      <th>units</th>\n",
       "    </tr>\n",
       "  </thead>\n",
       "  <tbody>\n",
       "    <tr>\n",
       "      <th>0</th>\n",
       "      <td>м</td>\n",
       "      <td>3</td>\n",
       "    </tr>\n",
       "    <tr>\n",
       "      <th>1</th>\n",
       "      <td>кг</td>\n",
       "      <td>33</td>\n",
       "    </tr>\n",
       "    <tr>\n",
       "      <th>2</th>\n",
       "      <td>мл</td>\n",
       "      <td>45</td>\n",
       "    </tr>\n",
       "    <tr>\n",
       "      <th>3</th>\n",
       "      <td>л</td>\n",
       "      <td>706</td>\n",
       "    </tr>\n",
       "    <tr>\n",
       "      <th>4</th>\n",
       "      <td>г</td>\n",
       "      <td>1182</td>\n",
       "    </tr>\n",
       "    <tr>\n",
       "      <th>5</th>\n",
       "      <td>шт</td>\n",
       "      <td>1416</td>\n",
       "    </tr>\n",
       "    <tr>\n",
       "      <th>6</th>\n",
       "      <td>unknown</td>\n",
       "      <td>1718</td>\n",
       "    </tr>\n",
       "  </tbody>\n",
       "</table>\n",
       "</div>"
      ],
      "text/plain": [
       "     index  units\n",
       "0        м      3\n",
       "1       кг     33\n",
       "2       мл     45\n",
       "3        л    706\n",
       "4        г   1182\n",
       "5       шт   1416\n",
       "6  unknown   1718"
      ]
     },
     "execution_count": 119,
     "metadata": {},
     "output_type": "execute_result"
    }
   ],
   "source": [
    "df_nomencl['units'].value_counts().sort_values(ascending=True).reset_index()"
   ]
  },
  {
   "cell_type": "markdown",
   "metadata": {},
   "source": [
    "Возможно стоит объединить в одни единицы \"мл\" и \"л\" а так же \"кг\" и \"г\", подумаю об этом позже, если такое потребуется."
   ]
  },
  {
   "cell_type": "markdown",
   "metadata": {},
   "source": [
    "- country"
   ]
  },
  {
   "cell_type": "code",
   "execution_count": 120,
   "metadata": {},
   "outputs": [],
   "source": [
    "#df_nomencl['country'].value_counts().sort_values(ascending=True).reset_index()"
   ]
  },
  {
   "cell_type": "markdown",
   "metadata": {},
   "source": [
    "Все ок"
   ]
  },
  {
   "cell_type": "markdown",
   "metadata": {},
   "source": [
    "#### Разберусь с тем, что в некоторых транзакциях и litrs и number"
   ]
  },
  {
   "cell_type": "markdown",
   "metadata": {},
   "source": [
    "Выше обнаружил такой нюнс, хотя по условию сказано, что number только не у топлива, а litrs у топлива.  \n",
    "С топливом уже определил, что все ок, есть litrs и number=0."
   ]
  },
  {
   "cell_type": "code",
   "execution_count": 122,
   "metadata": {},
   "outputs": [
    {
     "data": {
      "text/html": [
       "<div>\n",
       "<style scoped>\n",
       "    .dataframe tbody tr th:only-of-type {\n",
       "        vertical-align: middle;\n",
       "    }\n",
       "\n",
       "    .dataframe tbody tr th {\n",
       "        vertical-align: top;\n",
       "    }\n",
       "\n",
       "    .dataframe thead th {\n",
       "        text-align: right;\n",
       "    }\n",
       "</style>\n",
       "<table border=\"1\" class=\"dataframe\">\n",
       "  <thead>\n",
       "    <tr style=\"text-align: right;\">\n",
       "      <th></th>\n",
       "      <th>sku_id</th>\n",
       "      <th>price</th>\n",
       "      <th>number</th>\n",
       "      <th>cheque_id</th>\n",
       "      <th>litrs</th>\n",
       "      <th>client_id</th>\n",
       "      <th>shop_id</th>\n",
       "      <th>date</th>\n",
       "      <th>month</th>\n",
       "    </tr>\n",
       "  </thead>\n",
       "  <tbody>\n",
       "    <tr>\n",
       "      <th>7585450</th>\n",
       "      <td>3324</td>\n",
       "      <td>0.006106</td>\n",
       "      <td>0.000452</td>\n",
       "      <td>2262585</td>\n",
       "      <td>0.104183</td>\n",
       "      <td>345359</td>\n",
       "      <td>96</td>\n",
       "      <td>2171-03-01</td>\n",
       "      <td>3</td>\n",
       "    </tr>\n",
       "    <tr>\n",
       "      <th>7585449</th>\n",
       "      <td>3324</td>\n",
       "      <td>0.006106</td>\n",
       "      <td>0.000452</td>\n",
       "      <td>2262672</td>\n",
       "      <td>0.104183</td>\n",
       "      <td>66311</td>\n",
       "      <td>96</td>\n",
       "      <td>2171-03-01</td>\n",
       "      <td>3</td>\n",
       "    </tr>\n",
       "    <tr>\n",
       "      <th>7585448</th>\n",
       "      <td>3324</td>\n",
       "      <td>0.006106</td>\n",
       "      <td>0.000452</td>\n",
       "      <td>1764707</td>\n",
       "      <td>0.104183</td>\n",
       "      <td>352887</td>\n",
       "      <td>77</td>\n",
       "      <td>2171-03-01</td>\n",
       "      <td>3</td>\n",
       "    </tr>\n",
       "    <tr>\n",
       "      <th>7585447</th>\n",
       "      <td>417</td>\n",
       "      <td>0.008107</td>\n",
       "      <td>0.000452</td>\n",
       "      <td>3289368</td>\n",
       "      <td>0.104183</td>\n",
       "      <td>179887</td>\n",
       "      <td>102</td>\n",
       "      <td>2171-03-01</td>\n",
       "      <td>3</td>\n",
       "    </tr>\n",
       "    <tr>\n",
       "      <th>7585446</th>\n",
       "      <td>840</td>\n",
       "      <td>0.010723</td>\n",
       "      <td>0.000452</td>\n",
       "      <td>411166</td>\n",
       "      <td>0.104183</td>\n",
       "      <td>-1</td>\n",
       "      <td>23</td>\n",
       "      <td>2171-03-01</td>\n",
       "      <td>3</td>\n",
       "    </tr>\n",
       "    <tr>\n",
       "      <th>...</th>\n",
       "      <td>...</td>\n",
       "      <td>...</td>\n",
       "      <td>...</td>\n",
       "      <td>...</td>\n",
       "      <td>...</td>\n",
       "      <td>...</td>\n",
       "      <td>...</td>\n",
       "      <td>...</td>\n",
       "      <td>...</td>\n",
       "    </tr>\n",
       "    <tr>\n",
       "      <th>41343</th>\n",
       "      <td>964</td>\n",
       "      <td>0.010005</td>\n",
       "      <td>0.000452</td>\n",
       "      <td>2810661</td>\n",
       "      <td>0.104183</td>\n",
       "      <td>54091</td>\n",
       "      <td>17</td>\n",
       "      <td>2171-07-31</td>\n",
       "      <td>7</td>\n",
       "    </tr>\n",
       "    <tr>\n",
       "      <th>41342</th>\n",
       "      <td>530</td>\n",
       "      <td>0.003284</td>\n",
       "      <td>0.000452</td>\n",
       "      <td>3121460</td>\n",
       "      <td>0.104183</td>\n",
       "      <td>223337</td>\n",
       "      <td>33</td>\n",
       "      <td>2171-07-31</td>\n",
       "      <td>7</td>\n",
       "    </tr>\n",
       "    <tr>\n",
       "      <th>41340</th>\n",
       "      <td>1802</td>\n",
       "      <td>0.007132</td>\n",
       "      <td>0.000452</td>\n",
       "      <td>1138882</td>\n",
       "      <td>0.104183</td>\n",
       "      <td>221920</td>\n",
       "      <td>71</td>\n",
       "      <td>2171-07-31</td>\n",
       "      <td>7</td>\n",
       "    </tr>\n",
       "    <tr>\n",
       "      <th>41338</th>\n",
       "      <td>2674</td>\n",
       "      <td>0.007645</td>\n",
       "      <td>0.000452</td>\n",
       "      <td>2584535</td>\n",
       "      <td>0.104183</td>\n",
       "      <td>271639</td>\n",
       "      <td>103</td>\n",
       "      <td>2171-07-31</td>\n",
       "      <td>7</td>\n",
       "    </tr>\n",
       "    <tr>\n",
       "      <th>40967</th>\n",
       "      <td>1509</td>\n",
       "      <td>0.008671</td>\n",
       "      <td>0.000452</td>\n",
       "      <td>2625142</td>\n",
       "      <td>0.104183</td>\n",
       "      <td>-1</td>\n",
       "      <td>6</td>\n",
       "      <td>2171-07-31</td>\n",
       "      <td>7</td>\n",
       "    </tr>\n",
       "  </tbody>\n",
       "</table>\n",
       "<p>4975751 rows × 9 columns</p>\n",
       "</div>"
      ],
      "text/plain": [
       "         sku_id     price    number  cheque_id     litrs  client_id  shop_id  \\\n",
       "7585450    3324  0.006106  0.000452    2262585  0.104183     345359       96   \n",
       "7585449    3324  0.006106  0.000452    2262672  0.104183      66311       96   \n",
       "7585448    3324  0.006106  0.000452    1764707  0.104183     352887       77   \n",
       "7585447     417  0.008107  0.000452    3289368  0.104183     179887      102   \n",
       "7585446     840  0.010723  0.000452     411166  0.104183         -1       23   \n",
       "...         ...       ...       ...        ...       ...        ...      ...   \n",
       "41343       964  0.010005  0.000452    2810661  0.104183      54091       17   \n",
       "41342       530  0.003284  0.000452    3121460  0.104183     223337       33   \n",
       "41340      1802  0.007132  0.000452    1138882  0.104183     221920       71   \n",
       "41338      2674  0.007645  0.000452    2584535  0.104183     271639      103   \n",
       "40967      1509  0.008671  0.000452    2625142  0.104183         -1        6   \n",
       "\n",
       "              date  month  \n",
       "7585450 2171-03-01      3  \n",
       "7585449 2171-03-01      3  \n",
       "7585448 2171-03-01      3  \n",
       "7585447 2171-03-01      3  \n",
       "7585446 2171-03-01      3  \n",
       "...            ...    ...  \n",
       "41343   2171-07-31      7  \n",
       "41342   2171-07-31      7  \n",
       "41340   2171-07-31      7  \n",
       "41338   2171-07-31      7  \n",
       "40967   2171-07-31      7  \n",
       "\n",
       "[4975751 rows x 9 columns]"
      ]
     },
     "execution_count": 122,
     "metadata": {},
     "output_type": "execute_result"
    }
   ],
   "source": [
    "df_trans_litrs_error = df_trans[(df_trans['number'] > 0) & (df_trans['litrs'] > 0)]\n",
    "df_trans_litrs_error"
   ]
  },
  {
   "cell_type": "markdown",
   "metadata": {},
   "source": [
    "Довольно много записей с такой проблемой, уже видно, что litrs = 0.104183, проверю."
   ]
  },
  {
   "cell_type": "code",
   "execution_count": 123,
   "metadata": {},
   "outputs": [
    {
     "data": {
      "text/plain": [
       "0.104183    4975751\n",
       "Name: litrs, dtype: int64"
      ]
     },
     "execution_count": 123,
     "metadata": {},
     "output_type": "execute_result"
    }
   ],
   "source": [
    "df_trans_litrs_error.litrs.value_counts()"
   ]
  },
  {
   "cell_type": "code",
   "execution_count": 124,
   "metadata": {},
   "outputs": [],
   "source": [
    "#Заменю такие значения на 0\n",
    "df_trans.at[df_trans_litrs_error.index, 'litrs'] = 0"
   ]
  },
  {
   "cell_type": "code",
   "execution_count": 127,
   "metadata": {},
   "outputs": [
    {
     "data": {
      "text/html": [
       "<div>\n",
       "<style scoped>\n",
       "    .dataframe tbody tr th:only-of-type {\n",
       "        vertical-align: middle;\n",
       "    }\n",
       "\n",
       "    .dataframe tbody tr th {\n",
       "        vertical-align: top;\n",
       "    }\n",
       "\n",
       "    .dataframe thead th {\n",
       "        text-align: right;\n",
       "    }\n",
       "</style>\n",
       "<table border=\"1\" class=\"dataframe\">\n",
       "  <thead>\n",
       "    <tr style=\"text-align: right;\">\n",
       "      <th></th>\n",
       "      <th>sku_id</th>\n",
       "      <th>price</th>\n",
       "      <th>number</th>\n",
       "      <th>cheque_id</th>\n",
       "      <th>litrs</th>\n",
       "      <th>client_id</th>\n",
       "      <th>shop_id</th>\n",
       "      <th>date</th>\n",
       "      <th>month</th>\n",
       "    </tr>\n",
       "  </thead>\n",
       "  <tbody>\n",
       "  </tbody>\n",
       "</table>\n",
       "</div>"
      ],
      "text/plain": [
       "Empty DataFrame\n",
       "Columns: [sku_id, price, number, cheque_id, litrs, client_id, shop_id, date, month]\n",
       "Index: []"
      ]
     },
     "execution_count": 127,
     "metadata": {},
     "output_type": "execute_result"
    }
   ],
   "source": [
    "#больше таких значений не осталось\n",
    "df_trans[(df_trans['number'] > 0) & (df_trans['litrs'] > 0)]"
   ]
  },
  {
   "cell_type": "markdown",
   "metadata": {},
   "source": [
    "А есть отрицательные значения?"
   ]
  },
  {
   "cell_type": "code",
   "execution_count": 128,
   "metadata": {},
   "outputs": [
    {
     "data": {
      "text/html": [
       "<div>\n",
       "<style scoped>\n",
       "    .dataframe tbody tr th:only-of-type {\n",
       "        vertical-align: middle;\n",
       "    }\n",
       "\n",
       "    .dataframe tbody tr th {\n",
       "        vertical-align: top;\n",
       "    }\n",
       "\n",
       "    .dataframe thead th {\n",
       "        text-align: right;\n",
       "    }\n",
       "</style>\n",
       "<table border=\"1\" class=\"dataframe\">\n",
       "  <thead>\n",
       "    <tr style=\"text-align: right;\">\n",
       "      <th></th>\n",
       "      <th>sku_id</th>\n",
       "      <th>price</th>\n",
       "      <th>number</th>\n",
       "      <th>cheque_id</th>\n",
       "      <th>litrs</th>\n",
       "      <th>client_id</th>\n",
       "      <th>shop_id</th>\n",
       "      <th>month</th>\n",
       "    </tr>\n",
       "  </thead>\n",
       "  <tbody>\n",
       "    <tr>\n",
       "      <th>count</th>\n",
       "      <td>6.800919e+06</td>\n",
       "      <td>6.800919e+06</td>\n",
       "      <td>6.800919e+06</td>\n",
       "      <td>6.800919e+06</td>\n",
       "      <td>6.800919e+06</td>\n",
       "      <td>6.800919e+06</td>\n",
       "      <td>6.800919e+06</td>\n",
       "      <td>6.800919e+06</td>\n",
       "    </tr>\n",
       "    <tr>\n",
       "      <th>mean</th>\n",
       "      <td>1.555864e+03</td>\n",
       "      <td>6.219259e-03</td>\n",
       "      <td>3.811301e-04</td>\n",
       "      <td>1.642932e+06</td>\n",
       "      <td>3.730493e-02</td>\n",
       "      <td>1.056301e+05</td>\n",
       "      <td>5.021314e+01</td>\n",
       "      <td>5.004786e+00</td>\n",
       "    </tr>\n",
       "    <tr>\n",
       "      <th>std</th>\n",
       "      <td>1.144436e+03</td>\n",
       "      <td>7.282466e-03</td>\n",
       "      <td>2.363650e-03</td>\n",
       "      <td>1.004861e+06</td>\n",
       "      <td>6.236737e-02</td>\n",
       "      <td>1.318555e+05</td>\n",
       "      <td>3.184977e+01</td>\n",
       "      <td>1.425986e+00</td>\n",
       "    </tr>\n",
       "    <tr>\n",
       "      <th>min</th>\n",
       "      <td>0.000000e+00</td>\n",
       "      <td>0.000000e+00</td>\n",
       "      <td>0.000000e+00</td>\n",
       "      <td>0.000000e+00</td>\n",
       "      <td>0.000000e+00</td>\n",
       "      <td>-1.000000e+00</td>\n",
       "      <td>1.000000e+00</td>\n",
       "      <td>3.000000e+00</td>\n",
       "    </tr>\n",
       "    <tr>\n",
       "      <th>25%</th>\n",
       "      <td>8.340000e+02</td>\n",
       "      <td>2.637250e-03</td>\n",
       "      <td>0.000000e+00</td>\n",
       "      <td>7.217970e+05</td>\n",
       "      <td>0.000000e+00</td>\n",
       "      <td>-1.000000e+00</td>\n",
       "      <td>2.000000e+01</td>\n",
       "      <td>4.000000e+00</td>\n",
       "    </tr>\n",
       "    <tr>\n",
       "      <th>50%</th>\n",
       "      <td>1.159000e+03</td>\n",
       "      <td>5.592612e-03</td>\n",
       "      <td>4.522493e-04</td>\n",
       "      <td>1.628225e+06</td>\n",
       "      <td>0.000000e+00</td>\n",
       "      <td>1.920000e+04</td>\n",
       "      <td>4.400000e+01</td>\n",
       "      <td>5.000000e+00</td>\n",
       "    </tr>\n",
       "    <tr>\n",
       "      <th>75%</th>\n",
       "      <td>2.225000e+03</td>\n",
       "      <td>8.619805e-03</td>\n",
       "      <td>4.522493e-04</td>\n",
       "      <td>2.523205e+06</td>\n",
       "      <td>1.149930e-01</td>\n",
       "      <td>2.053810e+05</td>\n",
       "      <td>7.800000e+01</td>\n",
       "      <td>6.000000e+00</td>\n",
       "    </tr>\n",
       "    <tr>\n",
       "      <th>max</th>\n",
       "      <td>5.058000e+03</td>\n",
       "      <td>1.000000e+00</td>\n",
       "      <td>1.000000e+00</td>\n",
       "      <td>3.407195e+06</td>\n",
       "      <td>1.000000e+00</td>\n",
       "      <td>4.052290e+05</td>\n",
       "      <td>1.100000e+02</td>\n",
       "      <td>7.000000e+00</td>\n",
       "    </tr>\n",
       "  </tbody>\n",
       "</table>\n",
       "</div>"
      ],
      "text/plain": [
       "             sku_id         price        number     cheque_id         litrs  \\\n",
       "count  6.800919e+06  6.800919e+06  6.800919e+06  6.800919e+06  6.800919e+06   \n",
       "mean   1.555864e+03  6.219259e-03  3.811301e-04  1.642932e+06  3.730493e-02   \n",
       "std    1.144436e+03  7.282466e-03  2.363650e-03  1.004861e+06  6.236737e-02   \n",
       "min    0.000000e+00  0.000000e+00  0.000000e+00  0.000000e+00  0.000000e+00   \n",
       "25%    8.340000e+02  2.637250e-03  0.000000e+00  7.217970e+05  0.000000e+00   \n",
       "50%    1.159000e+03  5.592612e-03  4.522493e-04  1.628225e+06  0.000000e+00   \n",
       "75%    2.225000e+03  8.619805e-03  4.522493e-04  2.523205e+06  1.149930e-01   \n",
       "max    5.058000e+03  1.000000e+00  1.000000e+00  3.407195e+06  1.000000e+00   \n",
       "\n",
       "          client_id       shop_id         month  \n",
       "count  6.800919e+06  6.800919e+06  6.800919e+06  \n",
       "mean   1.056301e+05  5.021314e+01  5.004786e+00  \n",
       "std    1.318555e+05  3.184977e+01  1.425986e+00  \n",
       "min   -1.000000e+00  1.000000e+00  3.000000e+00  \n",
       "25%   -1.000000e+00  2.000000e+01  4.000000e+00  \n",
       "50%    1.920000e+04  4.400000e+01  5.000000e+00  \n",
       "75%    2.053810e+05  7.800000e+01  6.000000e+00  \n",
       "max    4.052290e+05  1.100000e+02  7.000000e+00  "
      ]
     },
     "execution_count": 128,
     "metadata": {},
     "output_type": "execute_result"
    }
   ],
   "source": [
    "df_trans.describe()"
   ]
  },
  {
   "cell_type": "markdown",
   "metadata": {},
   "source": [
    "По min значениям видно, что отрицательных данных нет, кроме ид клиента, которые я сам заменил на \"-1\"."
   ]
  },
  {
   "cell_type": "markdown",
   "metadata": {},
   "source": [
    "#### <br><br>Поиск выбросов"
   ]
  },
  {
   "cell_type": "code",
   "execution_count": 56,
   "metadata": {},
   "outputs": [
    {
     "data": {
      "image/png": "[encoded data removed]",
      "text/plain": [
       "<Figure size 1152x504 with 3 Axes>"
      ]
     },
     "metadata": {
      "needs_background": "light"
     },
     "output_type": "display_data"
    }
   ],
   "source": [
    "fig, axs = plt.subplots(3, 1, figsize=(16, 7))\n",
    "\n",
    "axs[0].set_title(\"price\")\n",
    "axs[1].set_title(\"number\")\n",
    "axs[2].set_title(\"litrs\")\n",
    "sns.boxplot(data=df_trans, x=\"price\", color=\"skyblue\", ax=axs[0])\n",
    "sns.boxplot(data=df_trans, x=\"number\", color=\"olive\", ax=axs[1])\n",
    "sns.boxplot(data=df_trans, x=\"litrs\", color=\"teal\", ax=axs[2])\n",
    "\n",
    "plt.show()"
   ]
  },
  {
   "cell_type": "markdown",
   "metadata": {},
   "source": [
    "Очевидно, что есть данные похожие на выбросы, во всех числовых переменных, много значений за межквартильным размахом и требуют доп анализа."
   ]
  },
  {
   "cell_type": "markdown",
   "metadata": {},
   "source": [
    "- price"
   ]
  },
  {
   "cell_type": "code",
   "execution_count": 134,
   "metadata": {},
   "outputs": [
    {
     "data": {
      "text/plain": [
       "count    6.800919e+06\n",
       "mean     6.219259e-03\n",
       "std      7.282466e-03\n",
       "min      0.000000e+00\n",
       "25%      2.637250e-03\n",
       "50%      5.592612e-03\n",
       "75%      8.619805e-03\n",
       "max      1.000000e+00\n",
       "Name: price, dtype: float64"
      ]
     },
     "execution_count": 134,
     "metadata": {},
     "output_type": "execute_result"
    }
   ],
   "source": [
    "df_trans.price.describe()"
   ]
  },
  {
   "cell_type": "markdown",
   "metadata": {},
   "source": [
    "Есть цены менше нуля?"
   ]
  },
  {
   "cell_type": "code",
   "execution_count": 130,
   "metadata": {},
   "outputs": [
    {
     "data": {
      "text/html": [
       "<div>\n",
       "<style scoped>\n",
       "    .dataframe tbody tr th:only-of-type {\n",
       "        vertical-align: middle;\n",
       "    }\n",
       "\n",
       "    .dataframe tbody tr th {\n",
       "        vertical-align: top;\n",
       "    }\n",
       "\n",
       "    .dataframe thead th {\n",
       "        text-align: right;\n",
       "    }\n",
       "</style>\n",
       "<table border=\"1\" class=\"dataframe\">\n",
       "  <thead>\n",
       "    <tr style=\"text-align: right;\">\n",
       "      <th></th>\n",
       "      <th>sku_id</th>\n",
       "      <th>price</th>\n",
       "      <th>number</th>\n",
       "      <th>cheque_id</th>\n",
       "      <th>litrs</th>\n",
       "      <th>client_id</th>\n",
       "      <th>shop_id</th>\n",
       "      <th>date</th>\n",
       "      <th>month</th>\n",
       "    </tr>\n",
       "  </thead>\n",
       "  <tbody>\n",
       "  </tbody>\n",
       "</table>\n",
       "</div>"
      ],
      "text/plain": [
       "Empty DataFrame\n",
       "Columns: [sku_id, price, number, cheque_id, litrs, client_id, shop_id, date, month]\n",
       "Index: []"
      ]
     },
     "execution_count": 130,
     "metadata": {},
     "output_type": "execute_result"
    }
   ],
   "source": [
    "df_trans[df_trans[\"price\"] < 0]"
   ]
  },
  {
   "cell_type": "markdown",
   "metadata": {},
   "source": [
    "Посмотрим на товары с высокими ценами"
   ]
  },
  {
   "cell_type": "code",
   "execution_count": 143,
   "metadata": {},
   "outputs": [
    {
     "data": {
      "text/html": [
       "<div>\n",
       "<style scoped>\n",
       "    .dataframe tbody tr th:only-of-type {\n",
       "        vertical-align: middle;\n",
       "    }\n",
       "\n",
       "    .dataframe tbody tr th {\n",
       "        vertical-align: top;\n",
       "    }\n",
       "\n",
       "    .dataframe thead th {\n",
       "        text-align: right;\n",
       "    }\n",
       "</style>\n",
       "<table border=\"1\" class=\"dataframe\">\n",
       "  <thead>\n",
       "    <tr style=\"text-align: right;\">\n",
       "      <th></th>\n",
       "      <th>sku_id</th>\n",
       "      <th>price</th>\n",
       "      <th>number</th>\n",
       "      <th>cheque_id</th>\n",
       "      <th>litrs</th>\n",
       "      <th>client_id</th>\n",
       "      <th>shop_id</th>\n",
       "      <th>date</th>\n",
       "      <th>month</th>\n",
       "      <th>full_name</th>\n",
       "      <th>brand</th>\n",
       "      <th>sku_group</th>\n",
       "      <th>OTM</th>\n",
       "      <th>units</th>\n",
       "      <th>country</th>\n",
       "    </tr>\n",
       "  </thead>\n",
       "  <tbody>\n",
       "    <tr>\n",
       "      <th>108</th>\n",
       "      <td>4416</td>\n",
       "      <td>0.420215</td>\n",
       "      <td>0.000452</td>\n",
       "      <td>2332</td>\n",
       "      <td>0.0</td>\n",
       "      <td>399588</td>\n",
       "      <td>5</td>\n",
       "      <td>2171-03-15</td>\n",
       "      <td>3</td>\n",
       "      <td>Салфетки AURA Antibacterial Derma Protect влаж...</td>\n",
       "      <td>AURA</td>\n",
       "      <td>Хозяйственные товары, персональный уход</td>\n",
       "      <td>Нет</td>\n",
       "      <td>шт</td>\n",
       "      <td>РОССИЯ</td>\n",
       "    </tr>\n",
       "    <tr>\n",
       "      <th>101</th>\n",
       "      <td>4416</td>\n",
       "      <td>0.420215</td>\n",
       "      <td>0.000452</td>\n",
       "      <td>6562</td>\n",
       "      <td>0.0</td>\n",
       "      <td>23682</td>\n",
       "      <td>68</td>\n",
       "      <td>2171-03-03</td>\n",
       "      <td>3</td>\n",
       "      <td>Салфетки AURA Antibacterial Derma Protect влаж...</td>\n",
       "      <td>AURA</td>\n",
       "      <td>Хозяйственные товары, персональный уход</td>\n",
       "      <td>Нет</td>\n",
       "      <td>шт</td>\n",
       "      <td>РОССИЯ</td>\n",
       "    </tr>\n",
       "    <tr>\n",
       "      <th>92</th>\n",
       "      <td>4417</td>\n",
       "      <td>0.769112</td>\n",
       "      <td>0.000452</td>\n",
       "      <td>7281</td>\n",
       "      <td>0.0</td>\n",
       "      <td>354341</td>\n",
       "      <td>68</td>\n",
       "      <td>2171-03-04</td>\n",
       "      <td>3</td>\n",
       "      <td>Часы Swiss OAK SOW-01 36мм белые</td>\n",
       "      <td>Swiss OAK</td>\n",
       "      <td>Хозяйственные товары, персональный уход</td>\n",
       "      <td>Нет</td>\n",
       "      <td>шт</td>\n",
       "      <td>КИТАЙ</td>\n",
       "    </tr>\n",
       "    <tr>\n",
       "      <th>2</th>\n",
       "      <td>4412</td>\n",
       "      <td>0.481786</td>\n",
       "      <td>0.000452</td>\n",
       "      <td>9396</td>\n",
       "      <td>0.0</td>\n",
       "      <td>102401</td>\n",
       "      <td>68</td>\n",
       "      <td>2171-03-07</td>\n",
       "      <td>3</td>\n",
       "      <td>Сумка FlyR TS5 TUBUS универсальная</td>\n",
       "      <td>FlyR</td>\n",
       "      <td>Хозяйственные товары, персональный уход</td>\n",
       "      <td>Нет</td>\n",
       "      <td>шт</td>\n",
       "      <td>РОССИЯ</td>\n",
       "    </tr>\n",
       "    <tr>\n",
       "      <th>106</th>\n",
       "      <td>4416</td>\n",
       "      <td>0.420215</td>\n",
       "      <td>0.000452</td>\n",
       "      <td>13880</td>\n",
       "      <td>0.0</td>\n",
       "      <td>58143</td>\n",
       "      <td>68</td>\n",
       "      <td>2171-03-13</td>\n",
       "      <td>3</td>\n",
       "      <td>Салфетки AURA Antibacterial Derma Protect влаж...</td>\n",
       "      <td>AURA</td>\n",
       "      <td>Хозяйственные товары, персональный уход</td>\n",
       "      <td>Нет</td>\n",
       "      <td>шт</td>\n",
       "      <td>РОССИЯ</td>\n",
       "    </tr>\n",
       "  </tbody>\n",
       "</table>\n",
       "</div>"
      ],
      "text/plain": [
       "     sku_id     price    number  cheque_id  litrs  client_id  shop_id  \\\n",
       "108    4416  0.420215  0.000452       2332    0.0     399588        5   \n",
       "101    4416  0.420215  0.000452       6562    0.0      23682       68   \n",
       "92     4417  0.769112  0.000452       7281    0.0     354341       68   \n",
       "2      4412  0.481786  0.000452       9396    0.0     102401       68   \n",
       "106    4416  0.420215  0.000452      13880    0.0      58143       68   \n",
       "\n",
       "          date  month                                          full_name  \\\n",
       "108 2171-03-15      3  Салфетки AURA Antibacterial Derma Protect влаж...   \n",
       "101 2171-03-03      3  Салфетки AURA Antibacterial Derma Protect влаж...   \n",
       "92  2171-03-04      3                   Часы Swiss OAK SOW-01 36мм белые   \n",
       "2   2171-03-07      3                 Сумка FlyR TS5 TUBUS универсальная   \n",
       "106 2171-03-13      3  Салфетки AURA Antibacterial Derma Protect влаж...   \n",
       "\n",
       "         brand                                sku_group  OTM units country  \n",
       "108       AURA  Хозяйственные товары, персональный уход  Нет    шт  РОССИЯ  \n",
       "101       AURA  Хозяйственные товары, персональный уход  Нет    шт  РОССИЯ  \n",
       "92   Swiss OAK  Хозяйственные товары, персональный уход  Нет    шт   КИТАЙ  \n",
       "2         FlyR  Хозяйственные товары, персональный уход  Нет    шт  РОССИЯ  \n",
       "106       AURA  Хозяйственные товары, персональный уход  Нет    шт  РОССИЯ  "
      ]
     },
     "execution_count": 143,
     "metadata": {},
     "output_type": "execute_result"
    }
   ],
   "source": [
    "df_trans_top_price = pd.merge(df_trans[df_trans[\"price\"] > 0.4], \n",
    "                              df_nomencl,\n",
    "                              on=\"sku_id\").sort_values(by='cheque_id')\n",
    "\n",
    "df_trans_top_price.head()"
   ]
  },
  {
   "cell_type": "code",
   "execution_count": 144,
   "metadata": {},
   "outputs": [
    {
     "data": {
      "text/html": [
       "<div>\n",
       "<style scoped>\n",
       "    .dataframe tbody tr th:only-of-type {\n",
       "        vertical-align: middle;\n",
       "    }\n",
       "\n",
       "    .dataframe tbody tr th {\n",
       "        vertical-align: top;\n",
       "    }\n",
       "\n",
       "    .dataframe thead th {\n",
       "        text-align: right;\n",
       "    }\n",
       "</style>\n",
       "<table border=\"1\" class=\"dataframe\">\n",
       "  <thead>\n",
       "    <tr style=\"text-align: right;\">\n",
       "      <th></th>\n",
       "      <th>sku_id</th>\n",
       "      <th>price</th>\n",
       "      <th>number</th>\n",
       "      <th>cheque_id</th>\n",
       "      <th>litrs</th>\n",
       "      <th>client_id</th>\n",
       "      <th>shop_id</th>\n",
       "      <th>date</th>\n",
       "      <th>month</th>\n",
       "      <th>full_name</th>\n",
       "      <th>brand</th>\n",
       "      <th>sku_group</th>\n",
       "      <th>OTM</th>\n",
       "      <th>units</th>\n",
       "      <th>country</th>\n",
       "    </tr>\n",
       "  </thead>\n",
       "  <tbody>\n",
       "    <tr>\n",
       "      <th>75</th>\n",
       "      <td>4441</td>\n",
       "      <td>0.409954</td>\n",
       "      <td>0.000452</td>\n",
       "      <td>3202878</td>\n",
       "      <td>0.0</td>\n",
       "      <td>-1</td>\n",
       "      <td>82</td>\n",
       "      <td>2171-03-24</td>\n",
       "      <td>3</td>\n",
       "      <td>unknown</td>\n",
       "      <td>unknown</td>\n",
       "      <td>Хозяйственные товары, персональный уход</td>\n",
       "      <td>unknown</td>\n",
       "      <td>unknown</td>\n",
       "      <td>unknown</td>\n",
       "    </tr>\n",
       "    <tr>\n",
       "      <th>81</th>\n",
       "      <td>4436</td>\n",
       "      <td>0.512571</td>\n",
       "      <td>0.000452</td>\n",
       "      <td>3202954</td>\n",
       "      <td>0.0</td>\n",
       "      <td>117185</td>\n",
       "      <td>82</td>\n",
       "      <td>2171-03-25</td>\n",
       "      <td>3</td>\n",
       "      <td>unknown</td>\n",
       "      <td>unknown</td>\n",
       "      <td>Хозяйственные товары, персональный уход</td>\n",
       "      <td>unknown</td>\n",
       "      <td>unknown</td>\n",
       "      <td>unknown</td>\n",
       "    </tr>\n",
       "    <tr>\n",
       "      <th>82</th>\n",
       "      <td>4436</td>\n",
       "      <td>0.512571</td>\n",
       "      <td>0.000452</td>\n",
       "      <td>3202987</td>\n",
       "      <td>0.0</td>\n",
       "      <td>21723</td>\n",
       "      <td>82</td>\n",
       "      <td>2171-03-25</td>\n",
       "      <td>3</td>\n",
       "      <td>unknown</td>\n",
       "      <td>unknown</td>\n",
       "      <td>Хозяйственные товары, персональный уход</td>\n",
       "      <td>unknown</td>\n",
       "      <td>unknown</td>\n",
       "      <td>unknown</td>\n",
       "    </tr>\n",
       "    <tr>\n",
       "      <th>76</th>\n",
       "      <td>4441</td>\n",
       "      <td>0.409954</td>\n",
       "      <td>0.000452</td>\n",
       "      <td>3357581</td>\n",
       "      <td>0.0</td>\n",
       "      <td>149338</td>\n",
       "      <td>101</td>\n",
       "      <td>2171-03-25</td>\n",
       "      <td>3</td>\n",
       "      <td>unknown</td>\n",
       "      <td>unknown</td>\n",
       "      <td>Хозяйственные товары, персональный уход</td>\n",
       "      <td>unknown</td>\n",
       "      <td>unknown</td>\n",
       "      <td>unknown</td>\n",
       "    </tr>\n",
       "    <tr>\n",
       "      <th>86</th>\n",
       "      <td>4436</td>\n",
       "      <td>0.512571</td>\n",
       "      <td>0.000452</td>\n",
       "      <td>3398337</td>\n",
       "      <td>0.0</td>\n",
       "      <td>167888</td>\n",
       "      <td>107</td>\n",
       "      <td>2171-04-10</td>\n",
       "      <td>4</td>\n",
       "      <td>unknown</td>\n",
       "      <td>unknown</td>\n",
       "      <td>Хозяйственные товары, персональный уход</td>\n",
       "      <td>unknown</td>\n",
       "      <td>unknown</td>\n",
       "      <td>unknown</td>\n",
       "    </tr>\n",
       "  </tbody>\n",
       "</table>\n",
       "</div>"
      ],
      "text/plain": [
       "    sku_id     price    number  cheque_id  litrs  client_id  shop_id  \\\n",
       "75    4441  0.409954  0.000452    3202878    0.0         -1       82   \n",
       "81    4436  0.512571  0.000452    3202954    0.0     117185       82   \n",
       "82    4436  0.512571  0.000452    3202987    0.0      21723       82   \n",
       "76    4441  0.409954  0.000452    3357581    0.0     149338      101   \n",
       "86    4436  0.512571  0.000452    3398337    0.0     167888      107   \n",
       "\n",
       "         date  month full_name    brand  \\\n",
       "75 2171-03-24      3   unknown  unknown   \n",
       "81 2171-03-25      3   unknown  unknown   \n",
       "82 2171-03-25      3   unknown  unknown   \n",
       "76 2171-03-25      3   unknown  unknown   \n",
       "86 2171-04-10      4   unknown  unknown   \n",
       "\n",
       "                                  sku_group      OTM    units  country  \n",
       "75  Хозяйственные товары, персональный уход  unknown  unknown  unknown  \n",
       "81  Хозяйственные товары, персональный уход  unknown  unknown  unknown  \n",
       "82  Хозяйственные товары, персональный уход  unknown  unknown  unknown  \n",
       "76  Хозяйственные товары, персональный уход  unknown  unknown  unknown  \n",
       "86  Хозяйственные товары, персональный уход  unknown  unknown  unknown  "
      ]
     },
     "execution_count": 144,
     "metadata": {},
     "output_type": "execute_result"
    }
   ],
   "source": [
    "df_trans_top_price.tail(5)"
   ]
  },
  {
   "cell_type": "markdown",
   "metadata": {},
   "source": [
    "Очевидно, что салфетки не могут стоить дороже сумки или часов, даже в параллельном мире! Тем более что number говорит скорее всего что это цена за 1 упаковку."
   ]
  },
  {
   "cell_type": "code",
   "execution_count": 145,
   "metadata": {},
   "outputs": [
    {
     "data": {
      "text/plain": [
       "'Салфетки AURA Antibacterial Derma Protect влажные спиртовые 15шт'"
      ]
     },
     "execution_count": 145,
     "metadata": {},
     "output_type": "execute_result"
    }
   ],
   "source": [
    "df_trans_top_price.head(1)[\"full_name\"].values[0]"
   ]
  },
  {
   "cell_type": "code",
   "execution_count": 146,
   "metadata": {},
   "outputs": [
    {
     "data": {
      "text/html": [
       "<div>\n",
       "<style scoped>\n",
       "    .dataframe tbody tr th:only-of-type {\n",
       "        vertical-align: middle;\n",
       "    }\n",
       "\n",
       "    .dataframe tbody tr th {\n",
       "        vertical-align: top;\n",
       "    }\n",
       "\n",
       "    .dataframe thead th {\n",
       "        text-align: right;\n",
       "    }\n",
       "</style>\n",
       "<table border=\"1\" class=\"dataframe\">\n",
       "  <thead>\n",
       "    <tr style=\"text-align: right;\">\n",
       "      <th></th>\n",
       "      <th>sku_id</th>\n",
       "      <th>price</th>\n",
       "      <th>number</th>\n",
       "      <th>cheque_id</th>\n",
       "      <th>litrs</th>\n",
       "      <th>client_id</th>\n",
       "      <th>shop_id</th>\n",
       "      <th>date</th>\n",
       "      <th>month</th>\n",
       "    </tr>\n",
       "  </thead>\n",
       "  <tbody>\n",
       "    <tr>\n",
       "      <th>7468388</th>\n",
       "      <td>4416</td>\n",
       "      <td>0.420215</td>\n",
       "      <td>0.000452</td>\n",
       "      <td>6562</td>\n",
       "      <td>0.0</td>\n",
       "      <td>23682</td>\n",
       "      <td>68</td>\n",
       "      <td>2171-03-03</td>\n",
       "      <td>3</td>\n",
       "    </tr>\n",
       "    <tr>\n",
       "      <th>7413502</th>\n",
       "      <td>4416</td>\n",
       "      <td>0.420215</td>\n",
       "      <td>0.000452</td>\n",
       "      <td>208126</td>\n",
       "      <td>0.0</td>\n",
       "      <td>362074</td>\n",
       "      <td>88</td>\n",
       "      <td>2171-03-04</td>\n",
       "      <td>3</td>\n",
       "    </tr>\n",
       "    <tr>\n",
       "      <th>7300733</th>\n",
       "      <td>4416</td>\n",
       "      <td>0.420215</td>\n",
       "      <td>0.000452</td>\n",
       "      <td>171252</td>\n",
       "      <td>0.0</td>\n",
       "      <td>-1</td>\n",
       "      <td>71</td>\n",
       "      <td>2171-03-06</td>\n",
       "      <td>3</td>\n",
       "    </tr>\n",
       "    <tr>\n",
       "      <th>7104847</th>\n",
       "      <td>4416</td>\n",
       "      <td>0.420215</td>\n",
       "      <td>0.000452</td>\n",
       "      <td>50743</td>\n",
       "      <td>0.0</td>\n",
       "      <td>-1</td>\n",
       "      <td>18</td>\n",
       "      <td>2171-03-10</td>\n",
       "      <td>3</td>\n",
       "    </tr>\n",
       "    <tr>\n",
       "      <th>7006869</th>\n",
       "      <td>4416</td>\n",
       "      <td>0.420215</td>\n",
       "      <td>0.000452</td>\n",
       "      <td>390453</td>\n",
       "      <td>0.0</td>\n",
       "      <td>225953</td>\n",
       "      <td>41</td>\n",
       "      <td>2171-03-12</td>\n",
       "      <td>3</td>\n",
       "    </tr>\n",
       "    <tr>\n",
       "      <th>6949247</th>\n",
       "      <td>4416</td>\n",
       "      <td>0.420215</td>\n",
       "      <td>0.000452</td>\n",
       "      <td>13880</td>\n",
       "      <td>0.0</td>\n",
       "      <td>58143</td>\n",
       "      <td>68</td>\n",
       "      <td>2171-03-13</td>\n",
       "      <td>3</td>\n",
       "    </tr>\n",
       "    <tr>\n",
       "      <th>6927574</th>\n",
       "      <td>4416</td>\n",
       "      <td>0.420215</td>\n",
       "      <td>0.000452</td>\n",
       "      <td>71385</td>\n",
       "      <td>0.0</td>\n",
       "      <td>333923</td>\n",
       "      <td>14</td>\n",
       "      <td>2171-03-14</td>\n",
       "      <td>3</td>\n",
       "    </tr>\n",
       "    <tr>\n",
       "      <th>6869085</th>\n",
       "      <td>4416</td>\n",
       "      <td>0.420215</td>\n",
       "      <td>0.000452</td>\n",
       "      <td>2332</td>\n",
       "      <td>0.0</td>\n",
       "      <td>399588</td>\n",
       "      <td>5</td>\n",
       "      <td>2171-03-15</td>\n",
       "      <td>3</td>\n",
       "    </tr>\n",
       "    <tr>\n",
       "      <th>6790682</th>\n",
       "      <td>4416</td>\n",
       "      <td>0.420215</td>\n",
       "      <td>0.000452</td>\n",
       "      <td>706100</td>\n",
       "      <td>0.0</td>\n",
       "      <td>-1</td>\n",
       "      <td>42</td>\n",
       "      <td>2171-03-16</td>\n",
       "      <td>3</td>\n",
       "    </tr>\n",
       "    <tr>\n",
       "      <th>6751062</th>\n",
       "      <td>4416</td>\n",
       "      <td>0.420215</td>\n",
       "      <td>0.000452</td>\n",
       "      <td>374006</td>\n",
       "      <td>0.0</td>\n",
       "      <td>181613</td>\n",
       "      <td>37</td>\n",
       "      <td>2171-03-17</td>\n",
       "      <td>3</td>\n",
       "    </tr>\n",
       "    <tr>\n",
       "      <th>6730359</th>\n",
       "      <td>4416</td>\n",
       "      <td>0.420215</td>\n",
       "      <td>0.000452</td>\n",
       "      <td>374103</td>\n",
       "      <td>0.0</td>\n",
       "      <td>322268</td>\n",
       "      <td>37</td>\n",
       "      <td>2171-03-18</td>\n",
       "      <td>3</td>\n",
       "    </tr>\n",
       "    <tr>\n",
       "      <th>6332830</th>\n",
       "      <td>4416</td>\n",
       "      <td>0.420215</td>\n",
       "      <td>0.000452</td>\n",
       "      <td>158264</td>\n",
       "      <td>0.0</td>\n",
       "      <td>-1</td>\n",
       "      <td>2</td>\n",
       "      <td>2171-03-25</td>\n",
       "      <td>3</td>\n",
       "    </tr>\n",
       "    <tr>\n",
       "      <th>6226149</th>\n",
       "      <td>4416</td>\n",
       "      <td>0.420215</td>\n",
       "      <td>0.000452</td>\n",
       "      <td>636625</td>\n",
       "      <td>0.0</td>\n",
       "      <td>-1</td>\n",
       "      <td>89</td>\n",
       "      <td>2171-03-27</td>\n",
       "      <td>3</td>\n",
       "    </tr>\n",
       "    <tr>\n",
       "      <th>5800216</th>\n",
       "      <td>4416</td>\n",
       "      <td>0.420215</td>\n",
       "      <td>0.000452</td>\n",
       "      <td>530122</td>\n",
       "      <td>0.0</td>\n",
       "      <td>61358</td>\n",
       "      <td>20</td>\n",
       "      <td>2171-04-05</td>\n",
       "      <td>4</td>\n",
       "    </tr>\n",
       "    <tr>\n",
       "      <th>5711413</th>\n",
       "      <td>4416</td>\n",
       "      <td>0.420215</td>\n",
       "      <td>0.000452</td>\n",
       "      <td>484150</td>\n",
       "      <td>0.0</td>\n",
       "      <td>-1</td>\n",
       "      <td>3</td>\n",
       "      <td>2171-04-06</td>\n",
       "      <td>4</td>\n",
       "    </tr>\n",
       "    <tr>\n",
       "      <th>5758508</th>\n",
       "      <td>4416</td>\n",
       "      <td>0.420215</td>\n",
       "      <td>0.000452</td>\n",
       "      <td>2481805</td>\n",
       "      <td>0.0</td>\n",
       "      <td>103023</td>\n",
       "      <td>104</td>\n",
       "      <td>2171-04-06</td>\n",
       "      <td>4</td>\n",
       "    </tr>\n",
       "    <tr>\n",
       "      <th>5614354</th>\n",
       "      <td>4416</td>\n",
       "      <td>0.420215</td>\n",
       "      <td>0.000452</td>\n",
       "      <td>87684</td>\n",
       "      <td>0.0</td>\n",
       "      <td>-1</td>\n",
       "      <td>14</td>\n",
       "      <td>2171-04-08</td>\n",
       "      <td>4</td>\n",
       "    </tr>\n",
       "    <tr>\n",
       "      <th>5658129</th>\n",
       "      <td>4416</td>\n",
       "      <td>0.420215</td>\n",
       "      <td>0.000452</td>\n",
       "      <td>593569</td>\n",
       "      <td>0.0</td>\n",
       "      <td>342492</td>\n",
       "      <td>1</td>\n",
       "      <td>2171-04-08</td>\n",
       "      <td>4</td>\n",
       "    </tr>\n",
       "    <tr>\n",
       "      <th>5570679</th>\n",
       "      <td>4416</td>\n",
       "      <td>0.420215</td>\n",
       "      <td>0.000452</td>\n",
       "      <td>2272740</td>\n",
       "      <td>0.0</td>\n",
       "      <td>91071</td>\n",
       "      <td>96</td>\n",
       "      <td>2171-04-09</td>\n",
       "      <td>4</td>\n",
       "    </tr>\n",
       "    <tr>\n",
       "      <th>5596189</th>\n",
       "      <td>4416</td>\n",
       "      <td>0.420215</td>\n",
       "      <td>0.000452</td>\n",
       "      <td>33574</td>\n",
       "      <td>0.0</td>\n",
       "      <td>154931</td>\n",
       "      <td>68</td>\n",
       "      <td>2171-04-09</td>\n",
       "      <td>4</td>\n",
       "    </tr>\n",
       "    <tr>\n",
       "      <th>5483087</th>\n",
       "      <td>4416</td>\n",
       "      <td>0.420215</td>\n",
       "      <td>0.000452</td>\n",
       "      <td>641935</td>\n",
       "      <td>0.0</td>\n",
       "      <td>43649</td>\n",
       "      <td>89</td>\n",
       "      <td>2171-04-11</td>\n",
       "      <td>4</td>\n",
       "    </tr>\n",
       "    <tr>\n",
       "      <th>5068856</th>\n",
       "      <td>4416</td>\n",
       "      <td>0.420215</td>\n",
       "      <td>0.000452</td>\n",
       "      <td>713309</td>\n",
       "      <td>0.0</td>\n",
       "      <td>287043</td>\n",
       "      <td>42</td>\n",
       "      <td>2171-04-19</td>\n",
       "      <td>4</td>\n",
       "    </tr>\n",
       "    <tr>\n",
       "      <th>5077235</th>\n",
       "      <td>4416</td>\n",
       "      <td>0.420215</td>\n",
       "      <td>0.000452</td>\n",
       "      <td>488697</td>\n",
       "      <td>0.0</td>\n",
       "      <td>356784</td>\n",
       "      <td>3</td>\n",
       "      <td>2171-04-19</td>\n",
       "      <td>4</td>\n",
       "    </tr>\n",
       "    <tr>\n",
       "      <th>560524</th>\n",
       "      <td>4416</td>\n",
       "      <td>0.420215</td>\n",
       "      <td>0.000452</td>\n",
       "      <td>1884675</td>\n",
       "      <td>0.0</td>\n",
       "      <td>-1</td>\n",
       "      <td>26</td>\n",
       "      <td>2171-07-20</td>\n",
       "      <td>7</td>\n",
       "    </tr>\n",
       "  </tbody>\n",
       "</table>\n",
       "</div>"
      ],
      "text/plain": [
       "         sku_id     price    number  cheque_id  litrs  client_id  shop_id  \\\n",
       "7468388    4416  0.420215  0.000452       6562    0.0      23682       68   \n",
       "7413502    4416  0.420215  0.000452     208126    0.0     362074       88   \n",
       "7300733    4416  0.420215  0.000452     171252    0.0         -1       71   \n",
       "7104847    4416  0.420215  0.000452      50743    0.0         -1       18   \n",
       "7006869    4416  0.420215  0.000452     390453    0.0     225953       41   \n",
       "6949247    4416  0.420215  0.000452      13880    0.0      58143       68   \n",
       "6927574    4416  0.420215  0.000452      71385    0.0     333923       14   \n",
       "6869085    4416  0.420215  0.000452       2332    0.0     399588        5   \n",
       "6790682    4416  0.420215  0.000452     706100    0.0         -1       42   \n",
       "6751062    4416  0.420215  0.000452     374006    0.0     181613       37   \n",
       "6730359    4416  0.420215  0.000452     374103    0.0     322268       37   \n",
       "6332830    4416  0.420215  0.000452     158264    0.0         -1        2   \n",
       "6226149    4416  0.420215  0.000452     636625    0.0         -1       89   \n",
       "5800216    4416  0.420215  0.000452     530122    0.0      61358       20   \n",
       "5711413    4416  0.420215  0.000452     484150    0.0         -1        3   \n",
       "5758508    4416  0.420215  0.000452    2481805    0.0     103023      104   \n",
       "5614354    4416  0.420215  0.000452      87684    0.0         -1       14   \n",
       "5658129    4416  0.420215  0.000452     593569    0.0     342492        1   \n",
       "5570679    4416  0.420215  0.000452    2272740    0.0      91071       96   \n",
       "5596189    4416  0.420215  0.000452      33574    0.0     154931       68   \n",
       "5483087    4416  0.420215  0.000452     641935    0.0      43649       89   \n",
       "5068856    4416  0.420215  0.000452     713309    0.0     287043       42   \n",
       "5077235    4416  0.420215  0.000452     488697    0.0     356784        3   \n",
       "560524     4416  0.420215  0.000452    1884675    0.0         -1       26   \n",
       "\n",
       "              date  month  \n",
       "7468388 2171-03-03      3  \n",
       "7413502 2171-03-04      3  \n",
       "7300733 2171-03-06      3  \n",
       "7104847 2171-03-10      3  \n",
       "7006869 2171-03-12      3  \n",
       "6949247 2171-03-13      3  \n",
       "6927574 2171-03-14      3  \n",
       "6869085 2171-03-15      3  \n",
       "6790682 2171-03-16      3  \n",
       "6751062 2171-03-17      3  \n",
       "6730359 2171-03-18      3  \n",
       "6332830 2171-03-25      3  \n",
       "6226149 2171-03-27      3  \n",
       "5800216 2171-04-05      4  \n",
       "5711413 2171-04-06      4  \n",
       "5758508 2171-04-06      4  \n",
       "5614354 2171-04-08      4  \n",
       "5658129 2171-04-08      4  \n",
       "5570679 2171-04-09      4  \n",
       "5596189 2171-04-09      4  \n",
       "5483087 2171-04-11      4  \n",
       "5068856 2171-04-19      4  \n",
       "5077235 2171-04-19      4  \n",
       "560524  2171-07-20      7  "
      ]
     },
     "execution_count": 146,
     "metadata": {},
     "output_type": "execute_result"
    }
   ],
   "source": [
    "#посмотрим на другие продажи товара из первой позиции\n",
    "df_trans[df_trans[\"sku_id\"] == df_trans_top_price.head(1)[\"sku_id\"].values[0]]"
   ]
  },
  {
   "cell_type": "markdown",
   "metadata": {},
   "source": [
    "А сколько стоят другие салфетки?"
   ]
  },
  {
   "cell_type": "code",
   "execution_count": 147,
   "metadata": {},
   "outputs": [],
   "source": [
    "salfetki_skuid = df_nomencl[df_nomencl['full_name'].str.contains(\"алфетки\")].sku_id.values"
   ]
  },
  {
   "cell_type": "code",
   "execution_count": 148,
   "metadata": {},
   "outputs": [
    {
     "data": {
      "text/plain": [
       "Index(['Хозяйственные товары, персональный уход', 'Уход за автомобилем'], dtype='object')"
      ]
     },
     "execution_count": 148,
     "metadata": {},
     "output_type": "execute_result"
    }
   ],
   "source": [
    "#группы товаров где есть салфетки\n",
    "salfetki_sku_group = df_nomencl[df_nomencl['sku_id'].isin(salfetki_skuid)].sku_group.value_counts().index\n",
    "salfetki_sku_group"
   ]
  },
  {
   "cell_type": "code",
   "execution_count": 149,
   "metadata": {},
   "outputs": [],
   "source": [
    "#товары-салфетки из группы Хозяйственные товары\n",
    "salfetki_skuid_1 = df_nomencl[(df_nomencl['sku_id'].isin(salfetki_skuid)) &\n",
    "                              (df_nomencl['sku_group'] == salfetki_sku_group[0])].sku_id.values"
   ]
  },
  {
   "cell_type": "code",
   "execution_count": 150,
   "metadata": {},
   "outputs": [],
   "source": [
    "#товары-салфетки из 2 группы\n",
    "salfetki_skuid_2 = df_nomencl[(df_nomencl['sku_id'].isin(salfetki_skuid)) &\n",
    "                              (df_nomencl['sku_group'] == salfetki_sku_group[1])].sku_id.values"
   ]
  },
  {
   "cell_type": "code",
   "execution_count": 151,
   "metadata": {},
   "outputs": [
    {
     "data": {
      "image/png": "[encoded data removed]",
      "text/plain": [
       "<Figure size 1152x288 with 1 Axes>"
      ]
     },
     "metadata": {
      "needs_background": "light"
     },
     "output_type": "display_data"
    }
   ],
   "source": [
    "fig, ax = plt.subplots(figsize=(16, 4))\n",
    "\n",
    "_ = df_trans[df_trans[\"sku_id\"].isin(salfetki_skuid_2)]\n",
    "_[\"price\"].hist(bins=50, ax=ax)\n",
    "#ax.set_xticks(np.linspace(0, 0.5, 20));\n",
    "#ax.set_xlim(0, 0.2);\n",
    "plt.title(\"Цена на салфетки из группы [{}]\".format(salfetki_sku_group[1]));"
   ]
  },
  {
   "cell_type": "code",
   "execution_count": 152,
   "metadata": {},
   "outputs": [
    {
     "data": {
      "text/plain": [
       "count    1777.000000\n",
       "mean        0.009541\n",
       "std         0.002474\n",
       "min         0.004053\n",
       "25%         0.008671\n",
       "50%         0.008671\n",
       "75%         0.010210\n",
       "max         0.019446\n",
       "Name: price, dtype: float64"
      ]
     },
     "execution_count": 152,
     "metadata": {},
     "output_type": "execute_result"
    }
   ],
   "source": [
    "_[\"price\"].describe()"
   ]
  },
  {
   "cell_type": "code",
   "execution_count": 155,
   "metadata": {},
   "outputs": [
    {
     "data": {
      "text/plain": [
       "0.0023088763468445354"
      ]
     },
     "execution_count": 155,
     "metadata": {},
     "output_type": "execute_result"
    }
   ],
   "source": [
    "#межквартильный размах\n",
    "(_[\"price\"].describe()[6] - _[\"price\"].describe()[4]) * 1.5"
   ]
  },
  {
   "cell_type": "markdown",
   "metadata": {},
   "source": [
    "Возможно крайние 2-3 позиции похожи на выбросы, но они попадают в межквартильный размах. Буду считать что это элитные салфетки."
   ]
  },
  {
   "cell_type": "code",
   "execution_count": 156,
   "metadata": {},
   "outputs": [
    {
     "data": {
      "image/png": "[encoded data removed]",
      "text/plain": [
       "<Figure size 1152x288 with 1 Axes>"
      ]
     },
     "metadata": {
      "needs_background": "light"
     },
     "output_type": "display_data"
    }
   ],
   "source": [
    "fig, ax = plt.subplots(figsize=(16, 4))\n",
    "\n",
    "_ = df_trans[df_trans[\"sku_id\"].isin(salfetki_skuid_1)]\n",
    "_[\"price\"].hist(bins=50, ax=ax)\n",
    "ax.set_xticks(np.linspace(0, 0.5, 20));\n",
    "#ax.set_xlim(0, 0.2);\n",
    "plt.title(\"Цена на салфетки из группы [{}]\".format(salfetki_sku_group[0]));"
   ]
  },
  {
   "cell_type": "code",
   "execution_count": 69,
   "metadata": {},
   "outputs": [
    {
     "data": {
      "text/plain": [
       "count    2241.000000\n",
       "mean        0.027144\n",
       "std         0.066286\n",
       "min         0.001231\n",
       "25%         0.002514\n",
       "50%         0.008158\n",
       "75%         0.018214\n",
       "max         0.420215\n",
       "Name: price, dtype: float64"
      ]
     },
     "execution_count": 69,
     "metadata": {},
     "output_type": "execute_result"
    }
   ],
   "source": [
    "_[\"price\"].describe()"
   ]
  },
  {
   "cell_type": "code",
   "execution_count": 157,
   "metadata": {},
   "outputs": [
    {
     "data": {
      "text/plain": [
       "0.023550538737814264"
      ]
     },
     "execution_count": 157,
     "metadata": {},
     "output_type": "execute_result"
    }
   ],
   "source": [
    "#межквартильный размах\n",
    "(_[\"price\"].describe()[6] - _[\"price\"].describe()[4]) * 1.5"
   ]
  },
  {
   "cell_type": "markdown",
   "metadata": {},
   "source": [
    "Буду считать, что адекватная цена за салфетки до 85 перцентиля, остальное это выбросы.  \n",
    "Выбросы заменю цену на среднее значение после удаления выбросов."
   ]
  },
  {
   "cell_type": "code",
   "execution_count": 165,
   "metadata": {},
   "outputs": [
    {
     "data": {
      "text/plain": [
       "0.02047203694202155"
      ]
     },
     "execution_count": 165,
     "metadata": {},
     "output_type": "execute_result"
    }
   ],
   "source": [
    "thresh_quantile = 0.85\n",
    "\n",
    "thresh_quantile_value = _[\"price\"].quantile([thresh_quantile]).values[0]\n",
    "thresh_quantile_value"
   ]
  },
  {
   "cell_type": "code",
   "execution_count": 166,
   "metadata": {},
   "outputs": [],
   "source": [
    "price_out_id = _[_[\"price\"] > thresh_quantile_value].index"
   ]
  },
  {
   "cell_type": "code",
   "execution_count": 167,
   "metadata": {},
   "outputs": [
    {
     "data": {
      "text/plain": [
       "0.0071831159815948405"
      ]
     },
     "execution_count": 167,
     "metadata": {},
     "output_type": "execute_result"
    }
   ],
   "source": [
    "new_price = _[_[\"price\"] < thresh_quantile_value][\"price\"].mean()\n",
    "new_price"
   ]
  },
  {
   "cell_type": "code",
   "execution_count": 168,
   "metadata": {},
   "outputs": [],
   "source": [
    "df_trans.loc[price_out_id, 'price'] = new_price"
   ]
  },
  {
   "cell_type": "markdown",
   "metadata": {},
   "source": [
    "Подобные действия нужно проделать для каждой категории товаров.  \n",
    "\n",
    "!!!Пока пропущу, вернусь сюда позже"
   ]
  },
  {
   "cell_type": "code",
   "execution_count": null,
   "metadata": {},
   "outputs": [],
   "source": []
  },
  {
   "cell_type": "markdown",
   "metadata": {},
   "source": [
    "- number"
   ]
  },
  {
   "cell_type": "code",
   "execution_count": 170,
   "metadata": {},
   "outputs": [
    {
     "data": {
      "text/html": [
       "<div>\n",
       "<style scoped>\n",
       "    .dataframe tbody tr th:only-of-type {\n",
       "        vertical-align: middle;\n",
       "    }\n",
       "\n",
       "    .dataframe tbody tr th {\n",
       "        vertical-align: top;\n",
       "    }\n",
       "\n",
       "    .dataframe thead th {\n",
       "        text-align: right;\n",
       "    }\n",
       "</style>\n",
       "<table border=\"1\" class=\"dataframe\">\n",
       "  <thead>\n",
       "    <tr style=\"text-align: right;\">\n",
       "      <th></th>\n",
       "      <th>sku_id</th>\n",
       "      <th>price</th>\n",
       "      <th>number</th>\n",
       "      <th>cheque_id</th>\n",
       "      <th>litrs</th>\n",
       "      <th>client_id</th>\n",
       "      <th>shop_id</th>\n",
       "      <th>date</th>\n",
       "      <th>month</th>\n",
       "      <th>full_name</th>\n",
       "      <th>brand</th>\n",
       "      <th>sku_group</th>\n",
       "      <th>OTM</th>\n",
       "      <th>units</th>\n",
       "      <th>country</th>\n",
       "    </tr>\n",
       "  </thead>\n",
       "  <tbody>\n",
       "    <tr>\n",
       "      <th>175</th>\n",
       "      <td>3324</td>\n",
       "      <td>0.006619</td>\n",
       "      <td>0.452249</td>\n",
       "      <td>1666636</td>\n",
       "      <td>0.0</td>\n",
       "      <td>-1</td>\n",
       "      <td>23</td>\n",
       "      <td>2171-05-13</td>\n",
       "      <td>5</td>\n",
       "      <td>Напиток Fly Cafe молокосодержащий кофейный Флэ...</td>\n",
       "      <td>Fly Cafe</td>\n",
       "      <td>Кофейные напитки с молоком</td>\n",
       "      <td>Да</td>\n",
       "      <td>л</td>\n",
       "      <td>unknown</td>\n",
       "    </tr>\n",
       "    <tr>\n",
       "      <th>1</th>\n",
       "      <td>151</td>\n",
       "      <td>0.000051</td>\n",
       "      <td>0.903612</td>\n",
       "      <td>2464176</td>\n",
       "      <td>0.0</td>\n",
       "      <td>168997</td>\n",
       "      <td>109</td>\n",
       "      <td>2171-03-02</td>\n",
       "      <td>3</td>\n",
       "      <td>Ароматизатор SAPFIRE SAT-2027 X-Fresh mini кон...</td>\n",
       "      <td>SAPFIRE</td>\n",
       "      <td>Уход за автомобилем</td>\n",
       "      <td>Нет</td>\n",
       "      <td>шт</td>\n",
       "      <td>КИТАЙ</td>\n",
       "    </tr>\n",
       "    <tr>\n",
       "      <th>3</th>\n",
       "      <td>151</td>\n",
       "      <td>0.000051</td>\n",
       "      <td>0.226202</td>\n",
       "      <td>2464177</td>\n",
       "      <td>0.0</td>\n",
       "      <td>89235</td>\n",
       "      <td>109</td>\n",
       "      <td>2171-03-03</td>\n",
       "      <td>3</td>\n",
       "      <td>Ароматизатор SAPFIRE SAT-2027 X-Fresh mini кон...</td>\n",
       "      <td>SAPFIRE</td>\n",
       "      <td>Уход за автомобилем</td>\n",
       "      <td>Нет</td>\n",
       "      <td>шт</td>\n",
       "      <td>КИТАЙ</td>\n",
       "    </tr>\n",
       "    <tr>\n",
       "      <th>2</th>\n",
       "      <td>151</td>\n",
       "      <td>0.000051</td>\n",
       "      <td>0.451363</td>\n",
       "      <td>2464179</td>\n",
       "      <td>0.0</td>\n",
       "      <td>-1</td>\n",
       "      <td>109</td>\n",
       "      <td>2171-03-03</td>\n",
       "      <td>3</td>\n",
       "      <td>Ароматизатор SAPFIRE SAT-2027 X-Fresh mini кон...</td>\n",
       "      <td>SAPFIRE</td>\n",
       "      <td>Уход за автомобилем</td>\n",
       "      <td>Нет</td>\n",
       "      <td>шт</td>\n",
       "      <td>КИТАЙ</td>\n",
       "    </tr>\n",
       "    <tr>\n",
       "      <th>11</th>\n",
       "      <td>151</td>\n",
       "      <td>0.000051</td>\n",
       "      <td>0.225953</td>\n",
       "      <td>2464194</td>\n",
       "      <td>0.0</td>\n",
       "      <td>89235</td>\n",
       "      <td>109</td>\n",
       "      <td>2171-03-10</td>\n",
       "      <td>3</td>\n",
       "      <td>Ароматизатор SAPFIRE SAT-2027 X-Fresh mini кон...</td>\n",
       "      <td>SAPFIRE</td>\n",
       "      <td>Уход за автомобилем</td>\n",
       "      <td>Нет</td>\n",
       "      <td>шт</td>\n",
       "      <td>КИТАЙ</td>\n",
       "    </tr>\n",
       "  </tbody>\n",
       "</table>\n",
       "</div>"
      ],
      "text/plain": [
       "     sku_id     price    number  cheque_id  litrs  client_id  shop_id  \\\n",
       "175    3324  0.006619  0.452249    1666636    0.0         -1       23   \n",
       "1       151  0.000051  0.903612    2464176    0.0     168997      109   \n",
       "3       151  0.000051  0.226202    2464177    0.0      89235      109   \n",
       "2       151  0.000051  0.451363    2464179    0.0         -1      109   \n",
       "11      151  0.000051  0.225953    2464194    0.0      89235      109   \n",
       "\n",
       "          date  month                                          full_name  \\\n",
       "175 2171-05-13      5  Напиток Fly Cafe молокосодержащий кофейный Флэ...   \n",
       "1   2171-03-02      3  Ароматизатор SAPFIRE SAT-2027 X-Fresh mini кон...   \n",
       "3   2171-03-03      3  Ароматизатор SAPFIRE SAT-2027 X-Fresh mini кон...   \n",
       "2   2171-03-03      3  Ароматизатор SAPFIRE SAT-2027 X-Fresh mini кон...   \n",
       "11  2171-03-10      3  Ароматизатор SAPFIRE SAT-2027 X-Fresh mini кон...   \n",
       "\n",
       "        brand                   sku_group  OTM units  country  \n",
       "175  Fly Cafe  Кофейные напитки с молоком   Да     л  unknown  \n",
       "1     SAPFIRE         Уход за автомобилем  Нет    шт    КИТАЙ  \n",
       "3     SAPFIRE         Уход за автомобилем  Нет    шт    КИТАЙ  \n",
       "2     SAPFIRE         Уход за автомобилем  Нет    шт    КИТАЙ  \n",
       "11    SAPFIRE         Уход за автомобилем  Нет    шт    КИТАЙ  "
      ]
     },
     "execution_count": 170,
     "metadata": {},
     "output_type": "execute_result"
    }
   ],
   "source": [
    "df_trans_top_number = pd.merge(df_trans[df_trans[\"number\"] > 0.2], \n",
    "                              df_nomencl,\n",
    "                              on=\"sku_id\").sort_values(by='cheque_id')\n",
    "\n",
    "df_trans_top_number.head()"
   ]
  },
  {
   "cell_type": "code",
   "execution_count": 171,
   "metadata": {},
   "outputs": [
    {
     "data": {
      "text/plain": [
       "Уход за автомобилем                                      173\n",
       "Кофейные напитки с молоком                                 1\n",
       "Гастроном                                                  1\n",
       "Автохимия и автокосметика (кроме масел, смазок и СОЖ)      1\n",
       "Вода                                                       1\n",
       "Name: sku_group, dtype: int64"
      ]
     },
     "execution_count": 171,
     "metadata": {},
     "output_type": "execute_result"
    }
   ],
   "source": [
    "df_trans_top_number['sku_group'].value_counts()"
   ]
  },
  {
   "cell_type": "markdown",
   "metadata": {},
   "source": [
    "!!! Разобраться с остальными выбросами"
   ]
  },
  {
   "cell_type": "code",
   "execution_count": null,
   "metadata": {},
   "outputs": [],
   "source": []
  },
  {
   "cell_type": "code",
   "execution_count": null,
   "metadata": {},
   "outputs": [],
   "source": []
  },
  {
   "cell_type": "code",
   "execution_count": null,
   "metadata": {},
   "outputs": [],
   "source": []
  },
  {
   "cell_type": "code",
   "execution_count": null,
   "metadata": {},
   "outputs": [],
   "source": []
  },
  {
   "cell_type": "code",
   "execution_count": null,
   "metadata": {},
   "outputs": [],
   "source": []
  },
  {
   "cell_type": "code",
   "execution_count": null,
   "metadata": {},
   "outputs": [],
   "source": []
  },
  {
   "cell_type": "markdown",
   "metadata": {
    "tags": []
   },
   "source": [
    "#### Предобработка данных  \n",
    "\n",
    "!!! Пока пропустил этот раздел вернусь поже\n",
    "\n",
    "##### Посмотрю подробнее на объекты номенклатуры, особенно на unknown"
   ]
  },
  {
   "cell_type": "markdown",
   "metadata": {},
   "source": [
    "Заполнять буду для того, чтобы потом использовать как категориальную фичу при кластеризации"
   ]
  },
  {
   "cell_type": "code",
   "execution_count": 172,
   "metadata": {},
   "outputs": [
    {
     "name": "stdout",
     "output_type": "stream",
     "text": [
      "<class 'pandas.core.frame.DataFrame'>\n",
      "Int64Index: 5103 entries, 0 to 5102\n",
      "Data columns (total 7 columns):\n",
      " #   Column     Non-Null Count  Dtype \n",
      "---  ------     --------------  ----- \n",
      " 0   sku_id     5103 non-null   int64 \n",
      " 1   full_name  5103 non-null   object\n",
      " 2   brand      5103 non-null   object\n",
      " 3   sku_group  5103 non-null   object\n",
      " 4   OTM        5103 non-null   object\n",
      " 5   units      5103 non-null   object\n",
      " 6   country    5103 non-null   object\n",
      "dtypes: int64(1), object(6)\n",
      "memory usage: 318.9+ KB\n"
     ]
    }
   ],
   "source": [
    "df_nomencl.info()"
   ]
  },
  {
   "cell_type": "code",
   "execution_count": 173,
   "metadata": {},
   "outputs": [
    {
     "data": {
      "text/html": [
       "<div>\n",
       "<style scoped>\n",
       "    .dataframe tbody tr th:only-of-type {\n",
       "        vertical-align: middle;\n",
       "    }\n",
       "\n",
       "    .dataframe tbody tr th {\n",
       "        vertical-align: top;\n",
       "    }\n",
       "\n",
       "    .dataframe thead th {\n",
       "        text-align: right;\n",
       "    }\n",
       "</style>\n",
       "<table border=\"1\" class=\"dataframe\">\n",
       "  <thead>\n",
       "    <tr style=\"text-align: right;\">\n",
       "      <th></th>\n",
       "      <th>sku_id</th>\n",
       "      <th>full_name</th>\n",
       "      <th>brand</th>\n",
       "      <th>sku_group</th>\n",
       "      <th>OTM</th>\n",
       "      <th>units</th>\n",
       "      <th>country</th>\n",
       "    </tr>\n",
       "  </thead>\n",
       "  <tbody>\n",
       "    <tr>\n",
       "      <th>0</th>\n",
       "      <td>0</td>\n",
       "      <td>Масло Lubricrol Magnatec Diesel 10W-40 B4 1л</td>\n",
       "      <td>Lubricrol</td>\n",
       "      <td>Масла моторные (для варповых двигателей)</td>\n",
       "      <td>Нет</td>\n",
       "      <td>unknown</td>\n",
       "      <td>ГЕРМАНИЯ</td>\n",
       "    </tr>\n",
       "    <tr>\n",
       "      <th>1</th>\n",
       "      <td>723</td>\n",
       "      <td>Трос УранПРОМEthereum буксировочный 4500кг</td>\n",
       "      <td>УранПРОМEthereum</td>\n",
       "      <td>Автотовары</td>\n",
       "      <td>Да</td>\n",
       "      <td>шт</td>\n",
       "      <td>РОССИЯ</td>\n",
       "    </tr>\n",
       "    <tr>\n",
       "      <th>2</th>\n",
       "      <td>3397</td>\n",
       "      <td>Накидка УранПРОМEthereum на спинку автосиденья...</td>\n",
       "      <td>УранПРОМEthereum</td>\n",
       "      <td>Автотовары</td>\n",
       "      <td>Да</td>\n",
       "      <td>шт</td>\n",
       "      <td>unknown</td>\n",
       "    </tr>\n",
       "    <tr>\n",
       "      <th>3</th>\n",
       "      <td>2130</td>\n",
       "      <td>Жилет УранПРОМEthereum световозвращающий</td>\n",
       "      <td>УранПРОМEthereum</td>\n",
       "      <td>Автотовары</td>\n",
       "      <td>Да</td>\n",
       "      <td>шт</td>\n",
       "      <td>unknown</td>\n",
       "    </tr>\n",
       "    <tr>\n",
       "      <th>4</th>\n",
       "      <td>3150</td>\n",
       "      <td>Провода УранПРОМEthereum для прикуривания 200А</td>\n",
       "      <td>УранПРОМEthereum</td>\n",
       "      <td>Автотовары</td>\n",
       "      <td>Да</td>\n",
       "      <td>шт</td>\n",
       "      <td>РОССИЯ</td>\n",
       "    </tr>\n",
       "  </tbody>\n",
       "</table>\n",
       "</div>"
      ],
      "text/plain": [
       "   sku_id                                          full_name  \\\n",
       "0       0       Масло Lubricrol Magnatec Diesel 10W-40 B4 1л   \n",
       "1     723         Трос УранПРОМEthereum буксировочный 4500кг   \n",
       "2    3397  Накидка УранПРОМEthereum на спинку автосиденья...   \n",
       "3    2130           Жилет УранПРОМEthereum световозвращающий   \n",
       "4    3150     Провода УранПРОМEthereum для прикуривания 200А   \n",
       "\n",
       "              brand                                 sku_group  OTM    units  \\\n",
       "0         Lubricrol  Масла моторные (для варповых двигателей)  Нет  unknown   \n",
       "1  УранПРОМEthereum                                Автотовары   Да       шт   \n",
       "2  УранПРОМEthereum                                Автотовары   Да       шт   \n",
       "3  УранПРОМEthereum                                Автотовары   Да       шт   \n",
       "4  УранПРОМEthereum                                Автотовары   Да       шт   \n",
       "\n",
       "    country  \n",
       "0  ГЕРМАНИЯ  \n",
       "1    РОССИЯ  \n",
       "2   unknown  \n",
       "3   unknown  \n",
       "4    РОССИЯ  "
      ]
     },
     "execution_count": 173,
     "metadata": {},
     "output_type": "execute_result"
    }
   ],
   "source": [
    "df_nomencl.head()"
   ]
  },
  {
   "cell_type": "markdown",
   "metadata": {
    "tags": []
   },
   "source": [
    "##### Начну с групп и объектов групп."
   ]
  },
  {
   "cell_type": "code",
   "execution_count": 180,
   "metadata": {},
   "outputs": [
    {
     "data": {
      "text/html": [
       "<div>\n",
       "<style scoped>\n",
       "    .dataframe tbody tr th:only-of-type {\n",
       "        vertical-align: middle;\n",
       "    }\n",
       "\n",
       "    .dataframe tbody tr th {\n",
       "        vertical-align: top;\n",
       "    }\n",
       "\n",
       "    .dataframe thead th {\n",
       "        text-align: right;\n",
       "    }\n",
       "</style>\n",
       "<table border=\"1\" class=\"dataframe\">\n",
       "  <thead>\n",
       "    <tr style=\"text-align: right;\">\n",
       "      <th></th>\n",
       "      <th>index</th>\n",
       "      <th>sku_group</th>\n",
       "    </tr>\n",
       "  </thead>\n",
       "  <tbody>\n",
       "    <tr>\n",
       "      <th>2</th>\n",
       "      <td>Автотовары</td>\n",
       "      <td>516</td>\n",
       "    </tr>\n",
       "    <tr>\n",
       "      <th>17</th>\n",
       "      <td>Автохимия и автокосметика (кроме масел, смазок...</td>\n",
       "      <td>52</td>\n",
       "    </tr>\n",
       "    <tr>\n",
       "      <th>13</th>\n",
       "      <td>Бакалея</td>\n",
       "      <td>95</td>\n",
       "    </tr>\n",
       "    <tr>\n",
       "      <th>11</th>\n",
       "      <td>Вода</td>\n",
       "      <td>144</td>\n",
       "    </tr>\n",
       "    <tr>\n",
       "      <th>8</th>\n",
       "      <td>Гастроном</td>\n",
       "      <td>196</td>\n",
       "    </tr>\n",
       "    <tr>\n",
       "      <th>33</th>\n",
       "      <td>Карты лояльности</td>\n",
       "      <td>1</td>\n",
       "    </tr>\n",
       "    <tr>\n",
       "      <th>0</th>\n",
       "      <td>Кондитерские изделия</td>\n",
       "      <td>714</td>\n",
       "    </tr>\n",
       "    <tr>\n",
       "      <th>15</th>\n",
       "      <td>Кофейные напитки с молоком</td>\n",
       "      <td>80</td>\n",
       "    </tr>\n",
       "    <tr>\n",
       "      <th>19</th>\n",
       "      <td>Масла моторные (для Ethereumовых двигателей)</td>\n",
       "      <td>26</td>\n",
       "    </tr>\n",
       "    <tr>\n",
       "      <th>20</th>\n",
       "      <td>Масла моторные (для Ethereumовых двигателей) \"...</td>\n",
       "      <td>19</td>\n",
       "    </tr>\n",
       "    <tr>\n",
       "      <th>30</th>\n",
       "      <td>Масла моторные (для варповых двигателей)</td>\n",
       "      <td>3</td>\n",
       "    </tr>\n",
       "    <tr>\n",
       "      <th>24</th>\n",
       "      <td>Масла моторные (для варповых двигателей)\"УранП...</td>\n",
       "      <td>4</td>\n",
       "    </tr>\n",
       "    <tr>\n",
       "      <th>27</th>\n",
       "      <td>Масла прочие \"УранПромEtherium\"</td>\n",
       "      <td>3</td>\n",
       "    </tr>\n",
       "    <tr>\n",
       "      <th>31</th>\n",
       "      <td>Масла трансмиссионные</td>\n",
       "      <td>2</td>\n",
       "    </tr>\n",
       "    <tr>\n",
       "      <th>28</th>\n",
       "      <td>Масла трансмиссионные \"УранПромEtherium\"</td>\n",
       "      <td>3</td>\n",
       "    </tr>\n",
       "    <tr>\n",
       "      <th>3</th>\n",
       "      <td>Общественное питание</td>\n",
       "      <td>441</td>\n",
       "    </tr>\n",
       "    <tr>\n",
       "      <th>14</th>\n",
       "      <td>Очки для водителя</td>\n",
       "      <td>92</td>\n",
       "    </tr>\n",
       "    <tr>\n",
       "      <th>29</th>\n",
       "      <td>Пиво</td>\n",
       "      <td>3</td>\n",
       "    </tr>\n",
       "    <tr>\n",
       "      <th>12</th>\n",
       "      <td>Прочие напитки кафе</td>\n",
       "      <td>144</td>\n",
       "    </tr>\n",
       "    <tr>\n",
       "      <th>18</th>\n",
       "      <td>СОЖ</td>\n",
       "      <td>29</td>\n",
       "    </tr>\n",
       "    <tr>\n",
       "      <th>1</th>\n",
       "      <td>Сезонные товары</td>\n",
       "      <td>649</td>\n",
       "    </tr>\n",
       "    <tr>\n",
       "      <th>9</th>\n",
       "      <td>Сладкие Уранированные напитки, холодный чай</td>\n",
       "      <td>184</td>\n",
       "    </tr>\n",
       "    <tr>\n",
       "      <th>26</th>\n",
       "      <td>Смазки пластичные \"УранПромEtherium\"</td>\n",
       "      <td>3</td>\n",
       "    </tr>\n",
       "    <tr>\n",
       "      <th>6</th>\n",
       "      <td>Снеки</td>\n",
       "      <td>360</td>\n",
       "    </tr>\n",
       "    <tr>\n",
       "      <th>10</th>\n",
       "      <td>Соки и сокосодержащие напитки</td>\n",
       "      <td>145</td>\n",
       "    </tr>\n",
       "    <tr>\n",
       "      <th>7</th>\n",
       "      <td>Табачные изделия</td>\n",
       "      <td>264</td>\n",
       "    </tr>\n",
       "    <tr>\n",
       "      <th>21</th>\n",
       "      <td>Тиражная лотерея</td>\n",
       "      <td>6</td>\n",
       "    </tr>\n",
       "    <tr>\n",
       "      <th>25</th>\n",
       "      <td>Топливо Ethereum</td>\n",
       "      <td>4</td>\n",
       "    </tr>\n",
       "    <tr>\n",
       "      <th>23</th>\n",
       "      <td>Топливо варповое</td>\n",
       "      <td>5</td>\n",
       "    </tr>\n",
       "    <tr>\n",
       "      <th>22</th>\n",
       "      <td>Услуги АЗС/АЗК</td>\n",
       "      <td>5</td>\n",
       "    </tr>\n",
       "    <tr>\n",
       "      <th>32</th>\n",
       "      <td>Услуги мойки</td>\n",
       "      <td>1</td>\n",
       "    </tr>\n",
       "    <tr>\n",
       "      <th>4</th>\n",
       "      <td>Уход за автомобилем</td>\n",
       "      <td>426</td>\n",
       "    </tr>\n",
       "    <tr>\n",
       "      <th>5</th>\n",
       "      <td>Хозяйственные товары, персональный уход</td>\n",
       "      <td>423</td>\n",
       "    </tr>\n",
       "    <tr>\n",
       "      <th>16</th>\n",
       "      <td>Энергетические напитки</td>\n",
       "      <td>61</td>\n",
       "    </tr>\n",
       "  </tbody>\n",
       "</table>\n",
       "</div>"
      ],
      "text/plain": [
       "                                                index  sku_group\n",
       "2                                          Автотовары        516\n",
       "17  Автохимия и автокосметика (кроме масел, смазок...         52\n",
       "13                                            Бакалея         95\n",
       "11                                               Вода        144\n",
       "8                                           Гастроном        196\n",
       "33                                   Карты лояльности          1\n",
       "0                                Кондитерские изделия        714\n",
       "15                         Кофейные напитки с молоком         80\n",
       "19       Масла моторные (для Ethereumовых двигателей)         26\n",
       "20  Масла моторные (для Ethereumовых двигателей) \"...         19\n",
       "30           Масла моторные (для варповых двигателей)          3\n",
       "24  Масла моторные (для варповых двигателей)\"УранП...          4\n",
       "27                    Масла прочие \"УранПромEtherium\"          3\n",
       "31                              Масла трансмиссионные          2\n",
       "28           Масла трансмиссионные \"УранПромEtherium\"          3\n",
       "3                                Общественное питание        441\n",
       "14                                  Очки для водителя         92\n",
       "29                                               Пиво          3\n",
       "12                                Прочие напитки кафе        144\n",
       "18                                                СОЖ         29\n",
       "1                                     Сезонные товары        649\n",
       "9         Сладкие Уранированные напитки, холодный чай        184\n",
       "26               Смазки пластичные \"УранПромEtherium\"          3\n",
       "6                                               Снеки        360\n",
       "10                      Соки и сокосодержащие напитки        145\n",
       "7                                    Табачные изделия        264\n",
       "21                                   Тиражная лотерея          6\n",
       "25                                   Топливо Ethereum          4\n",
       "23                                   Топливо варповое          5\n",
       "22                                     Услуги АЗС/АЗК          5\n",
       "32                                       Услуги мойки          1\n",
       "4                                 Уход за автомобилем        426\n",
       "5             Хозяйственные товары, персональный уход        423\n",
       "16                             Энергетические напитки         61"
      ]
     },
     "execution_count": 180,
     "metadata": {},
     "output_type": "execute_result"
    }
   ],
   "source": [
    "df_nomencl.sku_group.value_counts().reset_index().sort_values(by='index')"
   ]
  },
  {
   "cell_type": "markdown",
   "metadata": {},
   "source": [
    "Визуально ошибок в наименовании категорий нет, а значит и нет одинаковых категорий но с разными наименованиями, маппить нечего. Возможно стоит выделить укрупненные категории, типо масла, топливо, еда и напитки и т.д. Пока оставлю как заметку, вернусь к этому позже. \n",
    "\n",
    "Посмотрю на каждую категорию товаров отдельно, на пропуски и текущие значения."
   ]
  },
  {
   "cell_type": "markdown",
   "metadata": {},
   "source": [
    "- unknown по стране можно попробовать устранить через бренд\n",
    "- unknown по бренду можно попробовать восстановить по наименованию товаров\n",
    "- unknown по units можно попробовать восстановить по наименованию товаров"
   ]
  },
  {
   "cell_type": "markdown",
   "metadata": {},
   "source": [
    "- Кондитерские изделия"
   ]
  },
  {
   "cell_type": "code",
   "execution_count": 181,
   "metadata": {},
   "outputs": [
    {
     "data": {
      "text/plain": [
       "unknown                                                          151\n",
       "Круассан 2WEEKS миди сгущенка 3+1 260г                             1\n",
       "Печенье BombBar протеиновое клубника 60г                           1\n",
       "Вафли Джумка мягкая карамель,воздушная кукуруза 37г                1\n",
       "Печенье BombBar протеиновое шоколадный брауни 40г                  1\n",
       "                                                                ... \n",
       "Конфеты Warner Hudson ассорти ликер 150г                           1\n",
       "Набор DOVE Promises ассорти молочный шоколад коробка 118г          1\n",
       "Зерно Fly Cafe (СТМ)/G-Fly кофейное черный шоколад 25г             1\n",
       "Цукаты Fly Cafe (СТМ)/G-Fly апельсиновая корочка шоколад 100г      1\n",
       "Круассан 2WEEKS мини какао 300г                                    1\n",
       "Name: full_name, Length: 564, dtype: int64"
      ]
     },
     "execution_count": 181,
     "metadata": {},
     "output_type": "execute_result"
    }
   ],
   "source": [
    "df_nomencl[df_nomencl.sku_group == 'Кондитерские изделия'].full_name.value_counts()"
   ]
  },
  {
   "cell_type": "markdown",
   "metadata": {},
   "source": [
    "Начну с бренда."
   ]
  },
  {
   "cell_type": "code",
   "execution_count": 182,
   "metadata": {},
   "outputs": [],
   "source": [
    "#именования товаров у которых не прописан бренд\n",
    "full_names_without_brand = \\\n",
    "        df_nomencl[(df_nomencl.sku_group == 'Кондитерские изделия') &\n",
    "                   (df_nomencl.brand == 'unknown') &\n",
    "                   (df_nomencl.full_name != 'unknown')\n",
    "                  ].full_name.values"
   ]
  },
  {
   "cell_type": "markdown",
   "metadata": {},
   "source": [
    "Посмотрим на печенье, есть ли с похожими названиями и проcтавленным брендом."
   ]
  },
  {
   "cell_type": "code",
   "execution_count": 183,
   "metadata": {},
   "outputs": [
    {
     "data": {
      "text/plain": [
       "'Печенье Веселые грибочки 50/45г'"
      ]
     },
     "execution_count": 183,
     "metadata": {},
     "output_type": "execute_result"
    }
   ],
   "source": [
    "full_names_without_brand[1]"
   ]
  },
  {
   "cell_type": "code",
   "execution_count": 184,
   "metadata": {},
   "outputs": [
    {
     "data": {
      "text/html": [
       "<div>\n",
       "<style scoped>\n",
       "    .dataframe tbody tr th:only-of-type {\n",
       "        vertical-align: middle;\n",
       "    }\n",
       "\n",
       "    .dataframe tbody tr th {\n",
       "        vertical-align: top;\n",
       "    }\n",
       "\n",
       "    .dataframe thead th {\n",
       "        text-align: right;\n",
       "    }\n",
       "</style>\n",
       "<table border=\"1\" class=\"dataframe\">\n",
       "  <thead>\n",
       "    <tr style=\"text-align: right;\">\n",
       "      <th></th>\n",
       "      <th>sku_id</th>\n",
       "      <th>full_name</th>\n",
       "      <th>brand</th>\n",
       "      <th>sku_group</th>\n",
       "      <th>OTM</th>\n",
       "      <th>units</th>\n",
       "      <th>country</th>\n",
       "    </tr>\n",
       "  </thead>\n",
       "  <tbody>\n",
       "    <tr>\n",
       "      <th>193</th>\n",
       "      <td>1134</td>\n",
       "      <td>Печенье Веселые грибочки 50/45г</td>\n",
       "      <td>unknown</td>\n",
       "      <td>Кондитерские изделия</td>\n",
       "      <td>Нет</td>\n",
       "      <td>г</td>\n",
       "      <td>unknown</td>\n",
       "    </tr>\n",
       "    <tr>\n",
       "      <th>3359</th>\n",
       "      <td>2220</td>\n",
       "      <td>Раскраска Voicebook 46001 альбомная Веселые ка...</td>\n",
       "      <td>Voicebook</td>\n",
       "      <td>Сезонные товары</td>\n",
       "      <td>Нет</td>\n",
       "      <td>шт</td>\n",
       "      <td>РОССИЯ</td>\n",
       "    </tr>\n",
       "    <tr>\n",
       "      <th>3360</th>\n",
       "      <td>4141</td>\n",
       "      <td>Раскраска Voicebook 46002 альбомная Веселые ка...</td>\n",
       "      <td>Voicebook</td>\n",
       "      <td>Сезонные товары</td>\n",
       "      <td>Нет</td>\n",
       "      <td>шт</td>\n",
       "      <td>РОССИЯ</td>\n",
       "    </tr>\n",
       "  </tbody>\n",
       "</table>\n",
       "</div>"
      ],
      "text/plain": [
       "      sku_id                                          full_name      brand  \\\n",
       "193     1134                    Печенье Веселые грибочки 50/45г    unknown   \n",
       "3359    2220  Раскраска Voicebook 46001 альбомная Веселые ка...  Voicebook   \n",
       "3360    4141  Раскраска Voicebook 46002 альбомная Веселые ка...  Voicebook   \n",
       "\n",
       "                 sku_group  OTM units  country  \n",
       "193   Кондитерские изделия  Нет     г  unknown  \n",
       "3359       Сезонные товары  Нет    шт   РОССИЯ  \n",
       "3360       Сезонные товары  Нет    шт   РОССИЯ  "
      ]
     },
     "execution_count": 184,
     "metadata": {},
     "output_type": "execute_result"
    }
   ],
   "source": [
    "#Посмотрим на товары содержащие слово \"Веселые\"\n",
    "df_nomencl[df_nomencl.full_name.str.contains(\"еселые\")]"
   ]
  },
  {
   "cell_type": "code",
   "execution_count": 185,
   "metadata": {},
   "outputs": [
    {
     "data": {
      "text/html": [
       "<div>\n",
       "<style scoped>\n",
       "    .dataframe tbody tr th:only-of-type {\n",
       "        vertical-align: middle;\n",
       "    }\n",
       "\n",
       "    .dataframe tbody tr th {\n",
       "        vertical-align: top;\n",
       "    }\n",
       "\n",
       "    .dataframe thead th {\n",
       "        text-align: right;\n",
       "    }\n",
       "</style>\n",
       "<table border=\"1\" class=\"dataframe\">\n",
       "  <thead>\n",
       "    <tr style=\"text-align: right;\">\n",
       "      <th></th>\n",
       "      <th>sku_id</th>\n",
       "      <th>full_name</th>\n",
       "      <th>brand</th>\n",
       "      <th>sku_group</th>\n",
       "      <th>OTM</th>\n",
       "      <th>units</th>\n",
       "      <th>country</th>\n",
       "    </tr>\n",
       "  </thead>\n",
       "  <tbody>\n",
       "    <tr>\n",
       "      <th>53</th>\n",
       "      <td>798</td>\n",
       "      <td>Печенье ЯШКИНО сдобное клубника 137г</td>\n",
       "      <td>ЯШКИНО</td>\n",
       "      <td>Кондитерские изделия</td>\n",
       "      <td>Нет</td>\n",
       "      <td>г</td>\n",
       "      <td>РОССИЯ</td>\n",
       "    </tr>\n",
       "    <tr>\n",
       "      <th>54</th>\n",
       "      <td>4056</td>\n",
       "      <td>Печенье ЯШКИНО сдобное вишня 137г</td>\n",
       "      <td>ЯШКИНО</td>\n",
       "      <td>Кондитерские изделия</td>\n",
       "      <td>Нет</td>\n",
       "      <td>г</td>\n",
       "      <td>РОССИЯ</td>\n",
       "    </tr>\n",
       "    <tr>\n",
       "      <th>100</th>\n",
       "      <td>3145</td>\n",
       "      <td>Печенье Любятово Мария традиционное 180г</td>\n",
       "      <td>Любятово</td>\n",
       "      <td>Кондитерские изделия</td>\n",
       "      <td>Нет</td>\n",
       "      <td>г</td>\n",
       "      <td>unknown</td>\n",
       "    </tr>\n",
       "    <tr>\n",
       "      <th>156</th>\n",
       "      <td>981</td>\n",
       "      <td>Печенье Юбилейное сахарное традиционное 126/112г</td>\n",
       "      <td>Юбилейное</td>\n",
       "      <td>Кондитерские изделия</td>\n",
       "      <td>Нет</td>\n",
       "      <td>unknown</td>\n",
       "      <td>unknown</td>\n",
       "    </tr>\n",
       "    <tr>\n",
       "      <th>193</th>\n",
       "      <td>1134</td>\n",
       "      <td>Печенье Веселые грибочки 50/45г</td>\n",
       "      <td>unknown</td>\n",
       "      <td>Кондитерские изделия</td>\n",
       "      <td>Нет</td>\n",
       "      <td>г</td>\n",
       "      <td>unknown</td>\n",
       "    </tr>\n",
       "    <tr>\n",
       "      <th>...</th>\n",
       "      <td>...</td>\n",
       "      <td>...</td>\n",
       "      <td>...</td>\n",
       "      <td>...</td>\n",
       "      <td>...</td>\n",
       "      <td>...</td>\n",
       "      <td>...</td>\n",
       "    </tr>\n",
       "    <tr>\n",
       "      <th>3464</th>\n",
       "      <td>1132</td>\n",
       "      <td>Печенье Pocky палочки в шоколаде 42г</td>\n",
       "      <td>Pocky</td>\n",
       "      <td>Кондитерские изделия</td>\n",
       "      <td>Нет</td>\n",
       "      <td>г</td>\n",
       "      <td>КОРЕЯ, РЕСПУБЛИКА</td>\n",
       "    </tr>\n",
       "    <tr>\n",
       "      <th>3568</th>\n",
       "      <td>2896</td>\n",
       "      <td>Печенье Choco Boy черная смородина 45г</td>\n",
       "      <td>Choco Boy</td>\n",
       "      <td>Кондитерские изделия</td>\n",
       "      <td>Нет</td>\n",
       "      <td>г</td>\n",
       "      <td>unknown</td>\n",
       "    </tr>\n",
       "    <tr>\n",
       "      <th>3591</th>\n",
       "      <td>557</td>\n",
       "      <td>Печенье Любятово Мария традиционное 156г</td>\n",
       "      <td>Любятово</td>\n",
       "      <td>Кондитерские изделия</td>\n",
       "      <td>Нет</td>\n",
       "      <td>г</td>\n",
       "      <td>РОССИЯ</td>\n",
       "    </tr>\n",
       "    <tr>\n",
       "      <th>3704</th>\n",
       "      <td>1076</td>\n",
       "      <td>Печенье FOODCODE Кантуччини дикая клюква,минда...</td>\n",
       "      <td>unknown</td>\n",
       "      <td>Кондитерские изделия</td>\n",
       "      <td>Нет</td>\n",
       "      <td>г</td>\n",
       "      <td>РОССИЯ</td>\n",
       "    </tr>\n",
       "    <tr>\n",
       "      <th>3718</th>\n",
       "      <td>1971</td>\n",
       "      <td>Печенье ВкусныйМир Машины грибочки 80г</td>\n",
       "      <td>ВкусныйМир</td>\n",
       "      <td>Кондитерские изделия</td>\n",
       "      <td>Нет</td>\n",
       "      <td>г</td>\n",
       "      <td>РОССИЯ</td>\n",
       "    </tr>\n",
       "  </tbody>\n",
       "</table>\n",
       "<p>75 rows × 7 columns</p>\n",
       "</div>"
      ],
      "text/plain": [
       "      sku_id                                          full_name       brand  \\\n",
       "53       798               Печенье ЯШКИНО сдобное клубника 137г      ЯШКИНО   \n",
       "54      4056                  Печенье ЯШКИНО сдобное вишня 137г      ЯШКИНО   \n",
       "100     3145           Печенье Любятово Мария традиционное 180г    Любятово   \n",
       "156      981   Печенье Юбилейное сахарное традиционное 126/112г   Юбилейное   \n",
       "193     1134                    Печенье Веселые грибочки 50/45г     unknown   \n",
       "...      ...                                                ...         ...   \n",
       "3464    1132               Печенье Pocky палочки в шоколаде 42г       Pocky   \n",
       "3568    2896             Печенье Choco Boy черная смородина 45г   Choco Boy   \n",
       "3591     557           Печенье Любятово Мария традиционное 156г    Любятово   \n",
       "3704    1076  Печенье FOODCODE Кантуччини дикая клюква,минда...     unknown   \n",
       "3718    1971             Печенье ВкусныйМир Машины грибочки 80г  ВкусныйМир   \n",
       "\n",
       "                 sku_group  OTM    units            country  \n",
       "53    Кондитерские изделия  Нет        г             РОССИЯ  \n",
       "54    Кондитерские изделия  Нет        г             РОССИЯ  \n",
       "100   Кондитерские изделия  Нет        г            unknown  \n",
       "156   Кондитерские изделия  Нет  unknown            unknown  \n",
       "193   Кондитерские изделия  Нет        г            unknown  \n",
       "...                    ...  ...      ...                ...  \n",
       "3464  Кондитерские изделия  Нет        г  КОРЕЯ, РЕСПУБЛИКА  \n",
       "3568  Кондитерские изделия  Нет        г            unknown  \n",
       "3591  Кондитерские изделия  Нет        г             РОССИЯ  \n",
       "3704  Кондитерские изделия  Нет        г             РОССИЯ  \n",
       "3718  Кондитерские изделия  Нет        г             РОССИЯ  \n",
       "\n",
       "[75 rows x 7 columns]"
      ]
     },
     "execution_count": 185,
     "metadata": {},
     "output_type": "execute_result"
    }
   ],
   "source": [
    "#Посмотрим на товары содержащие слово \"печенье\"\n",
    "df_nomencl[df_nomencl.full_name.str.contains(\"еченье\")]"
   ]
  },
  {
   "cell_type": "markdown",
   "metadata": {},
   "source": [
    "Похоже, что второе слово в наименовании можно попробовать использовать как бренд, хотя бренд Choco Boy состоит из 2х слов, ВкусныйМир не разделен пробелом. По крайней мере бренд начинается от второго слова. \n",
    "\n",
    "Гипотеза1: если второе слово в наименовании на кириллице то бренд состоит из одного этого слова.  \n",
    "\n",
    "Посмотрим есть ли еще бренды состоящие из 2х слов."
   ]
  },
  {
   "cell_type": "code",
   "execution_count": 186,
   "metadata": {},
   "outputs": [],
   "source": [
    "brand_names_kond = [] #бренды кондитерских изделий\n",
    "brand_names_kond_two_words = [] #бренды, состоящие из 2х слов\n",
    "\n",
    "brand_names_kond = df_nomencl[df_nomencl.sku_group == 'Кондитерские изделия']\\\n",
    "                                         .brand.value_counts().index\n",
    "\n",
    "for brand_name_k in brand_names_kond:\n",
    "    if len(brand_name_k.split(\" \")) > 1:\n",
    "        brand_names_kond_two_words.append(brand_name_k)"
   ]
  },
  {
   "cell_type": "code",
   "execution_count": 187,
   "metadata": {},
   "outputs": [],
   "source": [
    "re_rus = re.compile(\"[а-яА-Я]+\")\n",
    "rus_brand = [w for w in filter(re_rus.match, brand_names_kond_two_words)]"
   ]
  },
  {
   "cell_type": "code",
   "execution_count": 189,
   "metadata": {},
   "outputs": [
    {
     "data": {
      "text/plain": [
       "['медвежонок Барни',\n",
       " 'Сладкая Сказка',\n",
       " 'Капля радуги',\n",
       " 'Бабушкина смоква',\n",
       " 'АЗОВСКАЯ Кондитерская Фабрика',\n",
       " 'Стильные штучки',\n",
       " 'ВКУСЫ МИРА',\n",
       " 'Частная галерея',\n",
       " 'Русский марципан',\n",
       " 'БОН ПАРИ',\n",
       " 'Хлебный Спас']"
      ]
     },
     "execution_count": 189,
     "metadata": {},
     "output_type": "execute_result"
    }
   ],
   "source": [
    "#бренды состоящие из 2х слов на кириллице\n",
    "rus_brand"
   ]
  },
  {
   "cell_type": "markdown",
   "metadata": {},
   "source": [
    "  \n",
    "Гипотеза1 отвергнута.   \n",
    "\n",
    "Буду действовать по такому алгоритму при заполнении unknown у бренда:  \n",
    "- беру товар у которого бренд unknown\n",
    "- ищу по второму слову похожие товары\n",
    "- если у похожего товара прописан бренд - беру его\n",
    "- если у похожего товара нет бренда, значит текущий товар с уникальным брендом, по сути не сильно важно что там прописать, главное что он уникальный, буду брать второе слово как бренд"
   ]
  },
  {
   "cell_type": "code",
   "execution_count": 190,
   "metadata": {},
   "outputs": [],
   "source": [
    "ids_with_new_brand = [] #сюда буду записывать ид строк для которых заменю бренд\n",
    "\n",
    "for full_name_wb in full_names_without_brand:\n",
    "    second_word = full_name_wb.split(\" \")[1] #беру второе слово из наименования\n",
    "    new_brand = second_word #предварительно сохраняю новое имя бренда\n",
    "    second_word = second_word[1:] #удаляю первый символ, чтобы не переводить весь датафраме в lower\n",
    "    #все товары содержащие second_word\n",
    "    skus_with_second_word = df_nomencl[(df_nomencl.sku_group == 'Кондитерские изделия') &\n",
    "                                        (df_nomencl.full_name.str.contains(second_word))]\n",
    "    brands = skus_with_second_word['brand'].value_counts().index #наименования брендов\n",
    "    #если больше 1 бренда\n",
    "    if len(brands) > 1:\n",
    "        #удаляю unknown\n",
    "        brands = [x for x in brands if x != 'unknown']\n",
    "        #на случай если больше 2х брендов, беру самый популярный\n",
    "        new_brand = brands[0]\n",
    "    #прописываю новый бренд для товаров без бренда с именем full_name_wb\n",
    "    full_name_wb_id = list(df_nomencl[df_nomencl.full_name == full_name_wb].index)\n",
    "    df_nomencl.at[full_name_wb_id, 'brand'] = new_brand\n",
    "    ids_with_new_brand = ids_with_new_brand + full_name_wb_id"
   ]
  },
  {
   "cell_type": "code",
   "execution_count": 191,
   "metadata": {},
   "outputs": [
    {
     "data": {
      "text/html": [
       "<div>\n",
       "<style scoped>\n",
       "    .dataframe tbody tr th:only-of-type {\n",
       "        vertical-align: middle;\n",
       "    }\n",
       "\n",
       "    .dataframe tbody tr th {\n",
       "        vertical-align: top;\n",
       "    }\n",
       "\n",
       "    .dataframe thead th {\n",
       "        text-align: right;\n",
       "    }\n",
       "</style>\n",
       "<table border=\"1\" class=\"dataframe\">\n",
       "  <thead>\n",
       "    <tr style=\"text-align: right;\">\n",
       "      <th></th>\n",
       "      <th>sku_id</th>\n",
       "      <th>full_name</th>\n",
       "      <th>brand</th>\n",
       "      <th>sku_group</th>\n",
       "      <th>OTM</th>\n",
       "      <th>units</th>\n",
       "      <th>country</th>\n",
       "    </tr>\n",
       "  </thead>\n",
       "  <tbody>\n",
       "    <tr>\n",
       "      <th>101</th>\n",
       "      <td>781</td>\n",
       "      <td>Пряник Тульский вареная сгущенка 140г</td>\n",
       "      <td>Тульский</td>\n",
       "      <td>Кондитерские изделия</td>\n",
       "      <td>Нет</td>\n",
       "      <td>г</td>\n",
       "      <td>РОССИЯ</td>\n",
       "    </tr>\n",
       "    <tr>\n",
       "      <th>193</th>\n",
       "      <td>1134</td>\n",
       "      <td>Печенье Веселые грибочки 50/45г</td>\n",
       "      <td>Веселые</td>\n",
       "      <td>Кондитерские изделия</td>\n",
       "      <td>Нет</td>\n",
       "      <td>г</td>\n",
       "      <td>unknown</td>\n",
       "    </tr>\n",
       "    <tr>\n",
       "      <th>205</th>\n",
       "      <td>226</td>\n",
       "      <td>Пряник Тульский начинка фруктовая 140г</td>\n",
       "      <td>Тульский</td>\n",
       "      <td>Кондитерские изделия</td>\n",
       "      <td>Нет</td>\n",
       "      <td>г</td>\n",
       "      <td>РОССИЯ</td>\n",
       "    </tr>\n",
       "    <tr>\n",
       "      <th>415</th>\n",
       "      <td>2574</td>\n",
       "      <td>Набор конфет Celebrations бутылка 312г</td>\n",
       "      <td>СЧАСТЬЕ</td>\n",
       "      <td>Кондитерские изделия</td>\n",
       "      <td>Нет</td>\n",
       "      <td>г</td>\n",
       "      <td>РОССИЯ</td>\n",
       "    </tr>\n",
       "    <tr>\n",
       "      <th>698</th>\n",
       "      <td>57</td>\n",
       "      <td>Сладости Zentis марципановая буханка 100г</td>\n",
       "      <td>Zentis</td>\n",
       "      <td>Кондитерские изделия</td>\n",
       "      <td>Нет</td>\n",
       "      <td>г</td>\n",
       "      <td>unknown</td>\n",
       "    </tr>\n",
       "    <tr>\n",
       "      <th>887</th>\n",
       "      <td>1527</td>\n",
       "      <td>Конфеты Warner Hudson ассорти ликер 150г</td>\n",
       "      <td>Warner</td>\n",
       "      <td>Кондитерские изделия</td>\n",
       "      <td>Нет</td>\n",
       "      <td>г</td>\n",
       "      <td>ГЕРМАНИЯ</td>\n",
       "    </tr>\n",
       "    <tr>\n",
       "      <th>1318</th>\n",
       "      <td>173</td>\n",
       "      <td>Банан Banana Republic сушеный шоколадная глазу...</td>\n",
       "      <td>Banana</td>\n",
       "      <td>Кондитерские изделия</td>\n",
       "      <td>Нет</td>\n",
       "      <td>г</td>\n",
       "      <td>РОССИЯ</td>\n",
       "    </tr>\n",
       "    <tr>\n",
       "      <th>1352</th>\n",
       "      <td>4222</td>\n",
       "      <td>Резинка жевательная Marukawa виноград 5,4г</td>\n",
       "      <td>Orbit</td>\n",
       "      <td>Кондитерские изделия</td>\n",
       "      <td>Нет</td>\n",
       "      <td>г</td>\n",
       "      <td>unknown</td>\n",
       "    </tr>\n",
       "    <tr>\n",
       "      <th>1353</th>\n",
       "      <td>2101</td>\n",
       "      <td>Резинка жевательная Marukawa дыня 5,4г</td>\n",
       "      <td>Orbit</td>\n",
       "      <td>Кондитерские изделия</td>\n",
       "      <td>Нет</td>\n",
       "      <td>г</td>\n",
       "      <td>unknown</td>\n",
       "    </tr>\n",
       "    <tr>\n",
       "      <th>1354</th>\n",
       "      <td>1954</td>\n",
       "      <td>Резинка жевательная Marukawa апельсин 5,4г</td>\n",
       "      <td>Orbit</td>\n",
       "      <td>Кондитерские изделия</td>\n",
       "      <td>Нет</td>\n",
       "      <td>г</td>\n",
       "      <td>unknown</td>\n",
       "    </tr>\n",
       "    <tr>\n",
       "      <th>1355</th>\n",
       "      <td>1392</td>\n",
       "      <td>Резинка жевательная Marukawa клубника 5,4г</td>\n",
       "      <td>Orbit</td>\n",
       "      <td>Кондитерские изделия</td>\n",
       "      <td>Нет</td>\n",
       "      <td>unknown</td>\n",
       "      <td>unknown</td>\n",
       "    </tr>\n",
       "    <tr>\n",
       "      <th>1499</th>\n",
       "      <td>176</td>\n",
       "      <td>Батончик Миньоны глазированный банановое суфле...</td>\n",
       "      <td>Капля радуги</td>\n",
       "      <td>Кондитерские изделия</td>\n",
       "      <td>Нет</td>\n",
       "      <td>г</td>\n",
       "      <td>РОССИЯ</td>\n",
       "    </tr>\n",
       "    <tr>\n",
       "      <th>1500</th>\n",
       "      <td>3966</td>\n",
       "      <td>Батончик Миньоны глазированный лесные ягоды 30г</td>\n",
       "      <td>Капля радуги</td>\n",
       "      <td>Кондитерские изделия</td>\n",
       "      <td>Нет</td>\n",
       "      <td>г</td>\n",
       "      <td>РОССИЯ</td>\n",
       "    </tr>\n",
       "    <tr>\n",
       "      <th>1860</th>\n",
       "      <td>2649</td>\n",
       "      <td>Конфеты Финиксы чернослив глазурь мульти-пак 180г</td>\n",
       "      <td>Sobranie</td>\n",
       "      <td>Кондитерские изделия</td>\n",
       "      <td>Нет</td>\n",
       "      <td>г</td>\n",
       "      <td>РОССИЯ</td>\n",
       "    </tr>\n",
       "    <tr>\n",
       "      <th>2103</th>\n",
       "      <td>785</td>\n",
       "      <td>Леденцы Barkleys mints peppermint 50г</td>\n",
       "      <td>Barkleys</td>\n",
       "      <td>Кондитерские изделия</td>\n",
       "      <td>Нет</td>\n",
       "      <td>г</td>\n",
       "      <td>unknown</td>\n",
       "    </tr>\n",
       "  </tbody>\n",
       "</table>\n",
       "</div>"
      ],
      "text/plain": [
       "      sku_id                                          full_name         brand  \\\n",
       "101      781              Пряник Тульский вареная сгущенка 140г      Тульский   \n",
       "193     1134                    Печенье Веселые грибочки 50/45г       Веселые   \n",
       "205      226             Пряник Тульский начинка фруктовая 140г      Тульский   \n",
       "415     2574             Набор конфет Celebrations бутылка 312г       СЧАСТЬЕ   \n",
       "698       57          Сладости Zentis марципановая буханка 100г        Zentis   \n",
       "887     1527           Конфеты Warner Hudson ассорти ликер 150г        Warner   \n",
       "1318     173  Банан Banana Republic сушеный шоколадная глазу...        Banana   \n",
       "1352    4222         Резинка жевательная Marukawa виноград 5,4г         Orbit   \n",
       "1353    2101             Резинка жевательная Marukawa дыня 5,4г         Orbit   \n",
       "1354    1954         Резинка жевательная Marukawa апельсин 5,4г         Orbit   \n",
       "1355    1392         Резинка жевательная Marukawa клубника 5,4г         Orbit   \n",
       "1499     176  Батончик Миньоны глазированный банановое суфле...  Капля радуги   \n",
       "1500    3966    Батончик Миньоны глазированный лесные ягоды 30г  Капля радуги   \n",
       "1860    2649  Конфеты Финиксы чернослив глазурь мульти-пак 180г      Sobranie   \n",
       "2103     785              Леденцы Barkleys mints peppermint 50г      Barkleys   \n",
       "\n",
       "                 sku_group  OTM    units   country  \n",
       "101   Кондитерские изделия  Нет        г    РОССИЯ  \n",
       "193   Кондитерские изделия  Нет        г   unknown  \n",
       "205   Кондитерские изделия  Нет        г    РОССИЯ  \n",
       "415   Кондитерские изделия  Нет        г    РОССИЯ  \n",
       "698   Кондитерские изделия  Нет        г   unknown  \n",
       "887   Кондитерские изделия  Нет        г  ГЕРМАНИЯ  \n",
       "1318  Кондитерские изделия  Нет        г    РОССИЯ  \n",
       "1352  Кондитерские изделия  Нет        г   unknown  \n",
       "1353  Кондитерские изделия  Нет        г   unknown  \n",
       "1354  Кондитерские изделия  Нет        г   unknown  \n",
       "1355  Кондитерские изделия  Нет  unknown   unknown  \n",
       "1499  Кондитерские изделия  Нет        г    РОССИЯ  \n",
       "1500  Кондитерские изделия  Нет        г    РОССИЯ  \n",
       "1860  Кондитерские изделия  Нет        г    РОССИЯ  \n",
       "2103  Кондитерские изделия  Нет        г   unknown  "
      ]
     },
     "execution_count": 191,
     "metadata": {},
     "output_type": "execute_result"
    }
   ],
   "source": [
    "df_nomencl.loc[ids_with_new_brand].head(15)"
   ]
  },
  {
   "cell_type": "markdown",
   "metadata": {},
   "source": [
    "- На сколько корректно проставился Orbit?  \n",
    "- Набор конфет Celebrations бутылка 312г не корректно прописал бренд, с латинскими словами нужно отдельно поработать  "
   ]
  },
  {
   "cell_type": "markdown",
   "metadata": {},
   "source": [
    "Гипотеза2: если есть слово в наименовании на латинице то бренд состоит из всех латинских слов."
   ]
  },
  {
   "cell_type": "code",
   "execution_count": 194,
   "metadata": {},
   "outputs": [],
   "source": [
    "re_eng = re.compile(\"[a-zA-Z]+\")\n",
    "eng_brand = [w for w in filter(re_eng.match, brand_names_kond_two_words)]"
   ]
  },
  {
   "cell_type": "code",
   "execution_count": 195,
   "metadata": {},
   "outputs": [
    {
     "data": {
      "text/plain": [
       "['Ritter SPORT',\n",
       " 'Chupa Chups',\n",
       " 'Fly Cafe (СТМ)',\n",
       " 'Alpen Gold',\n",
       " \"Wrigley's 5\",\n",
       " 'tic tac',\n",
       " 'Nature’s own factory',\n",
       " 'Candy Lane',\n",
       " 'Juicy Fruit',\n",
       " 'Love is...',\n",
       " 'Choco Boy',\n",
       " 'Baker House',\n",
       " 'G-Fly (СТМ)',\n",
       " \"Wrigley's Spearmint\",\n",
       " 'Milky Way',\n",
       " 'Paw Patrol',\n",
       " 'PAW Patrol',\n",
       " 'Me to You',\n",
       " 'WERTERS ORIGINAL']"
      ]
     },
     "execution_count": 195,
     "metadata": {},
     "output_type": "execute_result"
    }
   ],
   "source": [
    "eng_brand"
   ]
  },
  {
   "cell_type": "markdown",
   "metadata": {},
   "source": [
    "!!! Пока решил пропустить замену unknown и пойти дальше, потом вернусь, если решу что необходимо.\n"
   ]
  },
  {
   "cell_type": "code",
   "execution_count": null,
   "metadata": {},
   "outputs": [],
   "source": []
  },
  {
   "cell_type": "code",
   "execution_count": null,
   "metadata": {},
   "outputs": [],
   "source": []
  },
  {
   "cell_type": "code",
   "execution_count": null,
   "metadata": {},
   "outputs": [],
   "source": []
  },
  {
   "cell_type": "markdown",
   "metadata": {},
   "source": [
    "#### Тренировочные, проверочные и тестовые данные"
   ]
  },
  {
   "cell_type": "markdown",
   "metadata": {},
   "source": [
    "- #### тестовый сабмит (для отправки)"
   ]
  },
  {
   "cell_type": "code",
   "execution_count": 196,
   "metadata": {},
   "outputs": [],
   "source": [
    "df_sub = pd.read_parquet(\"Data/transactions-for_submission.parquet\")"
   ]
  },
  {
   "cell_type": "code",
   "execution_count": 197,
   "metadata": {},
   "outputs": [
    {
     "data": {
      "text/html": [
       "<div>\n",
       "<style scoped>\n",
       "    .dataframe tbody tr th:only-of-type {\n",
       "        vertical-align: middle;\n",
       "    }\n",
       "\n",
       "    .dataframe tbody tr th {\n",
       "        vertical-align: top;\n",
       "    }\n",
       "\n",
       "    .dataframe thead th {\n",
       "        text-align: right;\n",
       "    }\n",
       "</style>\n",
       "<table border=\"1\" class=\"dataframe\">\n",
       "  <thead>\n",
       "    <tr style=\"text-align: right;\">\n",
       "      <th></th>\n",
       "      <th>sku_id</th>\n",
       "      <th>price</th>\n",
       "      <th>number</th>\n",
       "      <th>cheque_id</th>\n",
       "      <th>litrs</th>\n",
       "      <th>client_id</th>\n",
       "      <th>shop_id</th>\n",
       "      <th>date</th>\n",
       "    </tr>\n",
       "  </thead>\n",
       "  <tbody>\n",
       "    <tr>\n",
       "      <th>0</th>\n",
       "      <td>1158</td>\n",
       "      <td>0.002304</td>\n",
       "      <td>0.000000</td>\n",
       "      <td>734259</td>\n",
       "      <td>0.142106</td>\n",
       "      <td>223748.0</td>\n",
       "      <td>42</td>\n",
       "      <td>2171-08-01 09:00:00</td>\n",
       "    </tr>\n",
       "    <tr>\n",
       "      <th>1</th>\n",
       "      <td>555</td>\n",
       "      <td>0.009133</td>\n",
       "      <td>0.000452</td>\n",
       "      <td>734260</td>\n",
       "      <td>0.104183</td>\n",
       "      <td>NaN</td>\n",
       "      <td>42</td>\n",
       "      <td>2171-08-01 09:00:00</td>\n",
       "    </tr>\n",
       "    <tr>\n",
       "      <th>2</th>\n",
       "      <td>555</td>\n",
       "      <td>0.009133</td>\n",
       "      <td>0.000452</td>\n",
       "      <td>734260</td>\n",
       "      <td>0.104183</td>\n",
       "      <td>NaN</td>\n",
       "      <td>42</td>\n",
       "      <td>2171-08-01 09:00:00</td>\n",
       "    </tr>\n",
       "    <tr>\n",
       "      <th>3</th>\n",
       "      <td>1158</td>\n",
       "      <td>0.002304</td>\n",
       "      <td>0.000000</td>\n",
       "      <td>734264</td>\n",
       "      <td>0.138006</td>\n",
       "      <td>NaN</td>\n",
       "      <td>42</td>\n",
       "      <td>2171-08-01 09:00:00</td>\n",
       "    </tr>\n",
       "    <tr>\n",
       "      <th>4</th>\n",
       "      <td>1534</td>\n",
       "      <td>0.002822</td>\n",
       "      <td>0.000452</td>\n",
       "      <td>734266</td>\n",
       "      <td>0.104183</td>\n",
       "      <td>NaN</td>\n",
       "      <td>42</td>\n",
       "      <td>2171-08-01 09:00:00</td>\n",
       "    </tr>\n",
       "    <tr>\n",
       "      <th>...</th>\n",
       "      <td>...</td>\n",
       "      <td>...</td>\n",
       "      <td>...</td>\n",
       "      <td>...</td>\n",
       "      <td>...</td>\n",
       "      <td>...</td>\n",
       "      <td>...</td>\n",
       "      <td>...</td>\n",
       "    </tr>\n",
       "    <tr>\n",
       "      <th>554725</th>\n",
       "      <td>2999</td>\n",
       "      <td>0.007901</td>\n",
       "      <td>0.000452</td>\n",
       "      <td>3406741</td>\n",
       "      <td>0.104183</td>\n",
       "      <td>NaN</td>\n",
       "      <td>107</td>\n",
       "      <td>2171-09-01 09:00:00</td>\n",
       "    </tr>\n",
       "    <tr>\n",
       "      <th>554726</th>\n",
       "      <td>1157</td>\n",
       "      <td>0.002681</td>\n",
       "      <td>0.000000</td>\n",
       "      <td>3406743</td>\n",
       "      <td>0.196074</td>\n",
       "      <td>340354.0</td>\n",
       "      <td>107</td>\n",
       "      <td>2171-09-01 09:00:00</td>\n",
       "    </tr>\n",
       "    <tr>\n",
       "      <th>554727</th>\n",
       "      <td>1158</td>\n",
       "      <td>0.002352</td>\n",
       "      <td>0.000000</td>\n",
       "      <td>3406744</td>\n",
       "      <td>0.163905</td>\n",
       "      <td>345307.0</td>\n",
       "      <td>107</td>\n",
       "      <td>2171-09-01 09:00:00</td>\n",
       "    </tr>\n",
       "    <tr>\n",
       "      <th>554728</th>\n",
       "      <td>1158</td>\n",
       "      <td>0.002352</td>\n",
       "      <td>0.000000</td>\n",
       "      <td>3406745</td>\n",
       "      <td>0.125892</td>\n",
       "      <td>NaN</td>\n",
       "      <td>107</td>\n",
       "      <td>2171-09-01 09:00:00</td>\n",
       "    </tr>\n",
       "    <tr>\n",
       "      <th>554729</th>\n",
       "      <td>2032</td>\n",
       "      <td>0.003035</td>\n",
       "      <td>0.000000</td>\n",
       "      <td>3406748</td>\n",
       "      <td>0.162949</td>\n",
       "      <td>265997.0</td>\n",
       "      <td>107</td>\n",
       "      <td>2171-09-01 09:00:00</td>\n",
       "    </tr>\n",
       "  </tbody>\n",
       "</table>\n",
       "<p>554730 rows × 8 columns</p>\n",
       "</div>"
      ],
      "text/plain": [
       "        sku_id     price    number  cheque_id     litrs  client_id  shop_id  \\\n",
       "0         1158  0.002304  0.000000     734259  0.142106   223748.0       42   \n",
       "1          555  0.009133  0.000452     734260  0.104183        NaN       42   \n",
       "2          555  0.009133  0.000452     734260  0.104183        NaN       42   \n",
       "3         1158  0.002304  0.000000     734264  0.138006        NaN       42   \n",
       "4         1534  0.002822  0.000452     734266  0.104183        NaN       42   \n",
       "...        ...       ...       ...        ...       ...        ...      ...   \n",
       "554725    2999  0.007901  0.000452    3406741  0.104183        NaN      107   \n",
       "554726    1157  0.002681  0.000000    3406743  0.196074   340354.0      107   \n",
       "554727    1158  0.002352  0.000000    3406744  0.163905   345307.0      107   \n",
       "554728    1158  0.002352  0.000000    3406745  0.125892        NaN      107   \n",
       "554729    2032  0.003035  0.000000    3406748  0.162949   265997.0      107   \n",
       "\n",
       "                      date  \n",
       "0      2171-08-01 09:00:00  \n",
       "1      2171-08-01 09:00:00  \n",
       "2      2171-08-01 09:00:00  \n",
       "3      2171-08-01 09:00:00  \n",
       "4      2171-08-01 09:00:00  \n",
       "...                    ...  \n",
       "554725 2171-09-01 09:00:00  \n",
       "554726 2171-09-01 09:00:00  \n",
       "554727 2171-09-01 09:00:00  \n",
       "554728 2171-09-01 09:00:00  \n",
       "554729 2171-09-01 09:00:00  \n",
       "\n",
       "[554730 rows x 8 columns]"
      ]
     },
     "execution_count": 197,
     "metadata": {},
     "output_type": "execute_result"
    }
   ],
   "source": [
    "df_sub"
   ]
  },
  {
   "cell_type": "markdown",
   "metadata": {},
   "source": [
    "Тут так же нужно заменить nan в client_id, а так же видно что есть дубли, которые нужно убрать.  "
   ]
  },
  {
   "cell_type": "code",
   "execution_count": 201,
   "metadata": {},
   "outputs": [],
   "source": [
    "df_sub['client_id'] = df_sub['client_id'].fillna(-1)"
   ]
  },
  {
   "cell_type": "code",
   "execution_count": 202,
   "metadata": {},
   "outputs": [
    {
     "name": "stdout",
     "output_type": "stream",
     "text": [
      "Записей до удаления дубликатов: 554730\n",
      "Записей после удаления дубликатов: 525496\n"
     ]
    }
   ],
   "source": [
    "print(\"Записей до удаления дубликатов: {}\".format(len(df_sub)))\n",
    "df_sub.drop_duplicates(subset=None, keep='first', inplace=True)\n",
    "print(\"Записей после удаления дубликатов: {}\".format(len(df_sub)))"
   ]
  },
  {
   "cell_type": "markdown",
   "metadata": {},
   "source": [
    "- #### тестовые данные для проверки модели"
   ]
  },
  {
   "cell_type": "markdown",
   "metadata": {},
   "source": [
    "Для подготовки тестовых (проверочных) данных нужно:\n",
    "- отсортировать данные по дате, обучаться нужно на прошлом а предсказывать будущее\n",
    "- найти в транзакциях чеки, в которых будет хотябы один товар из категорий: вода или сладкие газированные напитки, холодный чай или кофейные напитки с молоком или энергетические напитки или снеки или соки и сокосодержащие напитки. \n",
    "- в таких чеках должно быть как минимум 2 позиции (транзакции)\n",
    "- взять процентов 10-20 чеков от всех таких чеков после определенной даты\n",
    "- удалить в них 1 случайный товар из списка категорий выше\n",
    "- буду рекомендовать 20 товаров, но проверять буду только на одном, т.к. столько товаров в чеке нет, этот один проверочный товар запишу в 20 экземплярах, чем раньше модель его порекомендует, том больше будет оценка"
   ]
  },
  {
   "cell_type": "code",
   "execution_count": 314,
   "metadata": {},
   "outputs": [],
   "source": [
    "watrer_sku_ids = df_nomencl[df_nomencl[\"sku_group\"] == 'Вода'].sku_id.values\n",
    "soda_watrer_sku_ids = df_nomencl[df_nomencl[\"sku_group\"] == 'Сладкие Уранированные напитки, холодный чай'].sku_id.values\n",
    "cofe_sku_ids = df_nomencl[df_nomencl[\"sku_group\"] == 'Кофейные напитки с молоком'].sku_id.values\n",
    "energy_drink_sku_ids = df_nomencl[df_nomencl[\"sku_group\"] == 'Энергетические напитки'].sku_id.values\n",
    "snack_sku_ids = df_nomencl[df_nomencl[\"sku_group\"] == 'Снеки'].sku_id.values\n",
    "juice_sku_ids = df_nomencl[df_nomencl[\"sku_group\"] == 'Соки и сокосодержащие напитки'].sku_id.values"
   ]
  },
  {
   "cell_type": "code",
   "execution_count": 205,
   "metadata": {},
   "outputs": [],
   "source": [
    "#все ид товаров из списка рекомендации\n",
    "recommended_sku_ids = np.concatenate((watrer_sku_ids, soda_watrer_sku_ids, cofe_sku_ids, \n",
    "                        energy_drink_sku_ids, snack_sku_ids, juice_sku_ids), axis=None)"
   ]
  },
  {
   "cell_type": "code",
   "execution_count": 206,
   "metadata": {},
   "outputs": [],
   "source": [
    "#все ид товаров которые не нужно рекомендовать\n",
    "not_recommended_sku_ids = list(set(df_nomencl.sku_id.values) - set(recommended_sku_ids))"
   ]
  },
  {
   "cell_type": "code",
   "execution_count": 243,
   "metadata": {},
   "outputs": [],
   "source": [
    "#все уникальные чеки в которых есть товары для рекомендаций\n",
    "recommended_cheque_id_unique = list(df_trans[df_trans[\"sku_id\"].isin(recommended_sku_ids)]\\\n",
    "                                .cheque_id.unique())\n",
    "#затем беру все транзакции по чекам где рекомендуемые товар и нет\n",
    "df_trans_recommended_cheque_id = df_trans[df_trans[\"cheque_id\"].isin(recommended_cheque_id_unique)]\\\n",
    "                                 .cheque_id.value_counts().reset_index()\n",
    "#тут если в чеке одна транзакция, то там только рекомендуемый товар, если 2 и больше то там точно 1 рекомендуемый а второй может быть любой\n",
    "df_trans_recommended_cheque_id.columns = [\"cheque_id\", \"count\"]"
   ]
  },
  {
   "cell_type": "code",
   "execution_count": 245,
   "metadata": {},
   "outputs": [],
   "source": [
    "#все чеки, в транзакциях которых как минимум 2 позиции, чтобы одну я смог забрать в таргет\n",
    "recommended_cheque_id = list(df_trans_recommended_cheque_id[df_trans_recommended_cheque_id['count'] > 1].cheque_id.values)"
   ]
  },
  {
   "cell_type": "code",
   "execution_count": 246,
   "metadata": {},
   "outputs": [],
   "source": [
    "#все уникальные чеки в которых товары для рекомендаций\n",
    "recommended_cheque_id_unique = list(set(recommended_cheque_id))"
   ]
  },
  {
   "cell_type": "code",
   "execution_count": 248,
   "metadata": {},
   "outputs": [
    {
     "name": "stdout",
     "output_type": "stream",
     "text": [
      "Всего транзакций: 6800919\n",
      "Всего уникальных чеков: 2848238\n",
      "Из них чеков с >1 позицией и минимум с 1 рекомендуемым товаром: 1566070\n"
     ]
    }
   ],
   "source": [
    "print('Всего транзакций: {}\\nВсего уникальных чеков: {}\\nИз них чеков с >1 позицией и минимум с 1 рекомендуемым товаром: {}'.format(\n",
    "       len(df_trans.cheque_id.values), len(set(df_trans.cheque_id.values)), len(recommended_cheque_id_unique)))"
   ]
  },
  {
   "cell_type": "markdown",
   "metadata": {},
   "source": [
    "Формирую тренировочную выборку:"
   ]
  },
  {
   "cell_type": "markdown",
   "metadata": {},
   "source": [
    "Для обучения брать только чеки где есть рекомендуемые товары или все чеки?  \n",
    "Пока возьму только из тех где есть рекомендуемые товары."
   ]
  },
  {
   "cell_type": "markdown",
   "metadata": {},
   "source": [
    "Выборку буду делить по дате, т.к. заметил, что ид чеков не по порядку, видимо из-за разных магазинов, везде разное количество продаж и ведется свой отсчет. А уникальны ли ид чеков?"
   ]
  },
  {
   "cell_type": "code",
   "execution_count": 249,
   "metadata": {},
   "outputs": [
    {
     "data": {
      "text/plain": [
       "cheque_id\n",
       "0          1\n",
       "2253906    1\n",
       "2253898    1\n",
       "2253899    1\n",
       "2253900    1\n",
       "          ..\n",
       "1026623    1\n",
       "1026624    1\n",
       "1026625    1\n",
       "1026626    1\n",
       "3407195    1\n",
       "Length: 2848238, dtype: int64"
      ]
     },
     "execution_count": 249,
     "metadata": {},
     "output_type": "execute_result"
    }
   ],
   "source": [
    "#Проверяю гипотезу, что ид чеков уникальны и не могут повторяться в разных магазинах\n",
    "#если больше 1 хотя бы первая позиция из таблицы ниже, то гипотеза отвергается\n",
    "df_trans.groupby(['cheque_id', 'shop_id'])['shop_id'].count().unstack().count(axis=1).sort_values(ascending=False)"
   ]
  },
  {
   "cell_type": "markdown",
   "metadata": {},
   "source": [
    "В самом начале я уже определял, что у нас данных за 5 мес., в качестве теста буду брать данные последнего месяца (июля) и в районе 10% от всей выборки. "
   ]
  },
  {
   "cell_type": "code",
   "execution_count": 260,
   "metadata": {},
   "outputs": [
    {
     "data": {
      "text/plain": [
       "4161707"
      ]
     },
     "execution_count": 260,
     "metadata": {},
     "output_type": "execute_result"
    }
   ],
   "source": [
    "#всего транзакций для обучения (не уникальные чеки)\n",
    "len(df_trans[df_trans.cheque_id.isin(recommended_cheque_id_unique)])"
   ]
  },
  {
   "cell_type": "code",
   "execution_count": 261,
   "metadata": {},
   "outputs": [
    {
     "data": {
      "text/plain": [
       "333221"
      ]
     },
     "execution_count": 261,
     "metadata": {},
     "output_type": "execute_result"
    }
   ],
   "source": [
    "#возьму транзакций для теста (не уникальные чеки)\n",
    "len(df_trans[(df_trans.cheque_id.isin(recommended_cheque_id_unique)) & \n",
    "             (df_trans.date >= '2171-07-20')][['date','cheque_id']])"
   ]
  },
  {
   "cell_type": "code",
   "execution_count": 262,
   "metadata": {},
   "outputs": [],
   "source": [
    "#Беру уникальные чеки для трейна и теста\n",
    "X_train_cheque_id =  set(list(df_trans[(df_trans.cheque_id.isin(recommended_cheque_id_unique)) & \n",
    "                                       (df_trans.date < '2171-07-20')].cheque_id.values))\n",
    "X_test_cheque_id =  set(list(df_trans[(df_trans.cheque_id.isin(recommended_cheque_id_unique)) & \n",
    "                                      (df_trans.date >= '2171-07-20')].cheque_id.values))"
   ]
  },
  {
   "cell_type": "code",
   "execution_count": 263,
   "metadata": {},
   "outputs": [
    {
     "data": {
      "text/plain": [
       "1440709"
      ]
     },
     "execution_count": 263,
     "metadata": {},
     "output_type": "execute_result"
    }
   ],
   "source": [
    "len(X_train_cheque_id)"
   ]
  },
  {
   "cell_type": "code",
   "execution_count": 264,
   "metadata": {},
   "outputs": [
    {
     "data": {
      "text/plain": [
       "125361"
      ]
     },
     "execution_count": 264,
     "metadata": {},
     "output_type": "execute_result"
    }
   ],
   "source": [
    "len(X_test_cheque_id)"
   ]
  },
  {
   "cell_type": "code",
   "execution_count": 265,
   "metadata": {},
   "outputs": [],
   "source": [
    "#тренировочные данные\n",
    "X_train = df_trans[df_trans.cheque_id.isin(X_train_cheque_id)]"
   ]
  },
  {
   "cell_type": "code",
   "execution_count": 266,
   "metadata": {},
   "outputs": [],
   "source": [
    "#тестовые(проверочные) данные\n",
    "X_test = df_trans[df_trans.cheque_id.isin(X_test_cheque_id)]\n",
    "X_test = X_test.sort_values(by='cheque_id')"
   ]
  },
  {
   "cell_type": "code",
   "execution_count": 267,
   "metadata": {},
   "outputs": [
    {
     "data": {
      "text/plain": [
       "(3828486, 9)"
      ]
     },
     "execution_count": 267,
     "metadata": {},
     "output_type": "execute_result"
    }
   ],
   "source": [
    "X_train.shape"
   ]
  },
  {
   "cell_type": "code",
   "execution_count": 268,
   "metadata": {},
   "outputs": [
    {
     "data": {
      "text/plain": [
       "(333221, 9)"
      ]
     },
     "execution_count": 268,
     "metadata": {},
     "output_type": "execute_result"
    }
   ],
   "source": [
    "X_test.shape"
   ]
  },
  {
   "cell_type": "markdown",
   "metadata": {},
   "source": [
    "Теперь нужно убрать по одной транзакции с рекомендуемым товаром из каждого чека X_test, эти транзакции будут проверочными."
   ]
  },
  {
   "cell_type": "code",
   "execution_count": 269,
   "metadata": {},
   "outputs": [],
   "source": [
    "#уникальные cheque_id из тестовой(проверочной) выборки\n",
    "recommended_cheque_id_unique_test = list(X_test.cheque_id.value_counts(sort=False).index)"
   ]
  },
  {
   "cell_type": "code",
   "execution_count": 270,
   "metadata": {},
   "outputs": [
    {
     "name": "stderr",
     "output_type": "stream",
     "text": [
      "100%|██████████████████████████████████| 125361/125361 [02:16<00:00, 918.74it/s]\n"
     ]
    }
   ],
   "source": [
    "y_test_id = []#индексы строк для тестовых данных на которых буду проверять предсказания, которые будут исключены из теста\n",
    "X_test_recommended_sku = X_test[X_test.sku_id.isin(recommended_sku_ids)][['sku_id', 'cheque_id']] #тестовые транзакции содержащие только рекомендуемые товары\n",
    "\n",
    "#переберу все транзакции с чеками в которых только рекомендуемые товары\n",
    "#уберу по 1 транзакции для рекомендуемых товаров из проверочной выборки\n",
    "for recommended_cheque_id in tqdm(recommended_cheque_id_unique_test):\n",
    "    #выберу индексы строк всех транзакции для конкретного чека из списка c рекомендуемыми товарами\n",
    "    trans_to_split = list(X_test_recommended_sku[\n",
    "                          (X_test_recommended_sku.cheque_id == recommended_cheque_id)\n",
    "                                                ].index)\n",
    "    #выберу одну транзакцию, которую уберу из проверочных данных(которую буду предсказывать)\n",
    "    #в моей выборке в каждом чеке минимум 2 товара и минимум 1 это рекомендуемый\n",
    "    #но тут я работаю только с транзакциями из рекомендуемых товаров\n",
    "    #может быть либо 1 транзакция с рекомендуемым товаром,либо больше. Ноль-нет\n",
    "    if len(trans_to_split) > 1: #если есть хотябы 2 транзакции с рекомендуемым товаром в одном чеке\n",
    "        train_id, test_id = train_test_split(trans_to_split, \n",
    "                                             test_size=1,\n",
    "                                             random_state=42) #то возьму одну случайную\n",
    "    else: #инчае беру одну единственую (в этом случае чек содержал 1 транзакцию с каким то товаром и 1 с рекомендуемым)\n",
    "        train_id, test_id = [], trans_to_split\n",
    "    \n",
    "    #объединяю в общий массив\n",
    "    y_test_id += test_id"
   ]
  },
  {
   "cell_type": "code",
   "execution_count": 271,
   "metadata": {},
   "outputs": [
    {
     "name": "stdout",
     "output_type": "stream",
     "text": [
      "Транзакция для удаления из проверочной выборки: 125361\n"
     ]
    }
   ],
   "source": [
    "print('Транзакция для удаления из проверочной выборки: {}'.format(len(y_test_id)))"
   ]
  },
  {
   "cell_type": "code",
   "execution_count": 272,
   "metadata": {},
   "outputs": [
    {
     "data": {
      "text/html": [
       "<div>\n",
       "<style scoped>\n",
       "    .dataframe tbody tr th:only-of-type {\n",
       "        vertical-align: middle;\n",
       "    }\n",
       "\n",
       "    .dataframe tbody tr th {\n",
       "        vertical-align: top;\n",
       "    }\n",
       "\n",
       "    .dataframe thead th {\n",
       "        text-align: right;\n",
       "    }\n",
       "</style>\n",
       "<table border=\"1\" class=\"dataframe\">\n",
       "  <thead>\n",
       "    <tr style=\"text-align: right;\">\n",
       "      <th></th>\n",
       "      <th>sku_id</th>\n",
       "      <th>price</th>\n",
       "      <th>number</th>\n",
       "      <th>cheque_id</th>\n",
       "      <th>litrs</th>\n",
       "      <th>client_id</th>\n",
       "      <th>shop_id</th>\n",
       "      <th>date</th>\n",
       "      <th>month</th>\n",
       "    </tr>\n",
       "  </thead>\n",
       "  <tbody>\n",
       "    <tr>\n",
       "      <th>568526</th>\n",
       "      <td>4587</td>\n",
       "      <td>0.005080</td>\n",
       "      <td>0.000904</td>\n",
       "      <td>731832</td>\n",
       "      <td>0.000000</td>\n",
       "      <td>203449</td>\n",
       "      <td>42</td>\n",
       "      <td>2171-07-20</td>\n",
       "      <td>7</td>\n",
       "    </tr>\n",
       "    <tr>\n",
       "      <th>526725</th>\n",
       "      <td>1158</td>\n",
       "      <td>0.002304</td>\n",
       "      <td>0.000000</td>\n",
       "      <td>731832</td>\n",
       "      <td>0.133825</td>\n",
       "      <td>203449</td>\n",
       "      <td>42</td>\n",
       "      <td>2171-07-20</td>\n",
       "      <td>7</td>\n",
       "    </tr>\n",
       "    <tr>\n",
       "      <th>551575</th>\n",
       "      <td>1158</td>\n",
       "      <td>0.002304</td>\n",
       "      <td>0.000000</td>\n",
       "      <td>731833</td>\n",
       "      <td>0.137438</td>\n",
       "      <td>22651</td>\n",
       "      <td>42</td>\n",
       "      <td>2171-07-20</td>\n",
       "      <td>7</td>\n",
       "    </tr>\n",
       "    <tr>\n",
       "      <th>539052</th>\n",
       "      <td>755</td>\n",
       "      <td>0.004053</td>\n",
       "      <td>0.000452</td>\n",
       "      <td>731839</td>\n",
       "      <td>0.000000</td>\n",
       "      <td>-1</td>\n",
       "      <td>42</td>\n",
       "      <td>2171-07-20</td>\n",
       "      <td>7</td>\n",
       "    </tr>\n",
       "    <tr>\n",
       "      <th>526919</th>\n",
       "      <td>361</td>\n",
       "      <td>0.003027</td>\n",
       "      <td>0.000452</td>\n",
       "      <td>731840</td>\n",
       "      <td>0.000000</td>\n",
       "      <td>-1</td>\n",
       "      <td>42</td>\n",
       "      <td>2171-07-20</td>\n",
       "      <td>7</td>\n",
       "    </tr>\n",
       "  </tbody>\n",
       "</table>\n",
       "</div>"
      ],
      "text/plain": [
       "        sku_id     price    number  cheque_id     litrs  client_id  shop_id  \\\n",
       "568526    4587  0.005080  0.000904     731832  0.000000     203449       42   \n",
       "526725    1158  0.002304  0.000000     731832  0.133825     203449       42   \n",
       "551575    1158  0.002304  0.000000     731833  0.137438      22651       42   \n",
       "539052     755  0.004053  0.000452     731839  0.000000         -1       42   \n",
       "526919     361  0.003027  0.000452     731840  0.000000         -1       42   \n",
       "\n",
       "             date  month  \n",
       "568526 2171-07-20      7  \n",
       "526725 2171-07-20      7  \n",
       "551575 2171-07-20      7  \n",
       "539052 2171-07-20      7  \n",
       "526919 2171-07-20      7  "
      ]
     },
     "execution_count": 272,
     "metadata": {},
     "output_type": "execute_result"
    }
   ],
   "source": [
    "#данные для предсказания без учета проверочных транзакций\n",
    "X_test_for_pred = X_test.drop(y_test_id)\n",
    "X_test_for_pred.head()"
   ]
  },
  {
   "cell_type": "code",
   "execution_count": 274,
   "metadata": {},
   "outputs": [
    {
     "data": {
      "text/html": [
       "<div>\n",
       "<style scoped>\n",
       "    .dataframe tbody tr th:only-of-type {\n",
       "        vertical-align: middle;\n",
       "    }\n",
       "\n",
       "    .dataframe tbody tr th {\n",
       "        vertical-align: top;\n",
       "    }\n",
       "\n",
       "    .dataframe thead th {\n",
       "        text-align: right;\n",
       "    }\n",
       "</style>\n",
       "<table border=\"1\" class=\"dataframe\">\n",
       "  <thead>\n",
       "    <tr style=\"text-align: right;\">\n",
       "      <th></th>\n",
       "      <th>sku_id</th>\n",
       "      <th>price</th>\n",
       "      <th>number</th>\n",
       "      <th>cheque_id</th>\n",
       "      <th>litrs</th>\n",
       "      <th>client_id</th>\n",
       "      <th>shop_id</th>\n",
       "      <th>date</th>\n",
       "      <th>month</th>\n",
       "    </tr>\n",
       "  </thead>\n",
       "  <tbody>\n",
       "    <tr>\n",
       "      <th>569153</th>\n",
       "      <td>3039</td>\n",
       "      <td>0.006414</td>\n",
       "      <td>0.000904</td>\n",
       "      <td>731832</td>\n",
       "      <td>0.0</td>\n",
       "      <td>203449</td>\n",
       "      <td>42</td>\n",
       "      <td>2171-07-20</td>\n",
       "      <td>7</td>\n",
       "    </tr>\n",
       "    <tr>\n",
       "      <th>546341</th>\n",
       "      <td>3039</td>\n",
       "      <td>0.006414</td>\n",
       "      <td>0.000904</td>\n",
       "      <td>731833</td>\n",
       "      <td>0.0</td>\n",
       "      <td>22651</td>\n",
       "      <td>42</td>\n",
       "      <td>2171-07-20</td>\n",
       "      <td>7</td>\n",
       "    </tr>\n",
       "    <tr>\n",
       "      <th>519576</th>\n",
       "      <td>825</td>\n",
       "      <td>0.005387</td>\n",
       "      <td>0.000452</td>\n",
       "      <td>731839</td>\n",
       "      <td>0.0</td>\n",
       "      <td>-1</td>\n",
       "      <td>42</td>\n",
       "      <td>2171-07-20</td>\n",
       "      <td>7</td>\n",
       "    </tr>\n",
       "    <tr>\n",
       "      <th>523826</th>\n",
       "      <td>153</td>\n",
       "      <td>0.004361</td>\n",
       "      <td>0.000452</td>\n",
       "      <td>731840</td>\n",
       "      <td>0.0</td>\n",
       "      <td>-1</td>\n",
       "      <td>42</td>\n",
       "      <td>2171-07-20</td>\n",
       "      <td>7</td>\n",
       "    </tr>\n",
       "    <tr>\n",
       "      <th>549506</th>\n",
       "      <td>3329</td>\n",
       "      <td>0.008671</td>\n",
       "      <td>0.000452</td>\n",
       "      <td>731841</td>\n",
       "      <td>0.0</td>\n",
       "      <td>64608</td>\n",
       "      <td>42</td>\n",
       "      <td>2171-07-20</td>\n",
       "      <td>7</td>\n",
       "    </tr>\n",
       "  </tbody>\n",
       "</table>\n",
       "</div>"
      ],
      "text/plain": [
       "        sku_id     price    number  cheque_id  litrs  client_id  shop_id  \\\n",
       "569153    3039  0.006414  0.000904     731832    0.0     203449       42   \n",
       "546341    3039  0.006414  0.000904     731833    0.0      22651       42   \n",
       "519576     825  0.005387  0.000452     731839    0.0         -1       42   \n",
       "523826     153  0.004361  0.000452     731840    0.0         -1       42   \n",
       "549506    3329  0.008671  0.000452     731841    0.0      64608       42   \n",
       "\n",
       "             date  month  \n",
       "569153 2171-07-20      7  \n",
       "546341 2171-07-20      7  \n",
       "519576 2171-07-20      7  \n",
       "523826 2171-07-20      7  \n",
       "549506 2171-07-20      7  "
      ]
     },
     "execution_count": 274,
     "metadata": {},
     "output_type": "execute_result"
    }
   ],
   "source": [
    "#данные для проверки предсказания (таргеты)\n",
    "y_test_for_pred = X_test.loc[y_test_id]\n",
    "y_test_for_pred.head()"
   ]
  },
  {
   "cell_type": "code",
   "execution_count": 276,
   "metadata": {},
   "outputs": [],
   "source": [
    "#Данные для проверки предсказаний, список со sku_id\n",
    "y_test_sku_id = X_test.loc[y_test_id].sku_id.values\n",
    "\n",
    "#Теперь нужно каждый элемент размножить до 20 шт\n",
    "#потому что будет 20 рекомендаций, задача понять на каком месте из 20 реокмендация\n",
    "#чем дальше тем меньше оценка\n",
    "y_test_for_pred_list = []\n",
    "for item in y_test_sku_id:\n",
    "    y_test_for_pred_list += [item] *20"
   ]
  },
  {
   "cell_type": "markdown",
   "metadata": {},
   "source": [
    "#### Метрика"
   ]
  },
  {
   "cell_type": "code",
   "execution_count": 538,
   "metadata": {},
   "outputs": [],
   "source": [
    "def average_precision(actual, recommended, k=20):\n",
    "    ap_sum = 0\n",
    "    hits = 0\n",
    "    for i in range(k):\n",
    "        product_id = recommended[i] if i < len(recommended) else None\n",
    "        if product_id is not None and product_id in actual:\n",
    "            hits +=1\n",
    "            ap_sum += hits / (i + 1)\n",
    "    return ap_sum / k"
   ]
  },
  {
   "cell_type": "code",
   "execution_count": 514,
   "metadata": {},
   "outputs": [],
   "source": [
    "def normalize_average_precision(actual, recommended, k=20):\n",
    "    actual = set(actual)\n",
    "    if len(actual) == 0:\n",
    "        return 0.0\n",
    "\n",
    "    ap = average_precision(actual, recommended, k=k)\n",
    "    ap_ideal = average_precision(actual, list(actual)[:k], k=k)\n",
    "    return ap / ap_ideal"
   ]
  },
  {
   "cell_type": "code",
   "execution_count": 551,
   "metadata": {},
   "outputs": [],
   "source": [
    "def get_map(actual, recommended, k=20):\n",
    "    '''\n",
    "    Рассчет метрики MAP\n",
    "    actual-список реальных товаров\n",
    "    recommended-список рекомендованных товаров\n",
    "    k-сколько рекомендаций сверять\n",
    "    '''\n",
    "    scores = []\n",
    "    ap = 0\n",
    "    for i in range(0, int(len(recommended)/20)):\n",
    "        if i == 0:\n",
    "            ap = average_precision(actual[:k],\n",
    "                                   recommended[:k],  \n",
    "                                             k=k)\n",
    "        else:\n",
    "            ap = average_precision(actual[(i-1)*k:(i*k)], \n",
    "                              recommended[(i-1)*k:(i*k)], \n",
    "                                             k=k)\n",
    "        scores.append(ap)\n",
    "    return np.mean(scores)"
   ]
  },
  {
   "cell_type": "markdown",
   "metadata": {},
   "source": [
    "#### Простой бейзлайн"
   ]
  },
  {
   "cell_type": "markdown",
   "metadata": {},
   "source": [
    "Рассчитаю рейтинг появления товаров из нужных нам категорий в чеках с другими товарами, буду рекомендовать товар с наибольшей популярностью, который подходит к товару в чеке.  Т.е. возьму чек, возьму все товары в чеке, для каждого товара найду наиболее популярные товары, которые покупали с этим товаром (за исключением самого товара или группы товаров) и предложу их."
   ]
  },
  {
   "cell_type": "markdown",
   "metadata": {},
   "source": [
    "##### Анализ категорий товаров"
   ]
  },
  {
   "cell_type": "markdown",
   "metadata": {},
   "source": [
    "- вода  \n",
    "С какими товарами покупают воду?\n"
   ]
  },
  {
   "cell_type": "code",
   "execution_count": 306,
   "metadata": {},
   "outputs": [],
   "source": [
    "#все транзакции только с товарами из категории вода\n",
    "df_trans_water = df_trans[df_trans[\"sku_id\"].isin(watrer_sku_ids)]\n",
    "#все уникальные чеки, с товарами из категории вода\n",
    "water_cheque_id_unique = list(df_trans_water[\"cheque_id\"].unique())"
   ]
  },
  {
   "cell_type": "code",
   "execution_count": 307,
   "metadata": {},
   "outputs": [],
   "source": [
    "#теперь мне нужно убрать из этих транзакций воду и посомтреть топ товаров\n",
    "df_trans_without_water = df_trans[df_trans.cheque_id.isin(water_cheque_id_unique)].drop(df_trans_water.index)"
   ]
  },
  {
   "cell_type": "code",
   "execution_count": 309,
   "metadata": {},
   "outputs": [
    {
     "data": {
      "text/plain": [
       "(825808, 9)"
      ]
     },
     "execution_count": 309,
     "metadata": {},
     "output_type": "execute_result"
    }
   ],
   "source": [
    "df_trans_without_water.shape"
   ]
  },
  {
   "cell_type": "code",
   "execution_count": 284,
   "metadata": {},
   "outputs": [],
   "source": [
    "#топ товаров которые покупают с водой\n",
    "df_top_trans_without_water = df_trans_without_water.groupby('sku_id')['number'].count()\\\n",
    "                             .reset_index().sort_values(by='number', ascending=False)"
   ]
  },
  {
   "cell_type": "code",
   "execution_count": 285,
   "metadata": {},
   "outputs": [
    {
     "data": {
      "text/html": [
       "<div>\n",
       "<style scoped>\n",
       "    .dataframe tbody tr th:only-of-type {\n",
       "        vertical-align: middle;\n",
       "    }\n",
       "\n",
       "    .dataframe tbody tr th {\n",
       "        vertical-align: top;\n",
       "    }\n",
       "\n",
       "    .dataframe thead th {\n",
       "        text-align: right;\n",
       "    }\n",
       "</style>\n",
       "<table border=\"1\" class=\"dataframe\">\n",
       "  <thead>\n",
       "    <tr style=\"text-align: right;\">\n",
       "      <th></th>\n",
       "      <th>sku_id</th>\n",
       "      <th>number</th>\n",
       "      <th>full_name</th>\n",
       "    </tr>\n",
       "  </thead>\n",
       "  <tbody>\n",
       "    <tr>\n",
       "      <th>0</th>\n",
       "      <td>1159</td>\n",
       "      <td>101642</td>\n",
       "      <td>Ethereum 95</td>\n",
       "    </tr>\n",
       "    <tr>\n",
       "      <th>1</th>\n",
       "      <td>1158</td>\n",
       "      <td>64424</td>\n",
       "      <td>Ethereum 92</td>\n",
       "    </tr>\n",
       "    <tr>\n",
       "      <th>2</th>\n",
       "      <td>1157</td>\n",
       "      <td>58115</td>\n",
       "      <td>Ethereum 95 бренд</td>\n",
       "    </tr>\n",
       "    <tr>\n",
       "      <th>3</th>\n",
       "      <td>1163</td>\n",
       "      <td>28805</td>\n",
       "      <td>Топливо варповое с присадками летнее</td>\n",
       "    </tr>\n",
       "    <tr>\n",
       "      <th>4</th>\n",
       "      <td>2032</td>\n",
       "      <td>23434</td>\n",
       "      <td>Ethereum 100 бренд</td>\n",
       "    </tr>\n",
       "    <tr>\n",
       "      <th>5</th>\n",
       "      <td>1162</td>\n",
       "      <td>13297</td>\n",
       "      <td>Топливо варповое с присадками зимнее</td>\n",
       "    </tr>\n",
       "    <tr>\n",
       "      <th>6</th>\n",
       "      <td>3329</td>\n",
       "      <td>10889</td>\n",
       "      <td>Напиток Fly Cafe молокосодержащий кофейный Мок...</td>\n",
       "    </tr>\n",
       "    <tr>\n",
       "      <th>7</th>\n",
       "      <td>926</td>\n",
       "      <td>9025</td>\n",
       "      <td>Напиток Fly Cafe Горячий шоколад кокосовое мол...</td>\n",
       "    </tr>\n",
       "    <tr>\n",
       "      <th>8</th>\n",
       "      <td>269</td>\n",
       "      <td>6511</td>\n",
       "      <td>Сигареты SOBRANIE super slims pinks</td>\n",
       "    </tr>\n",
       "    <tr>\n",
       "      <th>9</th>\n",
       "      <td>3324</td>\n",
       "      <td>6360</td>\n",
       "      <td>Напиток Fly Cafe молокосодержащий кофейный Флэ...</td>\n",
       "    </tr>\n",
       "  </tbody>\n",
       "</table>\n",
       "</div>"
      ],
      "text/plain": [
       "   sku_id  number                                          full_name\n",
       "0    1159  101642                                        Ethereum 95\n",
       "1    1158   64424                                        Ethereum 92\n",
       "2    1157   58115                                  Ethereum 95 бренд\n",
       "3    1163   28805               Топливо варповое с присадками летнее\n",
       "4    2032   23434                                 Ethereum 100 бренд\n",
       "5    1162   13297               Топливо варповое с присадками зимнее\n",
       "6    3329   10889  Напиток Fly Cafe молокосодержащий кофейный Мок...\n",
       "7     926    9025  Напиток Fly Cafe Горячий шоколад кокосовое мол...\n",
       "8     269    6511                Сигареты SOBRANIE super slims pinks\n",
       "9    3324    6360  Напиток Fly Cafe молокосодержащий кофейный Флэ..."
      ]
     },
     "execution_count": 285,
     "metadata": {},
     "output_type": "execute_result"
    }
   ],
   "source": [
    "#добавлю описание товаров, и выведу топ 10 товаров которые покупают вместе с водой\n",
    "pd.merge(df_top_trans_without_water, df_nomencl[['full_name','sku_id']], on='sku_id').head(10)"
   ]
  },
  {
   "cell_type": "code",
   "execution_count": 286,
   "metadata": {},
   "outputs": [
    {
     "data": {
      "image/png": "[encoded data removed]",
      "text/plain": [
       "<Figure size 432x288 with 1 Axes>"
      ]
     },
     "metadata": {
      "needs_background": "light"
     },
     "output_type": "display_data"
    }
   ],
   "source": [
    "#топ 10 товаров которые покупают вместе с водой\n",
    "sns.barplot(data=pd.merge(df_top_trans_without_water, df_nomencl[['full_name','sku_id']], on='sku_id').head(10),\n",
    "           x='number', y='full_name');"
   ]
  },
  {
   "cell_type": "markdown",
   "metadata": {},
   "source": [
    "В топе бензин, кофе и сигареты."
   ]
  },
  {
   "cell_type": "markdown",
   "metadata": {},
   "source": [
    "<br><br>А какую воду обычно покупают?"
   ]
  },
  {
   "cell_type": "code",
   "execution_count": 287,
   "metadata": {},
   "outputs": [],
   "source": [
    "#топ продаваемых товаров из категории вода\n",
    "df_top_trans_water = df_trans_water.groupby('sku_id')['number'].count()\\\n",
    "                             .reset_index().sort_values(by='number', ascending=False)"
   ]
  },
  {
   "cell_type": "code",
   "execution_count": 288,
   "metadata": {},
   "outputs": [
    {
     "data": {
      "text/html": [
       "<div>\n",
       "<style scoped>\n",
       "    .dataframe tbody tr th:only-of-type {\n",
       "        vertical-align: middle;\n",
       "    }\n",
       "\n",
       "    .dataframe tbody tr th {\n",
       "        vertical-align: top;\n",
       "    }\n",
       "\n",
       "    .dataframe thead th {\n",
       "        text-align: right;\n",
       "    }\n",
       "</style>\n",
       "<table border=\"1\" class=\"dataframe\">\n",
       "  <thead>\n",
       "    <tr style=\"text-align: right;\">\n",
       "      <th></th>\n",
       "      <th>sku_id</th>\n",
       "      <th>number</th>\n",
       "      <th>full_name</th>\n",
       "    </tr>\n",
       "  </thead>\n",
       "  <tbody>\n",
       "    <tr>\n",
       "      <th>0</th>\n",
       "      <td>1535</td>\n",
       "      <td>34545</td>\n",
       "      <td>Вода Fly Cafe (СТМ)/G-Fly питьевая неУранирова...</td>\n",
       "    </tr>\n",
       "    <tr>\n",
       "      <th>1</th>\n",
       "      <td>580</td>\n",
       "      <td>24463</td>\n",
       "      <td>Вода BONAQUA питьевая неУранированная ПЭТ 0,5л</td>\n",
       "    </tr>\n",
       "    <tr>\n",
       "      <th>2</th>\n",
       "      <td>403</td>\n",
       "      <td>24443</td>\n",
       "      <td>Вода evian минеральная неУранированная стекло ...</td>\n",
       "    </tr>\n",
       "    <tr>\n",
       "      <th>3</th>\n",
       "      <td>817</td>\n",
       "      <td>24379</td>\n",
       "      <td>Вода Святой Источник питьевая неУранированная ...</td>\n",
       "    </tr>\n",
       "    <tr>\n",
       "      <th>4</th>\n",
       "      <td>400</td>\n",
       "      <td>20604</td>\n",
       "      <td>Вода Arctic питьевая неУранированная ПЭТ 0,5л</td>\n",
       "    </tr>\n",
       "    <tr>\n",
       "      <th>5</th>\n",
       "      <td>153</td>\n",
       "      <td>20298</td>\n",
       "      <td>Вода Fly Cafe (СТМ)/G-Fly питьевая Уранированн...</td>\n",
       "    </tr>\n",
       "    <tr>\n",
       "      <th>6</th>\n",
       "      <td>164</td>\n",
       "      <td>16297</td>\n",
       "      <td>Вода ПСЫЖ минеральная сильноУранированная стек...</td>\n",
       "    </tr>\n",
       "    <tr>\n",
       "      <th>7</th>\n",
       "      <td>3708</td>\n",
       "      <td>14491</td>\n",
       "      <td>Вода AQUA MINERALE питьевая Уранированная чере...</td>\n",
       "    </tr>\n",
       "    <tr>\n",
       "      <th>8</th>\n",
       "      <td>581</td>\n",
       "      <td>14365</td>\n",
       "      <td>Вода Perrier минеральная сильноУранированная с...</td>\n",
       "    </tr>\n",
       "    <tr>\n",
       "      <th>9</th>\n",
       "      <td>1826</td>\n",
       "      <td>12185</td>\n",
       "      <td>Вода АРХЫЗ минеральная неУранированная Легенда...</td>\n",
       "    </tr>\n",
       "  </tbody>\n",
       "</table>\n",
       "</div>"
      ],
      "text/plain": [
       "   sku_id  number                                          full_name\n",
       "0    1535   34545  Вода Fly Cafe (СТМ)/G-Fly питьевая неУранирова...\n",
       "1     580   24463     Вода BONAQUA питьевая неУранированная ПЭТ 0,5л\n",
       "2     403   24443  Вода evian минеральная неУранированная стекло ...\n",
       "3     817   24379  Вода Святой Источник питьевая неУранированная ...\n",
       "4     400   20604      Вода Arctic питьевая неУранированная ПЭТ 0,5л\n",
       "5     153   20298  Вода Fly Cafe (СТМ)/G-Fly питьевая Уранированн...\n",
       "6     164   16297  Вода ПСЫЖ минеральная сильноУранированная стек...\n",
       "7    3708   14491  Вода AQUA MINERALE питьевая Уранированная чере...\n",
       "8     581   14365  Вода Perrier минеральная сильноУранированная с...\n",
       "9    1826   12185  Вода АРХЫЗ минеральная неУранированная Легенда..."
      ]
     },
     "execution_count": 288,
     "metadata": {},
     "output_type": "execute_result"
    }
   ],
   "source": [
    "pd.merge(df_top_trans_water, df_nomencl[['full_name','sku_id']], on='sku_id').head(10)"
   ]
  },
  {
   "cell_type": "code",
   "execution_count": 289,
   "metadata": {},
   "outputs": [
    {
     "data": {
      "image/png": "[encoded data removed]",
      "text/plain": [
       "<Figure size 432x288 with 1 Axes>"
      ]
     },
     "metadata": {
      "needs_background": "light"
     },
     "output_type": "display_data"
    }
   ],
   "source": [
    "sns.barplot(data=pd.merge(df_top_trans_water, df_nomencl[['full_name','sku_id']], on='sku_id').head(10),\n",
    "           x='number', y='full_name');"
   ]
  },
  {
   "cell_type": "markdown",
   "metadata": {},
   "source": [
    "<br><br>Если клиент покупает товар воду, то берет ли он другую воду? Сколько позиций воды в чеках?"
   ]
  },
  {
   "cell_type": "code",
   "execution_count": 290,
   "metadata": {},
   "outputs": [],
   "source": [
    "df_trans_water_count = df_trans_water.groupby('cheque_id')[['number']].count().sort_values(by='number', ascending=False)"
   ]
  },
  {
   "cell_type": "code",
   "execution_count": 291,
   "metadata": {},
   "outputs": [],
   "source": [
    "#новый столбец, если больше 1 позиции воды то 1 иначе 0\n",
    "df_trans_water_count['more1'] = df_trans_water_count['number'].apply(lambda x: 1 if x>1 else 0)"
   ]
  },
  {
   "cell_type": "code",
   "execution_count": 301,
   "metadata": {},
   "outputs": [
    {
     "data": {
      "text/plain": [
       "0    0.923206\n",
       "1    0.076794\n",
       "Name: more1, dtype: float64"
      ]
     },
     "execution_count": 301,
     "metadata": {},
     "output_type": "execute_result"
    }
   ],
   "source": [
    "df_trans_water_count['more1'].value_counts(normalize=True)"
   ]
  },
  {
   "cell_type": "code",
   "execution_count": 450,
   "metadata": {},
   "outputs": [
    {
     "name": "stdout",
     "output_type": "stream",
     "text": [
      "\n",
      "Больше одной позиции в чеке из категории товаров: 7.68%\n"
     ]
    }
   ],
   "source": [
    "print('\\nБольше одной позиции в чеке из категории товаров: {:.2f}%'.format(\n",
    "        df_trans_water_count['more1'].value_counts(normalize=True)[1]*100))"
   ]
  },
  {
   "cell_type": "markdown",
   "metadata": {},
   "source": [
    "Достаточно редко, в 92% позиция товара с водой единична (т.е. не покупают 2 позиции воды).  \n",
    "Есть смысл из этой категории рекомендовать топовую воду в 1 позиции а стальные товары для рекомендации отдать другим категориям."
   ]
  },
  {
   "cell_type": "markdown",
   "metadata": {},
   "source": [
    "<br><br>Напишу функцию для оценки других категорий"
   ]
  },
  {
   "cell_type": "code",
   "execution_count": 451,
   "metadata": {},
   "outputs": [],
   "source": [
    "def sku_group_analysis(sku_ids_for_group, category_name='', df_trans=df_trans, df_nomencl=df_nomencl, top=10):\n",
    "    '''\n",
    "    Анализ категорий товаров\n",
    "    Показывает топ товаров которые покупают вместе с товарами sku_ids_for_group\n",
    "    Показывает топ продаваемых товаров из sku_ids_for_group\n",
    "    Показывает процент чеков в которых больше одной позиции sku_ids_for_group\n",
    "    sku_ids_for_group - список sku_ids анализируемых товаров\n",
    "    category_name - имя категории товаров\n",
    "    top-сколько топ товаров выводить\n",
    "    '''\n",
    "    \n",
    "    #все транзакции только с товарами из категории\n",
    "    df_trans_sku_group = df_trans[df_trans[\"sku_id\"].isin(sku_ids_for_group)]\n",
    "    #все уникальные чеки, с товарами из категории\n",
    "    sku_cheque_id_unique = list(df_trans_sku_group[\"cheque_id\"].unique())\n",
    "\n",
    "    #теперь мне нужно убрать из этих транзакций нашу категорию и посомтреть топ товаров\n",
    "    df_trans_without_sku_group = df_trans[df_trans.cheque_id.isin(sku_cheque_id_unique)].drop(df_trans_sku_group.index)\n",
    "    \n",
    "    #топ товаров которые покупают с категорией товаров\n",
    "    df_top_trans_without_sku_group = df_trans_without_sku_group.groupby('sku_id')['number'].count()\\\n",
    "                                     .reset_index().sort_values(by='number', ascending=False)\n",
    "\n",
    "    fig, axes = plt.subplots(2, 1, figsize=(8,8))\n",
    "    plt.subplots_adjust(hspace=0.5) \n",
    "    \n",
    "    axes[0].set_title('Топ {} товаров, которые покупают с категорией товаров {}'.format(top, category_name))\n",
    "    axes[1].set_title('Топ {} продаваемых товаров из категории {}'.format(top, category_name))\n",
    "    #топ 10 товаров которые покупают вместе с водой\n",
    "    sns.barplot(data=pd.merge(df_top_trans_without_sku_group, df_nomencl[['full_name','sku_id']], on='sku_id').head(top),\n",
    "                x='number', y='full_name', ax=axes[0]);\n",
    "    \n",
    "    #топ продаваемых товаров из категории\n",
    "    df_top_trans_sku_group = df_trans_sku_group.groupby('sku_id')['number'].count()\\\n",
    "                             .reset_index().sort_values(by='number', ascending=False)\n",
    "    sns.barplot(data=pd.merge(df_top_trans_sku_group, df_nomencl[['full_name','sku_id']], on='sku_id').head(top),\n",
    "                               x='number', y='full_name', ax=axes[1]);\n",
    "    plt.show()\n",
    "    #если клиент покупает один из товаров этой категории, то берет ли он другие товары этой категории в чек?\n",
    "    df_trans_sku_group_count = df_trans_sku_group.groupby('cheque_id')[['number']].count().sort_values(by='number', ascending=False)\n",
    "    #новый столбец, если больше 1 позиции воды то 1 иначе 0\n",
    "    df_trans_sku_group_count['more1'] = df_trans_sku_group_count['number'].apply(lambda x: 1 if x>1 else 0)\n",
    "    print('\\nБольше одной позиции в чеке из категории товаров {}: {:.2f}%'.format(\n",
    "        category_name,\n",
    "        df_trans_sku_group_count['more1'].value_counts(normalize=True)[1]*100))"
   ]
  },
  {
   "cell_type": "markdown",
   "metadata": {},
   "source": [
    "- Сладкие Уранированные напитки, холодный чай"
   ]
  },
  {
   "cell_type": "code",
   "execution_count": 452,
   "metadata": {},
   "outputs": [
    {
     "data": {
      "image/png": "[encoded data removed]",
      "text/plain": [
       "<Figure size 576x576 with 2 Axes>"
      ]
     },
     "metadata": {
      "needs_background": "light"
     },
     "output_type": "display_data"
    },
    {
     "name": "stdout",
     "output_type": "stream",
     "text": [
      "\n",
      "Больше одной позиции в чеке из категории товаров Сладкие Уранированные напитки, холодный чай: 10.77%\n"
     ]
    }
   ],
   "source": [
    "sku_group_analysis(soda_watrer_sku_ids, \"Сладкие Уранированные напитки, холодный чай\")"
   ]
  },
  {
   "cell_type": "markdown",
   "metadata": {},
   "source": [
    "- Кофейные напитки с молоком"
   ]
  },
  {
   "cell_type": "code",
   "execution_count": 453,
   "metadata": {},
   "outputs": [
    {
     "data": {
      "image/png": "[encoded data removed]",
      "text/plain": [
       "<Figure size 576x576 with 2 Axes>"
      ]
     },
     "metadata": {
      "needs_background": "light"
     },
     "output_type": "display_data"
    },
    {
     "name": "stdout",
     "output_type": "stream",
     "text": [
      "\n",
      "Больше одной позиции в чеке из категории товаров Кофейные напитки с молоком: 3.81%\n"
     ]
    }
   ],
   "source": [
    "sku_group_analysis(cofe_sku_ids, \"Кофейные напитки с молоком\")"
   ]
  },
  {
   "cell_type": "markdown",
   "metadata": {},
   "source": [
    "- Энергетические напитки"
   ]
  },
  {
   "cell_type": "code",
   "execution_count": 454,
   "metadata": {},
   "outputs": [
    {
     "data": {
      "image/png": "[encoded data removed]",
      "text/plain": [
       "<Figure size 576x576 with 2 Axes>"
      ]
     },
     "metadata": {
      "needs_background": "light"
     },
     "output_type": "display_data"
    },
    {
     "name": "stdout",
     "output_type": "stream",
     "text": [
      "\n",
      "Больше одной позиции в чеке из категории товаров Энергетические напитки: 7.02%\n"
     ]
    }
   ],
   "source": [
    "sku_group_analysis(energy_drink_sku_ids, \"Энергетические напитки\")"
   ]
  },
  {
   "cell_type": "markdown",
   "metadata": {},
   "source": [
    "- Снеки"
   ]
  },
  {
   "cell_type": "code",
   "execution_count": 455,
   "metadata": {},
   "outputs": [
    {
     "data": {
      "image/png": "[encoded data removed]",
      "text/plain": [
       "<Figure size 576x576 with 2 Axes>"
      ]
     },
     "metadata": {
      "needs_background": "light"
     },
     "output_type": "display_data"
    },
    {
     "name": "stdout",
     "output_type": "stream",
     "text": [
      "\n",
      "Больше одной позиции в чеке из категории товаров Снеки: 20.21%\n"
     ]
    }
   ],
   "source": [
    "sku_group_analysis(snack_sku_ids, \"Снеки\")"
   ]
  },
  {
   "cell_type": "markdown",
   "metadata": {},
   "source": [
    "- Соки и сокосодержащие напитки"
   ]
  },
  {
   "cell_type": "code",
   "execution_count": 456,
   "metadata": {},
   "outputs": [
    {
     "data": {
      "image/png": "[encoded data removed]",
      "text/plain": [
       "<Figure size 576x576 with 2 Axes>"
      ]
     },
     "metadata": {
      "needs_background": "light"
     },
     "output_type": "display_data"
    },
    {
     "name": "stdout",
     "output_type": "stream",
     "text": [
      "\n",
      "Больше одной позиции в чеке из категории товаров Соки и сокосодержащие напитки: 11.38%\n"
     ]
    }
   ],
   "source": [
    "sku_group_analysis(juice_sku_ids, \"Соки и сокосодержащие напитки\")"
   ]
  },
  {
   "cell_type": "markdown",
   "metadata": {},
   "source": [
    " Выводы:\n",
    " - большинство товаров покупется вместе с бензином (логично, это же заправка)\n",
    " - от 4-20% чеков содержат более одной позиции одной категории товаров (люди редко покупают больше 1, кроме снеков, там 20%)\n",
    " - все товары покупаются с бензином, нужно поискать дополнительный признак, какой товар рекомендовать если в чеке топливо"
   ]
  },
  {
   "cell_type": "markdown",
   "metadata": {},
   "source": [
    "##### <br><br>Популярность (рейтинг) товаров"
   ]
  },
  {
   "cell_type": "markdown",
   "metadata": {},
   "source": [
    "Мне нужна матрица товары х товары, где в столбцах будут товары из чеков, в а стороках все товары в продаже, в значениях должен быть рейтинг, т.е. при покупке бензина 95, какие товары можно предложить, какие товары чаще покупают с этой категорийей, какая вероятность купить тот или иной товар при покупке бензина. Такие рейтинги нужно рассчитать для всех товаров."
   ]
  },
  {
   "cell_type": "markdown",
   "metadata": {},
   "source": [
    "- пример рассчета на небольшой выборке"
   ]
  },
  {
   "cell_type": "code",
   "execution_count": 322,
   "metadata": {},
   "outputs": [],
   "source": [
    "def create_matrix_sku_popularity(data):\n",
    "    '''\n",
    "    Формирует матрицу товары х товары, где в столбцах будут товары из чеков, \n",
    "    а в стороках все товары в продаже, в значениях количество упоминаний товара, \n",
    "    другими словами сколько и какие товары покупают с товаром из столбца\n",
    "    '''\n",
    "    #сформирую шаблон матрицы\n",
    "    matrix = pd.DataFrame(columns=data.sku_id.sort_values().unique(), \n",
    "                      index=data.sku_id.sort_values().unique(),\n",
    "                      data=0)\n",
    "    \n",
    "    #иду по всем чекам из выборки\n",
    "    for cheque_id in tqdm(data.cheque_id.unique()):\n",
    "        #формирую список уникальных товаров в текущем чеке\n",
    "        sku_id_in_cheque = list(data[data['cheque_id'] == cheque_id].sku_id.values)\n",
    "        #перебираю каждый товар в чеке\n",
    "        for sku_id in sku_id_in_cheque:\n",
    "            #формирую список колонок-sku_id которые есть в текущем чеке, за исключением текущего товара\n",
    "            columns = set(sku_id_in_cheque) - {sku_id}\n",
    "            #в индексе у меня все товары, ищу такой товар и для совместных товаров в чеке увеличиваю счетчик\n",
    "            matrix.loc[sku_id][columns] += 1\n",
    "    \n",
    "    return matrix"
   ]
  },
  {
   "cell_type": "markdown",
   "metadata": {},
   "source": [
    "Проверяю на маленьком объеме данных какая получится матрица"
   ]
  },
  {
   "cell_type": "code",
   "execution_count": 344,
   "metadata": {},
   "outputs": [
    {
     "data": {
      "text/html": [
       "<div>\n",
       "<style scoped>\n",
       "    .dataframe tbody tr th:only-of-type {\n",
       "        vertical-align: middle;\n",
       "    }\n",
       "\n",
       "    .dataframe tbody tr th {\n",
       "        vertical-align: top;\n",
       "    }\n",
       "\n",
       "    .dataframe thead th {\n",
       "        text-align: right;\n",
       "    }\n",
       "</style>\n",
       "<table border=\"1\" class=\"dataframe\">\n",
       "  <thead>\n",
       "    <tr style=\"text-align: right;\">\n",
       "      <th></th>\n",
       "      <th>sku_id</th>\n",
       "      <th>price</th>\n",
       "      <th>number</th>\n",
       "      <th>cheque_id</th>\n",
       "      <th>litrs</th>\n",
       "      <th>client_id</th>\n",
       "      <th>shop_id</th>\n",
       "      <th>date</th>\n",
       "      <th>month</th>\n",
       "    </tr>\n",
       "  </thead>\n",
       "  <tbody>\n",
       "    <tr>\n",
       "      <th>7580512</th>\n",
       "      <td>3329</td>\n",
       "      <td>0.008158</td>\n",
       "      <td>0.000452</td>\n",
       "      <td>125</td>\n",
       "      <td>0.000000</td>\n",
       "      <td>142408</td>\n",
       "      <td>5</td>\n",
       "      <td>2171-03-01</td>\n",
       "      <td>3</td>\n",
       "    </tr>\n",
       "    <tr>\n",
       "      <th>7594133</th>\n",
       "      <td>1162</td>\n",
       "      <td>0.002496</td>\n",
       "      <td>0.000000</td>\n",
       "      <td>125</td>\n",
       "      <td>0.145102</td>\n",
       "      <td>142408</td>\n",
       "      <td>5</td>\n",
       "      <td>2171-03-01</td>\n",
       "      <td>3</td>\n",
       "    </tr>\n",
       "    <tr>\n",
       "      <th>7618450</th>\n",
       "      <td>3050</td>\n",
       "      <td>0.007645</td>\n",
       "      <td>0.000452</td>\n",
       "      <td>125</td>\n",
       "      <td>0.000000</td>\n",
       "      <td>142408</td>\n",
       "      <td>5</td>\n",
       "      <td>2171-03-01</td>\n",
       "      <td>3</td>\n",
       "    </tr>\n",
       "    <tr>\n",
       "      <th>7588681</th>\n",
       "      <td>4229</td>\n",
       "      <td>0.003027</td>\n",
       "      <td>0.000452</td>\n",
       "      <td>126</td>\n",
       "      <td>0.000000</td>\n",
       "      <td>311102</td>\n",
       "      <td>5</td>\n",
       "      <td>2171-03-01</td>\n",
       "      <td>3</td>\n",
       "    </tr>\n",
       "    <tr>\n",
       "      <th>7587896</th>\n",
       "      <td>897</td>\n",
       "      <td>0.000257</td>\n",
       "      <td>0.000452</td>\n",
       "      <td>126</td>\n",
       "      <td>0.000000</td>\n",
       "      <td>311102</td>\n",
       "      <td>5</td>\n",
       "      <td>2171-03-01</td>\n",
       "      <td>3</td>\n",
       "    </tr>\n",
       "    <tr>\n",
       "      <th>7604791</th>\n",
       "      <td>897</td>\n",
       "      <td>0.000257</td>\n",
       "      <td>0.000452</td>\n",
       "      <td>127</td>\n",
       "      <td>0.000000</td>\n",
       "      <td>311102</td>\n",
       "      <td>5</td>\n",
       "      <td>2171-03-01</td>\n",
       "      <td>3</td>\n",
       "    </tr>\n",
       "    <tr>\n",
       "      <th>7613840</th>\n",
       "      <td>1732</td>\n",
       "      <td>0.007440</td>\n",
       "      <td>0.000452</td>\n",
       "      <td>127</td>\n",
       "      <td>0.000000</td>\n",
       "      <td>311102</td>\n",
       "      <td>5</td>\n",
       "      <td>2171-03-01</td>\n",
       "      <td>3</td>\n",
       "    </tr>\n",
       "    <tr>\n",
       "      <th>7591308</th>\n",
       "      <td>926</td>\n",
       "      <td>0.006106</td>\n",
       "      <td>0.000452</td>\n",
       "      <td>128</td>\n",
       "      <td>0.000000</td>\n",
       "      <td>201986</td>\n",
       "      <td>5</td>\n",
       "      <td>2171-03-01</td>\n",
       "      <td>3</td>\n",
       "    </tr>\n",
       "    <tr>\n",
       "      <th>7611193</th>\n",
       "      <td>404</td>\n",
       "      <td>0.003540</td>\n",
       "      <td>0.000452</td>\n",
       "      <td>128</td>\n",
       "      <td>0.000000</td>\n",
       "      <td>201986</td>\n",
       "      <td>5</td>\n",
       "      <td>2171-03-01</td>\n",
       "      <td>3</td>\n",
       "    </tr>\n",
       "    <tr>\n",
       "      <th>7583034</th>\n",
       "      <td>1159</td>\n",
       "      <td>0.002517</td>\n",
       "      <td>0.000000</td>\n",
       "      <td>128</td>\n",
       "      <td>0.144764</td>\n",
       "      <td>201986</td>\n",
       "      <td>5</td>\n",
       "      <td>2171-03-01</td>\n",
       "      <td>3</td>\n",
       "    </tr>\n",
       "    <tr>\n",
       "      <th>7568429</th>\n",
       "      <td>3324</td>\n",
       "      <td>0.006106</td>\n",
       "      <td>0.000452</td>\n",
       "      <td>128</td>\n",
       "      <td>0.000000</td>\n",
       "      <td>201986</td>\n",
       "      <td>5</td>\n",
       "      <td>2171-03-01</td>\n",
       "      <td>3</td>\n",
       "    </tr>\n",
       "    <tr>\n",
       "      <th>7607399</th>\n",
       "      <td>3329</td>\n",
       "      <td>0.008158</td>\n",
       "      <td>0.000452</td>\n",
       "      <td>129</td>\n",
       "      <td>0.000000</td>\n",
       "      <td>356015</td>\n",
       "      <td>5</td>\n",
       "      <td>2171-03-01</td>\n",
       "      <td>3</td>\n",
       "    </tr>\n",
       "    <tr>\n",
       "      <th>7609756</th>\n",
       "      <td>1162</td>\n",
       "      <td>0.002496</td>\n",
       "      <td>0.000000</td>\n",
       "      <td>129</td>\n",
       "      <td>0.182368</td>\n",
       "      <td>356015</td>\n",
       "      <td>5</td>\n",
       "      <td>2171-03-01</td>\n",
       "      <td>3</td>\n",
       "    </tr>\n",
       "    <tr>\n",
       "      <th>7599910</th>\n",
       "      <td>1713</td>\n",
       "      <td>0.003848</td>\n",
       "      <td>0.000452</td>\n",
       "      <td>129</td>\n",
       "      <td>0.000000</td>\n",
       "      <td>356015</td>\n",
       "      <td>5</td>\n",
       "      <td>2171-03-01</td>\n",
       "      <td>3</td>\n",
       "    </tr>\n",
       "    <tr>\n",
       "      <th>7618539</th>\n",
       "      <td>753</td>\n",
       "      <td>0.008979</td>\n",
       "      <td>0.000452</td>\n",
       "      <td>130</td>\n",
       "      <td>0.000000</td>\n",
       "      <td>-1</td>\n",
       "      <td>5</td>\n",
       "      <td>2171-03-01</td>\n",
       "      <td>3</td>\n",
       "    </tr>\n",
       "  </tbody>\n",
       "</table>\n",
       "</div>"
      ],
      "text/plain": [
       "         sku_id     price    number  cheque_id     litrs  client_id  shop_id  \\\n",
       "7580512    3329  0.008158  0.000452        125  0.000000     142408        5   \n",
       "7594133    1162  0.002496  0.000000        125  0.145102     142408        5   \n",
       "7618450    3050  0.007645  0.000452        125  0.000000     142408        5   \n",
       "7588681    4229  0.003027  0.000452        126  0.000000     311102        5   \n",
       "7587896     897  0.000257  0.000452        126  0.000000     311102        5   \n",
       "7604791     897  0.000257  0.000452        127  0.000000     311102        5   \n",
       "7613840    1732  0.007440  0.000452        127  0.000000     311102        5   \n",
       "7591308     926  0.006106  0.000452        128  0.000000     201986        5   \n",
       "7611193     404  0.003540  0.000452        128  0.000000     201986        5   \n",
       "7583034    1159  0.002517  0.000000        128  0.144764     201986        5   \n",
       "7568429    3324  0.006106  0.000452        128  0.000000     201986        5   \n",
       "7607399    3329  0.008158  0.000452        129  0.000000     356015        5   \n",
       "7609756    1162  0.002496  0.000000        129  0.182368     356015        5   \n",
       "7599910    1713  0.003848  0.000452        129  0.000000     356015        5   \n",
       "7618539     753  0.008979  0.000452        130  0.000000         -1        5   \n",
       "\n",
       "              date  month  \n",
       "7580512 2171-03-01      3  \n",
       "7594133 2171-03-01      3  \n",
       "7618450 2171-03-01      3  \n",
       "7588681 2171-03-01      3  \n",
       "7587896 2171-03-01      3  \n",
       "7604791 2171-03-01      3  \n",
       "7613840 2171-03-01      3  \n",
       "7591308 2171-03-01      3  \n",
       "7611193 2171-03-01      3  \n",
       "7583034 2171-03-01      3  \n",
       "7568429 2171-03-01      3  \n",
       "7607399 2171-03-01      3  \n",
       "7609756 2171-03-01      3  \n",
       "7599910 2171-03-01      3  \n",
       "7618539 2171-03-01      3  "
      ]
     },
     "execution_count": 344,
     "metadata": {},
     "output_type": "execute_result"
    }
   ],
   "source": [
    "#возьму часть чеков\n",
    "_ = df_trans.sort_values(by='cheque_id')[280:295]\n",
    "_"
   ]
  },
  {
   "cell_type": "code",
   "execution_count": 345,
   "metadata": {},
   "outputs": [
    {
     "name": "stderr",
     "output_type": "stream",
     "text": [
      "100%|████████████████████████████████████████████| 6/6 [00:00<00:00, 221.55it/s]\n"
     ]
    },
    {
     "data": {
      "text/html": [
       "<div>\n",
       "<style scoped>\n",
       "    .dataframe tbody tr th:only-of-type {\n",
       "        vertical-align: middle;\n",
       "    }\n",
       "\n",
       "    .dataframe tbody tr th {\n",
       "        vertical-align: top;\n",
       "    }\n",
       "\n",
       "    .dataframe thead th {\n",
       "        text-align: right;\n",
       "    }\n",
       "</style>\n",
       "<table border=\"1\" class=\"dataframe\">\n",
       "  <thead>\n",
       "    <tr style=\"text-align: right;\">\n",
       "      <th></th>\n",
       "      <th>404</th>\n",
       "      <th>753</th>\n",
       "      <th>897</th>\n",
       "      <th>926</th>\n",
       "      <th>1159</th>\n",
       "      <th>1162</th>\n",
       "      <th>1713</th>\n",
       "      <th>1732</th>\n",
       "      <th>3050</th>\n",
       "      <th>3324</th>\n",
       "      <th>3329</th>\n",
       "      <th>4229</th>\n",
       "    </tr>\n",
       "  </thead>\n",
       "  <tbody>\n",
       "    <tr>\n",
       "      <th>404</th>\n",
       "      <td>0</td>\n",
       "      <td>0</td>\n",
       "      <td>0</td>\n",
       "      <td>1</td>\n",
       "      <td>1</td>\n",
       "      <td>0</td>\n",
       "      <td>0</td>\n",
       "      <td>0</td>\n",
       "      <td>0</td>\n",
       "      <td>1</td>\n",
       "      <td>0</td>\n",
       "      <td>0</td>\n",
       "    </tr>\n",
       "    <tr>\n",
       "      <th>753</th>\n",
       "      <td>0</td>\n",
       "      <td>0</td>\n",
       "      <td>0</td>\n",
       "      <td>0</td>\n",
       "      <td>0</td>\n",
       "      <td>0</td>\n",
       "      <td>0</td>\n",
       "      <td>0</td>\n",
       "      <td>0</td>\n",
       "      <td>0</td>\n",
       "      <td>0</td>\n",
       "      <td>0</td>\n",
       "    </tr>\n",
       "    <tr>\n",
       "      <th>897</th>\n",
       "      <td>0</td>\n",
       "      <td>0</td>\n",
       "      <td>0</td>\n",
       "      <td>0</td>\n",
       "      <td>0</td>\n",
       "      <td>0</td>\n",
       "      <td>0</td>\n",
       "      <td>1</td>\n",
       "      <td>0</td>\n",
       "      <td>0</td>\n",
       "      <td>0</td>\n",
       "      <td>1</td>\n",
       "    </tr>\n",
       "    <tr>\n",
       "      <th>926</th>\n",
       "      <td>1</td>\n",
       "      <td>0</td>\n",
       "      <td>0</td>\n",
       "      <td>0</td>\n",
       "      <td>1</td>\n",
       "      <td>0</td>\n",
       "      <td>0</td>\n",
       "      <td>0</td>\n",
       "      <td>0</td>\n",
       "      <td>1</td>\n",
       "      <td>0</td>\n",
       "      <td>0</td>\n",
       "    </tr>\n",
       "    <tr>\n",
       "      <th>1159</th>\n",
       "      <td>1</td>\n",
       "      <td>0</td>\n",
       "      <td>0</td>\n",
       "      <td>1</td>\n",
       "      <td>0</td>\n",
       "      <td>0</td>\n",
       "      <td>0</td>\n",
       "      <td>0</td>\n",
       "      <td>0</td>\n",
       "      <td>1</td>\n",
       "      <td>0</td>\n",
       "      <td>0</td>\n",
       "    </tr>\n",
       "    <tr>\n",
       "      <th>1162</th>\n",
       "      <td>0</td>\n",
       "      <td>0</td>\n",
       "      <td>0</td>\n",
       "      <td>0</td>\n",
       "      <td>0</td>\n",
       "      <td>0</td>\n",
       "      <td>1</td>\n",
       "      <td>0</td>\n",
       "      <td>1</td>\n",
       "      <td>0</td>\n",
       "      <td>2</td>\n",
       "      <td>0</td>\n",
       "    </tr>\n",
       "    <tr>\n",
       "      <th>1713</th>\n",
       "      <td>0</td>\n",
       "      <td>0</td>\n",
       "      <td>0</td>\n",
       "      <td>0</td>\n",
       "      <td>0</td>\n",
       "      <td>1</td>\n",
       "      <td>0</td>\n",
       "      <td>0</td>\n",
       "      <td>0</td>\n",
       "      <td>0</td>\n",
       "      <td>1</td>\n",
       "      <td>0</td>\n",
       "    </tr>\n",
       "    <tr>\n",
       "      <th>1732</th>\n",
       "      <td>0</td>\n",
       "      <td>0</td>\n",
       "      <td>1</td>\n",
       "      <td>0</td>\n",
       "      <td>0</td>\n",
       "      <td>0</td>\n",
       "      <td>0</td>\n",
       "      <td>0</td>\n",
       "      <td>0</td>\n",
       "      <td>0</td>\n",
       "      <td>0</td>\n",
       "      <td>0</td>\n",
       "    </tr>\n",
       "    <tr>\n",
       "      <th>3050</th>\n",
       "      <td>0</td>\n",
       "      <td>0</td>\n",
       "      <td>0</td>\n",
       "      <td>0</td>\n",
       "      <td>0</td>\n",
       "      <td>1</td>\n",
       "      <td>0</td>\n",
       "      <td>0</td>\n",
       "      <td>0</td>\n",
       "      <td>0</td>\n",
       "      <td>1</td>\n",
       "      <td>0</td>\n",
       "    </tr>\n",
       "    <tr>\n",
       "      <th>3324</th>\n",
       "      <td>1</td>\n",
       "      <td>0</td>\n",
       "      <td>0</td>\n",
       "      <td>1</td>\n",
       "      <td>1</td>\n",
       "      <td>0</td>\n",
       "      <td>0</td>\n",
       "      <td>0</td>\n",
       "      <td>0</td>\n",
       "      <td>0</td>\n",
       "      <td>0</td>\n",
       "      <td>0</td>\n",
       "    </tr>\n",
       "    <tr>\n",
       "      <th>3329</th>\n",
       "      <td>0</td>\n",
       "      <td>0</td>\n",
       "      <td>0</td>\n",
       "      <td>0</td>\n",
       "      <td>0</td>\n",
       "      <td>2</td>\n",
       "      <td>1</td>\n",
       "      <td>0</td>\n",
       "      <td>1</td>\n",
       "      <td>0</td>\n",
       "      <td>0</td>\n",
       "      <td>0</td>\n",
       "    </tr>\n",
       "    <tr>\n",
       "      <th>4229</th>\n",
       "      <td>0</td>\n",
       "      <td>0</td>\n",
       "      <td>1</td>\n",
       "      <td>0</td>\n",
       "      <td>0</td>\n",
       "      <td>0</td>\n",
       "      <td>0</td>\n",
       "      <td>0</td>\n",
       "      <td>0</td>\n",
       "      <td>0</td>\n",
       "      <td>0</td>\n",
       "      <td>0</td>\n",
       "    </tr>\n",
       "  </tbody>\n",
       "</table>\n",
       "</div>"
      ],
      "text/plain": [
       "      404   753   897   926   1159  1162  1713  1732  3050  3324  3329  4229\n",
       "404      0     0     0     1     1     0     0     0     0     1     0     0\n",
       "753      0     0     0     0     0     0     0     0     0     0     0     0\n",
       "897      0     0     0     0     0     0     0     1     0     0     0     1\n",
       "926      1     0     0     0     1     0     0     0     0     1     0     0\n",
       "1159     1     0     0     1     0     0     0     0     0     1     0     0\n",
       "1162     0     0     0     0     0     0     1     0     1     0     2     0\n",
       "1713     0     0     0     0     0     1     0     0     0     0     1     0\n",
       "1732     0     0     1     0     0     0     0     0     0     0     0     0\n",
       "3050     0     0     0     0     0     1     0     0     0     0     1     0\n",
       "3324     1     0     0     1     1     0     0     0     0     0     0     0\n",
       "3329     0     0     0     0     0     2     1     0     1     0     0     0\n",
       "4229     0     0     1     0     0     0     0     0     0     0     0     0"
      ]
     },
     "execution_count": 345,
     "metadata": {},
     "output_type": "execute_result"
    }
   ],
   "source": [
    "create_matrix_sku_popularity(_)"
   ]
  },
  {
   "cell_type": "markdown",
   "metadata": {},
   "source": [
    "Видно, что с товаром 1162 два раза покупали товар 3329 и наоборот.  \n",
    "В следущий раз, когда придет в чеке товар 1162(из столбца), рекомендацией к нему будут товары из индексов, у которых наибольшие значения.  \n",
    "Нужно еще подумать над тем, чтобы исключать товары одинаковых категорий, если в чеке есть вода, то любую воду не предлагать."
   ]
  },
  {
   "cell_type": "markdown",
   "metadata": {},
   "source": [
    "##### <br><br> формиую матрицу по всем товарам"
   ]
  },
  {
   "cell_type": "markdown",
   "metadata": {},
   "source": [
    "- т.к. процесс формирования матрицы не быстрый, я выгружу данные на диск и запущу эту процедуру параллельно в гугл колабе, чтобы не тратить свои вычислительные ресурсы и не ждать"
   ]
  },
  {
   "cell_type": "code",
   "execution_count": 328,
   "metadata": {},
   "outputs": [],
   "source": [
    "#X_train.to_csv(\"Data/my_train.csv\", index=True)"
   ]
  },
  {
   "cell_type": "code",
   "execution_count": 395,
   "metadata": {
    "tags": []
   },
   "outputs": [],
   "source": [
    "#в гугл колабе формировалась ~3 часа\n",
    "#matrix_sku_popularity = create_matrix_sku_popularity(X_train)"
   ]
  },
  {
   "cell_type": "code",
   "execution_count": 563,
   "metadata": {},
   "outputs": [],
   "source": [
    "#matrix_sku_popularity = pd.read_csv(\"Data/matrix_sku_popularity.csv\", index_col=0)"
   ]
  },
  {
   "cell_type": "markdown",
   "metadata": {},
   "source": [
    "Добавлю в номенклатуру и матрицу новый столбец - ид категории товаров."
   ]
  },
  {
   "cell_type": "code",
   "execution_count": 565,
   "metadata": {},
   "outputs": [],
   "source": [
    "#Добавлю в номенклатуру новый столбец - ид категории товара.\n",
    "df_nomencl['sku_group_id'] = df_nomencl.sku_group.astype(\"category\").cat.codes"
   ]
  },
  {
   "cell_type": "code",
   "execution_count": 566,
   "metadata": {},
   "outputs": [],
   "source": [
    "#добавлю столбец чтобы смержить\n",
    "matrix_sku_popularity['sku_id'] = matrix_sku_popularity.index\n",
    "#Добавляю в матрицу новый столбец с номером категории товара\n",
    "matrix_sku_popularity = pd.merge(matrix_sku_popularity, df_nomencl[['sku_id', 'sku_group_id']], on='sku_id')"
   ]
  },
  {
   "cell_type": "code",
   "execution_count": 567,
   "metadata": {},
   "outputs": [],
   "source": [
    "matrix_sku_popularity.set_index('sku_id', inplace=True)"
   ]
  },
  {
   "cell_type": "markdown",
   "metadata": {},
   "source": [
    "Для каждого товара из чека ищу топ популярных товаров, которые покупали с ним."
   ]
  },
  {
   "cell_type": "markdown",
   "metadata": {},
   "source": [
    "Оставлю в матрице (в строках), только товары из рекомендуемых категорий. В столбцах остаются все товары."
   ]
  },
  {
   "cell_type": "code",
   "execution_count": 568,
   "metadata": {},
   "outputs": [],
   "source": [
    "recomended_sku_groups = ['Вода', 'Сладкие Уранированные напитки, холодный чай', \n",
    "                       'Кофейные напитки с молоком', 'Энергетические напитки',\n",
    "                       'Снеки', 'Соки и сокосодержащие напитки']"
   ]
  },
  {
   "cell_type": "code",
   "execution_count": 569,
   "metadata": {},
   "outputs": [],
   "source": [
    "#сформирую словарь категория:ид\n",
    "recomended_sku_group_dict = {}\n",
    "\n",
    "for sku_group in recomended_sku_groups:\n",
    "    recomended_sku_group_dict[sku_group] = df_nomencl[df_nomencl.sku_group == sku_group].sku_group_id.values[0]"
   ]
  },
  {
   "cell_type": "code",
   "execution_count": 570,
   "metadata": {},
   "outputs": [
    {
     "data": {
      "text/plain": [
       "{'Вода': 3,\n",
       " 'Сладкие Уранированные напитки, холодный чай': 21,\n",
       " 'Кофейные напитки с молоком': 7,\n",
       " 'Энергетические напитки': 33,\n",
       " 'Снеки': 23,\n",
       " 'Соки и сокосодержащие напитки': 24}"
      ]
     },
     "execution_count": 570,
     "metadata": {},
     "output_type": "execute_result"
    }
   ],
   "source": [
    "recomended_sku_group_dict"
   ]
  },
  {
   "cell_type": "code",
   "execution_count": 571,
   "metadata": {},
   "outputs": [],
   "source": [
    "#матрица содержащая количество купленных товаров(строки) только из рекомендуемых категории\n",
    "#столбцы - все товары из выборки\n",
    "#строки - только рекомендуемые товары\n",
    "matrix_sku_popularity_recommended = matrix_sku_popularity[matrix_sku_popularity[\"sku_group_id\"]\\\n",
    "                                                          .isin([v for k,v in recomended_sku_group_dict.items()])]"
   ]
  },
  {
   "cell_type": "code",
   "execution_count": 572,
   "metadata": {},
   "outputs": [
    {
     "data": {
      "text/plain": [
       "(879, 4437)"
      ]
     },
     "execution_count": 572,
     "metadata": {},
     "output_type": "execute_result"
    }
   ],
   "source": [
    "matrix_sku_popularity_recommended.shape"
   ]
  },
  {
   "cell_type": "code",
   "execution_count": 573,
   "metadata": {},
   "outputs": [
    {
     "data": {
      "text/plain": [
       "[3329,\n",
       " 3324,\n",
       " 3334,\n",
       " 3330,\n",
       " 2673,\n",
       " 1551,\n",
       " 1535,\n",
       " 98,\n",
       " 434,\n",
       " 3336,\n",
       " 433,\n",
       " 580,\n",
       " 808,\n",
       " 403,\n",
       " 1533,\n",
       " 817,\n",
       " 99,\n",
       " 229,\n",
       " 3325,\n",
       " 431]"
      ]
     },
     "execution_count": 573,
     "metadata": {},
     "output_type": "execute_result"
    }
   ],
   "source": [
    "#топ 20 продаваемых товаров из всех рекомендуемых товаров, буду их рекомендовать, когда другого нечего (холодный старт)\n",
    "\n",
    "#удаляю из строк категориии из не рекомендуемых (оставляю только рекомендуемые)\n",
    "#суммирую строки по каждому товары, получаю число, сколько раз товар встречался в чеке\n",
    "#сортирую и беру топ\n",
    "top_20_sku_recommended = list(matrix_sku_popularity_recommended.drop(\"sku_group_id\", \n",
    "                                axis=1).sum(axis=1).sort_values(ascending=False)[:20].index)\n",
    "top_20_sku_recommended"
   ]
  },
  {
   "cell_type": "markdown",
   "metadata": {},
   "source": [
    "##### - рекомендации (бейзлайн)"
   ]
  },
  {
   "cell_type": "markdown",
   "metadata": {},
   "source": [
    "<br><br> Всегда рекомендовать топ продаваемых товаров из рекомендуемых категорий"
   ]
  },
  {
   "cell_type": "code",
   "execution_count": 574,
   "metadata": {},
   "outputs": [
    {
     "data": {
      "text/plain": [
       "0.0002976857289189759"
      ]
     },
     "execution_count": 574,
     "metadata": {},
     "output_type": "execute_result"
    }
   ],
   "source": [
    "#А если всегда рекомендовать топ 20 товаров? = 0.0002976 \n",
    "get_map(y_test_for_pred_list, top_20_sku_recommended * len(y_test_for_pred_list))"
   ]
  },
  {
   "cell_type": "markdown",
   "metadata": {},
   "source": [
    "<br><br> Рекомендация топа товаров которые покупают вместе с товарами в чеке покупателя"
   ]
  },
  {
   "cell_type": "markdown",
   "metadata": {
    "tags": []
   },
   "source": [
    "- пример, проверяю руками"
   ]
  },
  {
   "cell_type": "code",
   "execution_count": 681,
   "metadata": {},
   "outputs": [
    {
     "data": {
      "text/html": [
       "<div>\n",
       "<style scoped>\n",
       "    .dataframe tbody tr th:only-of-type {\n",
       "        vertical-align: middle;\n",
       "    }\n",
       "\n",
       "    .dataframe tbody tr th {\n",
       "        vertical-align: top;\n",
       "    }\n",
       "\n",
       "    .dataframe thead th {\n",
       "        text-align: right;\n",
       "    }\n",
       "</style>\n",
       "<table border=\"1\" class=\"dataframe\">\n",
       "  <thead>\n",
       "    <tr style=\"text-align: right;\">\n",
       "      <th></th>\n",
       "      <th>sku_id</th>\n",
       "      <th>price</th>\n",
       "      <th>number</th>\n",
       "      <th>cheque_id</th>\n",
       "      <th>litrs</th>\n",
       "      <th>client_id</th>\n",
       "      <th>shop_id</th>\n",
       "      <th>date</th>\n",
       "      <th>month</th>\n",
       "      <th>full_name</th>\n",
       "    </tr>\n",
       "  </thead>\n",
       "  <tbody>\n",
       "    <tr>\n",
       "      <th>0</th>\n",
       "      <td>329</td>\n",
       "      <td>0.009697</td>\n",
       "      <td>0.000452</td>\n",
       "      <td>731844</td>\n",
       "      <td>0.000000</td>\n",
       "      <td>-1</td>\n",
       "      <td>42</td>\n",
       "      <td>2171-07-20</td>\n",
       "      <td>7</td>\n",
       "      <td>Ароматизатор Contex Sex First/Play Safe</td>\n",
       "    </tr>\n",
       "    <tr>\n",
       "      <th>1</th>\n",
       "      <td>2194</td>\n",
       "      <td>0.006619</td>\n",
       "      <td>0.000452</td>\n",
       "      <td>731844</td>\n",
       "      <td>0.000000</td>\n",
       "      <td>-1</td>\n",
       "      <td>42</td>\n",
       "      <td>2171-07-20</td>\n",
       "      <td>7</td>\n",
       "      <td>Напиток Mountain DEW Уранированный ПЭТ 0,5л</td>\n",
       "    </tr>\n",
       "    <tr>\n",
       "      <th>2</th>\n",
       "      <td>1157</td>\n",
       "      <td>0.002653</td>\n",
       "      <td>0.000000</td>\n",
       "      <td>731844</td>\n",
       "      <td>0.129933</td>\n",
       "      <td>-1</td>\n",
       "      <td>42</td>\n",
       "      <td>2171-07-20</td>\n",
       "      <td>7</td>\n",
       "      <td>Ethereum 95 бренд</td>\n",
       "    </tr>\n",
       "  </tbody>\n",
       "</table>\n",
       "</div>"
      ],
      "text/plain": [
       "   sku_id     price    number  cheque_id     litrs  client_id  shop_id  \\\n",
       "0     329  0.009697  0.000452     731844  0.000000         -1       42   \n",
       "1    2194  0.006619  0.000452     731844  0.000000         -1       42   \n",
       "2    1157  0.002653  0.000000     731844  0.129933         -1       42   \n",
       "\n",
       "        date  month                                    full_name  \n",
       "0 2171-07-20      7      Ароматизатор Contex Sex First/Play Safe  \n",
       "1 2171-07-20      7  Напиток Mountain DEW Уранированный ПЭТ 0,5л  \n",
       "2 2171-07-20      7                            Ethereum 95 бренд  "
      ]
     },
     "execution_count": 681,
     "metadata": {},
     "output_type": "execute_result"
    }
   ],
   "source": [
    "tmp_id = 7\n",
    "#возьму один чек из выборки, где более 1 позиции\n",
    "tmp_cheque_id = recommended_cheque_id_unique_test[tmp_id] #чек для тестовой рекомендации\n",
    "#вся тестовая выборка по этому чеку\n",
    "pd.merge(X_test[X_test['cheque_id'] == tmp_cheque_id], df_nomencl[['sku_id', 'full_name']], on='sku_id')"
   ]
  },
  {
   "cell_type": "code",
   "execution_count": 682,
   "metadata": {},
   "outputs": [
    {
     "data": {
      "text/html": [
       "<div>\n",
       "<style scoped>\n",
       "    .dataframe tbody tr th:only-of-type {\n",
       "        vertical-align: middle;\n",
       "    }\n",
       "\n",
       "    .dataframe tbody tr th {\n",
       "        vertical-align: top;\n",
       "    }\n",
       "\n",
       "    .dataframe thead th {\n",
       "        text-align: right;\n",
       "    }\n",
       "</style>\n",
       "<table border=\"1\" class=\"dataframe\">\n",
       "  <thead>\n",
       "    <tr style=\"text-align: right;\">\n",
       "      <th></th>\n",
       "      <th>sku_id</th>\n",
       "      <th>price</th>\n",
       "      <th>number</th>\n",
       "      <th>cheque_id</th>\n",
       "      <th>litrs</th>\n",
       "      <th>client_id</th>\n",
       "      <th>shop_id</th>\n",
       "      <th>date</th>\n",
       "      <th>month</th>\n",
       "    </tr>\n",
       "  </thead>\n",
       "  <tbody>\n",
       "    <tr>\n",
       "      <th>563810</th>\n",
       "      <td>329</td>\n",
       "      <td>0.009697</td>\n",
       "      <td>0.000452</td>\n",
       "      <td>731844</td>\n",
       "      <td>0.000000</td>\n",
       "      <td>-1</td>\n",
       "      <td>42</td>\n",
       "      <td>2171-07-20</td>\n",
       "      <td>7</td>\n",
       "    </tr>\n",
       "    <tr>\n",
       "      <th>555728</th>\n",
       "      <td>1157</td>\n",
       "      <td>0.002653</td>\n",
       "      <td>0.000000</td>\n",
       "      <td>731844</td>\n",
       "      <td>0.129933</td>\n",
       "      <td>-1</td>\n",
       "      <td>42</td>\n",
       "      <td>2171-07-20</td>\n",
       "      <td>7</td>\n",
       "    </tr>\n",
       "  </tbody>\n",
       "</table>\n",
       "</div>"
      ],
      "text/plain": [
       "        sku_id     price    number  cheque_id     litrs  client_id  shop_id  \\\n",
       "563810     329  0.009697  0.000452     731844  0.000000         -1       42   \n",
       "555728    1157  0.002653  0.000000     731844  0.129933         -1       42   \n",
       "\n",
       "             date  month  \n",
       "563810 2171-07-20      7  \n",
       "555728 2171-07-20      7  "
      ]
     },
     "execution_count": 682,
     "metadata": {},
     "output_type": "execute_result"
    }
   ],
   "source": [
    "tmp_sku_ids = list(X_test_for_pred[X_test_for_pred['cheque_id'] == tmp_cheque_id].sku_id.values) #ид товаров в чеке\n",
    "#тестовая выборка с исключенным 1 товаром (который нужно рекомендовать)\n",
    "X_test_for_pred[X_test_for_pred['cheque_id'] == tmp_cheque_id]"
   ]
  },
  {
   "cell_type": "code",
   "execution_count": 683,
   "metadata": {},
   "outputs": [
    {
     "data": {
      "text/html": [
       "<div>\n",
       "<style scoped>\n",
       "    .dataframe tbody tr th:only-of-type {\n",
       "        vertical-align: middle;\n",
       "    }\n",
       "\n",
       "    .dataframe tbody tr th {\n",
       "        vertical-align: top;\n",
       "    }\n",
       "\n",
       "    .dataframe thead th {\n",
       "        text-align: right;\n",
       "    }\n",
       "</style>\n",
       "<table border=\"1\" class=\"dataframe\">\n",
       "  <thead>\n",
       "    <tr style=\"text-align: right;\">\n",
       "      <th></th>\n",
       "      <th>sku_id</th>\n",
       "      <th>price</th>\n",
       "      <th>number</th>\n",
       "      <th>cheque_id</th>\n",
       "      <th>litrs</th>\n",
       "      <th>client_id</th>\n",
       "      <th>shop_id</th>\n",
       "      <th>date</th>\n",
       "      <th>month</th>\n",
       "    </tr>\n",
       "  </thead>\n",
       "  <tbody>\n",
       "    <tr>\n",
       "      <th>547690</th>\n",
       "      <td>2194</td>\n",
       "      <td>0.006619</td>\n",
       "      <td>0.000452</td>\n",
       "      <td>731844</td>\n",
       "      <td>0.0</td>\n",
       "      <td>-1</td>\n",
       "      <td>42</td>\n",
       "      <td>2171-07-20</td>\n",
       "      <td>7</td>\n",
       "    </tr>\n",
       "  </tbody>\n",
       "</table>\n",
       "</div>"
      ],
      "text/plain": [
       "        sku_id     price    number  cheque_id  litrs  client_id  shop_id  \\\n",
       "547690    2194  0.006619  0.000452     731844    0.0         -1       42   \n",
       "\n",
       "             date  month  \n",
       "547690 2171-07-20      7  "
      ]
     },
     "execution_count": 683,
     "metadata": {},
     "output_type": "execute_result"
    }
   ],
   "source": [
    "#правильная рекомендация\n",
    "y_test_for_pred.loc[[y_test_id[tmp_id]]] # или можно так X_test.loc[y_test_id[tmp_id]]"
   ]
  },
  {
   "cell_type": "code",
   "execution_count": 684,
   "metadata": {},
   "outputs": [
    {
     "name": "stdout",
     "output_type": "stream",
     "text": [
      "\n",
      "Рекомендации для товара 329\n",
      "    sku_id   329  sku_group_id\n",
      "0     1551  23.0             7\n",
      "1     2673  21.0             7\n",
      "2     3330  12.0             7\n",
      "3      433  12.0            33\n",
      "4      199  11.0            33\n",
      "5      808  11.0            33\n",
      "6      431  11.0            33\n",
      "7      434  10.0            33\n",
      "8     3329  10.0             7\n",
      "9       98   9.0            21\n",
      "10     229   8.0            33\n",
      "11     580   8.0             3\n",
      "12    3039   8.0            33\n",
      "13    3334   7.0             7\n",
      "14      99   6.0            21\n",
      "15    1630   6.0             3\n",
      "16    3324   6.0             7\n",
      "17     228   5.0            33\n",
      "18     407   5.0            21\n",
      "19     817   5.0             3\n",
      "20    1534   5.0             3\n",
      "21    1535   5.0             3\n",
      "22     200   5.0            33\n",
      "23     408   5.0            21\n",
      "24    3839   5.0             7\n",
      "25     583   5.0             3\n",
      "26     395   4.0             3\n",
      "27     403   4.0             3\n",
      "28     153   4.0             3\n",
      "29    1827   4.0             3\n",
      "\n",
      "Рекомендации для товара 1157\n",
      "    sku_id     1157  sku_group_id\n",
      "0     3329  12484.0             7\n",
      "1     3324   9823.0             7\n",
      "2     1551   7809.0             7\n",
      "3     2673   6683.0             7\n",
      "4     3334   6091.0             7\n",
      "5     3330   4677.0             7\n",
      "6     1535   4306.0             3\n",
      "7      434   3757.0            33\n",
      "8     3336   3267.0             7\n",
      "9      580   3049.0             3\n",
      "10     403   3017.0             3\n",
      "11    3839   2953.0             7\n",
      "12     808   2873.0            33\n",
      "13      98   2829.0            21\n",
      "14     153   2683.0             3\n",
      "15    1533   2671.0            33\n",
      "16     817   2590.0             3\n",
      "17    3325   2587.0             7\n",
      "18     433   2507.0            33\n",
      "19     229   2404.0            33\n",
      "20     431   2150.0            33\n",
      "21      99   2029.0            21\n",
      "22     400   1891.0             3\n",
      "23    3708   1783.0             3\n",
      "24    3333   1634.0             7\n",
      "25    3337   1612.0             7\n",
      "26     199   1480.0            33\n",
      "27     581   1398.0             3\n",
      "28     228   1371.0            33\n",
      "29    1908   1302.0             3\n"
     ]
    }
   ],
   "source": [
    "#посмотрю по подготовленной матрице, что с каждым товаром часто покупают. топ\n",
    "tmp_dfs_sku_recommended = [] #датафреймы рекомендаций по каждому товару в чеке\n",
    "\n",
    "for tmp_sku_id in tmp_sku_ids:\n",
    "    print('\\nРекомендации для товара {}'.format(tmp_sku_id))\n",
    "    tmp_dfs_sku_recommended.append(matrix_sku_popularity_recommended[[str(tmp_sku_id), 'sku_group_id']].\n",
    "                                   sort_values(by=str(tmp_sku_id), ascending=False).reset_index().head(30))\n",
    "    print(tmp_dfs_sku_recommended[-1])"
   ]
  },
  {
   "cell_type": "code",
   "execution_count": 590,
   "metadata": {},
   "outputs": [],
   "source": [
    "#Нужно все эти рекомендации собрать в одну таблицу\n",
    "#Если товар1 рекомендуется для первого товара в чеке с рейтингом 100 а так же для второго с рейтинго 150 и т.д.\n",
    "#то такая рекомендация будет в одной строчке а итоговый рейтинг товара просуммируется =250 \n",
    "tmp_df_sku_recommended = [] #итоговая таблица рекомендации\n",
    "\n",
    "for i, tmp_df_sku in enumerate(tmp_dfs_sku_recommended):\n",
    "    if i == 0: #если первая таблица рекомендации\n",
    "        tmp_df_sku_recommended = tmp_df_sku\n",
    "    else: #если у нас в чеке больше 1 позиции, перебираем остальные таблицы рекомендации\n",
    "        tmp_df_sku_recommended = pd.merge(tmp_df_sku_recommended, tmp_df_sku, on='sku_id', \n",
    "                                          how=\"outer\", suffixes= ('_x'+str(i), '_y'+str(i))).fillna(0)"
   ]
  },
  {
   "cell_type": "code",
   "execution_count": 592,
   "metadata": {},
   "outputs": [],
   "source": [
    "#теперь нужно сделать новый столбец с суммой рекомендаци по одинаковым товарам\n",
    "tmp_sum_col = [col for col in tmp_df_sku_recommended.columns if \"sku\" not in col] #строки которые буду суммировать\n",
    "tmp_df_sku_recommended['sum_rec'] = tmp_df_sku_recommended[tmp_sum_col].sum(axis=1)"
   ]
  },
  {
   "cell_type": "code",
   "execution_count": 594,
   "metadata": {},
   "outputs": [
    {
     "data": {
      "text/html": [
       "<div>\n",
       "<style scoped>\n",
       "    .dataframe tbody tr th:only-of-type {\n",
       "        vertical-align: middle;\n",
       "    }\n",
       "\n",
       "    .dataframe tbody tr th {\n",
       "        vertical-align: top;\n",
       "    }\n",
       "\n",
       "    .dataframe thead th {\n",
       "        text-align: right;\n",
       "    }\n",
       "</style>\n",
       "<table border=\"1\" class=\"dataframe\">\n",
       "  <thead>\n",
       "    <tr style=\"text-align: right;\">\n",
       "      <th></th>\n",
       "      <th>sku_id</th>\n",
       "      <th>329</th>\n",
       "      <th>sku_group_id_x1</th>\n",
       "      <th>1157</th>\n",
       "      <th>sku_group_id_y1</th>\n",
       "      <th>sum_rec</th>\n",
       "    </tr>\n",
       "  </thead>\n",
       "  <tbody>\n",
       "    <tr>\n",
       "      <th>0</th>\n",
       "      <td>1551</td>\n",
       "      <td>23.0</td>\n",
       "      <td>7.0</td>\n",
       "      <td>7809.0</td>\n",
       "      <td>7.0</td>\n",
       "      <td>7832.0</td>\n",
       "    </tr>\n",
       "    <tr>\n",
       "      <th>1</th>\n",
       "      <td>2673</td>\n",
       "      <td>21.0</td>\n",
       "      <td>7.0</td>\n",
       "      <td>6683.0</td>\n",
       "      <td>7.0</td>\n",
       "      <td>6704.0</td>\n",
       "    </tr>\n",
       "    <tr>\n",
       "      <th>2</th>\n",
       "      <td>3330</td>\n",
       "      <td>12.0</td>\n",
       "      <td>7.0</td>\n",
       "      <td>4677.0</td>\n",
       "      <td>7.0</td>\n",
       "      <td>4689.0</td>\n",
       "    </tr>\n",
       "    <tr>\n",
       "      <th>3</th>\n",
       "      <td>433</td>\n",
       "      <td>12.0</td>\n",
       "      <td>33.0</td>\n",
       "      <td>2507.0</td>\n",
       "      <td>33.0</td>\n",
       "      <td>2519.0</td>\n",
       "    </tr>\n",
       "    <tr>\n",
       "      <th>4</th>\n",
       "      <td>199</td>\n",
       "      <td>11.0</td>\n",
       "      <td>33.0</td>\n",
       "      <td>1480.0</td>\n",
       "      <td>33.0</td>\n",
       "      <td>1491.0</td>\n",
       "    </tr>\n",
       "  </tbody>\n",
       "</table>\n",
       "</div>"
      ],
      "text/plain": [
       "   sku_id   329  sku_group_id_x1    1157  sku_group_id_y1  sum_rec\n",
       "0    1551  23.0              7.0  7809.0              7.0   7832.0\n",
       "1    2673  21.0              7.0  6683.0              7.0   6704.0\n",
       "2    3330  12.0              7.0  4677.0              7.0   4689.0\n",
       "3     433  12.0             33.0  2507.0             33.0   2519.0\n",
       "4     199  11.0             33.0  1480.0             33.0   1491.0"
      ]
     },
     "execution_count": 594,
     "metadata": {},
     "output_type": "execute_result"
    }
   ],
   "source": [
    "#товар sku_id=1551 рекомендуется и к товару в чеке 329(рейтинг 23) и к товару 1157 (рейтинг 7809), тогда итоговый рейтинг=7832.0\n",
    "tmp_df_sku_recommended.head()"
   ]
  },
  {
   "cell_type": "code",
   "execution_count": 422,
   "metadata": {},
   "outputs": [],
   "source": [
    "#список исключений групп товаров, из текущего чека которые клиент уже купил, возможно нет смысла их рекомендовать\n",
    "#анализ выше показал, что редко берут 2 позиции воды или других товаров из 1 категории\n",
    "#даже если клиент захочет 2 позиции, пусть берет, главное попасть в то что он хочет \"воду\"\n",
    "sku_group_not_recommended = list(df_nomencl[df_nomencl.sku_id.isin(tmp_sku_ids)].sku_group_id.values) #группы для исключения"
   ]
  },
  {
   "cell_type": "code",
   "execution_count": 424,
   "metadata": {},
   "outputs": [],
   "source": [
    "#беру первую колонку с содержанием sku_group_id\n",
    "col_group_id_name = [col for col in tmp_df_sku_recommended.columns if \"sku_group_id\" in col][0]\n",
    "#убираю категории товаров, которые соответствуют категории из чека (эту категорию уже не рекомендую)\n",
    "tmp_df_sku_recommended = tmp_df_sku_recommended[~tmp_df_sku_recommended[col_group_id_name].isin(sku_group_not_recommended)]"
   ]
  },
  {
   "cell_type": "code",
   "execution_count": 425,
   "metadata": {},
   "outputs": [],
   "source": [
    "#итоговая таблица рекомендаций к текущему чеку, сортировка по популярности\n",
    "tmp_df_submission = pd.DataFrame.from_dict({'cheque_id':[tmp_cheque_id]*20, \n",
    "                                            'sku_id': tmp_df_sku_recommended.sku_id.values[:20],\n",
    "                                             'position': range(1,21)\n",
    "                                           })"
   ]
  },
  {
   "cell_type": "code",
   "execution_count": 426,
   "metadata": {},
   "outputs": [
    {
     "data": {
      "text/html": [
       "<div>\n",
       "<style scoped>\n",
       "    .dataframe tbody tr th:only-of-type {\n",
       "        vertical-align: middle;\n",
       "    }\n",
       "\n",
       "    .dataframe tbody tr th {\n",
       "        vertical-align: top;\n",
       "    }\n",
       "\n",
       "    .dataframe thead th {\n",
       "        text-align: right;\n",
       "    }\n",
       "</style>\n",
       "<table border=\"1\" class=\"dataframe\">\n",
       "  <thead>\n",
       "    <tr style=\"text-align: right;\">\n",
       "      <th></th>\n",
       "      <th>cheque_id</th>\n",
       "      <th>sku_id</th>\n",
       "      <th>position</th>\n",
       "    </tr>\n",
       "  </thead>\n",
       "  <tbody>\n",
       "    <tr>\n",
       "      <th>0</th>\n",
       "      <td>731844</td>\n",
       "      <td>1551</td>\n",
       "      <td>1</td>\n",
       "    </tr>\n",
       "    <tr>\n",
       "      <th>1</th>\n",
       "      <td>731844</td>\n",
       "      <td>2673</td>\n",
       "      <td>2</td>\n",
       "    </tr>\n",
       "    <tr>\n",
       "      <th>2</th>\n",
       "      <td>731844</td>\n",
       "      <td>433</td>\n",
       "      <td>3</td>\n",
       "    </tr>\n",
       "    <tr>\n",
       "      <th>3</th>\n",
       "      <td>731844</td>\n",
       "      <td>434</td>\n",
       "      <td>4</td>\n",
       "    </tr>\n",
       "    <tr>\n",
       "      <th>4</th>\n",
       "      <td>731844</td>\n",
       "      <td>3329</td>\n",
       "      <td>5</td>\n",
       "    </tr>\n",
       "  </tbody>\n",
       "</table>\n",
       "</div>"
      ],
      "text/plain": [
       "   cheque_id  sku_id  position\n",
       "0     731844    1551         1\n",
       "1     731844    2673         2\n",
       "2     731844     433         3\n",
       "3     731844     434         4\n",
       "4     731844    3329         5"
      ]
     },
     "execution_count": 426,
     "metadata": {},
     "output_type": "execute_result"
    }
   ],
   "source": [
    "#топ 5 рекомендаций\n",
    "tmp_df_submission.head()"
   ]
  },
  {
   "cell_type": "code",
   "execution_count": 690,
   "metadata": {},
   "outputs": [],
   "source": [
    "#Соберу по примеру выше все в функцию\n",
    "def get_recommended_for_cheque(cheque_id, matrix_sku_popularity_recommended, \n",
    "                               df_test, df_nomencl, default=top_20_sku_recommended, \n",
    "                               top=20, top_sku=200, filter_already_buy_sku=True):\n",
    "    '''\n",
    "    Собирает таблицу рекомендаций по матрице matrix_sku_popularity для чека cheque_id\n",
    "    cheque_id - ид чека (одного)\n",
    "    matrix_sku_popularity_recommended - матрица товары х товары\n",
    "    df_sub - данные(чеки) для рекомендаций\n",
    "    df_nomencl - данные с номенклатурой, нужны чтобы выдернуть ид категорий по sku_id\n",
    "    default-дефолтные топ 20 товаров, которые нужно рекомендовать в случае если нет другой рекомендации\n",
    "    top - сколько рекомендаций давать\n",
    "    top_sku - сколько брать рекомендаций по каждому товару до формирования исходной таблицы.\n",
    "             за счет того, то для каких то товаров может быть мало рекомендаций и одинаковые рекомендации схлопываются\n",
    "             может получиться так, что итоговый топ будет меньше 20, поэтому тут рекомендуется брать больше\n",
    "    filter_already_buy_sku - не рекомендовать товары из категорий, которые уже есть в чеке (например вода есть, любую воду не рекомендуем)\n",
    "    '''\n",
    "    sku_ids = list(df_test[df_test['cheque_id'] == cheque_id].sku_id.values) #ид товаров в чеке\n",
    "\n",
    "    #посмотрю по подготовленной матрице, что с этим товаром часто покупают. топ 20\n",
    "    dfs_sku_recommended = [] #датафреймы рекомендаций по каждому товару в чеке\n",
    "    #формирую таблицы рекомендаций по каждому товару в чеке\n",
    "    for sku_id in sku_ids:\n",
    "        try : #если такого товара нет в моей матрице, то пропускаем его\n",
    "            _ = matrix_sku_popularity_recommended[str(sku_id)] #проверка что товар(столбец) существует\n",
    "            \n",
    "            dfs_sku_recommended.append(matrix_sku_popularity_recommended[[str(sku_id), 'sku_group_id']].\n",
    "                            sort_values(by=str(sku_id), ascending=False).reset_index().head(top_sku))\n",
    "        except Exception as ex:\n",
    "            pass\n",
    "    #Нужно все эти рекомендации собрать в одну таблицу\n",
    "    df_sku_recommended = [] #итоговая таблица рекомендации\n",
    "    for i, df_sku in enumerate(dfs_sku_recommended):\n",
    "        if i == 0: #если первая таблица рекомендации\n",
    "            df_sku_recommended = df_sku\n",
    "        else: #если у нас в чеке больше 1 позиции, перебираем остальные таблицы рекомендации для каждого товара, объединяю по sku_id\n",
    "            df_sku_recommended = pd.merge(df_sku_recommended, df_sku, on='sku_id', how=\"outer\",\n",
    "                                          suffixes= ('_x'+str(i), '_y'+str(i))).fillna(0)\n",
    "    #если есть рекомендации, то\n",
    "    if len(df_sku_recommended) > 0:\n",
    "        #теперь нужно сделать новый столбец с суммой рекомендаци по одинаковым товарам из отдельныйх рекомендаций по каждой позиции в чеке\n",
    "        #нужно чтобы объединить одинаковые товары из таблиц рекомендаций\n",
    "        sum_col = [col for col in df_sku_recommended.columns if \"sku\" not in col] #строки которые буду суммировать\n",
    "        df_sku_recommended['sum_rec'] = df_sku_recommended[sum_col].sum(axis=1)\n",
    "        #если нужно исключить из рекомендаций группы товаров которые уже есть в чеке\n",
    "        if (filter_already_buy_sku):\n",
    "            #список исключений групп товаров, из текущего чека, которые клиент уже купил, возможно нет смысла их рекомендовать\n",
    "            #анализ выше показал, что редко берут 2 позиции воды или других товаров из одной категории\n",
    "            #даже если клиент захочет 2 позиции, пусть берет, главное попасть в то что он хочет \"воду\"\n",
    "            sku_group_not_recommended = list(df_nomencl[df_nomencl.sku_id.isin(sku_ids)].sku_group_id.values) #группы для исключения\n",
    "            #беру первую колонку с содержанием sku_group_id, формирую список из ид групп для исключения\n",
    "            col_group_id_name = [col for col in df_sku_recommended.columns if \"sku_group_id\" in col][0]\n",
    "            #убираю из рекомендаций категории товаров, которые соответствуют категории из чека\n",
    "            df_sku_recommended = df_sku_recommended[~df_sku_recommended[col_group_id_name].isin(sku_group_not_recommended)]\n",
    "            #итоговая таблица рекомендаций к текущему чеку, сортировка по популярности\n",
    "    else:#если нет рекомендации\n",
    "        df_sku_recommended = pd.DataFrame({'sku_id': default}) #холодный страт - рекомендуем просто топ товаров\n",
    "    \n",
    "    #итоговая таблица с рекомендациями\n",
    "    df_submission = pd.DataFrame.from_dict({'cheque_id':[cheque_id]*top, \n",
    "                                            'sku_id': df_sku_recommended.sku_id.values[:top],\n",
    "                                             'position': range(1,top+1)\n",
    "                                           })\n",
    "    return df_submission"
   ]
  },
  {
   "cell_type": "code",
   "execution_count": 691,
   "metadata": {},
   "outputs": [],
   "source": [
    "#список чеков из тестового набора\n",
    "#recommended_cheque_id_unique_test"
   ]
  },
  {
   "cell_type": "code",
   "execution_count": 692,
   "metadata": {},
   "outputs": [
    {
     "name": "stderr",
     "output_type": "stream",
     "text": [
      "100%|███████████████████████████████████| 125361/125361 [32:56<00:00, 63.43it/s]\n"
     ]
    },
    {
     "data": {
      "text/plain": [
       "0.006731857430313494"
      ]
     },
     "execution_count": 692,
     "metadata": {},
     "output_type": "execute_result"
    }
   ],
   "source": [
    "#формирую рекомендации для всех чеков, исключаю группы товаров которые уже есть в чеке\n",
    "df_rec = [] #массив таблиц с рекомендациями по всем чекам\n",
    "\n",
    "for cheque_id in tqdm(recommended_cheque_id_unique_test):\n",
    "    df_rec.append(get_recommended_for_cheque(cheque_id, matrix_sku_popularity_recommended, X_test_for_pred, \n",
    "                                             df_nomencl, top=20, filter_already_buy_sku=True))\n",
    "\n",
    "#формирую одну таблицу с рекомендациями\n",
    "df_rec = pd.concat(df_rec)\n",
    "\n",
    "#Оценка метрики на основе матрицы рекомендаций 0.006731\n",
    "get_map(y_test_for_pred_list, list(df_rec.sku_id.values))"
   ]
  },
  {
   "cell_type": "code",
   "execution_count": 693,
   "metadata": {},
   "outputs": [
    {
     "name": "stderr",
     "output_type": "stream",
     "text": [
      "100%|███████████████████████████████████| 125361/125361 [24:00<00:00, 87.05it/s]\n"
     ]
    },
    {
     "data": {
      "text/plain": [
       "0.0076911072457389795"
      ]
     },
     "execution_count": 693,
     "metadata": {},
     "output_type": "execute_result"
    }
   ],
   "source": [
    "#формирую рекомендации для всех чеков, не исключаю группы товаров которые уже есть в чеке\n",
    "df_rec = [] #массив таблиц с рекомендациями по всем чекам\n",
    "\n",
    "for cheque_id in tqdm(recommended_cheque_id_unique_test):\n",
    "    df_rec.append(get_recommended_for_cheque(cheque_id, matrix_sku_popularity_recommended, X_test_for_pred, \n",
    "                                             df_nomencl, top=20, filter_already_buy_sku=False))\n",
    "\n",
    "#формирую одну таблицу с рекомендациями\n",
    "df_rec = pd.concat(df_rec)\n",
    "\n",
    "#Оценка метрики на основе матрицы рекомендаций 0.007296\n",
    "get_map(y_test_for_pred_list, list(df_rec.sku_id.values))"
   ]
  },
  {
   "cell_type": "markdown",
   "metadata": {},
   "source": [
    "??? Почему когда не исключаем повторы товаров то стало лучше? По логике должно быть хуже...  \n",
    "В жизни, если у клиента в чеке к примеру топливо и вода, то не нужно рекомендовать воду, если он хотел бы то взял сразу бы две, лучше порекомендовать другой связанный с водой товар, например снеки или др, но результаты на тестовой выборке показывают обратный эффект, видимо нужно более гибко подойти к исключению категорий (в функции get_recommended_for_cheque, параметр filter_already_buy_sku), оставлю на подумать, если будет еще время.\n",
    " \n"
   ]
  },
  {
   "cell_type": "code",
   "execution_count": 615,
   "metadata": {
    "tags": []
   },
   "outputs": [],
   "source": [
    "#формирую рекомендации для submission\n",
    "#df_rec_sub = [] #массив таблиц с рекомендациями по всем чекам\n",
    "\n",
    "#for cheque_id in tqdm(list(df_sub.cheque_id.unique())):\n",
    "#    df_rec_sub.append(get_recommended_for_cheque(cheque_id, matrix_sku_popularity_recommended, df_sub, \n",
    "#                                             df_nomencl, top=20, filter_already_buy_sku=False))\n",
    "\n",
    "#формирую одну таблицу с рекомендациями\n",
    "#df_rec_sub = pd.concat(df_rec)\n",
    "\n",
    "#df_rec_sub.to_parquet(\"Data/submission-d_denis.parquet\")"
   ]
  },
  {
   "cell_type": "code",
   "execution_count": 595,
   "metadata": {},
   "outputs": [
    {
     "data": {
      "text/plain": [
       "0.05"
      ]
     },
     "execution_count": 595,
     "metadata": {},
     "output_type": "execute_result"
    }
   ],
   "source": [
    "#сколько максимум скоров можно получить?\n",
    "#если бы у меня все 20 рекомендаций y_test были разные, то максимальная оценка это 1\n",
    "#в нашем случае мы по сути все 20 рекомендаций сравниваем с 1 товаром, \n",
    "#максимальная оценка там, где первая строка рекомендации совпадет\n",
    "average_precision(y_test_for_pred_list[:1], y_test_for_pred_list[:1])"
   ]
  },
  {
   "cell_type": "code",
   "execution_count": 596,
   "metadata": {},
   "outputs": [
    {
     "data": {
      "text/plain": [
       "11.985024990298824"
      ]
     },
     "execution_count": 596,
     "metadata": {},
     "output_type": "execute_result"
    }
   ],
   "source": [
    "#получается вот такой процент рекомендаций попал в цель?\n",
    "(0.005992512495149412 / 0.05) * 100"
   ]
  },
  {
   "cell_type": "markdown",
   "metadata": {},
   "source": [
    "#### Анализ рекомендаций.  \n",
    "Возьму случайные чеки, там где низкая оценка рекомендации, проанализирую почему"
   ]
  },
  {
   "cell_type": "markdown",
   "metadata": {},
   "source": [
    "- чек 1"
   ]
  },
  {
   "cell_type": "code",
   "execution_count": 694,
   "metadata": {},
   "outputs": [
    {
     "data": {
      "text/plain": [
       "0.00625"
      ]
     },
     "execution_count": 694,
     "metadata": {},
     "output_type": "execute_result"
    }
   ],
   "source": [
    "_1 = 120\n",
    "_2 = _1+20\n",
    "#оценка\n",
    "get_map(y_test_for_pred_list[_1:_2], list(df_rec.sku_id.values[_1:_2]))"
   ]
  },
  {
   "cell_type": "code",
   "execution_count": 695,
   "metadata": {},
   "outputs": [
    {
     "data": {
      "text/html": [
       "<div>\n",
       "<style scoped>\n",
       "    .dataframe tbody tr th:only-of-type {\n",
       "        vertical-align: middle;\n",
       "    }\n",
       "\n",
       "    .dataframe tbody tr th {\n",
       "        vertical-align: top;\n",
       "    }\n",
       "\n",
       "    .dataframe thead th {\n",
       "        text-align: right;\n",
       "    }\n",
       "</style>\n",
       "<table border=\"1\" class=\"dataframe\">\n",
       "  <thead>\n",
       "    <tr style=\"text-align: right;\">\n",
       "      <th></th>\n",
       "      <th>sku_id</th>\n",
       "      <th>price</th>\n",
       "      <th>number</th>\n",
       "      <th>cheque_id</th>\n",
       "      <th>litrs</th>\n",
       "      <th>client_id</th>\n",
       "      <th>shop_id</th>\n",
       "      <th>date</th>\n",
       "      <th>month</th>\n",
       "      <th>full_name</th>\n",
       "      <th>sku_group_id</th>\n",
       "    </tr>\n",
       "  </thead>\n",
       "  <tbody>\n",
       "    <tr>\n",
       "      <th>0</th>\n",
       "      <td>1157</td>\n",
       "      <td>0.002653</td>\n",
       "      <td>0.0</td>\n",
       "      <td>731843</td>\n",
       "      <td>0.115739</td>\n",
       "      <td>-1</td>\n",
       "      <td>42</td>\n",
       "      <td>2171-07-20</td>\n",
       "      <td>7</td>\n",
       "      <td>Ethereum 95 бренд</td>\n",
       "      <td>27</td>\n",
       "    </tr>\n",
       "  </tbody>\n",
       "</table>\n",
       "</div>"
      ],
      "text/plain": [
       "   sku_id     price  number  cheque_id     litrs  client_id  shop_id  \\\n",
       "0    1157  0.002653     0.0     731843  0.115739         -1       42   \n",
       "\n",
       "        date  month          full_name  sku_group_id  \n",
       "0 2171-07-20      7  Ethereum 95 бренд            27  "
      ]
     },
     "execution_count": 695,
     "metadata": {},
     "output_type": "execute_result"
    }
   ],
   "source": [
    "#входящий чек для котрого давалась рекомендация\n",
    "tmp_id = int(_1/20)\n",
    "#возьму один чек из выборки, где более 1 позиции\n",
    "tmp_cheque_id = recommended_cheque_id_unique_test[tmp_id] #чек для тестовой рекомендации\n",
    "tmp_sku_ids = list(X_test_for_pred[X_test_for_pred['cheque_id'] == tmp_cheque_id].sku_id.values) #ид товаров в чеке\n",
    "#тестовая выборка с исключенным 1 товаром (который нужно рекомендовать)\n",
    "pd.merge(X_test_for_pred[X_test_for_pred['cheque_id'] == tmp_cheque_id], \n",
    "         df_nomencl[['sku_id', 'full_name', 'sku_group_id']], on='sku_id')"
   ]
  },
  {
   "cell_type": "code",
   "execution_count": 696,
   "metadata": {},
   "outputs": [
    {
     "data": {
      "text/html": [
       "<div>\n",
       "<style scoped>\n",
       "    .dataframe tbody tr th:only-of-type {\n",
       "        vertical-align: middle;\n",
       "    }\n",
       "\n",
       "    .dataframe tbody tr th {\n",
       "        vertical-align: top;\n",
       "    }\n",
       "\n",
       "    .dataframe thead th {\n",
       "        text-align: right;\n",
       "    }\n",
       "</style>\n",
       "<table border=\"1\" class=\"dataframe\">\n",
       "  <thead>\n",
       "    <tr style=\"text-align: right;\">\n",
       "      <th></th>\n",
       "      <th>sku_id</th>\n",
       "      <th>price</th>\n",
       "      <th>number</th>\n",
       "      <th>cheque_id</th>\n",
       "      <th>litrs</th>\n",
       "      <th>client_id</th>\n",
       "      <th>shop_id</th>\n",
       "      <th>date</th>\n",
       "      <th>month</th>\n",
       "      <th>full_name</th>\n",
       "      <th>sku_group_id</th>\n",
       "    </tr>\n",
       "  </thead>\n",
       "  <tbody>\n",
       "    <tr>\n",
       "      <th>0</th>\n",
       "      <td>434</td>\n",
       "      <td>0.008671</td>\n",
       "      <td>0.000452</td>\n",
       "      <td>731843</td>\n",
       "      <td>0.0</td>\n",
       "      <td>-1</td>\n",
       "      <td>42</td>\n",
       "      <td>2171-07-20</td>\n",
       "      <td>7</td>\n",
       "      <td>Напиток Red Bull energy drink энергетический ж...</td>\n",
       "      <td>33</td>\n",
       "    </tr>\n",
       "  </tbody>\n",
       "</table>\n",
       "</div>"
      ],
      "text/plain": [
       "   sku_id     price    number  cheque_id  litrs  client_id  shop_id  \\\n",
       "0     434  0.008671  0.000452     731843    0.0         -1       42   \n",
       "\n",
       "        date  month                                          full_name  \\\n",
       "0 2171-07-20      7  Напиток Red Bull energy drink энергетический ж...   \n",
       "\n",
       "   sku_group_id  \n",
       "0            33  "
      ]
     },
     "execution_count": 696,
     "metadata": {},
     "output_type": "execute_result"
    }
   ],
   "source": [
    "#правильная рекомендация\n",
    "pd.merge(y_test_for_pred.loc[[y_test_id[tmp_id]]], \n",
    "         df_nomencl[['sku_id', 'full_name', 'sku_group_id']], on='sku_id')"
   ]
  },
  {
   "cell_type": "code",
   "execution_count": 698,
   "metadata": {},
   "outputs": [
    {
     "data": {
      "text/html": [
       "<div>\n",
       "<style scoped>\n",
       "    .dataframe tbody tr th:only-of-type {\n",
       "        vertical-align: middle;\n",
       "    }\n",
       "\n",
       "    .dataframe tbody tr th {\n",
       "        vertical-align: top;\n",
       "    }\n",
       "\n",
       "    .dataframe thead th {\n",
       "        text-align: right;\n",
       "    }\n",
       "</style>\n",
       "<table border=\"1\" class=\"dataframe\">\n",
       "  <thead>\n",
       "    <tr style=\"text-align: right;\">\n",
       "      <th></th>\n",
       "      <th>sku_id</th>\n",
       "      <th>full_name</th>\n",
       "      <th>sku_group_id</th>\n",
       "    </tr>\n",
       "  </thead>\n",
       "  <tbody>\n",
       "    <tr>\n",
       "      <th>0</th>\n",
       "      <td>3329</td>\n",
       "      <td>Напиток Fly Cafe молокосодержащий кофейный Мок...</td>\n",
       "      <td>7</td>\n",
       "    </tr>\n",
       "    <tr>\n",
       "      <th>1</th>\n",
       "      <td>3324</td>\n",
       "      <td>Напиток Fly Cafe молокосодержащий кофейный Флэ...</td>\n",
       "      <td>7</td>\n",
       "    </tr>\n",
       "    <tr>\n",
       "      <th>2</th>\n",
       "      <td>1551</td>\n",
       "      <td>unknown</td>\n",
       "      <td>7</td>\n",
       "    </tr>\n",
       "    <tr>\n",
       "      <th>3</th>\n",
       "      <td>2673</td>\n",
       "      <td>unknown</td>\n",
       "      <td>7</td>\n",
       "    </tr>\n",
       "    <tr>\n",
       "      <th>4</th>\n",
       "      <td>3334</td>\n",
       "      <td>Кофе Fly Cafe Латте холодный 0,2л</td>\n",
       "      <td>7</td>\n",
       "    </tr>\n",
       "    <tr>\n",
       "      <th>5</th>\n",
       "      <td>3330</td>\n",
       "      <td>Напиток Fly Cafe молокосодержащий кофейный Лат...</td>\n",
       "      <td>7</td>\n",
       "    </tr>\n",
       "    <tr>\n",
       "      <th>6</th>\n",
       "      <td>1535</td>\n",
       "      <td>Вода Fly Cafe (СТМ)/G-Fly питьевая неУранирова...</td>\n",
       "      <td>3</td>\n",
       "    </tr>\n",
       "    <tr>\n",
       "      <th>7</th>\n",
       "      <td>434</td>\n",
       "      <td>Напиток Red Bull energy drink энергетический ж...</td>\n",
       "      <td>33</td>\n",
       "    </tr>\n",
       "    <tr>\n",
       "      <th>8</th>\n",
       "      <td>3336</td>\n",
       "      <td>Напиток Fly Cafe молокосодержащий кофейный Мок...</td>\n",
       "      <td>7</td>\n",
       "    </tr>\n",
       "    <tr>\n",
       "      <th>9</th>\n",
       "      <td>580</td>\n",
       "      <td>Вода BONAQUA питьевая неУранированная ПЭТ 0,5л</td>\n",
       "      <td>3</td>\n",
       "    </tr>\n",
       "    <tr>\n",
       "      <th>10</th>\n",
       "      <td>403</td>\n",
       "      <td>Вода evian минеральная неУранированная стекло ...</td>\n",
       "      <td>3</td>\n",
       "    </tr>\n",
       "    <tr>\n",
       "      <th>11</th>\n",
       "      <td>3839</td>\n",
       "      <td>unknown</td>\n",
       "      <td>7</td>\n",
       "    </tr>\n",
       "    <tr>\n",
       "      <th>12</th>\n",
       "      <td>808</td>\n",
       "      <td>Напиток G-Fly (СТМ) original энергетический бе...</td>\n",
       "      <td>33</td>\n",
       "    </tr>\n",
       "    <tr>\n",
       "      <th>13</th>\n",
       "      <td>98</td>\n",
       "      <td>Напиток Sprite Уранированный ПЭТ 0,5л</td>\n",
       "      <td>21</td>\n",
       "    </tr>\n",
       "    <tr>\n",
       "      <th>14</th>\n",
       "      <td>153</td>\n",
       "      <td>Вода Fly Cafe (СТМ)/G-Fly питьевая Уранированн...</td>\n",
       "      <td>3</td>\n",
       "    </tr>\n",
       "    <tr>\n",
       "      <th>15</th>\n",
       "      <td>1533</td>\n",
       "      <td>Напиток Red Bull sugarfree энергетический ж/б ...</td>\n",
       "      <td>33</td>\n",
       "    </tr>\n",
       "    <tr>\n",
       "      <th>16</th>\n",
       "      <td>817</td>\n",
       "      <td>Вода Святой Источник питьевая неУранированная ...</td>\n",
       "      <td>3</td>\n",
       "    </tr>\n",
       "    <tr>\n",
       "      <th>17</th>\n",
       "      <td>3325</td>\n",
       "      <td>Напиток Fly Cafe молокосодержащий кофейный Мок...</td>\n",
       "      <td>7</td>\n",
       "    </tr>\n",
       "    <tr>\n",
       "      <th>18</th>\n",
       "      <td>433</td>\n",
       "      <td>Напиток Burn энергетический оригинальный ж/б 0...</td>\n",
       "      <td>33</td>\n",
       "    </tr>\n",
       "    <tr>\n",
       "      <th>19</th>\n",
       "      <td>229</td>\n",
       "      <td>Напиток Red Bull Blue Edition энергетический ж...</td>\n",
       "      <td>33</td>\n",
       "    </tr>\n",
       "  </tbody>\n",
       "</table>\n",
       "</div>"
      ],
      "text/plain": [
       "    sku_id                                          full_name  sku_group_id\n",
       "0     3329  Напиток Fly Cafe молокосодержащий кофейный Мок...             7\n",
       "1     3324  Напиток Fly Cafe молокосодержащий кофейный Флэ...             7\n",
       "2     1551                                            unknown             7\n",
       "3     2673                                            unknown             7\n",
       "4     3334                  Кофе Fly Cafe Латте холодный 0,2л             7\n",
       "5     3330  Напиток Fly Cafe молокосодержащий кофейный Лат...             7\n",
       "6     1535  Вода Fly Cafe (СТМ)/G-Fly питьевая неУранирова...             3\n",
       "7      434  Напиток Red Bull energy drink энергетический ж...            33\n",
       "8     3336  Напиток Fly Cafe молокосодержащий кофейный Мок...             7\n",
       "9      580     Вода BONAQUA питьевая неУранированная ПЭТ 0,5л             3\n",
       "10     403  Вода evian минеральная неУранированная стекло ...             3\n",
       "11    3839                                            unknown             7\n",
       "12     808  Напиток G-Fly (СТМ) original энергетический бе...            33\n",
       "13      98              Напиток Sprite Уранированный ПЭТ 0,5л            21\n",
       "14     153  Вода Fly Cafe (СТМ)/G-Fly питьевая Уранированн...             3\n",
       "15    1533  Напиток Red Bull sugarfree энергетический ж/б ...            33\n",
       "16     817  Вода Святой Источник питьевая неУранированная ...             3\n",
       "17    3325  Напиток Fly Cafe молокосодержащий кофейный Мок...             7\n",
       "18     433  Напиток Burn энергетический оригинальный ж/б 0...            33\n",
       "19     229  Напиток Red Bull Blue Edition энергетический ж...            33"
      ]
     },
     "execution_count": 698,
     "metadata": {},
     "output_type": "execute_result"
    }
   ],
   "source": [
    "#моя рекомендация\n",
    "tmp_rec = pd.DataFrame(data=df_rec.sku_id.values[_1:_2])\n",
    "tmp_rec.columns=['sku_id']\n",
    "pd.merge(tmp_rec, df_nomencl[['sku_id', 'full_name', 'sku_group_id']], on='sku_id')"
   ]
  },
  {
   "cell_type": "markdown",
   "metadata": {},
   "source": [
    "Получается, что я сначала 6 раз предлагал разный кофе, и только потом стал предлагаю другую категорию, логично что если человек не хочет кофе, то не важно какой тип предлагать, нужно исключать пробовать рекомендовать сначала по топ 1 каждой категории, затем топ 2 каждой категории и т.д."
   ]
  },
  {
   "cell_type": "markdown",
   "metadata": {},
   "source": [
    "- чек 2"
   ]
  },
  {
   "cell_type": "code",
   "execution_count": 699,
   "metadata": {},
   "outputs": [
    {
     "data": {
      "text/plain": [
       "0.0035714285714285713"
      ]
     },
     "execution_count": 699,
     "metadata": {},
     "output_type": "execute_result"
    }
   ],
   "source": [
    "_1 = 600\n",
    "_2 = _1+20\n",
    "#оценка\n",
    "get_map(y_test_for_pred_list[_1:_2], list(df_rec.sku_id.values[_1:_2]))"
   ]
  },
  {
   "cell_type": "code",
   "execution_count": 700,
   "metadata": {},
   "outputs": [
    {
     "data": {
      "text/html": [
       "<div>\n",
       "<style scoped>\n",
       "    .dataframe tbody tr th:only-of-type {\n",
       "        vertical-align: middle;\n",
       "    }\n",
       "\n",
       "    .dataframe tbody tr th {\n",
       "        vertical-align: top;\n",
       "    }\n",
       "\n",
       "    .dataframe thead th {\n",
       "        text-align: right;\n",
       "    }\n",
       "</style>\n",
       "<table border=\"1\" class=\"dataframe\">\n",
       "  <thead>\n",
       "    <tr style=\"text-align: right;\">\n",
       "      <th></th>\n",
       "      <th>sku_id</th>\n",
       "      <th>price</th>\n",
       "      <th>number</th>\n",
       "      <th>cheque_id</th>\n",
       "      <th>litrs</th>\n",
       "      <th>client_id</th>\n",
       "      <th>shop_id</th>\n",
       "      <th>date</th>\n",
       "      <th>month</th>\n",
       "      <th>full_name</th>\n",
       "      <th>sku_group_id</th>\n",
       "    </tr>\n",
       "  </thead>\n",
       "  <tbody>\n",
       "    <tr>\n",
       "      <th>0</th>\n",
       "      <td>1157</td>\n",
       "      <td>0.002653</td>\n",
       "      <td>0.000000</td>\n",
       "      <td>731884</td>\n",
       "      <td>0.143241</td>\n",
       "      <td>127460</td>\n",
       "      <td>42</td>\n",
       "      <td>2171-07-20</td>\n",
       "      <td>7</td>\n",
       "      <td>Ethereum 95 бренд</td>\n",
       "      <td>27</td>\n",
       "    </tr>\n",
       "    <tr>\n",
       "      <th>1</th>\n",
       "      <td>266</td>\n",
       "      <td>0.009133</td>\n",
       "      <td>0.000452</td>\n",
       "      <td>731884</td>\n",
       "      <td>0.000000</td>\n",
       "      <td>127460</td>\n",
       "      <td>42</td>\n",
       "      <td>2171-07-20</td>\n",
       "      <td>7</td>\n",
       "      <td>Сигареты Marlboro gold original пачка</td>\n",
       "      <td>25</td>\n",
       "    </tr>\n",
       "  </tbody>\n",
       "</table>\n",
       "</div>"
      ],
      "text/plain": [
       "   sku_id     price    number  cheque_id     litrs  client_id  shop_id  \\\n",
       "0    1157  0.002653  0.000000     731884  0.143241     127460       42   \n",
       "1     266  0.009133  0.000452     731884  0.000000     127460       42   \n",
       "\n",
       "        date  month                              full_name  sku_group_id  \n",
       "0 2171-07-20      7                      Ethereum 95 бренд            27  \n",
       "1 2171-07-20      7  Сигареты Marlboro gold original пачка            25  "
      ]
     },
     "execution_count": 700,
     "metadata": {},
     "output_type": "execute_result"
    }
   ],
   "source": [
    "#входящий чек для котрого давалась рекомендация\n",
    "tmp_id = int(_1/20)\n",
    "#возьму один чек из выборки, где более 1 позиции\n",
    "tmp_cheque_id = recommended_cheque_id_unique_test[tmp_id] #чек для тестовой рекомендации\n",
    "tmp_sku_ids = list(X_test_for_pred[X_test_for_pred['cheque_id'] == tmp_cheque_id].sku_id.values) #ид товаров в чеке\n",
    "#тестовая выборка с исключенным 1 товаром (который нужно рекомендовать)\n",
    "pd.merge(X_test_for_pred[X_test_for_pred['cheque_id'] == tmp_cheque_id], \n",
    "         df_nomencl[['sku_id', 'full_name', 'sku_group_id']], on='sku_id')"
   ]
  },
  {
   "cell_type": "code",
   "execution_count": 701,
   "metadata": {},
   "outputs": [
    {
     "data": {
      "text/html": [
       "<div>\n",
       "<style scoped>\n",
       "    .dataframe tbody tr th:only-of-type {\n",
       "        vertical-align: middle;\n",
       "    }\n",
       "\n",
       "    .dataframe tbody tr th {\n",
       "        vertical-align: top;\n",
       "    }\n",
       "\n",
       "    .dataframe thead th {\n",
       "        text-align: right;\n",
       "    }\n",
       "</style>\n",
       "<table border=\"1\" class=\"dataframe\">\n",
       "  <thead>\n",
       "    <tr style=\"text-align: right;\">\n",
       "      <th></th>\n",
       "      <th>sku_id</th>\n",
       "      <th>price</th>\n",
       "      <th>number</th>\n",
       "      <th>cheque_id</th>\n",
       "      <th>litrs</th>\n",
       "      <th>client_id</th>\n",
       "      <th>shop_id</th>\n",
       "      <th>date</th>\n",
       "      <th>month</th>\n",
       "      <th>full_name</th>\n",
       "      <th>sku_group_id</th>\n",
       "    </tr>\n",
       "  </thead>\n",
       "  <tbody>\n",
       "    <tr>\n",
       "      <th>0</th>\n",
       "      <td>98</td>\n",
       "      <td>0.002001</td>\n",
       "      <td>0.000452</td>\n",
       "      <td>731884</td>\n",
       "      <td>0.0</td>\n",
       "      <td>127460</td>\n",
       "      <td>42</td>\n",
       "      <td>2171-07-20</td>\n",
       "      <td>7</td>\n",
       "      <td>Напиток Sprite Уранированный ПЭТ 0,5л</td>\n",
       "      <td>21</td>\n",
       "    </tr>\n",
       "  </tbody>\n",
       "</table>\n",
       "</div>"
      ],
      "text/plain": [
       "   sku_id     price    number  cheque_id  litrs  client_id  shop_id  \\\n",
       "0      98  0.002001  0.000452     731884    0.0     127460       42   \n",
       "\n",
       "        date  month                              full_name  sku_group_id  \n",
       "0 2171-07-20      7  Напиток Sprite Уранированный ПЭТ 0,5л            21  "
      ]
     },
     "execution_count": 701,
     "metadata": {},
     "output_type": "execute_result"
    }
   ],
   "source": [
    "#правильная рекомендация\n",
    "pd.merge(y_test_for_pred.loc[[y_test_id[tmp_id]]], \n",
    "         df_nomencl[['sku_id', 'full_name', 'sku_group_id']], on='sku_id')"
   ]
  },
  {
   "cell_type": "code",
   "execution_count": 703,
   "metadata": {},
   "outputs": [
    {
     "data": {
      "text/html": [
       "<div>\n",
       "<style scoped>\n",
       "    .dataframe tbody tr th:only-of-type {\n",
       "        vertical-align: middle;\n",
       "    }\n",
       "\n",
       "    .dataframe tbody tr th {\n",
       "        vertical-align: top;\n",
       "    }\n",
       "\n",
       "    .dataframe thead th {\n",
       "        text-align: right;\n",
       "    }\n",
       "</style>\n",
       "<table border=\"1\" class=\"dataframe\">\n",
       "  <thead>\n",
       "    <tr style=\"text-align: right;\">\n",
       "      <th></th>\n",
       "      <th>sku_id</th>\n",
       "      <th>full_name</th>\n",
       "      <th>sku_group_id</th>\n",
       "    </tr>\n",
       "  </thead>\n",
       "  <tbody>\n",
       "    <tr>\n",
       "      <th>0</th>\n",
       "      <td>3329</td>\n",
       "      <td>Напиток Fly Cafe молокосодержащий кофейный Мок...</td>\n",
       "      <td>7</td>\n",
       "    </tr>\n",
       "    <tr>\n",
       "      <th>1</th>\n",
       "      <td>3324</td>\n",
       "      <td>Напиток Fly Cafe молокосодержащий кофейный Флэ...</td>\n",
       "      <td>7</td>\n",
       "    </tr>\n",
       "    <tr>\n",
       "      <th>2</th>\n",
       "      <td>1551</td>\n",
       "      <td>unknown</td>\n",
       "      <td>7</td>\n",
       "    </tr>\n",
       "    <tr>\n",
       "      <th>3</th>\n",
       "      <td>2673</td>\n",
       "      <td>unknown</td>\n",
       "      <td>7</td>\n",
       "    </tr>\n",
       "    <tr>\n",
       "      <th>4</th>\n",
       "      <td>3334</td>\n",
       "      <td>Кофе Fly Cafe Латте холодный 0,2л</td>\n",
       "      <td>7</td>\n",
       "    </tr>\n",
       "    <tr>\n",
       "      <th>5</th>\n",
       "      <td>3330</td>\n",
       "      <td>Напиток Fly Cafe молокосодержащий кофейный Лат...</td>\n",
       "      <td>7</td>\n",
       "    </tr>\n",
       "    <tr>\n",
       "      <th>6</th>\n",
       "      <td>1535</td>\n",
       "      <td>Вода Fly Cafe (СТМ)/G-Fly питьевая неУранирова...</td>\n",
       "      <td>3</td>\n",
       "    </tr>\n",
       "    <tr>\n",
       "      <th>7</th>\n",
       "      <td>434</td>\n",
       "      <td>Напиток Red Bull energy drink энергетический ж...</td>\n",
       "      <td>33</td>\n",
       "    </tr>\n",
       "    <tr>\n",
       "      <th>8</th>\n",
       "      <td>3336</td>\n",
       "      <td>Напиток Fly Cafe молокосодержащий кофейный Мок...</td>\n",
       "      <td>7</td>\n",
       "    </tr>\n",
       "    <tr>\n",
       "      <th>9</th>\n",
       "      <td>580</td>\n",
       "      <td>Вода BONAQUA питьевая неУранированная ПЭТ 0,5л</td>\n",
       "      <td>3</td>\n",
       "    </tr>\n",
       "    <tr>\n",
       "      <th>10</th>\n",
       "      <td>403</td>\n",
       "      <td>Вода evian минеральная неУранированная стекло ...</td>\n",
       "      <td>3</td>\n",
       "    </tr>\n",
       "    <tr>\n",
       "      <th>11</th>\n",
       "      <td>3839</td>\n",
       "      <td>unknown</td>\n",
       "      <td>7</td>\n",
       "    </tr>\n",
       "    <tr>\n",
       "      <th>12</th>\n",
       "      <td>808</td>\n",
       "      <td>Напиток G-Fly (СТМ) original энергетический бе...</td>\n",
       "      <td>33</td>\n",
       "    </tr>\n",
       "    <tr>\n",
       "      <th>13</th>\n",
       "      <td>98</td>\n",
       "      <td>Напиток Sprite Уранированный ПЭТ 0,5л</td>\n",
       "      <td>21</td>\n",
       "    </tr>\n",
       "    <tr>\n",
       "      <th>14</th>\n",
       "      <td>153</td>\n",
       "      <td>Вода Fly Cafe (СТМ)/G-Fly питьевая Уранированн...</td>\n",
       "      <td>3</td>\n",
       "    </tr>\n",
       "    <tr>\n",
       "      <th>15</th>\n",
       "      <td>1533</td>\n",
       "      <td>Напиток Red Bull sugarfree энергетический ж/б ...</td>\n",
       "      <td>33</td>\n",
       "    </tr>\n",
       "    <tr>\n",
       "      <th>16</th>\n",
       "      <td>817</td>\n",
       "      <td>Вода Святой Источник питьевая неУранированная ...</td>\n",
       "      <td>3</td>\n",
       "    </tr>\n",
       "    <tr>\n",
       "      <th>17</th>\n",
       "      <td>3325</td>\n",
       "      <td>Напиток Fly Cafe молокосодержащий кофейный Мок...</td>\n",
       "      <td>7</td>\n",
       "    </tr>\n",
       "    <tr>\n",
       "      <th>18</th>\n",
       "      <td>433</td>\n",
       "      <td>Напиток Burn энергетический оригинальный ж/б 0...</td>\n",
       "      <td>33</td>\n",
       "    </tr>\n",
       "    <tr>\n",
       "      <th>19</th>\n",
       "      <td>229</td>\n",
       "      <td>Напиток Red Bull Blue Edition энергетический ж...</td>\n",
       "      <td>33</td>\n",
       "    </tr>\n",
       "  </tbody>\n",
       "</table>\n",
       "</div>"
      ],
      "text/plain": [
       "    sku_id                                          full_name  sku_group_id\n",
       "0     3329  Напиток Fly Cafe молокосодержащий кофейный Мок...             7\n",
       "1     3324  Напиток Fly Cafe молокосодержащий кофейный Флэ...             7\n",
       "2     1551                                            unknown             7\n",
       "3     2673                                            unknown             7\n",
       "4     3334                  Кофе Fly Cafe Латте холодный 0,2л             7\n",
       "5     3330  Напиток Fly Cafe молокосодержащий кофейный Лат...             7\n",
       "6     1535  Вода Fly Cafe (СТМ)/G-Fly питьевая неУранирова...             3\n",
       "7      434  Напиток Red Bull energy drink энергетический ж...            33\n",
       "8     3336  Напиток Fly Cafe молокосодержащий кофейный Мок...             7\n",
       "9      580     Вода BONAQUA питьевая неУранированная ПЭТ 0,5л             3\n",
       "10     403  Вода evian минеральная неУранированная стекло ...             3\n",
       "11    3839                                            unknown             7\n",
       "12     808  Напиток G-Fly (СТМ) original энергетический бе...            33\n",
       "13      98              Напиток Sprite Уранированный ПЭТ 0,5л            21\n",
       "14     153  Вода Fly Cafe (СТМ)/G-Fly питьевая Уранированн...             3\n",
       "15    1533  Напиток Red Bull sugarfree энергетический ж/б ...            33\n",
       "16     817  Вода Святой Источник питьевая неУранированная ...             3\n",
       "17    3325  Напиток Fly Cafe молокосодержащий кофейный Мок...             7\n",
       "18     433  Напиток Burn энергетический оригинальный ж/б 0...            33\n",
       "19     229  Напиток Red Bull Blue Edition энергетический ж...            33"
      ]
     },
     "execution_count": 703,
     "metadata": {},
     "output_type": "execute_result"
    }
   ],
   "source": [
    "#моя рекомендация\n",
    "tmp_rec = pd.DataFrame(data=df_rec.sku_id.values[_1:_2])\n",
    "tmp_rec.columns=['sku_id']\n",
    "pd.merge(tmp_rec, df_nomencl[['sku_id', 'full_name', 'sku_group_id']], on='sku_id')"
   ]
  },
  {
   "cell_type": "markdown",
   "metadata": {},
   "source": [
    "Снова такая же проблема, кофе товар популярнее чем газировка, поэтому его рекомендуется 7 сортов, нужно это фильтровать как то. Так же можно еще поискать признак, которые может разделить любителей кофе и газировки. Например если бы было указано время, то вероятно кофе более популярно утром, газировка днем..."
   ]
  },
  {
   "cell_type": "markdown",
   "metadata": {},
   "source": [
    "Посмотрю в каких категориях больше всего ошибок предсказания, как качество предсказания зависит от товаров в чеке, если товар один, два, три и т.д."
   ]
  },
  {
   "cell_type": "code",
   "execution_count": null,
   "metadata": {},
   "outputs": [],
   "source": []
  },
  {
   "cell_type": "markdown",
   "metadata": {},
   "source": [
    "Рекомендации по конкретным заправкам: (!!! пока как идея, не брался)"
   ]
  },
  {
   "cell_type": "code",
   "execution_count": null,
   "metadata": {},
   "outputs": [],
   "source": [
    "#Данные для проверки предсказаний, список sku_id\n",
    "y_test_sku_id = X_test.loc[y_test_id].sku_id.values\n",
    "#Теперь нужно каждый элемент размножить до 20 шт\n",
    "y_test_for_pred_list = []\n",
    "for item in y_test_sku_id:\n",
    "    y_test_for_pred_list += [item] *20"
   ]
  },
  {
   "cell_type": "code",
   "execution_count": 789,
   "metadata": {},
   "outputs": [],
   "source": [
    "#формирую рекомендации для всех чеков\n",
    "for shop in X_test_for_pred.shop_id.unique()[:1]:\n",
    "    X_test_for_pred[X_test_for_pred.shop_id == shop]"
   ]
  },
  {
   "cell_type": "code",
   "execution_count": 790,
   "metadata": {},
   "outputs": [
    {
     "data": {
      "text/html": [
       "<div>\n",
       "<style scoped>\n",
       "    .dataframe tbody tr th:only-of-type {\n",
       "        vertical-align: middle;\n",
       "    }\n",
       "\n",
       "    .dataframe tbody tr th {\n",
       "        vertical-align: top;\n",
       "    }\n",
       "\n",
       "    .dataframe thead th {\n",
       "        text-align: right;\n",
       "    }\n",
       "</style>\n",
       "<table border=\"1\" class=\"dataframe\">\n",
       "  <thead>\n",
       "    <tr style=\"text-align: right;\">\n",
       "      <th></th>\n",
       "      <th>sku_id</th>\n",
       "      <th>price</th>\n",
       "      <th>number</th>\n",
       "      <th>cheque_id</th>\n",
       "      <th>litrs</th>\n",
       "      <th>client_id</th>\n",
       "      <th>shop_id</th>\n",
       "      <th>date</th>\n",
       "      <th>month</th>\n",
       "    </tr>\n",
       "  </thead>\n",
       "  <tbody>\n",
       "    <tr>\n",
       "      <th>532123</th>\n",
       "      <td>2193</td>\n",
       "      <td>0.006619</td>\n",
       "      <td>0.000452</td>\n",
       "      <td>731870</td>\n",
       "      <td>0.104183</td>\n",
       "      <td>-1</td>\n",
       "      <td>42</td>\n",
       "      <td>2171-07-20</td>\n",
       "      <td>7</td>\n",
       "    </tr>\n",
       "    <tr>\n",
       "      <th>545621</th>\n",
       "      <td>2329</td>\n",
       "      <td>0.006619</td>\n",
       "      <td>0.000452</td>\n",
       "      <td>731870</td>\n",
       "      <td>0.104183</td>\n",
       "      <td>-1</td>\n",
       "      <td>42</td>\n",
       "      <td>2171-07-20</td>\n",
       "      <td>7</td>\n",
       "    </tr>\n",
       "    <tr>\n",
       "      <th>547761</th>\n",
       "      <td>3334</td>\n",
       "      <td>0.010210</td>\n",
       "      <td>0.000452</td>\n",
       "      <td>731872</td>\n",
       "      <td>0.104183</td>\n",
       "      <td>-1</td>\n",
       "      <td>42</td>\n",
       "      <td>2171-07-20</td>\n",
       "      <td>7</td>\n",
       "    </tr>\n",
       "    <tr>\n",
       "      <th>527563</th>\n",
       "      <td>423</td>\n",
       "      <td>0.005593</td>\n",
       "      <td>0.000904</td>\n",
       "      <td>731872</td>\n",
       "      <td>0.104183</td>\n",
       "      <td>-1</td>\n",
       "      <td>42</td>\n",
       "      <td>2171-07-20</td>\n",
       "      <td>7</td>\n",
       "    </tr>\n",
       "    <tr>\n",
       "      <th>563899</th>\n",
       "      <td>1157</td>\n",
       "      <td>0.002653</td>\n",
       "      <td>0.000000</td>\n",
       "      <td>731883</td>\n",
       "      <td>0.156071</td>\n",
       "      <td>120665</td>\n",
       "      <td>42</td>\n",
       "      <td>2171-07-20</td>\n",
       "      <td>7</td>\n",
       "    </tr>\n",
       "    <tr>\n",
       "      <th>...</th>\n",
       "      <td>...</td>\n",
       "      <td>...</td>\n",
       "      <td>...</td>\n",
       "      <td>...</td>\n",
       "      <td>...</td>\n",
       "      <td>...</td>\n",
       "      <td>...</td>\n",
       "      <td>...</td>\n",
       "      <td>...</td>\n",
       "    </tr>\n",
       "    <tr>\n",
       "      <th>43465</th>\n",
       "      <td>1571</td>\n",
       "      <td>0.003027</td>\n",
       "      <td>0.000904</td>\n",
       "      <td>734248</td>\n",
       "      <td>0.104183</td>\n",
       "      <td>-1</td>\n",
       "      <td>42</td>\n",
       "      <td>2171-07-31</td>\n",
       "      <td>7</td>\n",
       "    </tr>\n",
       "    <tr>\n",
       "      <th>17363</th>\n",
       "      <td>1412</td>\n",
       "      <td>0.006927</td>\n",
       "      <td>0.000452</td>\n",
       "      <td>734249</td>\n",
       "      <td>0.104183</td>\n",
       "      <td>-1</td>\n",
       "      <td>42</td>\n",
       "      <td>2171-07-31</td>\n",
       "      <td>7</td>\n",
       "    </tr>\n",
       "    <tr>\n",
       "      <th>46326</th>\n",
       "      <td>3308</td>\n",
       "      <td>0.004566</td>\n",
       "      <td>0.000452</td>\n",
       "      <td>734258</td>\n",
       "      <td>0.104183</td>\n",
       "      <td>-1</td>\n",
       "      <td>42</td>\n",
       "      <td>2171-07-31</td>\n",
       "      <td>7</td>\n",
       "    </tr>\n",
       "    <tr>\n",
       "      <th>52334</th>\n",
       "      <td>3969</td>\n",
       "      <td>0.015854</td>\n",
       "      <td>0.000452</td>\n",
       "      <td>734258</td>\n",
       "      <td>0.104183</td>\n",
       "      <td>-1</td>\n",
       "      <td>42</td>\n",
       "      <td>2171-07-31</td>\n",
       "      <td>7</td>\n",
       "    </tr>\n",
       "    <tr>\n",
       "      <th>52803</th>\n",
       "      <td>3329</td>\n",
       "      <td>0.008671</td>\n",
       "      <td>0.000452</td>\n",
       "      <td>734258</td>\n",
       "      <td>0.104183</td>\n",
       "      <td>-1</td>\n",
       "      <td>42</td>\n",
       "      <td>2171-07-31</td>\n",
       "      <td>7</td>\n",
       "    </tr>\n",
       "  </tbody>\n",
       "</table>\n",
       "<p>575 rows × 9 columns</p>\n",
       "</div>"
      ],
      "text/plain": [
       "        sku_id     price    number  cheque_id     litrs  client_id  shop_id  \\\n",
       "532123    2193  0.006619  0.000452     731870  0.104183         -1       42   \n",
       "545621    2329  0.006619  0.000452     731870  0.104183         -1       42   \n",
       "547761    3334  0.010210  0.000452     731872  0.104183         -1       42   \n",
       "527563     423  0.005593  0.000904     731872  0.104183         -1       42   \n",
       "563899    1157  0.002653  0.000000     731883  0.156071     120665       42   \n",
       "...        ...       ...       ...        ...       ...        ...      ...   \n",
       "43465     1571  0.003027  0.000904     734248  0.104183         -1       42   \n",
       "17363     1412  0.006927  0.000452     734249  0.104183         -1       42   \n",
       "46326     3308  0.004566  0.000452     734258  0.104183         -1       42   \n",
       "52334     3969  0.015854  0.000452     734258  0.104183         -1       42   \n",
       "52803     3329  0.008671  0.000452     734258  0.104183         -1       42   \n",
       "\n",
       "             date  month  \n",
       "532123 2171-07-20      7  \n",
       "545621 2171-07-20      7  \n",
       "547761 2171-07-20      7  \n",
       "527563 2171-07-20      7  \n",
       "563899 2171-07-20      7  \n",
       "...           ...    ...  \n",
       "43465  2171-07-31      7  \n",
       "17363  2171-07-31      7  \n",
       "46326  2171-07-31      7  \n",
       "52334  2171-07-31      7  \n",
       "52803  2171-07-31      7  \n",
       "\n",
       "[575 rows x 9 columns]"
      ]
     },
     "execution_count": 790,
     "metadata": {},
     "output_type": "execute_result"
    }
   ],
   "source": [
    "X_test_for_pred[X_test_for_pred.shop_id == shop]"
   ]
  },
  {
   "cell_type": "code",
   "execution_count": null,
   "metadata": {},
   "outputs": [],
   "source": []
  },
  {
   "cell_type": "code",
   "execution_count": null,
   "metadata": {},
   "outputs": [],
   "source": []
  },
  {
   "cell_type": "code",
   "execution_count": null,
   "metadata": {},
   "outputs": [],
   "source": []
  },
  {
   "cell_type": "markdown",
   "metadata": {},
   "source": [
    "#### Модели"
   ]
  },
  {
   "cell_type": "markdown",
   "metadata": {
    "tags": []
   },
   "source": [
    "#### Подготовка данных для обучения моделей"
   ]
  },
  {
   "cell_type": "markdown",
   "metadata": {},
   "source": [
    "В классическом варианте нужна матрица user / item, в значениях рейтинг.  \n",
    "Я попробую искать похожие чеки а не похожих пользователей. Логика такая, человек приходит на кассу, приносит товар, кассир пробивает его, алгоритм находит похожий чек и предлагает популярные товары (из нужных категорий) из похожих чеков, которых нет в текущем чеке."
   ]
  },
  {
   "cell_type": "code",
   "execution_count": 332,
   "metadata": {},
   "outputs": [],
   "source": [
    "def create_sku_cheque_matrix(data, sku_id_list):\n",
    "    '''\n",
    "    Формирует матрицу где в столбцах заданные товары, в строках чеки, в значениях количество товаров в чеке\n",
    "    data - данные с транзакциями на основании которых заполняется матрица\n",
    "    sku_id_list - шапка матрицы, ид товаров\n",
    "    '''\n",
    "    #сформирую шаблон матрицы\n",
    "    cheque_id_list = data.cheque_id.sort_values().unique()\n",
    "    matrix = pd.DataFrame(columns=sku_id_list, \n",
    "                      index=cheque_id_list,\n",
    "                      data=0)\n",
    "    \n",
    "    row_tmp = dict() #шаблон строки для добавления в матрицу\n",
    "    for sku_id in sku_id_list: #инициализирую нулями\n",
    "        row_tmp[sku_id]  = 0 \n",
    "    \n",
    "    #иду по всем чекам из выборки\n",
    "    for cheque_id in tqdm(cheque_id_list):\n",
    "        #формирую список уникальных товаров в текущем чеке\n",
    "        sku_id_in_cheque = list(data[data['cheque_id'] == cheque_id].sku_id.values)\n",
    "        row = row_tmp.copy() #строка для текущего чека\n",
    "        #перебираю каждый товар в чеке\n",
    "        for sku_id in sku_id_in_cheque:\n",
    "            #заполняю словарь, где в ключах товары, а в значениях сколько раз встречались в чеке\n",
    "            #if sku_id in row.keys:\n",
    "            if row.get(sku_id) is not None:\n",
    "                row[sku_id] = row[sku_id] + 1 \n",
    "        matrix.loc[cheque_id] = list(row.values())\n",
    "    return matrix"
   ]
  },
  {
   "cell_type": "markdown",
   "metadata": {},
   "source": [
    "Формирую матрицу для тренировочного набора"
   ]
  },
  {
   "cell_type": "code",
   "execution_count": 435,
   "metadata": {},
   "outputs": [
    {
     "name": "stderr",
     "output_type": "stream",
     "text": [
      "100%|██████████████████████████████████| 291858/291858 [29:05<00:00, 167.17it/s]\n"
     ]
    }
   ],
   "source": [
    "#!Выполняется долго ~30 минут\n",
    "#Подготавливаю матрицу товары х чеки для обучения\n",
    "#X_train_cheque_sku = create_sku_cheque_matrix(X_train, df_nomencl.sku_id.sort_values().unique())"
   ]
  },
  {
   "cell_type": "code",
   "execution_count": 443,
   "metadata": {},
   "outputs": [],
   "source": [
    "#сохраню на диск, буду загружать от туда\n",
    "#X_train_cheque_sku.to_csv(\"Data/X_train_cheque_sku.csv\", index=True)\n",
    "X_train_cheque_sku = pd.read_csv(\"Data/X_train_cheque_sku.csv\", index_col=0)"
   ]
  },
  {
   "cell_type": "code",
   "execution_count": 437,
   "metadata": {},
   "outputs": [
    {
     "name": "stdout",
     "output_type": "stream",
     "text": [
      "CPU times: user 9 µs, sys: 12 µs, total: 21 µs\n",
      "Wall time: 37 µs\n"
     ]
    }
   ],
   "source": [
    "%%time\n",
    "#старый вариант\n",
    "#X_train_cheque_sku = pd.DataFrame(X_train.pivot_table(index='cheque_id', columns='sku_id', values='price',\n",
    "#                                                aggfunc='count', fill_value=0).to_records())"
   ]
  },
  {
   "cell_type": "code",
   "execution_count": 438,
   "metadata": {},
   "outputs": [
    {
     "data": {
      "text/html": [
       "<div>\n",
       "<style scoped>\n",
       "    .dataframe tbody tr th:only-of-type {\n",
       "        vertical-align: middle;\n",
       "    }\n",
       "\n",
       "    .dataframe tbody tr th {\n",
       "        vertical-align: top;\n",
       "    }\n",
       "\n",
       "    .dataframe thead th {\n",
       "        text-align: right;\n",
       "    }\n",
       "</style>\n",
       "<table border=\"1\" class=\"dataframe\">\n",
       "  <thead>\n",
       "    <tr style=\"text-align: right;\">\n",
       "      <th></th>\n",
       "      <th>0</th>\n",
       "      <th>1</th>\n",
       "      <th>2</th>\n",
       "      <th>3</th>\n",
       "      <th>4</th>\n",
       "      <th>5</th>\n",
       "      <th>6</th>\n",
       "      <th>7</th>\n",
       "      <th>8</th>\n",
       "      <th>9</th>\n",
       "      <th>...</th>\n",
       "      <th>5093</th>\n",
       "      <th>5094</th>\n",
       "      <th>5095</th>\n",
       "      <th>5096</th>\n",
       "      <th>5097</th>\n",
       "      <th>5098</th>\n",
       "      <th>5099</th>\n",
       "      <th>5100</th>\n",
       "      <th>5101</th>\n",
       "      <th>5102</th>\n",
       "    </tr>\n",
       "  </thead>\n",
       "  <tbody>\n",
       "    <tr>\n",
       "      <th>18</th>\n",
       "      <td>0</td>\n",
       "      <td>0</td>\n",
       "      <td>0</td>\n",
       "      <td>0</td>\n",
       "      <td>0</td>\n",
       "      <td>0</td>\n",
       "      <td>0</td>\n",
       "      <td>0</td>\n",
       "      <td>0</td>\n",
       "      <td>0</td>\n",
       "      <td>...</td>\n",
       "      <td>0</td>\n",
       "      <td>0</td>\n",
       "      <td>0</td>\n",
       "      <td>0</td>\n",
       "      <td>0</td>\n",
       "      <td>0</td>\n",
       "      <td>0</td>\n",
       "      <td>0</td>\n",
       "      <td>0</td>\n",
       "      <td>0</td>\n",
       "    </tr>\n",
       "    <tr>\n",
       "      <th>22</th>\n",
       "      <td>0</td>\n",
       "      <td>0</td>\n",
       "      <td>0</td>\n",
       "      <td>0</td>\n",
       "      <td>0</td>\n",
       "      <td>0</td>\n",
       "      <td>0</td>\n",
       "      <td>0</td>\n",
       "      <td>0</td>\n",
       "      <td>0</td>\n",
       "      <td>...</td>\n",
       "      <td>0</td>\n",
       "      <td>0</td>\n",
       "      <td>0</td>\n",
       "      <td>0</td>\n",
       "      <td>0</td>\n",
       "      <td>0</td>\n",
       "      <td>0</td>\n",
       "      <td>0</td>\n",
       "      <td>0</td>\n",
       "      <td>0</td>\n",
       "    </tr>\n",
       "    <tr>\n",
       "      <th>35</th>\n",
       "      <td>0</td>\n",
       "      <td>0</td>\n",
       "      <td>0</td>\n",
       "      <td>0</td>\n",
       "      <td>0</td>\n",
       "      <td>0</td>\n",
       "      <td>0</td>\n",
       "      <td>0</td>\n",
       "      <td>0</td>\n",
       "      <td>0</td>\n",
       "      <td>...</td>\n",
       "      <td>0</td>\n",
       "      <td>0</td>\n",
       "      <td>0</td>\n",
       "      <td>0</td>\n",
       "      <td>0</td>\n",
       "      <td>0</td>\n",
       "      <td>0</td>\n",
       "      <td>0</td>\n",
       "      <td>0</td>\n",
       "      <td>0</td>\n",
       "    </tr>\n",
       "    <tr>\n",
       "      <th>43</th>\n",
       "      <td>0</td>\n",
       "      <td>0</td>\n",
       "      <td>0</td>\n",
       "      <td>0</td>\n",
       "      <td>0</td>\n",
       "      <td>0</td>\n",
       "      <td>0</td>\n",
       "      <td>0</td>\n",
       "      <td>0</td>\n",
       "      <td>0</td>\n",
       "      <td>...</td>\n",
       "      <td>0</td>\n",
       "      <td>0</td>\n",
       "      <td>0</td>\n",
       "      <td>0</td>\n",
       "      <td>0</td>\n",
       "      <td>0</td>\n",
       "      <td>0</td>\n",
       "      <td>0</td>\n",
       "      <td>0</td>\n",
       "      <td>0</td>\n",
       "    </tr>\n",
       "    <tr>\n",
       "      <th>53</th>\n",
       "      <td>0</td>\n",
       "      <td>0</td>\n",
       "      <td>0</td>\n",
       "      <td>0</td>\n",
       "      <td>0</td>\n",
       "      <td>0</td>\n",
       "      <td>0</td>\n",
       "      <td>0</td>\n",
       "      <td>0</td>\n",
       "      <td>0</td>\n",
       "      <td>...</td>\n",
       "      <td>0</td>\n",
       "      <td>0</td>\n",
       "      <td>0</td>\n",
       "      <td>0</td>\n",
       "      <td>0</td>\n",
       "      <td>0</td>\n",
       "      <td>0</td>\n",
       "      <td>0</td>\n",
       "      <td>0</td>\n",
       "      <td>0</td>\n",
       "    </tr>\n",
       "  </tbody>\n",
       "</table>\n",
       "<p>5 rows × 5103 columns</p>\n",
       "</div>"
      ],
      "text/plain": [
       "    0     1     2     3     4     5     6     7     8     9     ...  5093  \\\n",
       "18     0     0     0     0     0     0     0     0     0     0  ...     0   \n",
       "22     0     0     0     0     0     0     0     0     0     0  ...     0   \n",
       "35     0     0     0     0     0     0     0     0     0     0  ...     0   \n",
       "43     0     0     0     0     0     0     0     0     0     0  ...     0   \n",
       "53     0     0     0     0     0     0     0     0     0     0  ...     0   \n",
       "\n",
       "    5094  5095  5096  5097  5098  5099  5100  5101  5102  \n",
       "18     0     0     0     0     0     0     0     0     0  \n",
       "22     0     0     0     0     0     0     0     0     0  \n",
       "35     0     0     0     0     0     0     0     0     0  \n",
       "43     0     0     0     0     0     0     0     0     0  \n",
       "53     0     0     0     0     0     0     0     0     0  \n",
       "\n",
       "[5 rows x 5103 columns]"
      ]
     },
     "execution_count": 438,
     "metadata": {},
     "output_type": "execute_result"
    }
   ],
   "source": [
    "X_train_cheque_sku.head()"
   ]
  },
  {
   "cell_type": "code",
   "execution_count": 440,
   "metadata": {},
   "outputs": [],
   "source": [
    "X_train_sps = sps.csr_matrix(X_train_cheque_sku.values).tocsr()"
   ]
  },
  {
   "cell_type": "code",
   "execution_count": 441,
   "metadata": {},
   "outputs": [
    {
     "data": {
      "text/plain": [
       "array([[0, 0, 0, ..., 0, 0, 0],\n",
       "       [0, 0, 0, ..., 0, 0, 0],\n",
       "       [0, 0, 0, ..., 0, 0, 0],\n",
       "       ...,\n",
       "       [0, 0, 0, ..., 0, 0, 0],\n",
       "       [0, 0, 0, ..., 0, 0, 0],\n",
       "       [0, 0, 0, ..., 0, 0, 0]])"
      ]
     },
     "execution_count": 441,
     "metadata": {},
     "output_type": "execute_result"
    }
   ],
   "source": [
    "X_train_sps.toarray()"
   ]
  },
  {
   "cell_type": "code",
   "execution_count": 666,
   "metadata": {},
   "outputs": [
    {
     "data": {
      "text/plain": [
       "(291858, 5103)"
      ]
     },
     "execution_count": 666,
     "metadata": {},
     "output_type": "execute_result"
    }
   ],
   "source": [
    "X_train_sps.shape"
   ]
  },
  {
   "cell_type": "markdown",
   "metadata": {},
   "source": [
    "Формирую матрицу для тестового набора"
   ]
  },
  {
   "cell_type": "code",
   "execution_count": 333,
   "metadata": {},
   "outputs": [
    {
     "name": "stderr",
     "output_type": "stream",
     "text": [
      "100%|██████████████████████████████████| 125361/125361 [09:07<00:00, 229.05it/s]\n"
     ]
    }
   ],
   "source": [
    "X_test_cheque_sku = create_sku_cheque_matrix(X_test_for_pred, df_nomencl.sku_id.sort_values().unique())"
   ]
  },
  {
   "cell_type": "code",
   "execution_count": 450,
   "metadata": {},
   "outputs": [],
   "source": [
    "X_test_sps = sps.csr_matrix(X_test_cheque_sku.values).tocsr()"
   ]
  },
  {
   "cell_type": "code",
   "execution_count": 451,
   "metadata": {},
   "outputs": [
    {
     "data": {
      "text/plain": [
       "(26530, 5103)"
      ]
     },
     "execution_count": 451,
     "metadata": {},
     "output_type": "execute_result"
    }
   ],
   "source": [
    "X_test_sps.shape"
   ]
  },
  {
   "cell_type": "markdown",
   "metadata": {},
   "source": [
    "Формирую матрицу для сабмита"
   ]
  },
  {
   "cell_type": "code",
   "execution_count": 714,
   "metadata": {
    "collapsed": true,
    "jupyter": {
     "outputs_hidden": true
    },
    "tags": []
   },
   "outputs": [
    {
     "name": "stderr",
     "output_type": "stream",
     "text": [
      "  1%|▎                                   | 2865/315228 [00:14<27:00, 192.77it/s]\n"
     ]
    },
    {
     "ename": "KeyboardInterrupt",
     "evalue": "",
     "output_type": "error",
     "traceback": [
      "\u001b[0;31m---------------------------------------------------------------------------\u001b[0m",
      "\u001b[0;31mKeyboardInterrupt\u001b[0m                         Traceback (most recent call last)",
      "\u001b[0;32m/var/folders/ks/jfk5k1mn6yg3pk36_f30mpwr0000gn/T/ipykernel_515/3099776729.py\u001b[0m in \u001b[0;36m<module>\u001b[0;34m\u001b[0m\n\u001b[0;32m----> 1\u001b[0;31m \u001b[0mX_sub_cheque_sku\u001b[0m \u001b[0;34m=\u001b[0m \u001b[0mcreate_sku_cheque_matrix\u001b[0m\u001b[0;34m(\u001b[0m\u001b[0mdf_sub\u001b[0m\u001b[0;34m,\u001b[0m \u001b[0mdf_nomencl\u001b[0m\u001b[0;34m.\u001b[0m\u001b[0msku_id\u001b[0m\u001b[0;34m.\u001b[0m\u001b[0msort_values\u001b[0m\u001b[0;34m(\u001b[0m\u001b[0;34m)\u001b[0m\u001b[0;34m.\u001b[0m\u001b[0munique\u001b[0m\u001b[0;34m(\u001b[0m\u001b[0;34m)\u001b[0m\u001b[0;34m)\u001b[0m\u001b[0;34m\u001b[0m\u001b[0;34m\u001b[0m\u001b[0m\n\u001b[0m",
      "\u001b[0;32m/var/folders/ks/jfk5k1mn6yg3pk36_f30mpwr0000gn/T/ipykernel_515/3798950819.py\u001b[0m in \u001b[0;36mcreate_sku_cheque_matrix\u001b[0;34m(data, sku_id_list)\u001b[0m\n\u001b[1;32m     16\u001b[0m     \u001b[0;32mfor\u001b[0m \u001b[0mcheque_id\u001b[0m \u001b[0;32min\u001b[0m \u001b[0mtqdm\u001b[0m\u001b[0;34m(\u001b[0m\u001b[0mcheque_id_list\u001b[0m\u001b[0;34m)\u001b[0m\u001b[0;34m:\u001b[0m\u001b[0;34m\u001b[0m\u001b[0;34m\u001b[0m\u001b[0m\n\u001b[1;32m     17\u001b[0m         \u001b[0;31m#формирую список уникальных товаров в текущем чеке\u001b[0m\u001b[0;34m\u001b[0m\u001b[0;34m\u001b[0m\u001b[0;34m\u001b[0m\u001b[0m\n\u001b[0;32m---> 18\u001b[0;31m         \u001b[0msku_id_in_cheque\u001b[0m \u001b[0;34m=\u001b[0m \u001b[0mlist\u001b[0m\u001b[0;34m(\u001b[0m\u001b[0mdata\u001b[0m\u001b[0;34m[\u001b[0m\u001b[0mdata\u001b[0m\u001b[0;34m[\u001b[0m\u001b[0;34m'cheque_id'\u001b[0m\u001b[0;34m]\u001b[0m \u001b[0;34m==\u001b[0m \u001b[0mcheque_id\u001b[0m\u001b[0;34m]\u001b[0m\u001b[0;34m.\u001b[0m\u001b[0msku_id\u001b[0m\u001b[0;34m.\u001b[0m\u001b[0mvalues\u001b[0m\u001b[0;34m)\u001b[0m\u001b[0;34m\u001b[0m\u001b[0;34m\u001b[0m\u001b[0m\n\u001b[0m\u001b[1;32m     19\u001b[0m         \u001b[0mrow\u001b[0m \u001b[0;34m=\u001b[0m \u001b[0mrow_tmp\u001b[0m\u001b[0;34m.\u001b[0m\u001b[0mcopy\u001b[0m\u001b[0;34m(\u001b[0m\u001b[0;34m)\u001b[0m \u001b[0;31m#строка для текущего чека\u001b[0m\u001b[0;34m\u001b[0m\u001b[0;34m\u001b[0m\u001b[0m\n\u001b[1;32m     20\u001b[0m         \u001b[0;31m#перебираю каждый товар в чеке\u001b[0m\u001b[0;34m\u001b[0m\u001b[0;34m\u001b[0m\u001b[0;34m\u001b[0m\u001b[0m\n",
      "\u001b[0;32m~/Environments/ds_3.8_prices/lib/python3.8/site-packages/pandas/core/frame.py\u001b[0m in \u001b[0;36m__getitem__\u001b[0;34m(self, key)\u001b[0m\n\u001b[1;32m   3444\u001b[0m         \u001b[0;31m# Do we have a (boolean) 1d indexer?\u001b[0m\u001b[0;34m\u001b[0m\u001b[0;34m\u001b[0m\u001b[0;34m\u001b[0m\u001b[0m\n\u001b[1;32m   3445\u001b[0m         \u001b[0;32mif\u001b[0m \u001b[0mcom\u001b[0m\u001b[0;34m.\u001b[0m\u001b[0mis_bool_indexer\u001b[0m\u001b[0;34m(\u001b[0m\u001b[0mkey\u001b[0m\u001b[0;34m)\u001b[0m\u001b[0;34m:\u001b[0m\u001b[0;34m\u001b[0m\u001b[0;34m\u001b[0m\u001b[0m\n\u001b[0;32m-> 3446\u001b[0;31m             \u001b[0;32mreturn\u001b[0m \u001b[0mself\u001b[0m\u001b[0;34m.\u001b[0m\u001b[0m_getitem_bool_array\u001b[0m\u001b[0;34m(\u001b[0m\u001b[0mkey\u001b[0m\u001b[0;34m)\u001b[0m\u001b[0;34m\u001b[0m\u001b[0;34m\u001b[0m\u001b[0m\n\u001b[0m\u001b[1;32m   3447\u001b[0m \u001b[0;34m\u001b[0m\u001b[0m\n\u001b[1;32m   3448\u001b[0m         \u001b[0;31m# We are left with two options: a single key, and a collection of keys,\u001b[0m\u001b[0;34m\u001b[0m\u001b[0;34m\u001b[0m\u001b[0;34m\u001b[0m\u001b[0m\n",
      "\u001b[0;32m~/Environments/ds_3.8_prices/lib/python3.8/site-packages/pandas/core/frame.py\u001b[0m in \u001b[0;36m_getitem_bool_array\u001b[0;34m(self, key)\u001b[0m\n\u001b[1;32m   3498\u001b[0m         \u001b[0;31m# be reindexed to match DataFrame rows\u001b[0m\u001b[0;34m\u001b[0m\u001b[0;34m\u001b[0m\u001b[0;34m\u001b[0m\u001b[0m\n\u001b[1;32m   3499\u001b[0m         \u001b[0mkey\u001b[0m \u001b[0;34m=\u001b[0m \u001b[0mcheck_bool_indexer\u001b[0m\u001b[0;34m(\u001b[0m\u001b[0mself\u001b[0m\u001b[0;34m.\u001b[0m\u001b[0mindex\u001b[0m\u001b[0;34m,\u001b[0m \u001b[0mkey\u001b[0m\u001b[0;34m)\u001b[0m\u001b[0;34m\u001b[0m\u001b[0;34m\u001b[0m\u001b[0m\n\u001b[0;32m-> 3500\u001b[0;31m         \u001b[0mindexer\u001b[0m \u001b[0;34m=\u001b[0m \u001b[0mkey\u001b[0m\u001b[0;34m.\u001b[0m\u001b[0mnonzero\u001b[0m\u001b[0;34m(\u001b[0m\u001b[0;34m)\u001b[0m\u001b[0;34m[\u001b[0m\u001b[0;36m0\u001b[0m\u001b[0;34m]\u001b[0m\u001b[0;34m\u001b[0m\u001b[0;34m\u001b[0m\u001b[0m\n\u001b[0m\u001b[1;32m   3501\u001b[0m         \u001b[0;32mreturn\u001b[0m \u001b[0mself\u001b[0m\u001b[0;34m.\u001b[0m\u001b[0m_take_with_is_copy\u001b[0m\u001b[0;34m(\u001b[0m\u001b[0mindexer\u001b[0m\u001b[0;34m,\u001b[0m \u001b[0maxis\u001b[0m\u001b[0;34m=\u001b[0m\u001b[0;36m0\u001b[0m\u001b[0;34m)\u001b[0m\u001b[0;34m\u001b[0m\u001b[0;34m\u001b[0m\u001b[0m\n\u001b[1;32m   3502\u001b[0m \u001b[0;34m\u001b[0m\u001b[0m\n",
      "\u001b[0;31mKeyboardInterrupt\u001b[0m: "
     ]
    }
   ],
   "source": [
    "X_sub_cheque_sku = create_sku_cheque_matrix(df_sub, df_nomencl.sku_id.sort_values().unique())"
   ]
  },
  {
   "cell_type": "code",
   "execution_count": null,
   "metadata": {},
   "outputs": [],
   "source": [
    "X_sub_sps = sps.csr_matrix(X_sub_cheque_sku.values).tocsr()"
   ]
  },
  {
   "cell_type": "code",
   "execution_count": null,
   "metadata": {},
   "outputs": [],
   "source": [
    "X_sub_sps.shape"
   ]
  },
  {
   "cell_type": "markdown",
   "metadata": {},
   "source": [
    "### implicit"
   ]
  },
  {
   "cell_type": "code",
   "execution_count": null,
   "metadata": {},
   "outputs": [],
   "source": [
    "#Перебор параметров обучения и проверки моделей\n",
    "#Не смог тут адаптировать GridSearchCV, поэтому пишу свою функцию\n",
    "def grid_search_model (model, param_model, param_valid, X_train, X_valid, y_valid=y_test_for_pred_list, transposition=True):\n",
    "    #параметры построения модели\n",
    "    keys, values = zip(*param_model.items())\n",
    "    experiments = [dict(zip(keys, v)) for v in itertools.product(*values)]\n",
    "    \n",
    "    #параметры валидации\n",
    "    keys, values = zip(*param_valid.items())\n",
    "    validations = [dict(zip(keys, v)) for v in itertools.product(*values)]\n",
    "    \n",
    "    best_param = {'param_model':'', 'param_valid':'', 'score':0.0}\n",
    "    \n",
    "    if transposition: #если нужно транспонировать данные\n",
    "        X_train = X_train.T\n",
    "        \n",
    "    for experiment in experiments:\n",
    "        model_ = model(**experiment)\n",
    "        model_.fit(X_train)\n",
    "        \n",
    "        for num, validation in enumerate(validations):\n",
    "            print('=== model:{} valid[{}]: {} ==='.format(experiment, num, validation))\n",
    "            recs = [] #все рекомендации\n",
    "            for i in range(0, X_valid.shape[0]): \n",
    "                row = X_test_sps_scaled[i].astype(float)\n",
    "                rec = model_.recommend(userid=0, \n",
    "                              user_items=row, \n",
    "                              N=20, \n",
    "                              filter_items=not_recommended_sku_ids, \n",
    "                              **validation)\n",
    "                recs += [x[0] for x in rec]\n",
    "            score = float(get_map(y_valid, recs))\n",
    "            print('     score[{}]: {}'.format(num, score))\n",
    "            if score > best_param['score']:\n",
    "                best_param['param_model'] = experiment\n",
    "                best_param['param_valid'] = validation\n",
    "                best_param['score'] = score\n",
    "    return best_param"
   ]
  },
  {
   "cell_type": "markdown",
   "metadata": {},
   "source": [
    "#### ALS model"
   ]
  },
  {
   "cell_type": "markdown",
   "metadata": {},
   "source": [
    "Параметры правильней подбирать на валидационной выборке а не на тестовой, возьму часть тестовой - сделаю из нее валидационную часть а на остатке буду смотреть итоговую модель с лучшими параметрами."
   ]
  },
  {
   "cell_type": "code",
   "execution_count": 639,
   "metadata": {},
   "outputs": [
    {
     "data": {
      "text/plain": [
       "(15918, 5103)"
      ]
     },
     "execution_count": 639,
     "metadata": {},
     "output_type": "execute_result"
    }
   ],
   "source": [
    "spliter = int(X_test_sps.shape[0] * 0.6) #процент от теста которые станет валидационной\n",
    "X_valid_sps = X_test_sps[:spliter]\n",
    "X_valid_sps.shape"
   ]
  },
  {
   "cell_type": "code",
   "execution_count": 642,
   "metadata": {},
   "outputs": [],
   "source": [
    "param_model = {\n",
    "    \"factors\": [16, 32, 64, 256],\n",
    "    \"regularization\": [0.0, 0.1],\n",
    "    \"iterations\": [16, 32, 64]\n",
    "    }\n",
    "\n",
    "param_valid = {\n",
    "    \"filter_already_liked_items\": [True, False],\n",
    "    \"recalculate_user\": [True, False]\n",
    "    }"
   ]
  },
  {
   "cell_type": "code",
   "execution_count": 657,
   "metadata": {
    "tags": []
   },
   "outputs": [],
   "source": [
    "#пошел в гугл колаб, буду подбирать там, тут буду обучать только с лучшими параметрами\n",
    "#scipy.sparse.save_npz('/tmp/sparse_matrix.npz', sparse_matrix)\n",
    "#sps.save_npz(\"Data/X_train_sps\", X_train_sps)\n",
    "#sps.save_npz(\"Data/X_valid_sps\", X_valid_sps)\n",
    "#open_file = open(\"Data/y_test_for_pred_list.pkl\", \"wb\")\n",
    "#pickle.dump(y_test_for_pred_list, open_file)\n",
    "#open_file.close()\n",
    "#open_file = open(\"Data/not_recommended_sku_ids.pkl\", \"wb\")\n",
    "#pickle.dump(not_recommended_sku_ids, open_file)\n",
    "#open_file.close()\n",
    "#X_train_cheque_sku.to_csv(\"Data/X_train_cheque_sku.csv\", index=True)\n",
    "#X_train_sps = sps.load_npz('Data/X_train_sps.npz')\n",
    "#X_valid_sps = sps.load_npz('Data/X_valid_sps.npz')"
   ]
  },
  {
   "cell_type": "code",
   "execution_count": 654,
   "metadata": {},
   "outputs": [],
   "source": [
    "#подбираю лучши переметры для модели. выполнял в гугл колабе\n",
    "#grid_search_model(implicit.als.AlternatingLeastSquares, \n",
    "#                  param_model, param_valid, X_train_sps, X_valid_sps, transposition=True)"
   ]
  },
  {
   "cell_type": "markdown",
   "metadata": {},
   "source": [
    "Лучшая модель"
   ]
  },
  {
   "cell_type": "code",
   "execution_count": 682,
   "metadata": {},
   "outputs": [],
   "source": [
    "model_als = implicit.als.AlternatingLeastSquares(factors=16, regularization=0.1, iterations=64)"
   ]
  },
  {
   "cell_type": "code",
   "execution_count": 683,
   "metadata": {},
   "outputs": [
    {
     "data": {
      "application/vnd.jupyter.widget-view+json": {
       "model_id": "40af8605e29a4a0cba0373d12082de31",
       "version_major": 2,
       "version_minor": 0
      },
      "text/plain": [
       "  0%|          | 0/64 [00:00<?, ?it/s]"
      ]
     },
     "metadata": {},
     "output_type": "display_data"
    }
   ],
   "source": [
    "model_als.fit(X_train_sps.T) #для обучения важно транспонировать, нужно чтобы была матрица итемы*пользователи"
   ]
  },
  {
   "cell_type": "markdown",
   "metadata": {},
   "source": [
    "- userid - пользователи или один (вектор данных)\n",
    "- N=20 - сколько товаров рекомендуем \n",
    "- filter_alredy_liked_items=True - исключать из рекомендации товары которые он покупал раньше \n",
    "- filter_items - товары, которые не нужно рекомендовать\n",
    "- recalculate_user=True - пересчитать матрицу в модели если это новый пользователь (чек)"
   ]
  },
  {
   "cell_type": "code",
   "execution_count": 684,
   "metadata": {},
   "outputs": [
    {
     "name": "stderr",
     "output_type": "stream",
     "text": [
      "100%|████████████████████████████████████| 26530/26530 [03:40<00:00, 120.51it/s]\n"
     ]
    }
   ],
   "source": [
    "recs = [] #все рекомендации\n",
    "for i in tqdm(range(0, X_test_sps.shape[0])):  \n",
    "    row = X_test_sps[i]\n",
    "    rec = model_als.recommend(0, row, \n",
    "                          N=20, \n",
    "                          filter_already_liked_items=True, \n",
    "                          filter_items=not_recommended_sku_ids, \n",
    "                          recalculate_user=True)\n",
    "    recs += [x[0] for x in rec] #рекомендация 20 товаров для чека с ИД=0"
   ]
  },
  {
   "cell_type": "code",
   "execution_count": 669,
   "metadata": {},
   "outputs": [
    {
     "data": {
      "text/plain": [
       "0.3026762156049755"
      ]
     },
     "execution_count": 669,
     "metadata": {},
     "output_type": "execute_result"
    }
   ],
   "source": [
    "#метрика рекомендации ALS\n",
    "get_map(y_test_for_pred_list, recs)"
   ]
  },
  {
   "cell_type": "code",
   "execution_count": 685,
   "metadata": {},
   "outputs": [
    {
     "data": {
      "text/plain": [
       "0.30618168111571803"
      ]
     },
     "execution_count": 685,
     "metadata": {},
     "output_type": "execute_result"
    }
   ],
   "source": [
    "#метрика рекомендации ALS\n",
    "get_map(y_test_for_pred_list, recs)"
   ]
  },
  {
   "cell_type": "markdown",
   "metadata": {},
   "source": [
    "#### Cosine (item to item)"
   ]
  },
  {
   "cell_type": "code",
   "execution_count": 630,
   "metadata": {},
   "outputs": [],
   "source": [
    "param_model = {\n",
    "    \"K\": [50, 100, 200, 300]\n",
    "    }\n",
    "param_valid = {\n",
    "    \"filter_already_liked_items\": [True, False],\n",
    "    \"recalculate_user\": [True, False]\n",
    "    }"
   ]
  },
  {
   "cell_type": "code",
   "execution_count": 655,
   "metadata": {},
   "outputs": [],
   "source": [
    "# Выполнял в гугл колабе\n",
    "#grid_search_model(implicit.nearest_neighbours.CosineRecommender, \n",
    "#                  param_model, param_valid, X_train_sps, X_test_sps, transposition=True)"
   ]
  },
  {
   "cell_type": "code",
   "execution_count": 686,
   "metadata": {},
   "outputs": [],
   "source": [
    "scaler = MaxAbsScaler()\n",
    "# transform data\n",
    "X_train_sps_scaled = scaler.fit_transform(X_train_sps.astype(float))\n",
    "X_test_sps_scaled = scaler.transform(X_test_sps.astype(float))\n",
    "\n",
    "#grid_search_model(implicit.nearest_neighbours.CosineRecommender, \n",
    "#                  param_model, param_valid, X_train_sps_scaled, X_test_sps_scaled, transposition=True)"
   ]
  },
  {
   "cell_type": "markdown",
   "metadata": {},
   "source": [
    "Лучшая модель:"
   ]
  },
  {
   "cell_type": "code",
   "execution_count": 687,
   "metadata": {},
   "outputs": [
    {
     "data": {
      "application/vnd.jupyter.widget-view+json": {
       "model_id": "c18c287cafa74e07a213cfe8989266a2",
       "version_major": 2,
       "version_minor": 0
      },
      "text/plain": [
       "  0%|          | 0/5103 [00:00<?, ?it/s]"
      ]
     },
     "metadata": {},
     "output_type": "display_data"
    },
    {
     "name": "stderr",
     "output_type": "stream",
     "text": [
      "100%|████████████████████████████████████| 26530/26530 [00:50<00:00, 522.72it/s]\n"
     ]
    }
   ],
   "source": [
    "model_cos = implicit.nearest_neighbours.CosineRecommender(K=300)\n",
    "model_cos.fit(X_train_sps_scaled.T)\n",
    "\n",
    "#сохраняю рекомендации для всех пользователей в массив\n",
    "recs = [] #все рекомендации\n",
    "for i in tqdm(range(0, X_test_sps_scaled.shape[0])): \n",
    "    row = X_test_sps_scaled[i].astype(float)\n",
    "    rec = model_cos.recommend(0, \n",
    "                              row, \n",
    "                              N=20, \n",
    "                              filter_already_liked_items=True, \n",
    "                              filter_items=not_recommended_sku_ids, \n",
    "                              recalculate_user=True)\n",
    "    recs += [x[0] for x in rec]"
   ]
  },
  {
   "cell_type": "code",
   "execution_count": 688,
   "metadata": {},
   "outputs": [
    {
     "data": {
      "text/plain": [
       "0.3347058681825737"
      ]
     },
     "execution_count": 688,
     "metadata": {},
     "output_type": "execute_result"
    }
   ],
   "source": [
    "#метрика рекомендации Cosine \n",
    "get_map(y_test_for_pred_list, recs)"
   ]
  },
  {
   "cell_type": "markdown",
   "metadata": {},
   "source": [
    "Для сабмита:"
   ]
  },
  {
   "cell_type": "code",
   "execution_count": null,
   "metadata": {},
   "outputs": [],
   "source": [
    "X_sub_sps_scaled = scaler.transform(X_sub_sps.astype(float))\n",
    "\n",
    "#сохраняю рекомендации для всех пользователей в массив\n",
    "recs = [] #все рекомендации\n",
    "for i in tqdm(range(0, X_sub_sps_scaled.shape[0])): \n",
    "    row = X_sub_sps_scaled[i].astype(float)\n",
    "    rec = model_cos.recommend(0, \n",
    "                              row, \n",
    "                              N=20, \n",
    "                              filter_already_liked_items=True, \n",
    "                              filter_items=not_recommended_sku_ids, \n",
    "                              recalculate_user=True)\n",
    "    recs += [x[0] for x in rec]"
   ]
  },
  {
   "cell_type": "code",
   "execution_count": 713,
   "metadata": {
    "collapsed": true,
    "jupyter": {
     "outputs_hidden": true
    },
    "tags": []
   },
   "outputs": [
    {
     "ename": "ValueError",
     "evalue": "All arrays must be of the same length",
     "output_type": "error",
     "traceback": [
      "\u001b[0;31m---------------------------------------------------------------------------\u001b[0m",
      "\u001b[0;31mValueError\u001b[0m                                Traceback (most recent call last)",
      "\u001b[0;32m/var/folders/ks/jfk5k1mn6yg3pk36_f30mpwr0000gn/T/ipykernel_515/992573235.py\u001b[0m in \u001b[0;36m<module>\u001b[0;34m\u001b[0m\n\u001b[0;32m----> 1\u001b[0;31m pd.DataFrame.from_dict({'cheque_id':list(itertools.chain(*[[x]*20 for x in df_sub.cheque_id.unique()])), #из каждого элемента(чека) делаю 20, \n\u001b[0m\u001b[1;32m      2\u001b[0m                         \u001b[0;34m'sku_id'\u001b[0m\u001b[0;34m:\u001b[0m \u001b[0mrecs\u001b[0m\u001b[0;34m,\u001b[0m\u001b[0;34m\u001b[0m\u001b[0;34m\u001b[0m\u001b[0m\n\u001b[1;32m      3\u001b[0m                         \u001b[0;34m'position'\u001b[0m\u001b[0;34m:\u001b[0m \u001b[0mlist\u001b[0m\u001b[0;34m(\u001b[0m\u001b[0mrange\u001b[0m\u001b[0;34m(\u001b[0m\u001b[0;36m1\u001b[0m\u001b[0;34m,\u001b[0m\u001b[0;36m21\u001b[0m\u001b[0;34m)\u001b[0m\u001b[0;34m)\u001b[0m \u001b[0;34m*\u001b[0m \u001b[0;36m2\u001b[0m\u001b[0;34m\u001b[0m\u001b[0;34m\u001b[0m\u001b[0m\n\u001b[1;32m      4\u001b[0m                                            })\n",
      "\u001b[0;32m~/Environments/ds_3.8_prices/lib/python3.8/site-packages/pandas/core/frame.py\u001b[0m in \u001b[0;36mfrom_dict\u001b[0;34m(cls, data, orient, dtype, columns)\u001b[0m\n\u001b[1;32m   1591\u001b[0m             \u001b[0;32mraise\u001b[0m \u001b[0mValueError\u001b[0m\u001b[0;34m(\u001b[0m\u001b[0;34m\"only recognize index or columns for orient\"\u001b[0m\u001b[0;34m)\u001b[0m\u001b[0;34m\u001b[0m\u001b[0;34m\u001b[0m\u001b[0m\n\u001b[1;32m   1592\u001b[0m \u001b[0;34m\u001b[0m\u001b[0m\n\u001b[0;32m-> 1593\u001b[0;31m         \u001b[0;32mreturn\u001b[0m \u001b[0mcls\u001b[0m\u001b[0;34m(\u001b[0m\u001b[0mdata\u001b[0m\u001b[0;34m,\u001b[0m \u001b[0mindex\u001b[0m\u001b[0;34m=\u001b[0m\u001b[0mindex\u001b[0m\u001b[0;34m,\u001b[0m \u001b[0mcolumns\u001b[0m\u001b[0;34m=\u001b[0m\u001b[0mcolumns\u001b[0m\u001b[0;34m,\u001b[0m \u001b[0mdtype\u001b[0m\u001b[0;34m=\u001b[0m\u001b[0mdtype\u001b[0m\u001b[0;34m)\u001b[0m\u001b[0;34m\u001b[0m\u001b[0;34m\u001b[0m\u001b[0m\n\u001b[0m\u001b[1;32m   1594\u001b[0m \u001b[0;34m\u001b[0m\u001b[0m\n\u001b[1;32m   1595\u001b[0m     def to_numpy(\n",
      "\u001b[0;32m~/Environments/ds_3.8_prices/lib/python3.8/site-packages/pandas/core/frame.py\u001b[0m in \u001b[0;36m__init__\u001b[0;34m(self, data, index, columns, dtype, copy)\u001b[0m\n\u001b[1;32m    612\u001b[0m         \u001b[0;32melif\u001b[0m \u001b[0misinstance\u001b[0m\u001b[0;34m(\u001b[0m\u001b[0mdata\u001b[0m\u001b[0;34m,\u001b[0m \u001b[0mdict\u001b[0m\u001b[0;34m)\u001b[0m\u001b[0;34m:\u001b[0m\u001b[0;34m\u001b[0m\u001b[0;34m\u001b[0m\u001b[0m\n\u001b[1;32m    613\u001b[0m             \u001b[0;31m# GH#38939 de facto copy defaults to False only in non-dict cases\u001b[0m\u001b[0;34m\u001b[0m\u001b[0;34m\u001b[0m\u001b[0;34m\u001b[0m\u001b[0m\n\u001b[0;32m--> 614\u001b[0;31m             \u001b[0mmgr\u001b[0m \u001b[0;34m=\u001b[0m \u001b[0mdict_to_mgr\u001b[0m\u001b[0;34m(\u001b[0m\u001b[0mdata\u001b[0m\u001b[0;34m,\u001b[0m \u001b[0mindex\u001b[0m\u001b[0;34m,\u001b[0m \u001b[0mcolumns\u001b[0m\u001b[0;34m,\u001b[0m \u001b[0mdtype\u001b[0m\u001b[0;34m=\u001b[0m\u001b[0mdtype\u001b[0m\u001b[0;34m,\u001b[0m \u001b[0mcopy\u001b[0m\u001b[0;34m=\u001b[0m\u001b[0mcopy\u001b[0m\u001b[0;34m,\u001b[0m \u001b[0mtyp\u001b[0m\u001b[0;34m=\u001b[0m\u001b[0mmanager\u001b[0m\u001b[0;34m)\u001b[0m\u001b[0;34m\u001b[0m\u001b[0;34m\u001b[0m\u001b[0m\n\u001b[0m\u001b[1;32m    615\u001b[0m         \u001b[0;32melif\u001b[0m \u001b[0misinstance\u001b[0m\u001b[0;34m(\u001b[0m\u001b[0mdata\u001b[0m\u001b[0;34m,\u001b[0m \u001b[0mma\u001b[0m\u001b[0;34m.\u001b[0m\u001b[0mMaskedArray\u001b[0m\u001b[0;34m)\u001b[0m\u001b[0;34m:\u001b[0m\u001b[0;34m\u001b[0m\u001b[0;34m\u001b[0m\u001b[0m\n\u001b[1;32m    616\u001b[0m             \u001b[0;32mimport\u001b[0m \u001b[0mnumpy\u001b[0m\u001b[0;34m.\u001b[0m\u001b[0mma\u001b[0m\u001b[0;34m.\u001b[0m\u001b[0mmrecords\u001b[0m \u001b[0;32mas\u001b[0m \u001b[0mmrecords\u001b[0m\u001b[0;34m\u001b[0m\u001b[0;34m\u001b[0m\u001b[0m\n",
      "\u001b[0;32m~/Environments/ds_3.8_prices/lib/python3.8/site-packages/pandas/core/internals/construction.py\u001b[0m in \u001b[0;36mdict_to_mgr\u001b[0;34m(data, index, columns, dtype, typ, copy)\u001b[0m\n\u001b[1;32m    462\u001b[0m         \u001b[0;31m# TODO: can we get rid of the dt64tz special case above?\u001b[0m\u001b[0;34m\u001b[0m\u001b[0;34m\u001b[0m\u001b[0;34m\u001b[0m\u001b[0m\n\u001b[1;32m    463\u001b[0m \u001b[0;34m\u001b[0m\u001b[0m\n\u001b[0;32m--> 464\u001b[0;31m     return arrays_to_mgr(\n\u001b[0m\u001b[1;32m    465\u001b[0m         \u001b[0marrays\u001b[0m\u001b[0;34m,\u001b[0m \u001b[0mdata_names\u001b[0m\u001b[0;34m,\u001b[0m \u001b[0mindex\u001b[0m\u001b[0;34m,\u001b[0m \u001b[0mcolumns\u001b[0m\u001b[0;34m,\u001b[0m \u001b[0mdtype\u001b[0m\u001b[0;34m=\u001b[0m\u001b[0mdtype\u001b[0m\u001b[0;34m,\u001b[0m \u001b[0mtyp\u001b[0m\u001b[0;34m=\u001b[0m\u001b[0mtyp\u001b[0m\u001b[0;34m,\u001b[0m \u001b[0mconsolidate\u001b[0m\u001b[0;34m=\u001b[0m\u001b[0mcopy\u001b[0m\u001b[0;34m\u001b[0m\u001b[0;34m\u001b[0m\u001b[0m\n\u001b[1;32m    466\u001b[0m     )\n",
      "\u001b[0;32m~/Environments/ds_3.8_prices/lib/python3.8/site-packages/pandas/core/internals/construction.py\u001b[0m in \u001b[0;36marrays_to_mgr\u001b[0;34m(arrays, arr_names, index, columns, dtype, verify_integrity, typ, consolidate)\u001b[0m\n\u001b[1;32m    117\u001b[0m         \u001b[0;31m# figure out the index, if necessary\u001b[0m\u001b[0;34m\u001b[0m\u001b[0;34m\u001b[0m\u001b[0;34m\u001b[0m\u001b[0m\n\u001b[1;32m    118\u001b[0m         \u001b[0;32mif\u001b[0m \u001b[0mindex\u001b[0m \u001b[0;32mis\u001b[0m \u001b[0;32mNone\u001b[0m\u001b[0;34m:\u001b[0m\u001b[0;34m\u001b[0m\u001b[0;34m\u001b[0m\u001b[0m\n\u001b[0;32m--> 119\u001b[0;31m             \u001b[0mindex\u001b[0m \u001b[0;34m=\u001b[0m \u001b[0m_extract_index\u001b[0m\u001b[0;34m(\u001b[0m\u001b[0marrays\u001b[0m\u001b[0;34m)\u001b[0m\u001b[0;34m\u001b[0m\u001b[0;34m\u001b[0m\u001b[0m\n\u001b[0m\u001b[1;32m    120\u001b[0m         \u001b[0;32melse\u001b[0m\u001b[0;34m:\u001b[0m\u001b[0;34m\u001b[0m\u001b[0;34m\u001b[0m\u001b[0m\n\u001b[1;32m    121\u001b[0m             \u001b[0mindex\u001b[0m \u001b[0;34m=\u001b[0m \u001b[0mensure_index\u001b[0m\u001b[0;34m(\u001b[0m\u001b[0mindex\u001b[0m\u001b[0;34m)\u001b[0m\u001b[0;34m\u001b[0m\u001b[0;34m\u001b[0m\u001b[0m\n",
      "\u001b[0;32m~/Environments/ds_3.8_prices/lib/python3.8/site-packages/pandas/core/internals/construction.py\u001b[0m in \u001b[0;36m_extract_index\u001b[0;34m(data)\u001b[0m\n\u001b[1;32m    633\u001b[0m             \u001b[0mlengths\u001b[0m \u001b[0;34m=\u001b[0m \u001b[0mlist\u001b[0m\u001b[0;34m(\u001b[0m\u001b[0mset\u001b[0m\u001b[0;34m(\u001b[0m\u001b[0mraw_lengths\u001b[0m\u001b[0;34m)\u001b[0m\u001b[0;34m)\u001b[0m\u001b[0;34m\u001b[0m\u001b[0;34m\u001b[0m\u001b[0m\n\u001b[1;32m    634\u001b[0m             \u001b[0;32mif\u001b[0m \u001b[0mlen\u001b[0m\u001b[0;34m(\u001b[0m\u001b[0mlengths\u001b[0m\u001b[0;34m)\u001b[0m \u001b[0;34m>\u001b[0m \u001b[0;36m1\u001b[0m\u001b[0;34m:\u001b[0m\u001b[0;34m\u001b[0m\u001b[0;34m\u001b[0m\u001b[0m\n\u001b[0;32m--> 635\u001b[0;31m                 \u001b[0;32mraise\u001b[0m \u001b[0mValueError\u001b[0m\u001b[0;34m(\u001b[0m\u001b[0;34m\"All arrays must be of the same length\"\u001b[0m\u001b[0;34m)\u001b[0m\u001b[0;34m\u001b[0m\u001b[0;34m\u001b[0m\u001b[0m\n\u001b[0m\u001b[1;32m    636\u001b[0m \u001b[0;34m\u001b[0m\u001b[0m\n\u001b[1;32m    637\u001b[0m             \u001b[0;32mif\u001b[0m \u001b[0mhave_dicts\u001b[0m\u001b[0;34m:\u001b[0m\u001b[0;34m\u001b[0m\u001b[0;34m\u001b[0m\u001b[0m\n",
      "\u001b[0;31mValueError\u001b[0m: All arrays must be of the same length"
     ]
    }
   ],
   "source": [
    "#submission-{surname_name}.parquet\n",
    "df_submission = pd.DataFrame.from_dict({'cheque_id':list(itertools.chain(*[[x]*20 for x in df_sub.cheque_id.unique()])), #из каждого элемента(чека) делаю 20, \n",
    "                        'sku_id': recs,\n",
    "                        'position': list(range(1,21)) * 2\n",
    "                                           })"
   ]
  },
  {
   "cell_type": "markdown",
   "metadata": {},
   "source": [
    "#### TruncatedSVD + knn (user to user)"
   ]
  },
  {
   "cell_type": "markdown",
   "metadata": {},
   "source": [
    "Будем делать SVD разложение для уменьшения размерности и применять KNN"
   ]
  },
  {
   "cell_type": "code",
   "execution_count": 792,
   "metadata": {},
   "outputs": [],
   "source": [
    "svd = TruncatedSVD(n_components=128)"
   ]
  },
  {
   "cell_type": "code",
   "execution_count": 793,
   "metadata": {},
   "outputs": [],
   "source": [
    "X_train_sps_dense = svd.fit_transform(X_train_sps)\n",
    "X_test_sps_dense = svd.fit_transform(X_test_sps)"
   ]
  },
  {
   "cell_type": "code",
   "execution_count": 794,
   "metadata": {},
   "outputs": [],
   "source": [
    "num_neighbors = 512"
   ]
  },
  {
   "cell_type": "code",
   "execution_count": 795,
   "metadata": {},
   "outputs": [
    {
     "data": {
      "text/plain": [
       "NearestNeighbors(metric='cosine', n_neighbors=512)"
      ]
     },
     "execution_count": 795,
     "metadata": {},
     "output_type": "execute_result"
    }
   ],
   "source": [
    "model_knn = NearestNeighbors(n_neighbors=num_neighbors, metric='cosine')\n",
    "model_knn.fit(X_train_sps_dense)"
   ]
  },
  {
   "cell_type": "code",
   "execution_count": null,
   "metadata": {
    "tags": []
   },
   "outputs": [],
   "source": [
    "#беру транзакции с товарами только из списка рекомендованных\n",
    "df_trans_recommended = df_trans[(df_trans.sku_id.isin(recommended_sku_ids))][['sku_id', 'cheque_id']]\n",
    "\n",
    "recs = [] #все рекомендации\n",
    "for i in tqdm(range(0, X_test_sps_dense.shape[0])): \n",
    "    row = X_test_sps_dense[[i]].astype(float)\n",
    "    cheques = model_knn.kneighbors(row, n_neighbors=num_neighbors) #все похожие чеки\n",
    "    rec =list(df_trans_recommended[(df_trans_recommended.cheque_id.isin(cheques[1]))]   #выбираю из всех похожих чеков товары\n",
    "                        .sku_id.value_counts().sort_values(ascending=False).index[:20]) #беру из них топ\n",
    "    recs += rec"
   ]
  },
  {
   "cell_type": "code",
   "execution_count": 798,
   "metadata": {},
   "outputs": [
    {
     "data": {
      "text/plain": [
       "0.29271054493984433"
      ]
     },
     "execution_count": 798,
     "metadata": {},
     "output_type": "execute_result"
    }
   ],
   "source": [
    "#метрика рекомендации knn (64-870 = 0.2215, 512-918=0.31, 512-7461=0.2927)\n",
    "get_map(y_test_for_pred_list, recs)"
   ]
  },
  {
   "cell_type": "code",
   "execution_count": null,
   "metadata": {},
   "outputs": [],
   "source": []
  }
 ],
 "metadata": {
  "kernelspec": {
   "display_name": "Python 3 (ipykernel)",
   "language": "python",
   "name": "python3"
  },
  "language_info": {
   "codemirror_mode": {
    "name": "ipython",
    "version": 3
   },
   "file_extension": ".py",
   "mimetype": "text/x-python",
   "name": "python",
   "nbconvert_exporter": "python",
   "pygments_lexer": "ipython3",
   "version": "3.8.7"
  }
 },
 "nbformat": 4,
 "nbformat_minor": 4
}
