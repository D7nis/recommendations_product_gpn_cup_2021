{
 "cells": [
  {
   "cell_type": "markdown",
   "metadata": {},
   "source": [
    "#### Описание задачи"
   ]
  },
  {
   "cell_type": "markdown",
   "metadata": {},
   "source": [
    "- Подробное описание в файле gpn-cup-2021-data_science_task.docx"
   ]
  },
  {
   "cell_type": "markdown",
   "metadata": {},
   "source": [
    "Для увеличения продаж товаров из следующих групп:\n",
    "- вода\n",
    "- сладкие газированные напитки, холодный чай\n",
    "- кофейные напитки с молоком\n",
    "- энергетические напитки\n",
    "- снеки\n",
    "- соки и сокосодержащие напитки  \n",
    "\n",
    "Вам необходимо разработать рекомендательную систему, которая будет предлагать покупателям 20 дополнительных товаров в чек.  \n",
    "\n",
    "Пример: покупатель приходит на кассу с 2-мя товарами: напитком «Local-Cola» и чипсами «Sya'l». Алгоритм должен предложить 20 товаров, которые пользователь вероятнее всего захочет добавить в свою корзину (в порядке убывания релевантности). На практике кассир предложит 1й по порядку товар, из имеющихся в наличии. \n",
    "В качестве метрики качества рекомендаций используется mean average precision at 20"
   ]
  },
  {
   "cell_type": "markdown",
   "metadata": {},
   "source": [
    "Транзакционные данные продаж – transactions:\n",
    "- sku_id – уникальный идентификатор товара\n",
    "- price – цена, по которой был продан товар\n",
    "- number – количество товаров (если не топливо) \n",
    "- cheque_id – уникальный идентификатор чека\n",
    "- litrs – количество литров (если товар - топливо)\n",
    "- client_id – уникальный идентификатор клиента (если клиент «представился» при покупке)\n",
    "- shop_id – уникальный идентификатор магазина\n",
    "- date – дата транзакции  \n",
    "\n",
    "Данные о товарах – nomenclature:\n",
    "- sku_id – уникальный идентификатор товара\n",
    "- full_name – полное наименование товара\n",
    "- brand – наименование торговой марки\n",
    "- sku_group – группа, к которой принадлежит товар\n",
    "- OTM – признак собственной торговой марки\n",
    "- units – единица измерения для количества \n",
    "- country – страна производства товара  \n",
    "\n",
    "Формат всех источников - .parquet."
   ]
  },
  {
   "cell_type": "code",
   "execution_count": 5,
   "metadata": {},
   "outputs": [],
   "source": [
    "#№! pip install pyarrow"
   ]
  },
  {
   "cell_type": "code",
   "execution_count": 2,
   "metadata": {},
   "outputs": [],
   "source": [
    "import pandas as pd\n",
    "import numpy as np\n",
    "from matplotlib import pyplot as plt\n",
    "from matplotlib import dates as mdates\n",
    "import seaborn as sns\n",
    "import math\n",
    "from sklearn.preprocessing import MinMaxScaler\n",
    "from sklearn.preprocessing import StandardScaler\n",
    "\n",
    "%matplotlib inline"
   ]
  },
  {
   "cell_type": "code",
   "execution_count": 3,
   "metadata": {},
   "outputs": [
    {
     "name": "stdout",
     "output_type": "stream",
     "text": [
      "Note: you may need to restart the kernel to use updated packages.\n"
     ]
    }
   ],
   "source": [
    "pip freeze > requirements.txt"
   ]
  },
  {
   "cell_type": "markdown",
   "metadata": {},
   "source": [
    "#### Загрузка данных"
   ]
  },
  {
   "cell_type": "code",
   "execution_count": 8,
   "metadata": {},
   "outputs": [],
   "source": [
    "df_trans = pd.read_parquet(\"Data/transactions.parquet\")"
   ]
  },
  {
   "cell_type": "code",
   "execution_count": 9,
   "metadata": {},
   "outputs": [
    {
     "data": {
      "text/html": [
       "<div>\n",
       "<style scoped>\n",
       "    .dataframe tbody tr th:only-of-type {\n",
       "        vertical-align: middle;\n",
       "    }\n",
       "\n",
       "    .dataframe tbody tr th {\n",
       "        vertical-align: top;\n",
       "    }\n",
       "\n",
       "    .dataframe thead th {\n",
       "        text-align: right;\n",
       "    }\n",
       "</style>\n",
       "<table border=\"1\" class=\"dataframe\">\n",
       "  <thead>\n",
       "    <tr style=\"text-align: right;\">\n",
       "      <th></th>\n",
       "      <th>sku_id</th>\n",
       "      <th>price</th>\n",
       "      <th>number</th>\n",
       "      <th>cheque_id</th>\n",
       "      <th>litrs</th>\n",
       "      <th>client_id</th>\n",
       "      <th>shop_id</th>\n",
       "      <th>date</th>\n",
       "    </tr>\n",
       "  </thead>\n",
       "  <tbody>\n",
       "    <tr>\n",
       "      <th>0</th>\n",
       "      <td>1158</td>\n",
       "      <td>0.002335</td>\n",
       "      <td>0.000000</td>\n",
       "      <td>3338297</td>\n",
       "      <td>0.147929</td>\n",
       "      <td>78634.0</td>\n",
       "      <td>102</td>\n",
       "      <td>2171-07-23</td>\n",
       "    </tr>\n",
       "    <tr>\n",
       "      <th>1</th>\n",
       "      <td>1158</td>\n",
       "      <td>0.002317</td>\n",
       "      <td>0.000000</td>\n",
       "      <td>3386107</td>\n",
       "      <td>0.134562</td>\n",
       "      <td>20900.0</td>\n",
       "      <td>101</td>\n",
       "      <td>2171-07-23</td>\n",
       "    </tr>\n",
       "    <tr>\n",
       "      <th>2</th>\n",
       "      <td>1913</td>\n",
       "      <td>0.007850</td>\n",
       "      <td>0.000452</td>\n",
       "      <td>1845331</td>\n",
       "      <td>0.104183</td>\n",
       "      <td>96397.0</td>\n",
       "      <td>36</td>\n",
       "      <td>2171-07-23</td>\n",
       "    </tr>\n",
       "    <tr>\n",
       "      <th>3</th>\n",
       "      <td>1808</td>\n",
       "      <td>0.008979</td>\n",
       "      <td>0.000452</td>\n",
       "      <td>2256499</td>\n",
       "      <td>0.104183</td>\n",
       "      <td>103560.0</td>\n",
       "      <td>89</td>\n",
       "      <td>2171-07-23</td>\n",
       "    </tr>\n",
       "    <tr>\n",
       "      <th>4</th>\n",
       "      <td>1158</td>\n",
       "      <td>0.002355</td>\n",
       "      <td>0.000000</td>\n",
       "      <td>3257281</td>\n",
       "      <td>0.115023</td>\n",
       "      <td>67691.0</td>\n",
       "      <td>58</td>\n",
       "      <td>2171-07-23</td>\n",
       "    </tr>\n",
       "  </tbody>\n",
       "</table>\n",
       "</div>"
      ],
      "text/plain": [
       "   sku_id     price    number  cheque_id     litrs  client_id  shop_id  \\\n",
       "0    1158  0.002335  0.000000    3338297  0.147929    78634.0      102   \n",
       "1    1158  0.002317  0.000000    3386107  0.134562    20900.0      101   \n",
       "2    1913  0.007850  0.000452    1845331  0.104183    96397.0       36   \n",
       "3    1808  0.008979  0.000452    2256499  0.104183   103560.0       89   \n",
       "4    1158  0.002355  0.000000    3257281  0.115023    67691.0       58   \n",
       "\n",
       "        date  \n",
       "0 2171-07-23  \n",
       "1 2171-07-23  \n",
       "2 2171-07-23  \n",
       "3 2171-07-23  \n",
       "4 2171-07-23  "
      ]
     },
     "execution_count": 9,
     "metadata": {},
     "output_type": "execute_result"
    }
   ],
   "source": [
    "df_trans.head()"
   ]
  },
  {
   "cell_type": "code",
   "execution_count": 10,
   "metadata": {},
   "outputs": [],
   "source": [
    "df_nomencl = pd.read_parquet(\"Data/nomenclature.parquet\")"
   ]
  },
  {
   "cell_type": "code",
   "execution_count": 11,
   "metadata": {},
   "outputs": [
    {
     "data": {
      "text/html": [
       "<div>\n",
       "<style scoped>\n",
       "    .dataframe tbody tr th:only-of-type {\n",
       "        vertical-align: middle;\n",
       "    }\n",
       "\n",
       "    .dataframe tbody tr th {\n",
       "        vertical-align: top;\n",
       "    }\n",
       "\n",
       "    .dataframe thead th {\n",
       "        text-align: right;\n",
       "    }\n",
       "</style>\n",
       "<table border=\"1\" class=\"dataframe\">\n",
       "  <thead>\n",
       "    <tr style=\"text-align: right;\">\n",
       "      <th></th>\n",
       "      <th>sku_id</th>\n",
       "      <th>full_name</th>\n",
       "      <th>brand</th>\n",
       "      <th>sku_group</th>\n",
       "      <th>OTM</th>\n",
       "      <th>units</th>\n",
       "      <th>country</th>\n",
       "    </tr>\n",
       "  </thead>\n",
       "  <tbody>\n",
       "    <tr>\n",
       "      <th>0</th>\n",
       "      <td>0</td>\n",
       "      <td>Масло Lubricrol Magnatec Diesel 10W-40 B4 1л</td>\n",
       "      <td>Lubricrol</td>\n",
       "      <td>Масла моторные (для варповых двигателей)</td>\n",
       "      <td>Нет</td>\n",
       "      <td>unknown</td>\n",
       "      <td>ГЕРМАНИЯ</td>\n",
       "    </tr>\n",
       "    <tr>\n",
       "      <th>1</th>\n",
       "      <td>723</td>\n",
       "      <td>Трос УранПРОМEthereum буксировочный 4500кг</td>\n",
       "      <td>УранПРОМEthereum</td>\n",
       "      <td>Автотовары</td>\n",
       "      <td>Да</td>\n",
       "      <td>шт</td>\n",
       "      <td>РОССИЯ</td>\n",
       "    </tr>\n",
       "    <tr>\n",
       "      <th>2</th>\n",
       "      <td>3397</td>\n",
       "      <td>Накидка УранПРОМEthereum на спинку автосиденья...</td>\n",
       "      <td>УранПРОМEthereum</td>\n",
       "      <td>Автотовары</td>\n",
       "      <td>Да</td>\n",
       "      <td>шт</td>\n",
       "      <td>unknown</td>\n",
       "    </tr>\n",
       "    <tr>\n",
       "      <th>3</th>\n",
       "      <td>2130</td>\n",
       "      <td>Жилет УранПРОМEthereum световозвращающий</td>\n",
       "      <td>УранПРОМEthereum</td>\n",
       "      <td>Автотовары</td>\n",
       "      <td>Да</td>\n",
       "      <td>шт</td>\n",
       "      <td>unknown</td>\n",
       "    </tr>\n",
       "    <tr>\n",
       "      <th>4</th>\n",
       "      <td>3150</td>\n",
       "      <td>Провода УранПРОМEthereum для прикуривания 200А</td>\n",
       "      <td>УранПРОМEthereum</td>\n",
       "      <td>Автотовары</td>\n",
       "      <td>Да</td>\n",
       "      <td>шт</td>\n",
       "      <td>РОССИЯ</td>\n",
       "    </tr>\n",
       "  </tbody>\n",
       "</table>\n",
       "</div>"
      ],
      "text/plain": [
       "   sku_id                                          full_name  \\\n",
       "0       0       Масло Lubricrol Magnatec Diesel 10W-40 B4 1л   \n",
       "1     723         Трос УранПРОМEthereum буксировочный 4500кг   \n",
       "2    3397  Накидка УранПРОМEthereum на спинку автосиденья...   \n",
       "3    2130           Жилет УранПРОМEthereum световозвращающий   \n",
       "4    3150     Провода УранПРОМEthereum для прикуривания 200А   \n",
       "\n",
       "              brand                                 sku_group  OTM    units  \\\n",
       "0         Lubricrol  Масла моторные (для варповых двигателей)  Нет  unknown   \n",
       "1  УранПРОМEthereum                                Автотовары   Да       шт   \n",
       "2  УранПРОМEthereum                                Автотовары   Да       шт   \n",
       "3  УранПРОМEthereum                                Автотовары   Да       шт   \n",
       "4  УранПРОМEthereum                                Автотовары   Да       шт   \n",
       "\n",
       "    country  \n",
       "0  ГЕРМАНИЯ  \n",
       "1    РОССИЯ  \n",
       "2   unknown  \n",
       "3   unknown  \n",
       "4    РОССИЯ  "
      ]
     },
     "execution_count": 11,
     "metadata": {},
     "output_type": "execute_result"
    }
   ],
   "source": [
    "df_nomencl.head()"
   ]
  },
  {
   "cell_type": "code",
   "execution_count": null,
   "metadata": {},
   "outputs": [],
   "source": []
  }
 ],
 "metadata": {
  "kernelspec": {
   "display_name": "Python 3",
   "language": "python",
   "name": "python3"
  },
  "language_info": {
   "codemirror_mode": {
    "name": "ipython",
    "version": 3
   },
   "file_extension": ".py",
   "mimetype": "text/x-python",
   "name": "python",
   "nbconvert_exporter": "python",
   "pygments_lexer": "ipython3",
   "version": "3.9.1"
  }
 },
 "nbformat": 4,
 "nbformat_minor": 4
}
